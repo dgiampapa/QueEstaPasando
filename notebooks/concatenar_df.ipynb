{
 "cells": [
  {
   "cell_type": "markdown",
   "id": "e4eb7108-5304-4494-be5e-c92be2dda30a",
   "metadata": {},
   "source": [
    "# Concatenar df de todos los bancos"
   ]
  },
  {
   "cell_type": "code",
   "execution_count": 19,
   "id": "677126fa-e502-4c6e-ac0a-7a77d7354740",
   "metadata": {},
   "outputs": [
    {
     "name": "stdout",
     "output_type": "stream",
     "text": [
      "The autoreload extension is already loaded. To reload it, use:\n",
      "  %reload_ext autoreload\n"
     ]
    }
   ],
   "source": [
    "%load_ext autoreload\n",
    "%autoreload 2"
   ]
  },
  {
   "cell_type": "code",
   "execution_count": 20,
   "id": "b9fcbb33-ccb9-4e16-93b5-5ddd2e888c0d",
   "metadata": {},
   "outputs": [],
   "source": [
    "import pandas as pd"
   ]
  },
  {
   "cell_type": "code",
   "execution_count": 25,
   "id": "e711744e-5fe6-4574-b01b-2724155db37a",
   "metadata": {},
   "outputs": [],
   "source": [
    "from QueEstaPasando import api_twitter\n",
    "\n",
    "df1 = api_twitter.leer_tweets('67401711_score.csv')\n",
    "df2 = api_twitter.leer_tweets('105219620_score.csv')\n",
    "\n",
    "df3 = api_twitter.leer_tweets('149959442_score.csv')\n",
    "df4 = api_twitter.leer_tweets('126086956_score.csv')\n",
    "df5 = api_twitter.leer_tweets('221765424_score.csv')\n",
    "df6 = api_twitter.leer_tweets('835785594_score.csv')"
   ]
  },
  {
   "cell_type": "code",
   "execution_count": 26,
   "id": "18e7df74-3808-4e0f-8ffa-8deb55c0da12",
   "metadata": {},
   "outputs": [],
   "source": [
    "dfs = pd.concat([df1,df2,df3,df4,df5,df6], axis=0)"
   ]
  },
  {
   "cell_type": "code",
   "execution_count": 27,
   "id": "77d71f1e-bbb9-48fa-9485-4477512cf3da",
   "metadata": {},
   "outputs": [
    {
     "data": {
      "text/plain": [
       "(4800, 9)"
      ]
     },
     "execution_count": 27,
     "metadata": {},
     "output_type": "execute_result"
    }
   ],
   "source": [
    "dfs.shape"
   ]
  },
  {
   "cell_type": "code",
   "execution_count": 29,
   "id": "232eaaa6-7759-401d-97ee-21f105c44734",
   "metadata": {},
   "outputs": [],
   "source": [
    "api_twitter.grabar_tweets(dfs,'total.csv')"
   ]
  },
  {
   "cell_type": "code",
   "execution_count": 37,
   "id": "ed9f7d3d-53c5-4c3f-be57-00cb35342e4a",
   "metadata": {},
   "outputs": [
    {
     "data": {
      "text/plain": [
       "neg    2596\n",
       "neu    1933\n",
       "pos     271\n",
       "Name: score, dtype: int64"
      ]
     },
     "execution_count": 37,
     "metadata": {},
     "output_type": "execute_result"
    }
   ],
   "source": [
    "dfs['score'].value_counts()"
   ]
  }
 ],
 "metadata": {
  "kernelspec": {
   "display_name": "Python 3",
   "language": "python",
   "name": "python3"
  },
  "language_info": {
   "codemirror_mode": {
    "name": "ipython",
    "version": 3
   },
   "file_extension": ".py",
   "mimetype": "text/x-python",
   "name": "python",
   "nbconvert_exporter": "python",
   "pygments_lexer": "ipython3",
   "version": "3.8.6"
  }
 },
 "nbformat": 4,
 "nbformat_minor": 5
}
