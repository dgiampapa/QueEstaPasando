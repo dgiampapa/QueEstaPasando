{
 "cells": [
  {
   "cell_type": "markdown",
   "metadata": {},
   "source": [
    "# Data Cleaning"
   ]
  },
  {
   "cell_type": "code",
   "execution_count": 1,
   "metadata": {},
   "outputs": [
    {
     "name": "stdout",
     "output_type": "stream",
     "text": [
      "Requirement already satisfied: unidecode in /home/juancarlosbt/.pyenv/versions/3.8.6/envs/QueEstaPasando/lib/python3.8/site-packages (1.2.0)\r\n"
     ]
    }
   ],
   "source": [
    "#!pip install unidecode"
   ]
  },
  {
   "cell_type": "code",
   "execution_count": 1,
   "metadata": {},
   "outputs": [],
   "source": [
    "import pandas as pd\n",
    "import string\n",
    "import numpy as np\n",
    "from nltk.tokenize import word_tokenize\n",
    "from datetime import datetime\n",
    "from sklearn.model_selection import train_test_split\n",
    "from nltk.corpus import stopwords\n",
    "import unidecode"
   ]
  },
  {
   "cell_type": "markdown",
   "metadata": {},
   "source": [
    "## instalacion NLTK"
   ]
  },
  {
   "cell_type": "code",
   "execution_count": 2,
   "metadata": {},
   "outputs": [],
   "source": [
    "#!pip install nltk"
   ]
  },
  {
   "cell_type": "markdown",
   "metadata": {},
   "source": [
    "## instalacion datetime"
   ]
  },
  {
   "cell_type": "code",
   "execution_count": 3,
   "metadata": {
    "scrolled": true
   },
   "outputs": [],
   "source": [
    "#!pip install datetime"
   ]
  },
  {
   "cell_type": "code",
   "execution_count": 4,
   "metadata": {},
   "outputs": [
    {
     "data": {
      "text/html": [
       "<div>\n",
       "<style scoped>\n",
       "    .dataframe tbody tr th:only-of-type {\n",
       "        vertical-align: middle;\n",
       "    }\n",
       "\n",
       "    .dataframe tbody tr th {\n",
       "        vertical-align: top;\n",
       "    }\n",
       "\n",
       "    .dataframe thead th {\n",
       "        text-align: right;\n",
       "    }\n",
       "</style>\n",
       "<table border=\"1\" class=\"dataframe\">\n",
       "  <thead>\n",
       "    <tr style=\"text-align: right;\">\n",
       "      <th></th>\n",
       "      <th>Unnamed: 0.1</th>\n",
       "      <th>text</th>\n",
       "      <th>created_at</th>\n",
       "      <th>author_id</th>\n",
       "      <th>id</th>\n",
       "      <th>neg</th>\n",
       "      <th>neu</th>\n",
       "      <th>pos</th>\n",
       "      <th>score</th>\n",
       "    </tr>\n",
       "  </thead>\n",
       "  <tbody>\n",
       "    <tr>\n",
       "      <th>0</th>\n",
       "      <td>0</td>\n",
       "      <td>@MercantilBanco Buenas tardes intento abrir mi mercantil en línea y dice datos y clave incorrecta...está fallando la plataforma?</td>\n",
       "      <td>2021-04-28T22:47:36.000Z</td>\n",
       "      <td>202148873</td>\n",
       "      <td>1387539021983850497</td>\n",
       "      <td>0.994753</td>\n",
       "      <td>0.004321</td>\n",
       "      <td>0.000926</td>\n",
       "      <td>neg</td>\n",
       "    </tr>\n",
       "    <tr>\n",
       "      <th>1</th>\n",
       "      <td>1</td>\n",
       "      <td>@MercantilBanco Buenas tardes! En esta oportunidad les escribo para saber si hay problemas con la plataforma para realizar transferencias a otras cuentas mercantil ya que al momento de realizar una transferencia me arroja el mensaje de que intente más tardes!</td>\n",
       "      <td>2021-04-28T22:46:07.000Z</td>\n",
       "      <td>1274553941917863936</td>\n",
       "      <td>1387538646832648197</td>\n",
       "      <td>0.666402</td>\n",
       "      <td>0.328037</td>\n",
       "      <td>0.005561</td>\n",
       "      <td>neg</td>\n",
       "    </tr>\n",
       "    <tr>\n",
       "      <th>2</th>\n",
       "      <td>2</td>\n",
       "      <td>@MercantilBanco Deseo es reponer  mi tarjeta de débito</td>\n",
       "      <td>2021-04-28T22:32:15.000Z</td>\n",
       "      <td>343710274</td>\n",
       "      <td>1387535156626526209</td>\n",
       "      <td>0.107078</td>\n",
       "      <td>0.886624</td>\n",
       "      <td>0.006298</td>\n",
       "      <td>neu</td>\n",
       "    </tr>\n",
       "    <tr>\n",
       "      <th>3</th>\n",
       "      <td>3</td>\n",
       "      <td>@jesusmdbtw2012 @MercantilBanco Si lo está, estoy en la misma situación</td>\n",
       "      <td>2021-04-28T22:06:42.000Z</td>\n",
       "      <td>1323258072534552577</td>\n",
       "      <td>1387528726712311812</td>\n",
       "      <td>0.003918</td>\n",
       "      <td>0.989461</td>\n",
       "      <td>0.006621</td>\n",
       "      <td>neu</td>\n",
       "    </tr>\n",
       "    <tr>\n",
       "      <th>4</th>\n",
       "      <td>4</td>\n",
       "      <td>El @MercantilBanco me quito 180.000 Bs por 4 mensajes de texto al 24024 solicitando clave temporal para un pago móvil, la cual nunca llego, son ladrones o no? https://t.co/bVVmvxfhjH</td>\n",
       "      <td>2021-04-28T21:48:28.000Z</td>\n",
       "      <td>1099360339207049218</td>\n",
       "      <td>1387524137904754689</td>\n",
       "      <td>0.996315</td>\n",
       "      <td>0.002650</td>\n",
       "      <td>0.001035</td>\n",
       "      <td>neg</td>\n",
       "    </tr>\n",
       "  </tbody>\n",
       "</table>\n",
       "</div>"
      ],
      "text/plain": [
       "   Unnamed: 0.1  \\\n",
       "0             0   \n",
       "1             1   \n",
       "2             2   \n",
       "3             3   \n",
       "4             4   \n",
       "\n",
       "                                                                                                                                                                                                                                                                  text  \\\n",
       "0                                                                                                                                     @MercantilBanco Buenas tardes intento abrir mi mercantil en línea y dice datos y clave incorrecta...está fallando la plataforma?   \n",
       "1  @MercantilBanco Buenas tardes! En esta oportunidad les escribo para saber si hay problemas con la plataforma para realizar transferencias a otras cuentas mercantil ya que al momento de realizar una transferencia me arroja el mensaje de que intente más tardes!   \n",
       "2                                                                                                                                                                                                               @MercantilBanco Deseo es reponer  mi tarjeta de débito   \n",
       "3                                                                                                                                                                                              @jesusmdbtw2012 @MercantilBanco Si lo está, estoy en la misma situación   \n",
       "4                                                                               El @MercantilBanco me quito 180.000 Bs por 4 mensajes de texto al 24024 solicitando clave temporal para un pago móvil, la cual nunca llego, son ladrones o no? https://t.co/bVVmvxfhjH   \n",
       "\n",
       "                 created_at            author_id                   id  \\\n",
       "0  2021-04-28T22:47:36.000Z            202148873  1387539021983850497   \n",
       "1  2021-04-28T22:46:07.000Z  1274553941917863936  1387538646832648197   \n",
       "2  2021-04-28T22:32:15.000Z            343710274  1387535156626526209   \n",
       "3  2021-04-28T22:06:42.000Z  1323258072534552577  1387528726712311812   \n",
       "4  2021-04-28T21:48:28.000Z  1099360339207049218  1387524137904754689   \n",
       "\n",
       "        neg       neu       pos score  \n",
       "0  0.994753  0.004321  0.000926   neg  \n",
       "1  0.666402  0.328037  0.005561   neg  \n",
       "2  0.107078  0.886624  0.006298   neu  \n",
       "3  0.003918  0.989461  0.006621   neu  \n",
       "4  0.996315  0.002650  0.001035   neg  "
      ]
     },
     "execution_count": 4,
     "metadata": {},
     "output_type": "execute_result"
    }
   ],
   "source": [
    "pd.set_option('max_colwidth', 800) \n",
    "data = pd.read_csv(\"../QueEstaPasando/data/total.csv\", index_col=0)\n",
    "data.head()"
   ]
  },
  {
   "cell_type": "code",
   "execution_count": 5,
   "metadata": {},
   "outputs": [
    {
     "data": {
      "text/plain": [
       "(4800, 9)"
      ]
     },
     "execution_count": 5,
     "metadata": {},
     "output_type": "execute_result"
    }
   ],
   "source": [
    "data.shape"
   ]
  },
  {
   "cell_type": "code",
   "execution_count": 6,
   "metadata": {},
   "outputs": [],
   "source": [
    "df_cleaning = data"
   ]
  },
  {
   "cell_type": "code",
   "execution_count": 7,
   "metadata": {},
   "outputs": [
    {
     "data": {
      "text/plain": [
       "Unnamed: 0.1      int64\n",
       "text             object\n",
       "created_at       object\n",
       "author_id         int64\n",
       "id                int64\n",
       "neg             float64\n",
       "neu             float64\n",
       "pos             float64\n",
       "score            object\n",
       "dtype: object"
      ]
     },
     "execution_count": 7,
     "metadata": {},
     "output_type": "execute_result"
    }
   ],
   "source": [
    "df_cleaning.dtypes"
   ]
  },
  {
   "cell_type": "code",
   "execution_count": 8,
   "metadata": {
    "scrolled": true
   },
   "outputs": [
    {
     "data": {
      "text/html": [
       "<div>\n",
       "<style scoped>\n",
       "    .dataframe tbody tr th:only-of-type {\n",
       "        vertical-align: middle;\n",
       "    }\n",
       "\n",
       "    .dataframe tbody tr th {\n",
       "        vertical-align: top;\n",
       "    }\n",
       "\n",
       "    .dataframe thead th {\n",
       "        text-align: right;\n",
       "    }\n",
       "</style>\n",
       "<table border=\"1\" class=\"dataframe\">\n",
       "  <thead>\n",
       "    <tr style=\"text-align: right;\">\n",
       "      <th></th>\n",
       "      <th>Unnamed: 0.1</th>\n",
       "      <th>text</th>\n",
       "      <th>created_at</th>\n",
       "      <th>author_id</th>\n",
       "      <th>id</th>\n",
       "      <th>neg</th>\n",
       "      <th>neu</th>\n",
       "      <th>pos</th>\n",
       "      <th>score</th>\n",
       "    </tr>\n",
       "  </thead>\n",
       "  <tbody>\n",
       "    <tr>\n",
       "      <th>0</th>\n",
       "      <td>0</td>\n",
       "      <td>@MercantilBanco Buenas tardes intento abrir mi mercantil en línea y dice datos y clave incorrecta...está fallando la plataforma?</td>\n",
       "      <td>2021-04-28</td>\n",
       "      <td>202148873</td>\n",
       "      <td>1387539021983850497</td>\n",
       "      <td>0.994753</td>\n",
       "      <td>0.004321</td>\n",
       "      <td>0.000926</td>\n",
       "      <td>neg</td>\n",
       "    </tr>\n",
       "    <tr>\n",
       "      <th>1</th>\n",
       "      <td>1</td>\n",
       "      <td>@MercantilBanco Buenas tardes! En esta oportunidad les escribo para saber si hay problemas con la plataforma para realizar transferencias a otras cuentas mercantil ya que al momento de realizar una transferencia me arroja el mensaje de que intente más tardes!</td>\n",
       "      <td>2021-04-28</td>\n",
       "      <td>1274553941917863936</td>\n",
       "      <td>1387538646832648197</td>\n",
       "      <td>0.666402</td>\n",
       "      <td>0.328037</td>\n",
       "      <td>0.005561</td>\n",
       "      <td>neg</td>\n",
       "    </tr>\n",
       "    <tr>\n",
       "      <th>2</th>\n",
       "      <td>2</td>\n",
       "      <td>@MercantilBanco Deseo es reponer  mi tarjeta de débito</td>\n",
       "      <td>2021-04-28</td>\n",
       "      <td>343710274</td>\n",
       "      <td>1387535156626526209</td>\n",
       "      <td>0.107078</td>\n",
       "      <td>0.886624</td>\n",
       "      <td>0.006298</td>\n",
       "      <td>neu</td>\n",
       "    </tr>\n",
       "    <tr>\n",
       "      <th>3</th>\n",
       "      <td>3</td>\n",
       "      <td>@jesusmdbtw2012 @MercantilBanco Si lo está, estoy en la misma situación</td>\n",
       "      <td>2021-04-28</td>\n",
       "      <td>1323258072534552577</td>\n",
       "      <td>1387528726712311812</td>\n",
       "      <td>0.003918</td>\n",
       "      <td>0.989461</td>\n",
       "      <td>0.006621</td>\n",
       "      <td>neu</td>\n",
       "    </tr>\n",
       "    <tr>\n",
       "      <th>4</th>\n",
       "      <td>4</td>\n",
       "      <td>El @MercantilBanco me quito 180.000 Bs por 4 mensajes de texto al 24024 solicitando clave temporal para un pago móvil, la cual nunca llego, son ladrones o no? https://t.co/bVVmvxfhjH</td>\n",
       "      <td>2021-04-28</td>\n",
       "      <td>1099360339207049218</td>\n",
       "      <td>1387524137904754689</td>\n",
       "      <td>0.996315</td>\n",
       "      <td>0.002650</td>\n",
       "      <td>0.001035</td>\n",
       "      <td>neg</td>\n",
       "    </tr>\n",
       "  </tbody>\n",
       "</table>\n",
       "</div>"
      ],
      "text/plain": [
       "   Unnamed: 0.1  \\\n",
       "0             0   \n",
       "1             1   \n",
       "2             2   \n",
       "3             3   \n",
       "4             4   \n",
       "\n",
       "                                                                                                                                                                                                                                                                  text  \\\n",
       "0                                                                                                                                     @MercantilBanco Buenas tardes intento abrir mi mercantil en línea y dice datos y clave incorrecta...está fallando la plataforma?   \n",
       "1  @MercantilBanco Buenas tardes! En esta oportunidad les escribo para saber si hay problemas con la plataforma para realizar transferencias a otras cuentas mercantil ya que al momento de realizar una transferencia me arroja el mensaje de que intente más tardes!   \n",
       "2                                                                                                                                                                                                               @MercantilBanco Deseo es reponer  mi tarjeta de débito   \n",
       "3                                                                                                                                                                                              @jesusmdbtw2012 @MercantilBanco Si lo está, estoy en la misma situación   \n",
       "4                                                                               El @MercantilBanco me quito 180.000 Bs por 4 mensajes de texto al 24024 solicitando clave temporal para un pago móvil, la cual nunca llego, son ladrones o no? https://t.co/bVVmvxfhjH   \n",
       "\n",
       "  created_at            author_id                   id       neg       neu  \\\n",
       "0 2021-04-28            202148873  1387539021983850497  0.994753  0.004321   \n",
       "1 2021-04-28  1274553941917863936  1387538646832648197  0.666402  0.328037   \n",
       "2 2021-04-28            343710274  1387535156626526209  0.107078  0.886624   \n",
       "3 2021-04-28  1323258072534552577  1387528726712311812  0.003918  0.989461   \n",
       "4 2021-04-28  1099360339207049218  1387524137904754689  0.996315  0.002650   \n",
       "\n",
       "        pos score  \n",
       "0  0.000926   neg  \n",
       "1  0.005561   neg  \n",
       "2  0.006298   neu  \n",
       "3  0.006621   neu  \n",
       "4  0.001035   neg  "
      ]
     },
     "execution_count": 8,
     "metadata": {},
     "output_type": "execute_result"
    }
   ],
   "source": [
    "df_cleaning['created_at'] = pd.to_datetime(df_cleaning['created_at']) #lo hacemos un objeto tiempo\n",
    "df_cleaning['created_at'] = df_cleaning['created_at'].dt.strftime(\"%Y-%m-%d\") #tomo los elementos que quiero de ese objeto\n",
    "df_cleaning['created_at'] = pd.to_datetime(df_cleaning['created_at']) #vuelvo a hacerlo un objeto datetime\n",
    "\n",
    "df_cleaning.head()"
   ]
  },
  {
   "cell_type": "markdown",
   "metadata": {},
   "source": [
    "## Elimina los caracteres iniciales (espacios al principio) y finales (espacios al final)"
   ]
  },
  {
   "cell_type": "code",
   "execution_count": 9,
   "metadata": {},
   "outputs": [
    {
     "data": {
      "text/html": [
       "<div>\n",
       "<style scoped>\n",
       "    .dataframe tbody tr th:only-of-type {\n",
       "        vertical-align: middle;\n",
       "    }\n",
       "\n",
       "    .dataframe tbody tr th {\n",
       "        vertical-align: top;\n",
       "    }\n",
       "\n",
       "    .dataframe thead th {\n",
       "        text-align: right;\n",
       "    }\n",
       "</style>\n",
       "<table border=\"1\" class=\"dataframe\">\n",
       "  <thead>\n",
       "    <tr style=\"text-align: right;\">\n",
       "      <th></th>\n",
       "      <th>Unnamed: 0.1</th>\n",
       "      <th>text</th>\n",
       "      <th>created_at</th>\n",
       "      <th>author_id</th>\n",
       "      <th>id</th>\n",
       "      <th>neg</th>\n",
       "      <th>neu</th>\n",
       "      <th>pos</th>\n",
       "      <th>score</th>\n",
       "    </tr>\n",
       "  </thead>\n",
       "  <tbody>\n",
       "    <tr>\n",
       "      <th>0</th>\n",
       "      <td>0</td>\n",
       "      <td>@MercantilBanco Buenas tardes intento abrir mi mercantil en línea y dice datos y clave incorrecta...está fallando la plataforma?</td>\n",
       "      <td>2021-04-28</td>\n",
       "      <td>202148873</td>\n",
       "      <td>1387539021983850497</td>\n",
       "      <td>0.994753</td>\n",
       "      <td>0.004321</td>\n",
       "      <td>0.000926</td>\n",
       "      <td>neg</td>\n",
       "    </tr>\n",
       "    <tr>\n",
       "      <th>1</th>\n",
       "      <td>1</td>\n",
       "      <td>@MercantilBanco Buenas tardes! En esta oportunidad les escribo para saber si hay problemas con la plataforma para realizar transferencias a otras cuentas mercantil ya que al momento de realizar una transferencia me arroja el mensaje de que intente más tardes!</td>\n",
       "      <td>2021-04-28</td>\n",
       "      <td>1274553941917863936</td>\n",
       "      <td>1387538646832648197</td>\n",
       "      <td>0.666402</td>\n",
       "      <td>0.328037</td>\n",
       "      <td>0.005561</td>\n",
       "      <td>neg</td>\n",
       "    </tr>\n",
       "    <tr>\n",
       "      <th>2</th>\n",
       "      <td>2</td>\n",
       "      <td>@MercantilBanco Deseo es reponer  mi tarjeta de débito</td>\n",
       "      <td>2021-04-28</td>\n",
       "      <td>343710274</td>\n",
       "      <td>1387535156626526209</td>\n",
       "      <td>0.107078</td>\n",
       "      <td>0.886624</td>\n",
       "      <td>0.006298</td>\n",
       "      <td>neu</td>\n",
       "    </tr>\n",
       "    <tr>\n",
       "      <th>3</th>\n",
       "      <td>3</td>\n",
       "      <td>@jesusmdbtw2012 @MercantilBanco Si lo está, estoy en la misma situación</td>\n",
       "      <td>2021-04-28</td>\n",
       "      <td>1323258072534552577</td>\n",
       "      <td>1387528726712311812</td>\n",
       "      <td>0.003918</td>\n",
       "      <td>0.989461</td>\n",
       "      <td>0.006621</td>\n",
       "      <td>neu</td>\n",
       "    </tr>\n",
       "    <tr>\n",
       "      <th>4</th>\n",
       "      <td>4</td>\n",
       "      <td>El @MercantilBanco me quito 180.000 Bs por 4 mensajes de texto al 24024 solicitando clave temporal para un pago móvil, la cual nunca llego, son ladrones o no? https://t.co/bVVmvxfhjH</td>\n",
       "      <td>2021-04-28</td>\n",
       "      <td>1099360339207049218</td>\n",
       "      <td>1387524137904754689</td>\n",
       "      <td>0.996315</td>\n",
       "      <td>0.002650</td>\n",
       "      <td>0.001035</td>\n",
       "      <td>neg</td>\n",
       "    </tr>\n",
       "  </tbody>\n",
       "</table>\n",
       "</div>"
      ],
      "text/plain": [
       "   Unnamed: 0.1  \\\n",
       "0             0   \n",
       "1             1   \n",
       "2             2   \n",
       "3             3   \n",
       "4             4   \n",
       "\n",
       "                                                                                                                                                                                                                                                                  text  \\\n",
       "0                                                                                                                                     @MercantilBanco Buenas tardes intento abrir mi mercantil en línea y dice datos y clave incorrecta...está fallando la plataforma?   \n",
       "1  @MercantilBanco Buenas tardes! En esta oportunidad les escribo para saber si hay problemas con la plataforma para realizar transferencias a otras cuentas mercantil ya que al momento de realizar una transferencia me arroja el mensaje de que intente más tardes!   \n",
       "2                                                                                                                                                                                                               @MercantilBanco Deseo es reponer  mi tarjeta de débito   \n",
       "3                                                                                                                                                                                              @jesusmdbtw2012 @MercantilBanco Si lo está, estoy en la misma situación   \n",
       "4                                                                               El @MercantilBanco me quito 180.000 Bs por 4 mensajes de texto al 24024 solicitando clave temporal para un pago móvil, la cual nunca llego, son ladrones o no? https://t.co/bVVmvxfhjH   \n",
       "\n",
       "  created_at            author_id                   id       neg       neu  \\\n",
       "0 2021-04-28            202148873  1387539021983850497  0.994753  0.004321   \n",
       "1 2021-04-28  1274553941917863936  1387538646832648197  0.666402  0.328037   \n",
       "2 2021-04-28            343710274  1387535156626526209  0.107078  0.886624   \n",
       "3 2021-04-28  1323258072534552577  1387528726712311812  0.003918  0.989461   \n",
       "4 2021-04-28  1099360339207049218  1387524137904754689  0.996315  0.002650   \n",
       "\n",
       "        pos score  \n",
       "0  0.000926   neg  \n",
       "1  0.005561   neg  \n",
       "2  0.006298   neu  \n",
       "3  0.006621   neu  \n",
       "4  0.001035   neg  "
      ]
     },
     "execution_count": 9,
     "metadata": {},
     "output_type": "execute_result"
    }
   ],
   "source": [
    "df_cleaning['text'] = df_cleaning['text'].str.strip()\n",
    "df_cleaning.head()"
   ]
  },
  {
   "cell_type": "markdown",
   "metadata": {},
   "source": [
    "## Replaza palabra 't pago' por 'tpago'"
   ]
  },
  {
   "cell_type": "code",
   "execution_count": 10,
   "metadata": {},
   "outputs": [
    {
     "data": {
      "text/html": [
       "<div>\n",
       "<style scoped>\n",
       "    .dataframe tbody tr th:only-of-type {\n",
       "        vertical-align: middle;\n",
       "    }\n",
       "\n",
       "    .dataframe tbody tr th {\n",
       "        vertical-align: top;\n",
       "    }\n",
       "\n",
       "    .dataframe thead th {\n",
       "        text-align: right;\n",
       "    }\n",
       "</style>\n",
       "<table border=\"1\" class=\"dataframe\">\n",
       "  <thead>\n",
       "    <tr style=\"text-align: right;\">\n",
       "      <th></th>\n",
       "      <th>Unnamed: 0.1</th>\n",
       "      <th>text</th>\n",
       "      <th>created_at</th>\n",
       "      <th>author_id</th>\n",
       "      <th>id</th>\n",
       "      <th>neg</th>\n",
       "      <th>neu</th>\n",
       "      <th>pos</th>\n",
       "      <th>score</th>\n",
       "    </tr>\n",
       "  </thead>\n",
       "  <tbody>\n",
       "    <tr>\n",
       "      <th>0</th>\n",
       "      <td>0</td>\n",
       "      <td>@MercantilBanco Buenas tardes intento abrir mi mercantil en línea y dice datos y clave incorrecta...está fallando la plataforma?</td>\n",
       "      <td>2021-04-28</td>\n",
       "      <td>202148873</td>\n",
       "      <td>1387539021983850497</td>\n",
       "      <td>0.994753</td>\n",
       "      <td>0.004321</td>\n",
       "      <td>0.000926</td>\n",
       "      <td>neg</td>\n",
       "    </tr>\n",
       "    <tr>\n",
       "      <th>1</th>\n",
       "      <td>1</td>\n",
       "      <td>@MercantilBanco Buenas tardes! En esta oportunidad les escribo para saber si hay problemas con la plataforma para realizar transferencias a otras cuentas mercantil ya que al momento de realizar una transferencia me arroja el mensaje de que intente más tardes!</td>\n",
       "      <td>2021-04-28</td>\n",
       "      <td>1274553941917863936</td>\n",
       "      <td>1387538646832648197</td>\n",
       "      <td>0.666402</td>\n",
       "      <td>0.328037</td>\n",
       "      <td>0.005561</td>\n",
       "      <td>neg</td>\n",
       "    </tr>\n",
       "    <tr>\n",
       "      <th>2</th>\n",
       "      <td>2</td>\n",
       "      <td>@MercantilBanco Deseo es reponer  mi tarjeta de débito</td>\n",
       "      <td>2021-04-28</td>\n",
       "      <td>343710274</td>\n",
       "      <td>1387535156626526209</td>\n",
       "      <td>0.107078</td>\n",
       "      <td>0.886624</td>\n",
       "      <td>0.006298</td>\n",
       "      <td>neu</td>\n",
       "    </tr>\n",
       "    <tr>\n",
       "      <th>3</th>\n",
       "      <td>3</td>\n",
       "      <td>@jesusmdbtw2012 @MercantilBanco Si lo está, estoy en la misma situación</td>\n",
       "      <td>2021-04-28</td>\n",
       "      <td>1323258072534552577</td>\n",
       "      <td>1387528726712311812</td>\n",
       "      <td>0.003918</td>\n",
       "      <td>0.989461</td>\n",
       "      <td>0.006621</td>\n",
       "      <td>neu</td>\n",
       "    </tr>\n",
       "    <tr>\n",
       "      <th>4</th>\n",
       "      <td>4</td>\n",
       "      <td>El @MercantilBanco me quito 180.000 Bs por 4 mensajes de texto al 24024 solicitando clave temporal para un pago móvil, la cual nunca llego, son ladrones o no? https://t.co/bVVmvxfhjH</td>\n",
       "      <td>2021-04-28</td>\n",
       "      <td>1099360339207049218</td>\n",
       "      <td>1387524137904754689</td>\n",
       "      <td>0.996315</td>\n",
       "      <td>0.002650</td>\n",
       "      <td>0.001035</td>\n",
       "      <td>neg</td>\n",
       "    </tr>\n",
       "    <tr>\n",
       "      <th>...</th>\n",
       "      <td>...</td>\n",
       "      <td>...</td>\n",
       "      <td>...</td>\n",
       "      <td>...</td>\n",
       "      <td>...</td>\n",
       "      <td>...</td>\n",
       "      <td>...</td>\n",
       "      <td>...</td>\n",
       "      <td>...</td>\n",
       "    </tr>\n",
       "    <tr>\n",
       "      <th>795</th>\n",
       "      <td>95</td>\n",
       "      <td>@EneidaLayaPsuv @bcodeltesoro @ViceVenezuela @Mippcivzla @VTVcanal8 @MinEcoFinanzas @SudebanInforma @MinCoNacional @sundde_ve @CalidadEsVida @almacaracas @CassVzla Incorpórate a la gran familia BT.\\n\\n#PrevenirPorLaVida \\n@EneidaLayaPsuv \\n@ejalvarezg</td>\n",
       "      <td>2021-04-21</td>\n",
       "      <td>806545841192337408</td>\n",
       "      <td>1384992142829965318</td>\n",
       "      <td>0.026753</td>\n",
       "      <td>0.795695</td>\n",
       "      <td>0.177552</td>\n",
       "      <td>neu</td>\n",
       "    </tr>\n",
       "    <tr>\n",
       "      <th>796</th>\n",
       "      <td>96</td>\n",
       "      <td>@SudebanInforma @BCV ES IMPACTANTE COMO LA MISMA TASA OFICIAL DEL $ EN VZLA VA EN UN ALZA INDETENIBLE EN GOBIERNOS DE LA IV REPÚBLICA EL PAIS NO SE HABRIA AGUANTADO ESTO A DÓNDE NOS LLEVAN A UNA BUENA PARTE DE LOS VZLNS????</td>\n",
       "      <td>2021-04-21</td>\n",
       "      <td>263183208</td>\n",
       "      <td>1384991053216948226</td>\n",
       "      <td>0.908691</td>\n",
       "      <td>0.079556</td>\n",
       "      <td>0.011753</td>\n",
       "      <td>neg</td>\n",
       "    </tr>\n",
       "    <tr>\n",
       "      <th>797</th>\n",
       "      <td>97</td>\n",
       "      <td>@ViceVenezuela @SudebanInforma @DrodriguezVen Si partimos del \"supuesto\" que Venezuela es un país productor de droga; entonces Colombia sería la empresa contratada con la misión de satisfacer las necesidades de logística en transporte, almacenamiento y distribución a nuestros clientes con unidades de última generación\\n¿O no? https://t.co/PBx47bJy0Y</td>\n",
       "      <td>2021-04-21</td>\n",
       "      <td>196245666</td>\n",
       "      <td>1384971265300213765</td>\n",
       "      <td>0.075834</td>\n",
       "      <td>0.907265</td>\n",
       "      <td>0.016901</td>\n",
       "      <td>neu</td>\n",
       "    </tr>\n",
       "    <tr>\n",
       "      <th>798</th>\n",
       "      <td>98</td>\n",
       "      <td>@DELSURBanco Cuando piensan aumentar los montos por cajeros automáticos eso no alcanza para absolutamente NADA @SudebanInforma</td>\n",
       "      <td>2021-04-21</td>\n",
       "      <td>137347639</td>\n",
       "      <td>1384960023026094081</td>\n",
       "      <td>0.996677</td>\n",
       "      <td>0.001912</td>\n",
       "      <td>0.001411</td>\n",
       "      <td>neg</td>\n",
       "    </tr>\n",
       "    <tr>\n",
       "      <th>799</th>\n",
       "      <td>99</td>\n",
       "      <td>@EneidaLayaPsuv @bcodeltesoro @ViceVenezuela @Mippcivzla @VTVcanal8 @MinEcoFinanzas @SudebanInforma @MinCoNacional @sundde_ve @CalidadEsVida @almacaracas @CassVzla Perdida de tiempo cuando el tipo se entera que debe pagar 1$ mensual cierra la cuenta 😂😂😂 @EneidaLayaPsuv ladrona adeca sucia</td>\n",
       "      <td>2021-04-21</td>\n",
       "      <td>168899169</td>\n",
       "      <td>1384940003940356097</td>\n",
       "      <td>0.996547</td>\n",
       "      <td>0.002109</td>\n",
       "      <td>0.001344</td>\n",
       "      <td>neg</td>\n",
       "    </tr>\n",
       "  </tbody>\n",
       "</table>\n",
       "<p>4800 rows × 9 columns</p>\n",
       "</div>"
      ],
      "text/plain": [
       "     Unnamed: 0.1  \\\n",
       "0               0   \n",
       "1               1   \n",
       "2               2   \n",
       "3               3   \n",
       "4               4   \n",
       "..            ...   \n",
       "795            95   \n",
       "796            96   \n",
       "797            97   \n",
       "798            98   \n",
       "799            99   \n",
       "\n",
       "                                                                                                                                                                                                                                                                                                                                                                text  \\\n",
       "0                                                                                                                                                                                                                                   @MercantilBanco Buenas tardes intento abrir mi mercantil en línea y dice datos y clave incorrecta...está fallando la plataforma?   \n",
       "1                                                                                                @MercantilBanco Buenas tardes! En esta oportunidad les escribo para saber si hay problemas con la plataforma para realizar transferencias a otras cuentas mercantil ya que al momento de realizar una transferencia me arroja el mensaje de que intente más tardes!   \n",
       "2                                                                                                                                                                                                                                                                                                             @MercantilBanco Deseo es reponer  mi tarjeta de débito   \n",
       "3                                                                                                                                                                                                                                                                                            @jesusmdbtw2012 @MercantilBanco Si lo está, estoy en la misma situación   \n",
       "4                                                                                                                                                                             El @MercantilBanco me quito 180.000 Bs por 4 mensajes de texto al 24024 solicitando clave temporal para un pago móvil, la cual nunca llego, son ladrones o no? https://t.co/bVVmvxfhjH   \n",
       "..                                                                                                                                                                                                                                                                                                                                                               ...   \n",
       "795                                                                                                      @EneidaLayaPsuv @bcodeltesoro @ViceVenezuela @Mippcivzla @VTVcanal8 @MinEcoFinanzas @SudebanInforma @MinCoNacional @sundde_ve @CalidadEsVida @almacaracas @CassVzla Incorpórate a la gran familia BT.\\n\\n#PrevenirPorLaVida \\n@EneidaLayaPsuv \\n@ejalvarezg   \n",
       "796                                                                                                                                  @SudebanInforma @BCV ES IMPACTANTE COMO LA MISMA TASA OFICIAL DEL $ EN VZLA VA EN UN ALZA INDETENIBLE EN GOBIERNOS DE LA IV REPÚBLICA EL PAIS NO SE HABRIA AGUANTADO ESTO A DÓNDE NOS LLEVAN A UNA BUENA PARTE DE LOS VZLNS????   \n",
       "797  @ViceVenezuela @SudebanInforma @DrodriguezVen Si partimos del \"supuesto\" que Venezuela es un país productor de droga; entonces Colombia sería la empresa contratada con la misión de satisfacer las necesidades de logística en transporte, almacenamiento y distribución a nuestros clientes con unidades de última generación\\n¿O no? https://t.co/PBx47bJy0Y   \n",
       "798                                                                                                                                                                                                                                   @DELSURBanco Cuando piensan aumentar los montos por cajeros automáticos eso no alcanza para absolutamente NADA @SudebanInforma   \n",
       "799                                                                @EneidaLayaPsuv @bcodeltesoro @ViceVenezuela @Mippcivzla @VTVcanal8 @MinEcoFinanzas @SudebanInforma @MinCoNacional @sundde_ve @CalidadEsVida @almacaracas @CassVzla Perdida de tiempo cuando el tipo se entera que debe pagar 1$ mensual cierra la cuenta 😂😂😂 @EneidaLayaPsuv ladrona adeca sucia   \n",
       "\n",
       "    created_at            author_id                   id       neg       neu  \\\n",
       "0   2021-04-28            202148873  1387539021983850497  0.994753  0.004321   \n",
       "1   2021-04-28  1274553941917863936  1387538646832648197  0.666402  0.328037   \n",
       "2   2021-04-28            343710274  1387535156626526209  0.107078  0.886624   \n",
       "3   2021-04-28  1323258072534552577  1387528726712311812  0.003918  0.989461   \n",
       "4   2021-04-28  1099360339207049218  1387524137904754689  0.996315  0.002650   \n",
       "..         ...                  ...                  ...       ...       ...   \n",
       "795 2021-04-21   806545841192337408  1384992142829965318  0.026753  0.795695   \n",
       "796 2021-04-21            263183208  1384991053216948226  0.908691  0.079556   \n",
       "797 2021-04-21            196245666  1384971265300213765  0.075834  0.907265   \n",
       "798 2021-04-21            137347639  1384960023026094081  0.996677  0.001912   \n",
       "799 2021-04-21            168899169  1384940003940356097  0.996547  0.002109   \n",
       "\n",
       "          pos score  \n",
       "0    0.000926   neg  \n",
       "1    0.005561   neg  \n",
       "2    0.006298   neu  \n",
       "3    0.006621   neu  \n",
       "4    0.001035   neg  \n",
       "..        ...   ...  \n",
       "795  0.177552   neu  \n",
       "796  0.011753   neg  \n",
       "797  0.016901   neu  \n",
       "798  0.001411   neg  \n",
       "799  0.001344   neg  \n",
       "\n",
       "[4800 rows x 9 columns]"
      ]
     },
     "execution_count": 10,
     "metadata": {},
     "output_type": "execute_result"
    }
   ],
   "source": [
    "df_cleaning['text'] = df_cleaning['text'].str.replace('t pago', 'tpago')\n",
    "df_cleaning"
   ]
  },
  {
   "cell_type": "markdown",
   "metadata": {},
   "source": [
    "## Remover duplicados  mover 1"
   ]
  },
  {
   "cell_type": "code",
   "execution_count": 11,
   "metadata": {},
   "outputs": [
    {
     "data": {
      "text/plain": [
       "(4800, 9)"
      ]
     },
     "execution_count": 11,
     "metadata": {},
     "output_type": "execute_result"
    }
   ],
   "source": [
    "df_cleaning.shape"
   ]
  },
  {
   "cell_type": "code",
   "execution_count": 12,
   "metadata": {},
   "outputs": [],
   "source": [
    "df_cleaning.drop_duplicates(inplace=True)"
   ]
  },
  {
   "cell_type": "code",
   "execution_count": 13,
   "metadata": {},
   "outputs": [
    {
     "data": {
      "text/plain": [
       "(4798, 9)"
      ]
     },
     "execution_count": 13,
     "metadata": {},
     "output_type": "execute_result"
    }
   ],
   "source": [
    "df_cleaning.shape"
   ]
  },
  {
   "cell_type": "markdown",
   "metadata": {},
   "source": [
    "## Revisar y Eliminar Null"
   ]
  },
  {
   "cell_type": "code",
   "execution_count": 14,
   "metadata": {},
   "outputs": [
    {
     "data": {
      "text/plain": [
       "Unnamed: 0.1    0\n",
       "text            0\n",
       "created_at      0\n",
       "author_id       0\n",
       "id              0\n",
       "neg             0\n",
       "neu             0\n",
       "pos             0\n",
       "score           0\n",
       "dtype: int64"
      ]
     },
     "execution_count": 14,
     "metadata": {},
     "output_type": "execute_result"
    }
   ],
   "source": [
    "df_cleaning.isna().sum()"
   ]
  },
  {
   "cell_type": "code",
   "execution_count": 15,
   "metadata": {},
   "outputs": [],
   "source": [
    "#df_cleaning['score'] = df_cleaning['score'].replace(np.nan, 'Neutro')\n",
    "#df_cleaning.head()\n",
    "\n",
    "df_cleaning.dropna(axis=0, inplace=True)\n"
   ]
  },
  {
   "cell_type": "code",
   "execution_count": 16,
   "metadata": {},
   "outputs": [
    {
     "data": {
      "text/plain": [
       "Unnamed: 0.1    0\n",
       "text            0\n",
       "created_at      0\n",
       "author_id       0\n",
       "id              0\n",
       "neg             0\n",
       "neu             0\n",
       "pos             0\n",
       "score           0\n",
       "dtype: int64"
      ]
     },
     "execution_count": 16,
     "metadata": {},
     "output_type": "execute_result"
    }
   ],
   "source": [
    "df_cleaning.isna().sum()"
   ]
  },
  {
   "cell_type": "code",
   "execution_count": 17,
   "metadata": {},
   "outputs": [],
   "source": [
    "df = df_cleaning"
   ]
  },
  {
   "cell_type": "code",
   "execution_count": 18,
   "metadata": {},
   "outputs": [
    {
     "data": {
      "text/html": [
       "<div>\n",
       "<style scoped>\n",
       "    .dataframe tbody tr th:only-of-type {\n",
       "        vertical-align: middle;\n",
       "    }\n",
       "\n",
       "    .dataframe tbody tr th {\n",
       "        vertical-align: top;\n",
       "    }\n",
       "\n",
       "    .dataframe thead th {\n",
       "        text-align: right;\n",
       "    }\n",
       "</style>\n",
       "<table border=\"1\" class=\"dataframe\">\n",
       "  <thead>\n",
       "    <tr style=\"text-align: right;\">\n",
       "      <th></th>\n",
       "      <th>Unnamed: 0.1</th>\n",
       "      <th>text</th>\n",
       "      <th>created_at</th>\n",
       "      <th>author_id</th>\n",
       "      <th>id</th>\n",
       "      <th>neg</th>\n",
       "      <th>neu</th>\n",
       "      <th>pos</th>\n",
       "      <th>score</th>\n",
       "    </tr>\n",
       "  </thead>\n",
       "  <tbody>\n",
       "    <tr>\n",
       "      <th>0</th>\n",
       "      <td>0</td>\n",
       "      <td>mercantilbanco buenas tardes intento abrir mercantil linea dice datos clave incorrecta fallando plataforma</td>\n",
       "      <td>2021-04-28</td>\n",
       "      <td>202148873</td>\n",
       "      <td>1387539021983850497</td>\n",
       "      <td>0.994753</td>\n",
       "      <td>0.004321</td>\n",
       "      <td>0.000926</td>\n",
       "      <td>neg</td>\n",
       "    </tr>\n",
       "    <tr>\n",
       "      <th>1</th>\n",
       "      <td>1</td>\n",
       "      <td>mercantilbanco buenas tardes oportunidad escribo saber si problemas plataforma realizar transferencias cuentas mercantil momento realizar transferencia arroja mensaje intente mas tardes</td>\n",
       "      <td>2021-04-28</td>\n",
       "      <td>1274553941917863936</td>\n",
       "      <td>1387538646832648197</td>\n",
       "      <td>0.666402</td>\n",
       "      <td>0.328037</td>\n",
       "      <td>0.005561</td>\n",
       "      <td>neg</td>\n",
       "    </tr>\n",
       "    <tr>\n",
       "      <th>2</th>\n",
       "      <td>2</td>\n",
       "      <td>mercantilbanco deseo reponer tarjeta debito</td>\n",
       "      <td>2021-04-28</td>\n",
       "      <td>343710274</td>\n",
       "      <td>1387535156626526209</td>\n",
       "      <td>0.107078</td>\n",
       "      <td>0.886624</td>\n",
       "      <td>0.006298</td>\n",
       "      <td>neu</td>\n",
       "    </tr>\n",
       "    <tr>\n",
       "      <th>3</th>\n",
       "      <td>3</td>\n",
       "      <td>mercantilbanco si misma situacion</td>\n",
       "      <td>2021-04-28</td>\n",
       "      <td>1323258072534552577</td>\n",
       "      <td>1387528726712311812</td>\n",
       "      <td>0.003918</td>\n",
       "      <td>0.989461</td>\n",
       "      <td>0.006621</td>\n",
       "      <td>neu</td>\n",
       "    </tr>\n",
       "    <tr>\n",
       "      <th>4</th>\n",
       "      <td>4</td>\n",
       "      <td>mercantilbanco quito bs mensajes texto solicitando clave temporal pago movil nunca llego ladrones https t co bvvmvxfhjh</td>\n",
       "      <td>2021-04-28</td>\n",
       "      <td>1099360339207049218</td>\n",
       "      <td>1387524137904754689</td>\n",
       "      <td>0.996315</td>\n",
       "      <td>0.002650</td>\n",
       "      <td>0.001035</td>\n",
       "      <td>neg</td>\n",
       "    </tr>\n",
       "  </tbody>\n",
       "</table>\n",
       "</div>"
      ],
      "text/plain": [
       "   Unnamed: 0.1  \\\n",
       "0             0   \n",
       "1             1   \n",
       "2             2   \n",
       "3             3   \n",
       "4             4   \n",
       "\n",
       "                                                                                                                                                                                        text  \\\n",
       "0                                                                                 mercantilbanco buenas tardes intento abrir mercantil linea dice datos clave incorrecta fallando plataforma   \n",
       "1  mercantilbanco buenas tardes oportunidad escribo saber si problemas plataforma realizar transferencias cuentas mercantil momento realizar transferencia arroja mensaje intente mas tardes   \n",
       "2                                                                                                                                                mercantilbanco deseo reponer tarjeta debito   \n",
       "3                                                                                                                                                          mercantilbanco si misma situacion   \n",
       "4                                                                    mercantilbanco quito bs mensajes texto solicitando clave temporal pago movil nunca llego ladrones https t co bvvmvxfhjh   \n",
       "\n",
       "  created_at            author_id                   id       neg       neu  \\\n",
       "0 2021-04-28            202148873  1387539021983850497  0.994753  0.004321   \n",
       "1 2021-04-28  1274553941917863936  1387538646832648197  0.666402  0.328037   \n",
       "2 2021-04-28            343710274  1387535156626526209  0.107078  0.886624   \n",
       "3 2021-04-28  1323258072534552577  1387528726712311812  0.003918  0.989461   \n",
       "4 2021-04-28  1099360339207049218  1387524137904754689  0.996315  0.002650   \n",
       "\n",
       "        pos score  \n",
       "0  0.000926   neg  \n",
       "1  0.005561   neg  \n",
       "2  0.006298   neu  \n",
       "3  0.006621   neu  \n",
       "4  0.001035   neg  "
      ]
     },
     "execution_count": 18,
     "metadata": {},
     "output_type": "execute_result"
    }
   ],
   "source": [
    "# Clean Twitts text\n",
    "\n",
    "def clean (text):\n",
    "    \n",
    "    for punctuation in string.punctuation:\n",
    "        text = text.replace(punctuation, ' ') # Remove Punctuation\n",
    "        \n",
    "    lowercased = text.lower() # Lower Case\n",
    "    \n",
    "    unaccented_string = unidecode.unidecode(lowercased) # remove accents\n",
    "    \n",
    "    tokenized = word_tokenize(unaccented_string) # Tokenize\n",
    "    \n",
    "    words_only = [word for word in tokenized if word.isalpha()] # Remove numbers\n",
    "    \n",
    "    stop_words = set(stopwords.words('spanish')) # Make stopword list\n",
    "    \n",
    "    without_stopwords = [word for word in words_only if not word in stop_words] # Remove Stop Words\n",
    "    \n",
    "    return \" \".join(without_stopwords)\n",
    "\n",
    "df['text'] = df['text'].apply(clean)\n",
    "\n",
    "df.head()"
   ]
  },
  {
   "cell_type": "markdown",
   "metadata": {},
   "source": [
    "## Se Eliminan los Caracteres Especiales\n",
    "\n",
    "👇 Remove punctuation and lower case the text."
   ]
  },
  {
   "cell_type": "code",
   "execution_count": 20,
   "metadata": {},
   "outputs": [
    {
     "data": {
      "text/plain": [
       "'!\"#$%&\\'()*+,-./:;<=>?@[\\\\]^_`{|}~'"
      ]
     },
     "execution_count": 20,
     "metadata": {},
     "output_type": "execute_result"
    }
   ],
   "source": [
    "string.punctuation"
   ]
  },
  {
   "cell_type": "code",
   "execution_count": 21,
   "metadata": {},
   "outputs": [],
   "source": [
    "mi_puntuacion = '!¡\"#$%&\\'()*+,-./:;<=>¿?@[\\\\]^_`{|}~'"
   ]
  },
  {
   "cell_type": "code",
   "execution_count": 22,
   "metadata": {},
   "outputs": [],
   "source": [
    "def remove_puntuation(text):\n",
    "    for punctuation in mi_puntuacion:\n",
    "        text = text.replace(punctuation, \" \")\n",
    "    return text"
   ]
  },
  {
   "cell_type": "code",
   "execution_count": 23,
   "metadata": {},
   "outputs": [
    {
     "data": {
      "text/html": [
       "<div>\n",
       "<style scoped>\n",
       "    .dataframe tbody tr th:only-of-type {\n",
       "        vertical-align: middle;\n",
       "    }\n",
       "\n",
       "    .dataframe tbody tr th {\n",
       "        vertical-align: top;\n",
       "    }\n",
       "\n",
       "    .dataframe thead th {\n",
       "        text-align: right;\n",
       "    }\n",
       "</style>\n",
       "<table border=\"1\" class=\"dataframe\">\n",
       "  <thead>\n",
       "    <tr style=\"text-align: right;\">\n",
       "      <th></th>\n",
       "      <th>author_id</th>\n",
       "      <th>created_at</th>\n",
       "      <th>id</th>\n",
       "      <th>text</th>\n",
       "      <th>score</th>\n",
       "    </tr>\n",
       "  </thead>\n",
       "  <tbody>\n",
       "    <tr>\n",
       "      <th>0</th>\n",
       "      <td>601856885</td>\n",
       "      <td>2021-04-27</td>\n",
       "      <td>1387104539648667649</td>\n",
       "      <td>mercantilbanco buenas tardes debo hacer poder aumentar limite tdc</td>\n",
       "      <td>Positivo</td>\n",
       "    </tr>\n",
       "    <tr>\n",
       "      <th>1</th>\n",
       "      <td>49336014</td>\n",
       "      <td>2021-04-27</td>\n",
       "      <td>1387104354910539778</td>\n",
       "      <td>mercantilbanco requiero hacer pago electronico sucesion plataforma banco permite imprimir pago seguro</td>\n",
       "      <td>Positivo</td>\n",
       "    </tr>\n",
       "    <tr>\n",
       "      <th>2</th>\n",
       "      <td>1387101068853714950</td>\n",
       "      <td>2021-04-27</td>\n",
       "      <td>1387102405041524742</td>\n",
       "      <td>mercantilbanco afiliado tpago puedo hacer pago movil pagina inter telefono veo contactos hago</td>\n",
       "      <td>Negativo</td>\n",
       "    </tr>\n",
       "    <tr>\n",
       "      <th>3</th>\n",
       "      <td>32323041</td>\n",
       "      <td>2021-04-27</td>\n",
       "      <td>1387097747665391617</td>\n",
       "      <td>mercantilbanco buenas tardes tratando recargar saldo celular movistar cuenta mercantil dice pueden procesar operacion intente mas tarde algun problema movistar puedo hacer urge recargar saldo</td>\n",
       "      <td>Negativo</td>\n",
       "    </tr>\n",
       "    <tr>\n",
       "      <th>4</th>\n",
       "      <td>76481335</td>\n",
       "      <td>2021-04-27</td>\n",
       "      <td>1387091723269115904</td>\n",
       "      <td>mercantilbanco</td>\n",
       "      <td>Negativo</td>\n",
       "    </tr>\n",
       "  </tbody>\n",
       "</table>\n",
       "</div>"
      ],
      "text/plain": [
       "             author_id created_at                   id  \\\n",
       "0            601856885 2021-04-27  1387104539648667649   \n",
       "1             49336014 2021-04-27  1387104354910539778   \n",
       "2  1387101068853714950 2021-04-27  1387102405041524742   \n",
       "3             32323041 2021-04-27  1387097747665391617   \n",
       "4             76481335 2021-04-27  1387091723269115904   \n",
       "\n",
       "                                                                                                                                                                                              text  \\\n",
       "0                                                                                                                                mercantilbanco buenas tardes debo hacer poder aumentar limite tdc   \n",
       "1                                                                                            mercantilbanco requiero hacer pago electronico sucesion plataforma banco permite imprimir pago seguro   \n",
       "2                                                                                                    mercantilbanco afiliado tpago puedo hacer pago movil pagina inter telefono veo contactos hago   \n",
       "3  mercantilbanco buenas tardes tratando recargar saldo celular movistar cuenta mercantil dice pueden procesar operacion intente mas tarde algun problema movistar puedo hacer urge recargar saldo   \n",
       "4                                                                                                                                                                                   mercantilbanco   \n",
       "\n",
       "      score  \n",
       "0  Positivo  \n",
       "1  Positivo  \n",
       "2  Negativo  \n",
       "3  Negativo  \n",
       "4  Negativo  "
      ]
     },
     "execution_count": 23,
     "metadata": {},
     "output_type": "execute_result"
    }
   ],
   "source": [
    "df_cleaning['text'] = df_cleaning['text'].apply(remove_puntuation)\n",
    "df_cleaning.head()"
   ]
  },
  {
   "cell_type": "code",
   "execution_count": 24,
   "metadata": {},
   "outputs": [],
   "source": [
    "#def cambia_acentuadas(text):\n",
    "    "
   ]
  },
  {
   "cell_type": "code",
   "execution_count": null,
   "metadata": {},
   "outputs": [],
   "source": []
  },
  {
   "cell_type": "markdown",
   "metadata": {},
   "source": [
    "## Covierte en minusculas todo"
   ]
  },
  {
   "cell_type": "code",
   "execution_count": 25,
   "metadata": {},
   "outputs": [],
   "source": [
    "def remove_lower(text1):\n",
    "    text1 = text1.lower()\n",
    "    return text1"
   ]
  },
  {
   "cell_type": "code",
   "execution_count": 26,
   "metadata": {},
   "outputs": [
    {
     "data": {
      "text/html": [
       "<div>\n",
       "<style scoped>\n",
       "    .dataframe tbody tr th:only-of-type {\n",
       "        vertical-align: middle;\n",
       "    }\n",
       "\n",
       "    .dataframe tbody tr th {\n",
       "        vertical-align: top;\n",
       "    }\n",
       "\n",
       "    .dataframe thead th {\n",
       "        text-align: right;\n",
       "    }\n",
       "</style>\n",
       "<table border=\"1\" class=\"dataframe\">\n",
       "  <thead>\n",
       "    <tr style=\"text-align: right;\">\n",
       "      <th></th>\n",
       "      <th>author_id</th>\n",
       "      <th>created_at</th>\n",
       "      <th>id</th>\n",
       "      <th>text</th>\n",
       "      <th>score</th>\n",
       "    </tr>\n",
       "  </thead>\n",
       "  <tbody>\n",
       "    <tr>\n",
       "      <th>0</th>\n",
       "      <td>601856885</td>\n",
       "      <td>2021-04-27</td>\n",
       "      <td>1387104539648667649</td>\n",
       "      <td>mercantilbanco buenas tardes debo hacer poder aumentar limite tdc</td>\n",
       "      <td>Positivo</td>\n",
       "    </tr>\n",
       "    <tr>\n",
       "      <th>1</th>\n",
       "      <td>49336014</td>\n",
       "      <td>2021-04-27</td>\n",
       "      <td>1387104354910539778</td>\n",
       "      <td>mercantilbanco requiero hacer pago electronico sucesion plataforma banco permite imprimir pago seguro</td>\n",
       "      <td>Positivo</td>\n",
       "    </tr>\n",
       "    <tr>\n",
       "      <th>2</th>\n",
       "      <td>1387101068853714950</td>\n",
       "      <td>2021-04-27</td>\n",
       "      <td>1387102405041524742</td>\n",
       "      <td>mercantilbanco afiliado tpago puedo hacer pago movil pagina inter telefono veo contactos hago</td>\n",
       "      <td>Negativo</td>\n",
       "    </tr>\n",
       "    <tr>\n",
       "      <th>3</th>\n",
       "      <td>32323041</td>\n",
       "      <td>2021-04-27</td>\n",
       "      <td>1387097747665391617</td>\n",
       "      <td>mercantilbanco buenas tardes tratando recargar saldo celular movistar cuenta mercantil dice pueden procesar operacion intente mas tarde algun problema movistar puedo hacer urge recargar saldo</td>\n",
       "      <td>Negativo</td>\n",
       "    </tr>\n",
       "    <tr>\n",
       "      <th>4</th>\n",
       "      <td>76481335</td>\n",
       "      <td>2021-04-27</td>\n",
       "      <td>1387091723269115904</td>\n",
       "      <td>mercantilbanco</td>\n",
       "      <td>Negativo</td>\n",
       "    </tr>\n",
       "  </tbody>\n",
       "</table>\n",
       "</div>"
      ],
      "text/plain": [
       "             author_id created_at                   id  \\\n",
       "0            601856885 2021-04-27  1387104539648667649   \n",
       "1             49336014 2021-04-27  1387104354910539778   \n",
       "2  1387101068853714950 2021-04-27  1387102405041524742   \n",
       "3             32323041 2021-04-27  1387097747665391617   \n",
       "4             76481335 2021-04-27  1387091723269115904   \n",
       "\n",
       "                                                                                                                                                                                              text  \\\n",
       "0                                                                                                                                mercantilbanco buenas tardes debo hacer poder aumentar limite tdc   \n",
       "1                                                                                            mercantilbanco requiero hacer pago electronico sucesion plataforma banco permite imprimir pago seguro   \n",
       "2                                                                                                    mercantilbanco afiliado tpago puedo hacer pago movil pagina inter telefono veo contactos hago   \n",
       "3  mercantilbanco buenas tardes tratando recargar saldo celular movistar cuenta mercantil dice pueden procesar operacion intente mas tarde algun problema movistar puedo hacer urge recargar saldo   \n",
       "4                                                                                                                                                                                   mercantilbanco   \n",
       "\n",
       "      score  \n",
       "0  Positivo  \n",
       "1  Positivo  \n",
       "2  Negativo  \n",
       "3  Negativo  \n",
       "4  Negativo  "
      ]
     },
     "execution_count": 26,
     "metadata": {},
     "output_type": "execute_result"
    }
   ],
   "source": [
    "df_cleaning['text'] = df_cleaning['text'].apply(remove_lower)\n",
    "df_cleaning.head()"
   ]
  },
  {
   "cell_type": "markdown",
   "metadata": {},
   "source": [
    "## Remueve Numeros"
   ]
  },
  {
   "cell_type": "code",
   "execution_count": 27,
   "metadata": {},
   "outputs": [],
   "source": [
    "def remove_numbers(text1):\n",
    "    text1 = ''.join(word for word in text1 if not word.isdigit())\n",
    "    return text1"
   ]
  },
  {
   "cell_type": "code",
   "execution_count": 28,
   "metadata": {},
   "outputs": [
    {
     "data": {
      "text/html": [
       "<div>\n",
       "<style scoped>\n",
       "    .dataframe tbody tr th:only-of-type {\n",
       "        vertical-align: middle;\n",
       "    }\n",
       "\n",
       "    .dataframe tbody tr th {\n",
       "        vertical-align: top;\n",
       "    }\n",
       "\n",
       "    .dataframe thead th {\n",
       "        text-align: right;\n",
       "    }\n",
       "</style>\n",
       "<table border=\"1\" class=\"dataframe\">\n",
       "  <thead>\n",
       "    <tr style=\"text-align: right;\">\n",
       "      <th></th>\n",
       "      <th>author_id</th>\n",
       "      <th>created_at</th>\n",
       "      <th>id</th>\n",
       "      <th>text</th>\n",
       "      <th>score</th>\n",
       "    </tr>\n",
       "  </thead>\n",
       "  <tbody>\n",
       "    <tr>\n",
       "      <th>0</th>\n",
       "      <td>601856885</td>\n",
       "      <td>2021-04-27</td>\n",
       "      <td>1387104539648667649</td>\n",
       "      <td>mercantilbanco buenas tardes debo hacer poder aumentar limite tdc</td>\n",
       "      <td>Positivo</td>\n",
       "    </tr>\n",
       "    <tr>\n",
       "      <th>1</th>\n",
       "      <td>49336014</td>\n",
       "      <td>2021-04-27</td>\n",
       "      <td>1387104354910539778</td>\n",
       "      <td>mercantilbanco requiero hacer pago electronico sucesion plataforma banco permite imprimir pago seguro</td>\n",
       "      <td>Positivo</td>\n",
       "    </tr>\n",
       "    <tr>\n",
       "      <th>2</th>\n",
       "      <td>1387101068853714950</td>\n",
       "      <td>2021-04-27</td>\n",
       "      <td>1387102405041524742</td>\n",
       "      <td>mercantilbanco afiliado tpago puedo hacer pago movil pagina inter telefono veo contactos hago</td>\n",
       "      <td>Negativo</td>\n",
       "    </tr>\n",
       "    <tr>\n",
       "      <th>3</th>\n",
       "      <td>32323041</td>\n",
       "      <td>2021-04-27</td>\n",
       "      <td>1387097747665391617</td>\n",
       "      <td>mercantilbanco buenas tardes tratando recargar saldo celular movistar cuenta mercantil dice pueden procesar operacion intente mas tarde algun problema movistar puedo hacer urge recargar saldo</td>\n",
       "      <td>Negativo</td>\n",
       "    </tr>\n",
       "    <tr>\n",
       "      <th>4</th>\n",
       "      <td>76481335</td>\n",
       "      <td>2021-04-27</td>\n",
       "      <td>1387091723269115904</td>\n",
       "      <td>mercantilbanco</td>\n",
       "      <td>Negativo</td>\n",
       "    </tr>\n",
       "  </tbody>\n",
       "</table>\n",
       "</div>"
      ],
      "text/plain": [
       "             author_id created_at                   id  \\\n",
       "0            601856885 2021-04-27  1387104539648667649   \n",
       "1             49336014 2021-04-27  1387104354910539778   \n",
       "2  1387101068853714950 2021-04-27  1387102405041524742   \n",
       "3             32323041 2021-04-27  1387097747665391617   \n",
       "4             76481335 2021-04-27  1387091723269115904   \n",
       "\n",
       "                                                                                                                                                                                              text  \\\n",
       "0                                                                                                                                mercantilbanco buenas tardes debo hacer poder aumentar limite tdc   \n",
       "1                                                                                            mercantilbanco requiero hacer pago electronico sucesion plataforma banco permite imprimir pago seguro   \n",
       "2                                                                                                    mercantilbanco afiliado tpago puedo hacer pago movil pagina inter telefono veo contactos hago   \n",
       "3  mercantilbanco buenas tardes tratando recargar saldo celular movistar cuenta mercantil dice pueden procesar operacion intente mas tarde algun problema movistar puedo hacer urge recargar saldo   \n",
       "4                                                                                                                                                                                   mercantilbanco   \n",
       "\n",
       "      score  \n",
       "0  Positivo  \n",
       "1  Positivo  \n",
       "2  Negativo  \n",
       "3  Negativo  \n",
       "4  Negativo  "
      ]
     },
     "execution_count": 28,
     "metadata": {},
     "output_type": "execute_result"
    }
   ],
   "source": [
    "df_cleaning['text'] = df_cleaning['text'].apply(remove_numbers)\n",
    "df_cleaning.head()"
   ]
  },
  {
   "cell_type": "markdown",
   "metadata": {},
   "source": [
    "## Separar palabras"
   ]
  },
  {
   "cell_type": "code",
   "execution_count": 29,
   "metadata": {},
   "outputs": [],
   "source": [
    "def remove_StopWords(text):\n",
    "    spanish_stopwords = set(stopwords.words('spanish'))\n",
    "    #stop_words = set(stopwords.words('spanish'))\n",
    "    word_tokens = word_tokenize(text) \n",
    "    text = [w for w in word_tokens if not w in spanish_stopwords]\n",
    "    return text"
   ]
  },
  {
   "cell_type": "code",
   "execution_count": 30,
   "metadata": {},
   "outputs": [
    {
     "data": {
      "text/html": [
       "<div>\n",
       "<style scoped>\n",
       "    .dataframe tbody tr th:only-of-type {\n",
       "        vertical-align: middle;\n",
       "    }\n",
       "\n",
       "    .dataframe tbody tr th {\n",
       "        vertical-align: top;\n",
       "    }\n",
       "\n",
       "    .dataframe thead th {\n",
       "        text-align: right;\n",
       "    }\n",
       "</style>\n",
       "<table border=\"1\" class=\"dataframe\">\n",
       "  <thead>\n",
       "    <tr style=\"text-align: right;\">\n",
       "      <th></th>\n",
       "      <th>author_id</th>\n",
       "      <th>created_at</th>\n",
       "      <th>id</th>\n",
       "      <th>text</th>\n",
       "      <th>score</th>\n",
       "    </tr>\n",
       "  </thead>\n",
       "  <tbody>\n",
       "    <tr>\n",
       "      <th>0</th>\n",
       "      <td>601856885</td>\n",
       "      <td>2021-04-27</td>\n",
       "      <td>1387104539648667649</td>\n",
       "      <td>[mercantilbanco, buenas, tardes, debo, hacer, poder, aumentar, limite, tdc]</td>\n",
       "      <td>Positivo</td>\n",
       "    </tr>\n",
       "    <tr>\n",
       "      <th>1</th>\n",
       "      <td>49336014</td>\n",
       "      <td>2021-04-27</td>\n",
       "      <td>1387104354910539778</td>\n",
       "      <td>[mercantilbanco, requiero, hacer, pago, electronico, sucesion, plataforma, banco, permite, imprimir, pago, seguro]</td>\n",
       "      <td>Positivo</td>\n",
       "    </tr>\n",
       "    <tr>\n",
       "      <th>2</th>\n",
       "      <td>1387101068853714950</td>\n",
       "      <td>2021-04-27</td>\n",
       "      <td>1387102405041524742</td>\n",
       "      <td>[mercantilbanco, afiliado, tpago, puedo, hacer, pago, movil, pagina, inter, telefono, veo, contactos, hago]</td>\n",
       "      <td>Negativo</td>\n",
       "    </tr>\n",
       "    <tr>\n",
       "      <th>3</th>\n",
       "      <td>32323041</td>\n",
       "      <td>2021-04-27</td>\n",
       "      <td>1387097747665391617</td>\n",
       "      <td>[mercantilbanco, buenas, tardes, tratando, recargar, saldo, celular, movistar, cuenta, mercantil, dice, pueden, procesar, operacion, intente, mas, tarde, algun, problema, movistar, puedo, hacer, urge, recargar, saldo]</td>\n",
       "      <td>Negativo</td>\n",
       "    </tr>\n",
       "    <tr>\n",
       "      <th>4</th>\n",
       "      <td>76481335</td>\n",
       "      <td>2021-04-27</td>\n",
       "      <td>1387091723269115904</td>\n",
       "      <td>[mercantilbanco]</td>\n",
       "      <td>Negativo</td>\n",
       "    </tr>\n",
       "  </tbody>\n",
       "</table>\n",
       "</div>"
      ],
      "text/plain": [
       "             author_id created_at                   id  \\\n",
       "0            601856885 2021-04-27  1387104539648667649   \n",
       "1             49336014 2021-04-27  1387104354910539778   \n",
       "2  1387101068853714950 2021-04-27  1387102405041524742   \n",
       "3             32323041 2021-04-27  1387097747665391617   \n",
       "4             76481335 2021-04-27  1387091723269115904   \n",
       "\n",
       "                                                                                                                                                                                                                        text  \\\n",
       "0                                                                                                                                                [mercantilbanco, buenas, tardes, debo, hacer, poder, aumentar, limite, tdc]   \n",
       "1                                                                                                         [mercantilbanco, requiero, hacer, pago, electronico, sucesion, plataforma, banco, permite, imprimir, pago, seguro]   \n",
       "2                                                                                                                [mercantilbanco, afiliado, tpago, puedo, hacer, pago, movil, pagina, inter, telefono, veo, contactos, hago]   \n",
       "3  [mercantilbanco, buenas, tardes, tratando, recargar, saldo, celular, movistar, cuenta, mercantil, dice, pueden, procesar, operacion, intente, mas, tarde, algun, problema, movistar, puedo, hacer, urge, recargar, saldo]   \n",
       "4                                                                                                                                                                                                           [mercantilbanco]   \n",
       "\n",
       "      score  \n",
       "0  Positivo  \n",
       "1  Positivo  \n",
       "2  Negativo  \n",
       "3  Negativo  \n",
       "4  Negativo  "
      ]
     },
     "execution_count": 30,
     "metadata": {},
     "output_type": "execute_result"
    }
   ],
   "source": [
    "df_cleaning['text'] = df_cleaning['text'].apply(remove_StopWords)\n",
    "df_cleaning.head()"
   ]
  },
  {
   "cell_type": "code",
   "execution_count": 31,
   "metadata": {},
   "outputs": [],
   "source": [
    "from nltk.stem import WordNetLemmatizer\n",
    "def remove_Lemmatize(text):\n",
    "    lemmatizer = WordNetLemmatizer()\n",
    "    lemmatized = [lemmatizer.lemmatize(word) for word in text]\n",
    "    str_lemmatizer = \" \".join(lemmatized)\n",
    "    return str_lemmatizer"
   ]
  },
  {
   "cell_type": "code",
   "execution_count": 32,
   "metadata": {},
   "outputs": [
    {
     "data": {
      "text/html": [
       "<div>\n",
       "<style scoped>\n",
       "    .dataframe tbody tr th:only-of-type {\n",
       "        vertical-align: middle;\n",
       "    }\n",
       "\n",
       "    .dataframe tbody tr th {\n",
       "        vertical-align: top;\n",
       "    }\n",
       "\n",
       "    .dataframe thead th {\n",
       "        text-align: right;\n",
       "    }\n",
       "</style>\n",
       "<table border=\"1\" class=\"dataframe\">\n",
       "  <thead>\n",
       "    <tr style=\"text-align: right;\">\n",
       "      <th></th>\n",
       "      <th>author_id</th>\n",
       "      <th>created_at</th>\n",
       "      <th>id</th>\n",
       "      <th>text</th>\n",
       "      <th>score</th>\n",
       "    </tr>\n",
       "  </thead>\n",
       "  <tbody>\n",
       "    <tr>\n",
       "      <th>0</th>\n",
       "      <td>601856885</td>\n",
       "      <td>2021-04-27</td>\n",
       "      <td>1387104539648667649</td>\n",
       "      <td>mercantilbanco buenas tardes debo hacer poder aumentar limite tdc</td>\n",
       "      <td>Positivo</td>\n",
       "    </tr>\n",
       "    <tr>\n",
       "      <th>1</th>\n",
       "      <td>49336014</td>\n",
       "      <td>2021-04-27</td>\n",
       "      <td>1387104354910539778</td>\n",
       "      <td>mercantilbanco requiero hacer pago electronico sucesion plataforma banco permite imprimir pago seguro</td>\n",
       "      <td>Positivo</td>\n",
       "    </tr>\n",
       "    <tr>\n",
       "      <th>2</th>\n",
       "      <td>1387101068853714950</td>\n",
       "      <td>2021-04-27</td>\n",
       "      <td>1387102405041524742</td>\n",
       "      <td>mercantilbanco afiliado tpago puedo hacer pago movil pagina inter telefono veo contactos hago</td>\n",
       "      <td>Negativo</td>\n",
       "    </tr>\n",
       "    <tr>\n",
       "      <th>3</th>\n",
       "      <td>32323041</td>\n",
       "      <td>2021-04-27</td>\n",
       "      <td>1387097747665391617</td>\n",
       "      <td>mercantilbanco buenas tardes tratando recargar saldo celular movistar cuenta mercantil dice pueden procesar operacion intente ma tarde algun problema movistar puedo hacer urge recargar saldo</td>\n",
       "      <td>Negativo</td>\n",
       "    </tr>\n",
       "    <tr>\n",
       "      <th>4</th>\n",
       "      <td>76481335</td>\n",
       "      <td>2021-04-27</td>\n",
       "      <td>1387091723269115904</td>\n",
       "      <td>mercantilbanco</td>\n",
       "      <td>Negativo</td>\n",
       "    </tr>\n",
       "  </tbody>\n",
       "</table>\n",
       "</div>"
      ],
      "text/plain": [
       "             author_id created_at                   id  \\\n",
       "0            601856885 2021-04-27  1387104539648667649   \n",
       "1             49336014 2021-04-27  1387104354910539778   \n",
       "2  1387101068853714950 2021-04-27  1387102405041524742   \n",
       "3             32323041 2021-04-27  1387097747665391617   \n",
       "4             76481335 2021-04-27  1387091723269115904   \n",
       "\n",
       "                                                                                                                                                                                             text  \\\n",
       "0                                                                                                                               mercantilbanco buenas tardes debo hacer poder aumentar limite tdc   \n",
       "1                                                                                           mercantilbanco requiero hacer pago electronico sucesion plataforma banco permite imprimir pago seguro   \n",
       "2                                                                                                   mercantilbanco afiliado tpago puedo hacer pago movil pagina inter telefono veo contactos hago   \n",
       "3  mercantilbanco buenas tardes tratando recargar saldo celular movistar cuenta mercantil dice pueden procesar operacion intente ma tarde algun problema movistar puedo hacer urge recargar saldo   \n",
       "4                                                                                                                                                                                  mercantilbanco   \n",
       "\n",
       "      score  \n",
       "0  Positivo  \n",
       "1  Positivo  \n",
       "2  Negativo  \n",
       "3  Negativo  \n",
       "4  Negativo  "
      ]
     },
     "execution_count": 32,
     "metadata": {},
     "output_type": "execute_result"
    }
   ],
   "source": [
    "df_cleaning['text'] = df_cleaning['text'].apply(remove_Lemmatize)\n",
    "df_cleaning.head()"
   ]
  },
  {
   "cell_type": "code",
   "execution_count": 33,
   "metadata": {},
   "outputs": [
    {
     "data": {
      "text/plain": [
       "(656, 5)"
      ]
     },
     "execution_count": 33,
     "metadata": {},
     "output_type": "execute_result"
    }
   ],
   "source": [
    "df_cleaning.shape"
   ]
  },
  {
   "cell_type": "markdown",
   "metadata": {},
   "source": [
    "## Definir Train y test"
   ]
  },
  {
   "cell_type": "code",
   "execution_count": 19,
   "metadata": {},
   "outputs": [],
   "source": [
    "X = df['text']\n",
    "y = df['score']"
   ]
  },
  {
   "cell_type": "code",
   "execution_count": 20,
   "metadata": {},
   "outputs": [],
   "source": [
    "X_train, X_test, y_train, y_test = train_test_split(X, y, test_size=0.3)"
   ]
  },
  {
   "cell_type": "code",
   "execution_count": 21,
   "metadata": {},
   "outputs": [
    {
     "data": {
      "text/plain": [
       "206                                                             alinmokdad bodoficial senora si ud hace complice participe ilicito sale mal deberia menos tener verguenza reconocer hacia correcto\n",
       "714                                                    bodoficial buenas noches banco bod mes marzo pase tarjeta punto desconto pasaron dias reembolaron dinero reclamar punto tampoco cayo dinero\n",
       "101                                                                                                             mercantilbanco buenos dias cambiar llave mercantil chip danado cuales serian pasos\n",
       "171    danielmosc pinmosc ayudamovistarve mercantilbanco igualmente misma situacion paso febrero pague movistar tv nunca repusieron dinero saldo vez voy dejarlo pasar habra denunciarlos fiscalia\n",
       "122                                                                                                                                       mercantilbanco puede activar tarjeta coordenadas si pais\n",
       "                                                                                                  ...                                                                                             \n",
       "201                                                                                                                                                     sres bbvaprovincial funciona alguien igual\n",
       "462                                                                                                                      sudebaninforma afectados dicom pedimos favor corresponda entregar divisas\n",
       "501                                                                                                                              banesco genios pueden usarlos estan mantenimiento bravo bravisimo\n",
       "327                                                                                                                        ayudamovistarve si supongo esperar lunes ver si movistar mercantilbanco\n",
       "450                                                                                                                                              bodoficial bodladrones antiguanewsroom https t co\n",
       "Name: text, Length: 3358, dtype: object"
      ]
     },
     "execution_count": 21,
     "metadata": {},
     "output_type": "execute_result"
    }
   ],
   "source": [
    "X_train"
   ]
  },
  {
   "cell_type": "markdown",
   "metadata": {},
   "source": [
    "# GridSearchCV"
   ]
  },
  {
   "cell_type": "code",
   "execution_count": 30,
   "metadata": {},
   "outputs": [
    {
     "name": "stdout",
     "output_type": "stream",
     "text": [
      "Fitting 5 folds for each of 50 candidates, totalling 250 fits\n"
     ]
    },
    {
     "name": "stderr",
     "output_type": "stream",
     "text": [
      "/home/juancarlosbt/.pyenv/versions/3.8.6/envs/QueEstaPasando/lib/python3.8/site-packages/sklearn/model_selection/_search.py:918: UserWarning: One or more of the test scores are non-finite: [0.63043121        nan        nan 0.60123572 0.62298098        nan\n",
      "        nan        nan 0.63787036 0.5497321         nan        nan\n",
      "        nan 0.54348698        nan 0.59737288 0.58605537        nan\n",
      " 0.57652491 0.5774191  0.60452239        nan        nan 0.60570621\n",
      "        nan        nan        nan 0.59469608 0.59290638 0.58962458\n",
      " 0.65038145        nan        nan        nan 0.6363836  0.57920792\n",
      "        nan        nan        nan        nan        nan 0.64174473\n",
      " 0.55211216        nan 0.61077283        nan        nan        nan\n",
      "        nan 0.60272736]\n",
      "  warnings.warn(\n"
     ]
    },
    {
     "data": {
      "text/plain": [
       "RandomizedSearchCV(cv=5,\n",
       "                   estimator=Pipeline(steps=[('tfidf',\n",
       "                                              TfidfVectorizer(lowercase=False)),\n",
       "                                             ('model', MultinomialNB())]),\n",
       "                   n_iter=50, n_jobs=-1,\n",
       "                   param_distributions={'model__alpha': <scipy.stats._distn_infrastructure.rv_frozen object at 0x7f6ec0bd3be0>,\n",
       "                                        'tfidf__max_df': <scipy.stats._distn_infrastructure.rv_frozen object at 0x7f6ec0bd3430>,\n",
       "                                        'tfidf__min_df': <scipy.stats._distn_infrastructure.rv_frozen object at 0x7f6eabd8a130>,\n",
       "                                        'tfidf__ngram_range': [(1, 1), (2, 2),\n",
       "                                                               (1, 2)]},\n",
       "                   scoring='accuracy', verbose=1)"
      ]
     },
     "execution_count": 30,
     "metadata": {},
     "output_type": "execute_result"
    }
   ],
   "source": [
    "# Create Pipeline\n",
    "from sklearn.model_selection import GridSearchCV, RandomizedSearchCV\n",
    "from sklearn.pipeline import Pipeline\n",
    "from sklearn.feature_extraction.text import TfidfVectorizer\n",
    "from sklearn.naive_bayes import MultinomialNB\n",
    "#from sklearn.linear_model import LogisticRegression\n",
    "from scipy import stats\n",
    "\n",
    "\n",
    "# Create Pipeline\n",
    "pipeline = Pipeline([\n",
    "    ('tfidf', TfidfVectorizer(lowercase = False)),\n",
    "    ('model', MultinomialNB()),\n",
    "])\n",
    "\n",
    "# Set parameters to search\n",
    "parameters = {\n",
    "    'tfidf__ngram_range': [(1,1), (2,2), (1,2)],\n",
    "    'tfidf__min_df': stats.loguniform(0.01, .5),\n",
    "    'tfidf__max_df': stats.loguniform(0.01, .5),\n",
    "    'model__alpha': stats.loguniform(0.01, 10),\n",
    "}\n",
    "\n",
    "# Perform grid search on pipeline\n",
    "grid_search = RandomizedSearchCV(pipeline, parameters, n_jobs=-1, \n",
    "                           verbose=1, scoring = \"accuracy\", cv=5, n_iter=50, refit=True)\n",
    "\n",
    "grid_search.fit(X_train,y_train)"
   ]
  },
  {
   "cell_type": "code",
   "execution_count": 31,
   "metadata": {},
   "outputs": [
    {
     "data": {
      "text/plain": [
       "0.650381449151941"
      ]
     },
     "execution_count": 31,
     "metadata": {},
     "output_type": "execute_result"
    }
   ],
   "source": [
    "grid_search.best_score_"
   ]
  },
  {
   "cell_type": "code",
   "execution_count": 25,
   "metadata": {},
   "outputs": [
    {
     "data": {
      "text/plain": [
       "{'model__alpha': 0.4855137496869935,\n",
       " 'tfidf__max_df': 0.21351001204285194,\n",
       " 'tfidf__min_df': 0.010360258071578601,\n",
       " 'tfidf__ngram_range': (1, 1)}"
      ]
     },
     "execution_count": 25,
     "metadata": {},
     "output_type": "execute_result"
    }
   ],
   "source": [
    "grid_search.best_params_"
   ]
  },
  {
   "cell_type": "code",
   "execution_count": 26,
   "metadata": {},
   "outputs": [
    {
     "data": {
      "text/plain": [
       "Pipeline(steps=[('tfidf',\n",
       "                 TfidfVectorizer(lowercase=False, max_df=0.21351001204285194,\n",
       "                                 min_df=0.010360258071578601)),\n",
       "                ('model', MultinomialNB(alpha=0.4855137496869935))])"
      ]
     },
     "execution_count": 26,
     "metadata": {},
     "output_type": "execute_result"
    }
   ],
   "source": [
    "grid_search.best_estimator_"
   ]
  },
  {
   "cell_type": "code",
   "execution_count": 28,
   "metadata": {},
   "outputs": [
    {
     "data": {
      "text/plain": [
       "0.6138888888888889"
      ]
     },
     "execution_count": 28,
     "metadata": {},
     "output_type": "execute_result"
    }
   ],
   "source": [
    "grid_search.best_estimator_.score(X_test, y_test)"
   ]
  },
  {
   "cell_type": "code",
   "execution_count": 33,
   "metadata": {},
   "outputs": [
    {
     "name": "stdout",
     "output_type": "stream",
     "text": [
      "Collecting gensim\n",
      "  Using cached gensim-4.0.1-cp38-cp38-manylinux1_x86_64.whl (23.9 MB)\n",
      "Requirement already satisfied: smart-open>=1.8.1 in /home/juancarlosbt/.pyenv/versions/3.8.6/envs/QueEstaPasando/lib/python3.8/site-packages (from gensim) (3.0.0)\n",
      "Requirement already satisfied: scipy>=0.18.1 in /home/juancarlosbt/.pyenv/versions/3.8.6/envs/QueEstaPasando/lib/python3.8/site-packages (from gensim) (1.6.3)\n",
      "Requirement already satisfied: numpy>=1.11.3 in /home/juancarlosbt/.pyenv/versions/3.8.6/envs/QueEstaPasando/lib/python3.8/site-packages (from gensim) (1.20.2)\n",
      "Requirement already satisfied: requests in /home/juancarlosbt/.pyenv/versions/3.8.6/envs/QueEstaPasando/lib/python3.8/site-packages (from smart-open>=1.8.1->gensim) (2.25.1)\n",
      "Requirement already satisfied: idna<3,>=2.5 in /home/juancarlosbt/.pyenv/versions/3.8.6/envs/QueEstaPasando/lib/python3.8/site-packages (from requests->smart-open>=1.8.1->gensim) (2.10)\n",
      "Requirement already satisfied: chardet<5,>=3.0.2 in /home/juancarlosbt/.pyenv/versions/3.8.6/envs/QueEstaPasando/lib/python3.8/site-packages (from requests->smart-open>=1.8.1->gensim) (4.0.0)\n",
      "Requirement already satisfied: urllib3<1.27,>=1.21.1 in /home/juancarlosbt/.pyenv/versions/3.8.6/envs/QueEstaPasando/lib/python3.8/site-packages (from requests->smart-open>=1.8.1->gensim) (1.26.4)\n",
      "Requirement already satisfied: certifi>=2017.4.17 in /home/juancarlosbt/.pyenv/versions/3.8.6/envs/QueEstaPasando/lib/python3.8/site-packages (from requests->smart-open>=1.8.1->gensim) (2020.12.5)\n",
      "Installing collected packages: gensim\n",
      "Successfully installed gensim-4.0.1\n"
     ]
    }
   ],
   "source": [
    "!pip install gensim"
   ]
  },
  {
   "cell_type": "code",
   "execution_count": 35,
   "metadata": {},
   "outputs": [
    {
     "name": "stdout",
     "output_type": "stream",
     "text": [
      "Collecting tensorflow\n",
      "  Using cached tensorflow-2.4.1-cp38-cp38-manylinux2010_x86_64.whl (394.4 MB)\n",
      "Collecting google-pasta~=0.2\n",
      "  Using cached google_pasta-0.2.0-py3-none-any.whl (57 kB)\n",
      "Collecting grpcio~=1.32.0\n",
      "  Using cached grpcio-1.32.0-cp38-cp38-manylinux2014_x86_64.whl (3.8 MB)\n",
      "Collecting opt-einsum~=3.3.0\n",
      "  Using cached opt_einsum-3.3.0-py3-none-any.whl (65 kB)\n",
      "Requirement already satisfied: wheel~=0.35 in /home/juancarlosbt/.pyenv/versions/3.8.6/envs/QueEstaPasando/lib/python3.8/site-packages (from tensorflow) (0.36.2)\n",
      "Collecting typing-extensions~=3.7.4\n",
      "  Using cached typing_extensions-3.7.4.3-py3-none-any.whl (22 kB)\n",
      "Collecting tensorboard~=2.4\n",
      "  Downloading tensorboard-2.5.0-py3-none-any.whl (6.0 MB)\n",
      "\u001b[K     |████████████████████████████████| 6.0 MB 40 kB/s eta 0:00:015\n",
      "\u001b[?25hCollecting gast==0.3.3\n",
      "  Using cached gast-0.3.3-py2.py3-none-any.whl (9.7 kB)\n",
      "Collecting astunparse~=1.6.3\n",
      "  Using cached astunparse-1.6.3-py2.py3-none-any.whl (12 kB)\n",
      "Requirement already satisfied: wrapt~=1.12.1 in /home/juancarlosbt/.pyenv/versions/3.8.6/envs/QueEstaPasando/lib/python3.8/site-packages (from tensorflow) (1.12.1)\n",
      "Collecting keras-preprocessing~=1.1.2\n",
      "  Using cached Keras_Preprocessing-1.1.2-py2.py3-none-any.whl (42 kB)\n",
      "Collecting termcolor~=1.1.0\n",
      "  Using cached termcolor-1.1.0.tar.gz (3.9 kB)\n",
      "Collecting protobuf>=3.9.2\n",
      "  Using cached protobuf-3.15.8-cp38-cp38-manylinux1_x86_64.whl (1.0 MB)\n",
      "Collecting tensorflow-estimator<2.5.0,>=2.4.0\n",
      "  Using cached tensorflow_estimator-2.4.0-py2.py3-none-any.whl (462 kB)\n",
      "Collecting absl-py~=0.10\n",
      "  Using cached absl_py-0.12.0-py3-none-any.whl (129 kB)\n",
      "Collecting flatbuffers~=1.12.0\n",
      "  Using cached flatbuffers-1.12-py2.py3-none-any.whl (15 kB)\n",
      "Collecting numpy~=1.19.2\n",
      "  Using cached numpy-1.19.5-cp38-cp38-manylinux2010_x86_64.whl (14.9 MB)\n",
      "Collecting h5py~=2.10.0\n",
      "  Using cached h5py-2.10.0-cp38-cp38-manylinux1_x86_64.whl (2.9 MB)\n",
      "Requirement already satisfied: six~=1.15.0 in /home/juancarlosbt/.pyenv/versions/3.8.6/envs/QueEstaPasando/lib/python3.8/site-packages (from tensorflow) (1.15.0)\n",
      "Requirement already satisfied: setuptools>=41.0.0 in /home/juancarlosbt/.pyenv/versions/3.8.6/envs/QueEstaPasando/lib/python3.8/site-packages (from tensorboard~=2.4->tensorflow) (49.2.1)\n",
      "Collecting werkzeug>=0.11.15\n",
      "  Using cached Werkzeug-1.0.1-py2.py3-none-any.whl (298 kB)\n",
      "Collecting markdown>=2.6.8\n",
      "  Using cached Markdown-3.3.4-py3-none-any.whl (97 kB)\n",
      "Collecting tensorboard-plugin-wit>=1.6.0\n",
      "  Using cached tensorboard_plugin_wit-1.8.0-py3-none-any.whl (781 kB)\n",
      "Requirement already satisfied: requests<3,>=2.21.0 in /home/juancarlosbt/.pyenv/versions/3.8.6/envs/QueEstaPasando/lib/python3.8/site-packages (from tensorboard~=2.4->tensorflow) (2.25.1)\n",
      "Collecting google-auth<2,>=1.6.3\n",
      "  Downloading google_auth-1.30.0-py2.py3-none-any.whl (146 kB)\n",
      "\u001b[K     |████████████████████████████████| 146 kB 21 kB/s eta 0:00:01\n",
      "\u001b[?25hCollecting google-auth-oauthlib<0.5,>=0.4.1\n",
      "  Using cached google_auth_oauthlib-0.4.4-py2.py3-none-any.whl (18 kB)\n",
      "Collecting tensorboard-data-server<0.7.0,>=0.6.0\n",
      "  Downloading tensorboard_data_server-0.6.0-py3-none-manylinux2010_x86_64.whl (3.9 MB)\n",
      "\u001b[K     |████████████████████████████████| 3.9 MB 44 kB/s eta 0:00:01\n",
      "\u001b[?25hCollecting cachetools<5.0,>=2.0.0\n",
      "  Downloading cachetools-4.2.2-py3-none-any.whl (11 kB)\n",
      "Collecting pyasn1-modules>=0.2.1\n",
      "  Using cached pyasn1_modules-0.2.8-py2.py3-none-any.whl (155 kB)\n",
      "Collecting rsa<5,>=3.1.4\n",
      "  Using cached rsa-4.7.2-py3-none-any.whl (34 kB)\n",
      "Collecting requests-oauthlib>=0.7.0\n",
      "  Using cached requests_oauthlib-1.3.0-py2.py3-none-any.whl (23 kB)\n",
      "Collecting pyasn1<0.5.0,>=0.4.6\n",
      "  Using cached pyasn1-0.4.8-py2.py3-none-any.whl (77 kB)\n",
      "Requirement already satisfied: certifi>=2017.4.17 in /home/juancarlosbt/.pyenv/versions/3.8.6/envs/QueEstaPasando/lib/python3.8/site-packages (from requests<3,>=2.21.0->tensorboard~=2.4->tensorflow) (2020.12.5)\n",
      "Requirement already satisfied: chardet<5,>=3.0.2 in /home/juancarlosbt/.pyenv/versions/3.8.6/envs/QueEstaPasando/lib/python3.8/site-packages (from requests<3,>=2.21.0->tensorboard~=2.4->tensorflow) (4.0.0)\n",
      "Requirement already satisfied: idna<3,>=2.5 in /home/juancarlosbt/.pyenv/versions/3.8.6/envs/QueEstaPasando/lib/python3.8/site-packages (from requests<3,>=2.21.0->tensorboard~=2.4->tensorflow) (2.10)\n",
      "Requirement already satisfied: urllib3<1.27,>=1.21.1 in /home/juancarlosbt/.pyenv/versions/3.8.6/envs/QueEstaPasando/lib/python3.8/site-packages (from requests<3,>=2.21.0->tensorboard~=2.4->tensorflow) (1.26.4)\n",
      "Collecting oauthlib>=3.0.0\n",
      "  Using cached oauthlib-3.1.0-py2.py3-none-any.whl (147 kB)\n",
      "Building wheels for collected packages: termcolor\n",
      "  Building wheel for termcolor (setup.py) ... \u001b[?25ldone\n",
      "\u001b[?25h  Created wheel for termcolor: filename=termcolor-1.1.0-py3-none-any.whl size=4829 sha256=749ddd027f57ead8db35bd6a8bf9f9a5ca12214a7ab1cedeba2d8a8ddaca00d0\n",
      "  Stored in directory: /home/juancarlosbt/.cache/pip/wheels/a0/16/9c/5473df82468f958445479c59e784896fa24f4a5fc024b0f501\n",
      "Successfully built termcolor\n",
      "Installing collected packages: pyasn1, rsa, pyasn1-modules, oauthlib, cachetools, requests-oauthlib, google-auth, werkzeug, tensorboard-plugin-wit, tensorboard-data-server, protobuf, numpy, markdown, grpcio, google-auth-oauthlib, absl-py, typing-extensions, termcolor, tensorflow-estimator, tensorboard, opt-einsum, keras-preprocessing, h5py, google-pasta, gast, flatbuffers, astunparse, tensorflow\n",
      "  Attempting uninstall: numpy\n",
      "    Found existing installation: numpy 1.20.2\n",
      "    Uninstalling numpy-1.20.2:\n",
      "      Successfully uninstalled numpy-1.20.2\n",
      "Successfully installed absl-py-0.12.0 astunparse-1.6.3 cachetools-4.2.2 flatbuffers-1.12 gast-0.3.3 google-auth-1.30.0 google-auth-oauthlib-0.4.4 google-pasta-0.2.0 grpcio-1.32.0 h5py-2.10.0 keras-preprocessing-1.1.2 markdown-3.3.4 numpy-1.19.5 oauthlib-3.1.0 opt-einsum-3.3.0 protobuf-3.15.8 pyasn1-0.4.8 pyasn1-modules-0.2.8 requests-oauthlib-1.3.0 rsa-4.7.2 tensorboard-2.5.0 tensorboard-data-server-0.6.0 tensorboard-plugin-wit-1.8.0 tensorflow-2.4.1 tensorflow-estimator-2.4.0 termcolor-1.1.0 typing-extensions-3.7.4.3 werkzeug-1.0.1\n"
     ]
    }
   ],
   "source": [
    "!pip install tensorflow"
   ]
  },
  {
   "cell_type": "markdown",
   "metadata": {},
   "source": [
    "## Modelo Deep learning"
   ]
  },
  {
   "cell_type": "code",
   "execution_count": 85,
   "metadata": {},
   "outputs": [],
   "source": [
    "from gensim.models import Word2Vec\n",
    "import numpy as np\n",
    "from tensorflow.keras.preprocessing.sequence import pad_sequences\n",
    "\n",
    "\n",
    "# –– Step #1\n",
    "def convert_sentences(X):\n",
    "    return [sentence.split(' ') for sentence in X]\n",
    "\n",
    "X_train_words = convert_sentences(X_train)\n",
    "X_test_words = convert_sentences(X_test)\n",
    "\n",
    "\n",
    "# –– Step #2\n",
    "word2vec = Word2Vec(sentences=X_train, min_count=10, window=10)\n",
    "\n",
    "\n",
    "# –– Step #3\n",
    "def embed_sentence(word2vec, sentence):\n",
    "    embedded_sentence = []\n",
    "    for word in sentence:\n",
    "        if word in word2vec.wv:\n",
    "            embedded_sentence.append(word2vec.wv[word])\n",
    "        \n",
    "    return np.array(embedded_sentence)\n",
    "\n",
    "def embedding(word2vec, sentences):\n",
    "    embed = []\n",
    "    \n",
    "    for sentence in sentences:\n",
    "        embedded_sentence = embed_sentence(word2vec, sentence)\n",
    "        embed.append(embedded_sentence)\n",
    "        \n",
    "    return embed\n",
    "\n",
    "X_train_embed = embedding(word2vec, X_train_words)\n",
    "X_test_embed = embedding(word2vec, X_test_words)\n",
    "\n",
    "\n",
    "# –– Step #4\n",
    "X_train_pad = pad_sequences(X_train_embed, dtype='float32', padding='post')\n",
    "X_test_pad = pad_sequences(X_test_embed, dtype='float32', padding='post')"
   ]
  },
  {
   "cell_type": "code",
   "execution_count": null,
   "metadata": {},
   "outputs": [],
   "source": []
  },
  {
   "cell_type": "code",
   "execution_count": 39,
   "metadata": {},
   "outputs": [],
   "source": []
  },
  {
   "cell_type": "markdown",
   "metadata": {},
   "source": [
    "# Baseline model"
   ]
  },
  {
   "cell_type": "code",
   "execution_count": 87,
   "metadata": {},
   "outputs": [
    {
     "name": "stdout",
     "output_type": "stream",
     "text": [
      "Number of labels in train set {'neg': 1842, 'neu': 1332, 'pos': 184}\n"
     ]
    }
   ],
   "source": [
    "from sklearn.metrics import accuracy_score\n",
    "\n",
    "unique, counts = np.unique(y_train, return_counts=True)\n",
    "counts = dict(zip(unique, counts))\n",
    "print('Number of labels in train set', counts)\n",
    "\n",
    "#y_pred = 0 if counts[0] > counts[1] else 1\n",
    "\n",
    "#print('Baseline accuracy: ', accuracy_score(y_test, [y_pred]*len(y_test)))"
   ]
  },
  {
   "cell_type": "code",
   "execution_count": 42,
   "metadata": {},
   "outputs": [
    {
     "data": {
      "text/plain": [
       "array(['neg', 'neu', 'pos'], dtype=object)"
      ]
     },
     "execution_count": 42,
     "metadata": {},
     "output_type": "execute_result"
    }
   ],
   "source": [
    "unique"
   ]
  },
  {
   "cell_type": "code",
   "execution_count": 89,
   "metadata": {},
   "outputs": [
    {
     "ename": "KeyError",
     "evalue": "0",
     "output_type": "error",
     "traceback": [
      "\u001b[0;31m---------------------------------------------------------------------------\u001b[0m",
      "\u001b[0;31mKeyError\u001b[0m                                  Traceback (most recent call last)",
      "\u001b[0;32m<ipython-input-89-b08ed56ad6c2>\u001b[0m in \u001b[0;36m<module>\u001b[0;34m\u001b[0m\n\u001b[0;32m----> 1\u001b[0;31m \u001b[0mcounts\u001b[0m\u001b[0;34m[\u001b[0m\u001b[0;36m0\u001b[0m\u001b[0;34m]\u001b[0m\u001b[0;34m\u001b[0m\u001b[0;34m\u001b[0m\u001b[0m\n\u001b[0m",
      "\u001b[0;31mKeyError\u001b[0m: 0"
     ]
    }
   ],
   "source": []
  },
  {
   "cell_type": "code",
   "execution_count": 80,
   "metadata": {},
   "outputs": [],
   "source": [
    "from tensorflow.keras import Sequential\n",
    "from tensorflow.keras import layers\n",
    "\n",
    "def init_model():\n",
    "    model_dl = Sequential()\n",
    "    model_dl.add(layers.Masking())\n",
    "    model_dl.add(layers.LSTM(20, activation='tanh'))\n",
    "    model_dl.add(layers.Dense(15, activation='relu'))\n",
    "    model_dl.add(layers.Dense(1, activation='softmax'))\n",
    "\n",
    "    model_dl.compile(loss='categorical_crossentropy',\n",
    "                  optimizer='rmsprop',\n",
    "                  metrics=['accuracy'])\n",
    "    \n",
    "    return model_dl\n",
    "\n",
    "model_dl = init_model()"
   ]
  },
  {
   "cell_type": "code",
   "execution_count": 83,
   "metadata": {},
   "outputs": [
    {
     "name": "stdout",
     "output_type": "stream",
     "text": [
      "Model: \"sequential_6\"\n",
      "_________________________________________________________________\n",
      "Layer (type)                 Output Shape              Param #   \n",
      "=================================================================\n",
      "masking_6 (Masking)          (None, 6, 100)            0         \n",
      "_________________________________________________________________\n",
      "lstm_6 (LSTM)                multiple                  9680      \n",
      "_________________________________________________________________\n"
     ]
    },
    {
     "ename": "ValueError",
     "evalue": "You tried to call `count_params` on dense_12, but the layer isn't built. You can build it manually via: `dense_12.build(batch_input_shape)`.",
     "output_type": "error",
     "traceback": [
      "\u001b[0;31m---------------------------------------------------------------------------\u001b[0m",
      "\u001b[0;31mValueError\u001b[0m                                Traceback (most recent call last)",
      "\u001b[0;32m<ipython-input-83-2ce51b6ce52a>\u001b[0m in \u001b[0;36m<module>\u001b[0;34m\u001b[0m\n\u001b[0;32m----> 1\u001b[0;31m \u001b[0mmodel_dl\u001b[0m\u001b[0;34m.\u001b[0m\u001b[0msummary\u001b[0m\u001b[0;34m(\u001b[0m\u001b[0;34m)\u001b[0m\u001b[0;34m\u001b[0m\u001b[0;34m\u001b[0m\u001b[0m\n\u001b[0m",
      "\u001b[0;32m~/.pyenv/versions/3.8.6/envs/QueEstaPasando/lib/python3.8/site-packages/tensorflow/python/keras/engine/training.py\u001b[0m in \u001b[0;36msummary\u001b[0;34m(self, line_length, positions, print_fn)\u001b[0m\n\u001b[1;32m   2379\u001b[0m                        \u001b[0;34m'an `input_shape` argument in the first layer(s) for '\u001b[0m\u001b[0;34m\u001b[0m\u001b[0;34m\u001b[0m\u001b[0m\n\u001b[1;32m   2380\u001b[0m                        'automatic build.')\n\u001b[0;32m-> 2381\u001b[0;31m     layer_utils.print_summary(self,\n\u001b[0m\u001b[1;32m   2382\u001b[0m                               \u001b[0mline_length\u001b[0m\u001b[0;34m=\u001b[0m\u001b[0mline_length\u001b[0m\u001b[0;34m,\u001b[0m\u001b[0;34m\u001b[0m\u001b[0;34m\u001b[0m\u001b[0m\n\u001b[1;32m   2383\u001b[0m                               \u001b[0mpositions\u001b[0m\u001b[0;34m=\u001b[0m\u001b[0mpositions\u001b[0m\u001b[0;34m,\u001b[0m\u001b[0;34m\u001b[0m\u001b[0;34m\u001b[0m\u001b[0m\n",
      "\u001b[0;32m~/.pyenv/versions/3.8.6/envs/QueEstaPasando/lib/python3.8/site-packages/tensorflow/python/keras/utils/layer_utils.py\u001b[0m in \u001b[0;36mprint_summary\u001b[0;34m(model, line_length, positions, print_fn)\u001b[0m\n\u001b[1;32m    250\u001b[0m   \u001b[0;32mfor\u001b[0m \u001b[0mi\u001b[0m \u001b[0;32min\u001b[0m \u001b[0mrange\u001b[0m\u001b[0;34m(\u001b[0m\u001b[0mlen\u001b[0m\u001b[0;34m(\u001b[0m\u001b[0mlayers\u001b[0m\u001b[0;34m)\u001b[0m\u001b[0;34m)\u001b[0m\u001b[0;34m:\u001b[0m\u001b[0;34m\u001b[0m\u001b[0;34m\u001b[0m\u001b[0m\n\u001b[1;32m    251\u001b[0m     \u001b[0;32mif\u001b[0m \u001b[0msequential_like\u001b[0m\u001b[0;34m:\u001b[0m\u001b[0;34m\u001b[0m\u001b[0;34m\u001b[0m\u001b[0m\n\u001b[0;32m--> 252\u001b[0;31m       \u001b[0mprint_layer_summary\u001b[0m\u001b[0;34m(\u001b[0m\u001b[0mlayers\u001b[0m\u001b[0;34m[\u001b[0m\u001b[0mi\u001b[0m\u001b[0;34m]\u001b[0m\u001b[0;34m)\u001b[0m\u001b[0;34m\u001b[0m\u001b[0;34m\u001b[0m\u001b[0m\n\u001b[0m\u001b[1;32m    253\u001b[0m     \u001b[0;32melse\u001b[0m\u001b[0;34m:\u001b[0m\u001b[0;34m\u001b[0m\u001b[0;34m\u001b[0m\u001b[0m\n\u001b[1;32m    254\u001b[0m       \u001b[0mprint_layer_summary_with_connections\u001b[0m\u001b[0;34m(\u001b[0m\u001b[0mlayers\u001b[0m\u001b[0;34m[\u001b[0m\u001b[0mi\u001b[0m\u001b[0;34m]\u001b[0m\u001b[0;34m)\u001b[0m\u001b[0;34m\u001b[0m\u001b[0;34m\u001b[0m\u001b[0m\n",
      "\u001b[0;32m~/.pyenv/versions/3.8.6/envs/QueEstaPasando/lib/python3.8/site-packages/tensorflow/python/keras/utils/layer_utils.py\u001b[0m in \u001b[0;36mprint_layer_summary\u001b[0;34m(layer)\u001b[0m\n\u001b[1;32m    208\u001b[0m     \u001b[0mname\u001b[0m \u001b[0;34m=\u001b[0m \u001b[0mlayer\u001b[0m\u001b[0;34m.\u001b[0m\u001b[0mname\u001b[0m\u001b[0;34m\u001b[0m\u001b[0;34m\u001b[0m\u001b[0m\n\u001b[1;32m    209\u001b[0m     \u001b[0mcls_name\u001b[0m \u001b[0;34m=\u001b[0m \u001b[0mlayer\u001b[0m\u001b[0;34m.\u001b[0m\u001b[0m__class__\u001b[0m\u001b[0;34m.\u001b[0m\u001b[0m__name__\u001b[0m\u001b[0;34m\u001b[0m\u001b[0;34m\u001b[0m\u001b[0m\n\u001b[0;32m--> 210\u001b[0;31m     \u001b[0mfields\u001b[0m \u001b[0;34m=\u001b[0m \u001b[0;34m[\u001b[0m\u001b[0mname\u001b[0m \u001b[0;34m+\u001b[0m \u001b[0;34m' ('\u001b[0m \u001b[0;34m+\u001b[0m \u001b[0mcls_name\u001b[0m \u001b[0;34m+\u001b[0m \u001b[0;34m')'\u001b[0m\u001b[0;34m,\u001b[0m \u001b[0moutput_shape\u001b[0m\u001b[0;34m,\u001b[0m \u001b[0mlayer\u001b[0m\u001b[0;34m.\u001b[0m\u001b[0mcount_params\u001b[0m\u001b[0;34m(\u001b[0m\u001b[0;34m)\u001b[0m\u001b[0;34m]\u001b[0m\u001b[0;34m\u001b[0m\u001b[0;34m\u001b[0m\u001b[0m\n\u001b[0m\u001b[1;32m    211\u001b[0m     \u001b[0mprint_row\u001b[0m\u001b[0;34m(\u001b[0m\u001b[0mfields\u001b[0m\u001b[0;34m,\u001b[0m \u001b[0mpositions\u001b[0m\u001b[0;34m)\u001b[0m\u001b[0;34m\u001b[0m\u001b[0;34m\u001b[0m\u001b[0m\n\u001b[1;32m    212\u001b[0m \u001b[0;34m\u001b[0m\u001b[0m\n",
      "\u001b[0;32m~/.pyenv/versions/3.8.6/envs/QueEstaPasando/lib/python3.8/site-packages/tensorflow/python/keras/engine/base_layer.py\u001b[0m in \u001b[0;36mcount_params\u001b[0;34m(self)\u001b[0m\n\u001b[1;32m   2203\u001b[0m           \u001b[0mself\u001b[0m\u001b[0;34m.\u001b[0m\u001b[0m_maybe_build\u001b[0m\u001b[0;34m(\u001b[0m\u001b[0mself\u001b[0m\u001b[0;34m.\u001b[0m\u001b[0minputs\u001b[0m\u001b[0;34m)\u001b[0m\u001b[0;34m\u001b[0m\u001b[0;34m\u001b[0m\u001b[0m\n\u001b[1;32m   2204\u001b[0m       \u001b[0;32melse\u001b[0m\u001b[0;34m:\u001b[0m\u001b[0;34m\u001b[0m\u001b[0;34m\u001b[0m\u001b[0m\n\u001b[0;32m-> 2205\u001b[0;31m         raise ValueError('You tried to call `count_params` on ' + self.name +\n\u001b[0m\u001b[1;32m   2206\u001b[0m                          \u001b[0;34m', but the layer isn\\'t built. '\u001b[0m\u001b[0;34m\u001b[0m\u001b[0;34m\u001b[0m\u001b[0m\n\u001b[1;32m   2207\u001b[0m                          \u001b[0;34m'You can build it manually via: `'\u001b[0m \u001b[0;34m+\u001b[0m \u001b[0mself\u001b[0m\u001b[0;34m.\u001b[0m\u001b[0mname\u001b[0m \u001b[0;34m+\u001b[0m\u001b[0;34m\u001b[0m\u001b[0;34m\u001b[0m\u001b[0m\n",
      "\u001b[0;31mValueError\u001b[0m: You tried to call `count_params` on dense_12, but the layer isn't built. You can build it manually via: `dense_12.build(batch_input_shape)`."
     ]
    }
   ],
   "source": [
    "model_dl.summary()"
   ]
  },
  {
   "cell_type": "code",
   "execution_count": 82,
   "metadata": {},
   "outputs": [
    {
     "name": "stdout",
     "output_type": "stream",
     "text": [
      "Epoch 1/100\n"
     ]
    },
    {
     "ename": "NotImplementedError",
     "evalue": "in user code:\n\n    /home/juancarlosbt/.pyenv/versions/3.8.6/envs/QueEstaPasando/lib/python3.8/site-packages/tensorflow/python/keras/engine/training.py:805 train_function  *\n        return step_function(self, iterator)\n    /home/juancarlosbt/.pyenv/versions/3.8.6/envs/QueEstaPasando/lib/python3.8/site-packages/tensorflow/python/keras/engine/training.py:795 step_function  **\n        outputs = model.distribute_strategy.run(run_step, args=(data,))\n    /home/juancarlosbt/.pyenv/versions/3.8.6/envs/QueEstaPasando/lib/python3.8/site-packages/tensorflow/python/distribute/distribute_lib.py:1259 run\n        return self._extended.call_for_each_replica(fn, args=args, kwargs=kwargs)\n    /home/juancarlosbt/.pyenv/versions/3.8.6/envs/QueEstaPasando/lib/python3.8/site-packages/tensorflow/python/distribute/distribute_lib.py:2730 call_for_each_replica\n        return self._call_for_each_replica(fn, args, kwargs)\n    /home/juancarlosbt/.pyenv/versions/3.8.6/envs/QueEstaPasando/lib/python3.8/site-packages/tensorflow/python/distribute/distribute_lib.py:3417 _call_for_each_replica\n        return fn(*args, **kwargs)\n    /home/juancarlosbt/.pyenv/versions/3.8.6/envs/QueEstaPasando/lib/python3.8/site-packages/tensorflow/python/keras/engine/training.py:788 run_step  **\n        outputs = model.train_step(data)\n    /home/juancarlosbt/.pyenv/versions/3.8.6/envs/QueEstaPasando/lib/python3.8/site-packages/tensorflow/python/keras/engine/training.py:754 train_step\n        y_pred = self(x, training=True)\n    /home/juancarlosbt/.pyenv/versions/3.8.6/envs/QueEstaPasando/lib/python3.8/site-packages/tensorflow/python/keras/engine/base_layer.py:1012 __call__\n        outputs = call_fn(inputs, *args, **kwargs)\n    /home/juancarlosbt/.pyenv/versions/3.8.6/envs/QueEstaPasando/lib/python3.8/site-packages/tensorflow/python/keras/engine/sequential.py:389 call\n        outputs = layer(inputs, **kwargs)\n    /home/juancarlosbt/.pyenv/versions/3.8.6/envs/QueEstaPasando/lib/python3.8/site-packages/tensorflow/python/keras/layers/recurrent.py:660 __call__\n        return super(RNN, self).__call__(inputs, **kwargs)\n    /home/juancarlosbt/.pyenv/versions/3.8.6/envs/QueEstaPasando/lib/python3.8/site-packages/tensorflow/python/keras/engine/base_layer.py:1012 __call__\n        outputs = call_fn(inputs, *args, **kwargs)\n    /home/juancarlosbt/.pyenv/versions/3.8.6/envs/QueEstaPasando/lib/python3.8/site-packages/tensorflow/python/keras/layers/recurrent_v2.py:1157 call\n        inputs, initial_state, _ = self._process_inputs(inputs, initial_state, None)\n    /home/juancarlosbt/.pyenv/versions/3.8.6/envs/QueEstaPasando/lib/python3.8/site-packages/tensorflow/python/keras/layers/recurrent.py:859 _process_inputs\n        initial_state = self.get_initial_state(inputs)\n    /home/juancarlosbt/.pyenv/versions/3.8.6/envs/QueEstaPasando/lib/python3.8/site-packages/tensorflow/python/keras/layers/recurrent.py:642 get_initial_state\n        init_state = get_initial_state_fn(\n    /home/juancarlosbt/.pyenv/versions/3.8.6/envs/QueEstaPasando/lib/python3.8/site-packages/tensorflow/python/keras/layers/recurrent.py:2506 get_initial_state\n        return list(_generate_zero_filled_state_for_cell(\n    /home/juancarlosbt/.pyenv/versions/3.8.6/envs/QueEstaPasando/lib/python3.8/site-packages/tensorflow/python/keras/layers/recurrent.py:2987 _generate_zero_filled_state_for_cell\n        return _generate_zero_filled_state(batch_size, cell.state_size, dtype)\n    /home/juancarlosbt/.pyenv/versions/3.8.6/envs/QueEstaPasando/lib/python3.8/site-packages/tensorflow/python/keras/layers/recurrent.py:3003 _generate_zero_filled_state\n        return nest.map_structure(create_zeros, state_size)\n    /home/juancarlosbt/.pyenv/versions/3.8.6/envs/QueEstaPasando/lib/python3.8/site-packages/tensorflow/python/util/nest.py:659 map_structure\n        structure[0], [func(*x) for x in entries],\n    /home/juancarlosbt/.pyenv/versions/3.8.6/envs/QueEstaPasando/lib/python3.8/site-packages/tensorflow/python/util/nest.py:659 <listcomp>\n        structure[0], [func(*x) for x in entries],\n    /home/juancarlosbt/.pyenv/versions/3.8.6/envs/QueEstaPasando/lib/python3.8/site-packages/tensorflow/python/keras/layers/recurrent.py:3000 create_zeros\n        return array_ops.zeros(init_state_size, dtype=dtype)\n    /home/juancarlosbt/.pyenv/versions/3.8.6/envs/QueEstaPasando/lib/python3.8/site-packages/tensorflow/python/util/dispatch.py:201 wrapper\n        return target(*args, **kwargs)\n    /home/juancarlosbt/.pyenv/versions/3.8.6/envs/QueEstaPasando/lib/python3.8/site-packages/tensorflow/python/ops/array_ops.py:2819 wrapped\n        tensor = fun(*args, **kwargs)\n    /home/juancarlosbt/.pyenv/versions/3.8.6/envs/QueEstaPasando/lib/python3.8/site-packages/tensorflow/python/ops/array_ops.py:2868 zeros\n        output = _constant_if_small(zero, shape, dtype, name)\n    /home/juancarlosbt/.pyenv/versions/3.8.6/envs/QueEstaPasando/lib/python3.8/site-packages/tensorflow/python/ops/array_ops.py:2804 _constant_if_small\n        if np.prod(shape) < 1000:\n    <__array_function__ internals>:5 prod\n        \n    /home/juancarlosbt/.pyenv/versions/3.8.6/envs/QueEstaPasando/lib/python3.8/site-packages/numpy/core/fromnumeric.py:3030 prod\n        Returns\n    /home/juancarlosbt/.pyenv/versions/3.8.6/envs/QueEstaPasando/lib/python3.8/site-packages/numpy/core/fromnumeric.py:87 _wrapreduction\n        return ufunc.reduce(obj, axis, dtype, out, **passkwargs)\n    /home/juancarlosbt/.pyenv/versions/3.8.6/envs/QueEstaPasando/lib/python3.8/site-packages/tensorflow/python/framework/ops.py:852 __array__\n        raise NotImplementedError(\n\n    NotImplementedError: Cannot convert a symbolic Tensor (sequential_6/lstm_6/strided_slice:0) to a numpy array. This error may indicate that you're trying to pass a Tensor to a NumPy call, which is not supported\n",
     "output_type": "error",
     "traceback": [
      "\u001b[0;31m---------------------------------------------------------------------------\u001b[0m",
      "\u001b[0;31mNotImplementedError\u001b[0m                       Traceback (most recent call last)",
      "\u001b[0;32m<ipython-input-82-85d70f4b0059>\u001b[0m in \u001b[0;36m<module>\u001b[0;34m\u001b[0m\n\u001b[1;32m      3\u001b[0m \u001b[0mes\u001b[0m \u001b[0;34m=\u001b[0m \u001b[0mEarlyStopping\u001b[0m\u001b[0;34m(\u001b[0m\u001b[0mpatience\u001b[0m\u001b[0;34m=\u001b[0m\u001b[0;36m5\u001b[0m\u001b[0;34m,\u001b[0m \u001b[0mrestore_best_weights\u001b[0m\u001b[0;34m=\u001b[0m\u001b[0;32mTrue\u001b[0m\u001b[0;34m)\u001b[0m\u001b[0;34m\u001b[0m\u001b[0;34m\u001b[0m\u001b[0m\n\u001b[1;32m      4\u001b[0m \u001b[0;34m\u001b[0m\u001b[0m\n\u001b[0;32m----> 5\u001b[0;31m model_dl.fit(X_train_pad, y_train, \n\u001b[0m\u001b[1;32m      6\u001b[0m           \u001b[0mbatch_size\u001b[0m \u001b[0;34m=\u001b[0m \u001b[0;36m32\u001b[0m\u001b[0;34m,\u001b[0m\u001b[0;34m\u001b[0m\u001b[0;34m\u001b[0m\u001b[0m\n\u001b[1;32m      7\u001b[0m           \u001b[0mepochs\u001b[0m\u001b[0;34m=\u001b[0m\u001b[0;36m100\u001b[0m\u001b[0;34m,\u001b[0m\u001b[0;34m\u001b[0m\u001b[0;34m\u001b[0m\u001b[0m\n",
      "\u001b[0;32m~/.pyenv/versions/3.8.6/envs/QueEstaPasando/lib/python3.8/site-packages/tensorflow/python/keras/engine/training.py\u001b[0m in \u001b[0;36mfit\u001b[0;34m(self, x, y, batch_size, epochs, verbose, callbacks, validation_split, validation_data, shuffle, class_weight, sample_weight, initial_epoch, steps_per_epoch, validation_steps, validation_batch_size, validation_freq, max_queue_size, workers, use_multiprocessing)\u001b[0m\n\u001b[1;32m   1098\u001b[0m                 _r=1):\n\u001b[1;32m   1099\u001b[0m               \u001b[0mcallbacks\u001b[0m\u001b[0;34m.\u001b[0m\u001b[0mon_train_batch_begin\u001b[0m\u001b[0;34m(\u001b[0m\u001b[0mstep\u001b[0m\u001b[0;34m)\u001b[0m\u001b[0;34m\u001b[0m\u001b[0;34m\u001b[0m\u001b[0m\n\u001b[0;32m-> 1100\u001b[0;31m               \u001b[0mtmp_logs\u001b[0m \u001b[0;34m=\u001b[0m \u001b[0mself\u001b[0m\u001b[0;34m.\u001b[0m\u001b[0mtrain_function\u001b[0m\u001b[0;34m(\u001b[0m\u001b[0miterator\u001b[0m\u001b[0;34m)\u001b[0m\u001b[0;34m\u001b[0m\u001b[0;34m\u001b[0m\u001b[0m\n\u001b[0m\u001b[1;32m   1101\u001b[0m               \u001b[0;32mif\u001b[0m \u001b[0mdata_handler\u001b[0m\u001b[0;34m.\u001b[0m\u001b[0mshould_sync\u001b[0m\u001b[0;34m:\u001b[0m\u001b[0;34m\u001b[0m\u001b[0;34m\u001b[0m\u001b[0m\n\u001b[1;32m   1102\u001b[0m                 \u001b[0mcontext\u001b[0m\u001b[0;34m.\u001b[0m\u001b[0masync_wait\u001b[0m\u001b[0;34m(\u001b[0m\u001b[0;34m)\u001b[0m\u001b[0;34m\u001b[0m\u001b[0;34m\u001b[0m\u001b[0m\n",
      "\u001b[0;32m~/.pyenv/versions/3.8.6/envs/QueEstaPasando/lib/python3.8/site-packages/tensorflow/python/eager/def_function.py\u001b[0m in \u001b[0;36m__call__\u001b[0;34m(self, *args, **kwds)\u001b[0m\n\u001b[1;32m    826\u001b[0m     \u001b[0mtracing_count\u001b[0m \u001b[0;34m=\u001b[0m \u001b[0mself\u001b[0m\u001b[0;34m.\u001b[0m\u001b[0mexperimental_get_tracing_count\u001b[0m\u001b[0;34m(\u001b[0m\u001b[0;34m)\u001b[0m\u001b[0;34m\u001b[0m\u001b[0;34m\u001b[0m\u001b[0m\n\u001b[1;32m    827\u001b[0m     \u001b[0;32mwith\u001b[0m \u001b[0mtrace\u001b[0m\u001b[0;34m.\u001b[0m\u001b[0mTrace\u001b[0m\u001b[0;34m(\u001b[0m\u001b[0mself\u001b[0m\u001b[0;34m.\u001b[0m\u001b[0m_name\u001b[0m\u001b[0;34m)\u001b[0m \u001b[0;32mas\u001b[0m \u001b[0mtm\u001b[0m\u001b[0;34m:\u001b[0m\u001b[0;34m\u001b[0m\u001b[0;34m\u001b[0m\u001b[0m\n\u001b[0;32m--> 828\u001b[0;31m       \u001b[0mresult\u001b[0m \u001b[0;34m=\u001b[0m \u001b[0mself\u001b[0m\u001b[0;34m.\u001b[0m\u001b[0m_call\u001b[0m\u001b[0;34m(\u001b[0m\u001b[0;34m*\u001b[0m\u001b[0margs\u001b[0m\u001b[0;34m,\u001b[0m \u001b[0;34m**\u001b[0m\u001b[0mkwds\u001b[0m\u001b[0;34m)\u001b[0m\u001b[0;34m\u001b[0m\u001b[0;34m\u001b[0m\u001b[0m\n\u001b[0m\u001b[1;32m    829\u001b[0m       \u001b[0mcompiler\u001b[0m \u001b[0;34m=\u001b[0m \u001b[0;34m\"xla\"\u001b[0m \u001b[0;32mif\u001b[0m \u001b[0mself\u001b[0m\u001b[0;34m.\u001b[0m\u001b[0m_experimental_compile\u001b[0m \u001b[0;32melse\u001b[0m \u001b[0;34m\"nonXla\"\u001b[0m\u001b[0;34m\u001b[0m\u001b[0;34m\u001b[0m\u001b[0m\n\u001b[1;32m    830\u001b[0m       \u001b[0mnew_tracing_count\u001b[0m \u001b[0;34m=\u001b[0m \u001b[0mself\u001b[0m\u001b[0;34m.\u001b[0m\u001b[0mexperimental_get_tracing_count\u001b[0m\u001b[0;34m(\u001b[0m\u001b[0;34m)\u001b[0m\u001b[0;34m\u001b[0m\u001b[0;34m\u001b[0m\u001b[0m\n",
      "\u001b[0;32m~/.pyenv/versions/3.8.6/envs/QueEstaPasando/lib/python3.8/site-packages/tensorflow/python/eager/def_function.py\u001b[0m in \u001b[0;36m_call\u001b[0;34m(self, *args, **kwds)\u001b[0m\n\u001b[1;32m    869\u001b[0m       \u001b[0;31m# This is the first call of __call__, so we have to initialize.\u001b[0m\u001b[0;34m\u001b[0m\u001b[0;34m\u001b[0m\u001b[0;34m\u001b[0m\u001b[0m\n\u001b[1;32m    870\u001b[0m       \u001b[0minitializers\u001b[0m \u001b[0;34m=\u001b[0m \u001b[0;34m[\u001b[0m\u001b[0;34m]\u001b[0m\u001b[0;34m\u001b[0m\u001b[0;34m\u001b[0m\u001b[0m\n\u001b[0;32m--> 871\u001b[0;31m       \u001b[0mself\u001b[0m\u001b[0;34m.\u001b[0m\u001b[0m_initialize\u001b[0m\u001b[0;34m(\u001b[0m\u001b[0margs\u001b[0m\u001b[0;34m,\u001b[0m \u001b[0mkwds\u001b[0m\u001b[0;34m,\u001b[0m \u001b[0madd_initializers_to\u001b[0m\u001b[0;34m=\u001b[0m\u001b[0minitializers\u001b[0m\u001b[0;34m)\u001b[0m\u001b[0;34m\u001b[0m\u001b[0;34m\u001b[0m\u001b[0m\n\u001b[0m\u001b[1;32m    872\u001b[0m     \u001b[0;32mfinally\u001b[0m\u001b[0;34m:\u001b[0m\u001b[0;34m\u001b[0m\u001b[0;34m\u001b[0m\u001b[0m\n\u001b[1;32m    873\u001b[0m       \u001b[0;31m# At this point we know that the initialization is complete (or less\u001b[0m\u001b[0;34m\u001b[0m\u001b[0;34m\u001b[0m\u001b[0;34m\u001b[0m\u001b[0m\n",
      "\u001b[0;32m~/.pyenv/versions/3.8.6/envs/QueEstaPasando/lib/python3.8/site-packages/tensorflow/python/eager/def_function.py\u001b[0m in \u001b[0;36m_initialize\u001b[0;34m(self, args, kwds, add_initializers_to)\u001b[0m\n\u001b[1;32m    723\u001b[0m     \u001b[0mself\u001b[0m\u001b[0;34m.\u001b[0m\u001b[0m_graph_deleter\u001b[0m \u001b[0;34m=\u001b[0m \u001b[0mFunctionDeleter\u001b[0m\u001b[0;34m(\u001b[0m\u001b[0mself\u001b[0m\u001b[0;34m.\u001b[0m\u001b[0m_lifted_initializer_graph\u001b[0m\u001b[0;34m)\u001b[0m\u001b[0;34m\u001b[0m\u001b[0;34m\u001b[0m\u001b[0m\n\u001b[1;32m    724\u001b[0m     self._concrete_stateful_fn = (\n\u001b[0;32m--> 725\u001b[0;31m         self._stateful_fn._get_concrete_function_internal_garbage_collected(  # pylint: disable=protected-access\n\u001b[0m\u001b[1;32m    726\u001b[0m             *args, **kwds))\n\u001b[1;32m    727\u001b[0m \u001b[0;34m\u001b[0m\u001b[0m\n",
      "\u001b[0;32m~/.pyenv/versions/3.8.6/envs/QueEstaPasando/lib/python3.8/site-packages/tensorflow/python/eager/function.py\u001b[0m in \u001b[0;36m_get_concrete_function_internal_garbage_collected\u001b[0;34m(self, *args, **kwargs)\u001b[0m\n\u001b[1;32m   2967\u001b[0m       \u001b[0margs\u001b[0m\u001b[0;34m,\u001b[0m \u001b[0mkwargs\u001b[0m \u001b[0;34m=\u001b[0m \u001b[0;32mNone\u001b[0m\u001b[0;34m,\u001b[0m \u001b[0;32mNone\u001b[0m\u001b[0;34m\u001b[0m\u001b[0;34m\u001b[0m\u001b[0m\n\u001b[1;32m   2968\u001b[0m     \u001b[0;32mwith\u001b[0m \u001b[0mself\u001b[0m\u001b[0;34m.\u001b[0m\u001b[0m_lock\u001b[0m\u001b[0;34m:\u001b[0m\u001b[0;34m\u001b[0m\u001b[0;34m\u001b[0m\u001b[0m\n\u001b[0;32m-> 2969\u001b[0;31m       \u001b[0mgraph_function\u001b[0m\u001b[0;34m,\u001b[0m \u001b[0m_\u001b[0m \u001b[0;34m=\u001b[0m \u001b[0mself\u001b[0m\u001b[0;34m.\u001b[0m\u001b[0m_maybe_define_function\u001b[0m\u001b[0;34m(\u001b[0m\u001b[0margs\u001b[0m\u001b[0;34m,\u001b[0m \u001b[0mkwargs\u001b[0m\u001b[0;34m)\u001b[0m\u001b[0;34m\u001b[0m\u001b[0;34m\u001b[0m\u001b[0m\n\u001b[0m\u001b[1;32m   2970\u001b[0m     \u001b[0;32mreturn\u001b[0m \u001b[0mgraph_function\u001b[0m\u001b[0;34m\u001b[0m\u001b[0;34m\u001b[0m\u001b[0m\n\u001b[1;32m   2971\u001b[0m \u001b[0;34m\u001b[0m\u001b[0m\n",
      "\u001b[0;32m~/.pyenv/versions/3.8.6/envs/QueEstaPasando/lib/python3.8/site-packages/tensorflow/python/eager/function.py\u001b[0m in \u001b[0;36m_maybe_define_function\u001b[0;34m(self, args, kwargs)\u001b[0m\n\u001b[1;32m   3359\u001b[0m \u001b[0;34m\u001b[0m\u001b[0m\n\u001b[1;32m   3360\u001b[0m           \u001b[0mself\u001b[0m\u001b[0;34m.\u001b[0m\u001b[0m_function_cache\u001b[0m\u001b[0;34m.\u001b[0m\u001b[0mmissed\u001b[0m\u001b[0;34m.\u001b[0m\u001b[0madd\u001b[0m\u001b[0;34m(\u001b[0m\u001b[0mcall_context_key\u001b[0m\u001b[0;34m)\u001b[0m\u001b[0;34m\u001b[0m\u001b[0;34m\u001b[0m\u001b[0m\n\u001b[0;32m-> 3361\u001b[0;31m           \u001b[0mgraph_function\u001b[0m \u001b[0;34m=\u001b[0m \u001b[0mself\u001b[0m\u001b[0;34m.\u001b[0m\u001b[0m_create_graph_function\u001b[0m\u001b[0;34m(\u001b[0m\u001b[0margs\u001b[0m\u001b[0;34m,\u001b[0m \u001b[0mkwargs\u001b[0m\u001b[0;34m)\u001b[0m\u001b[0;34m\u001b[0m\u001b[0;34m\u001b[0m\u001b[0m\n\u001b[0m\u001b[1;32m   3362\u001b[0m           \u001b[0mself\u001b[0m\u001b[0;34m.\u001b[0m\u001b[0m_function_cache\u001b[0m\u001b[0;34m.\u001b[0m\u001b[0mprimary\u001b[0m\u001b[0;34m[\u001b[0m\u001b[0mcache_key\u001b[0m\u001b[0;34m]\u001b[0m \u001b[0;34m=\u001b[0m \u001b[0mgraph_function\u001b[0m\u001b[0;34m\u001b[0m\u001b[0;34m\u001b[0m\u001b[0m\n\u001b[1;32m   3363\u001b[0m \u001b[0;34m\u001b[0m\u001b[0m\n",
      "\u001b[0;32m~/.pyenv/versions/3.8.6/envs/QueEstaPasando/lib/python3.8/site-packages/tensorflow/python/eager/function.py\u001b[0m in \u001b[0;36m_create_graph_function\u001b[0;34m(self, args, kwargs, override_flat_arg_shapes)\u001b[0m\n\u001b[1;32m   3194\u001b[0m     \u001b[0marg_names\u001b[0m \u001b[0;34m=\u001b[0m \u001b[0mbase_arg_names\u001b[0m \u001b[0;34m+\u001b[0m \u001b[0mmissing_arg_names\u001b[0m\u001b[0;34m\u001b[0m\u001b[0;34m\u001b[0m\u001b[0m\n\u001b[1;32m   3195\u001b[0m     graph_function = ConcreteFunction(\n\u001b[0;32m-> 3196\u001b[0;31m         func_graph_module.func_graph_from_py_func(\n\u001b[0m\u001b[1;32m   3197\u001b[0m             \u001b[0mself\u001b[0m\u001b[0;34m.\u001b[0m\u001b[0m_name\u001b[0m\u001b[0;34m,\u001b[0m\u001b[0;34m\u001b[0m\u001b[0;34m\u001b[0m\u001b[0m\n\u001b[1;32m   3198\u001b[0m             \u001b[0mself\u001b[0m\u001b[0;34m.\u001b[0m\u001b[0m_python_function\u001b[0m\u001b[0;34m,\u001b[0m\u001b[0;34m\u001b[0m\u001b[0;34m\u001b[0m\u001b[0m\n",
      "\u001b[0;32m~/.pyenv/versions/3.8.6/envs/QueEstaPasando/lib/python3.8/site-packages/tensorflow/python/framework/func_graph.py\u001b[0m in \u001b[0;36mfunc_graph_from_py_func\u001b[0;34m(name, python_func, args, kwargs, signature, func_graph, autograph, autograph_options, add_control_dependencies, arg_names, op_return_value, collections, capture_by_value, override_flat_arg_shapes)\u001b[0m\n\u001b[1;32m    988\u001b[0m         \u001b[0m_\u001b[0m\u001b[0;34m,\u001b[0m \u001b[0moriginal_func\u001b[0m \u001b[0;34m=\u001b[0m \u001b[0mtf_decorator\u001b[0m\u001b[0;34m.\u001b[0m\u001b[0munwrap\u001b[0m\u001b[0;34m(\u001b[0m\u001b[0mpython_func\u001b[0m\u001b[0;34m)\u001b[0m\u001b[0;34m\u001b[0m\u001b[0;34m\u001b[0m\u001b[0m\n\u001b[1;32m    989\u001b[0m \u001b[0;34m\u001b[0m\u001b[0m\n\u001b[0;32m--> 990\u001b[0;31m       \u001b[0mfunc_outputs\u001b[0m \u001b[0;34m=\u001b[0m \u001b[0mpython_func\u001b[0m\u001b[0;34m(\u001b[0m\u001b[0;34m*\u001b[0m\u001b[0mfunc_args\u001b[0m\u001b[0;34m,\u001b[0m \u001b[0;34m**\u001b[0m\u001b[0mfunc_kwargs\u001b[0m\u001b[0;34m)\u001b[0m\u001b[0;34m\u001b[0m\u001b[0;34m\u001b[0m\u001b[0m\n\u001b[0m\u001b[1;32m    991\u001b[0m \u001b[0;34m\u001b[0m\u001b[0m\n\u001b[1;32m    992\u001b[0m       \u001b[0;31m# invariant: `func_outputs` contains only Tensors, CompositeTensors,\u001b[0m\u001b[0;34m\u001b[0m\u001b[0;34m\u001b[0m\u001b[0;34m\u001b[0m\u001b[0m\n",
      "\u001b[0;32m~/.pyenv/versions/3.8.6/envs/QueEstaPasando/lib/python3.8/site-packages/tensorflow/python/eager/def_function.py\u001b[0m in \u001b[0;36mwrapped_fn\u001b[0;34m(*args, **kwds)\u001b[0m\n\u001b[1;32m    632\u001b[0m             \u001b[0mxla_context\u001b[0m\u001b[0;34m.\u001b[0m\u001b[0mExit\u001b[0m\u001b[0;34m(\u001b[0m\u001b[0;34m)\u001b[0m\u001b[0;34m\u001b[0m\u001b[0;34m\u001b[0m\u001b[0m\n\u001b[1;32m    633\u001b[0m         \u001b[0;32melse\u001b[0m\u001b[0;34m:\u001b[0m\u001b[0;34m\u001b[0m\u001b[0;34m\u001b[0m\u001b[0m\n\u001b[0;32m--> 634\u001b[0;31m           \u001b[0mout\u001b[0m \u001b[0;34m=\u001b[0m \u001b[0mweak_wrapped_fn\u001b[0m\u001b[0;34m(\u001b[0m\u001b[0;34m)\u001b[0m\u001b[0;34m.\u001b[0m\u001b[0m__wrapped__\u001b[0m\u001b[0;34m(\u001b[0m\u001b[0;34m*\u001b[0m\u001b[0margs\u001b[0m\u001b[0;34m,\u001b[0m \u001b[0;34m**\u001b[0m\u001b[0mkwds\u001b[0m\u001b[0;34m)\u001b[0m\u001b[0;34m\u001b[0m\u001b[0;34m\u001b[0m\u001b[0m\n\u001b[0m\u001b[1;32m    635\u001b[0m         \u001b[0;32mreturn\u001b[0m \u001b[0mout\u001b[0m\u001b[0;34m\u001b[0m\u001b[0;34m\u001b[0m\u001b[0m\n\u001b[1;32m    636\u001b[0m \u001b[0;34m\u001b[0m\u001b[0m\n",
      "\u001b[0;32m~/.pyenv/versions/3.8.6/envs/QueEstaPasando/lib/python3.8/site-packages/tensorflow/python/framework/func_graph.py\u001b[0m in \u001b[0;36mwrapper\u001b[0;34m(*args, **kwargs)\u001b[0m\n\u001b[1;32m    975\u001b[0m           \u001b[0;32mexcept\u001b[0m \u001b[0mException\u001b[0m \u001b[0;32mas\u001b[0m \u001b[0me\u001b[0m\u001b[0;34m:\u001b[0m  \u001b[0;31m# pylint:disable=broad-except\u001b[0m\u001b[0;34m\u001b[0m\u001b[0;34m\u001b[0m\u001b[0m\n\u001b[1;32m    976\u001b[0m             \u001b[0;32mif\u001b[0m \u001b[0mhasattr\u001b[0m\u001b[0;34m(\u001b[0m\u001b[0me\u001b[0m\u001b[0;34m,\u001b[0m \u001b[0;34m\"ag_error_metadata\"\u001b[0m\u001b[0;34m)\u001b[0m\u001b[0;34m:\u001b[0m\u001b[0;34m\u001b[0m\u001b[0;34m\u001b[0m\u001b[0m\n\u001b[0;32m--> 977\u001b[0;31m               \u001b[0;32mraise\u001b[0m \u001b[0me\u001b[0m\u001b[0;34m.\u001b[0m\u001b[0mag_error_metadata\u001b[0m\u001b[0;34m.\u001b[0m\u001b[0mto_exception\u001b[0m\u001b[0;34m(\u001b[0m\u001b[0me\u001b[0m\u001b[0;34m)\u001b[0m\u001b[0;34m\u001b[0m\u001b[0;34m\u001b[0m\u001b[0m\n\u001b[0m\u001b[1;32m    978\u001b[0m             \u001b[0;32melse\u001b[0m\u001b[0;34m:\u001b[0m\u001b[0;34m\u001b[0m\u001b[0;34m\u001b[0m\u001b[0m\n\u001b[1;32m    979\u001b[0m               \u001b[0;32mraise\u001b[0m\u001b[0;34m\u001b[0m\u001b[0;34m\u001b[0m\u001b[0m\n",
      "\u001b[0;31mNotImplementedError\u001b[0m: in user code:\n\n    /home/juancarlosbt/.pyenv/versions/3.8.6/envs/QueEstaPasando/lib/python3.8/site-packages/tensorflow/python/keras/engine/training.py:805 train_function  *\n        return step_function(self, iterator)\n    /home/juancarlosbt/.pyenv/versions/3.8.6/envs/QueEstaPasando/lib/python3.8/site-packages/tensorflow/python/keras/engine/training.py:795 step_function  **\n        outputs = model.distribute_strategy.run(run_step, args=(data,))\n    /home/juancarlosbt/.pyenv/versions/3.8.6/envs/QueEstaPasando/lib/python3.8/site-packages/tensorflow/python/distribute/distribute_lib.py:1259 run\n        return self._extended.call_for_each_replica(fn, args=args, kwargs=kwargs)\n    /home/juancarlosbt/.pyenv/versions/3.8.6/envs/QueEstaPasando/lib/python3.8/site-packages/tensorflow/python/distribute/distribute_lib.py:2730 call_for_each_replica\n        return self._call_for_each_replica(fn, args, kwargs)\n    /home/juancarlosbt/.pyenv/versions/3.8.6/envs/QueEstaPasando/lib/python3.8/site-packages/tensorflow/python/distribute/distribute_lib.py:3417 _call_for_each_replica\n        return fn(*args, **kwargs)\n    /home/juancarlosbt/.pyenv/versions/3.8.6/envs/QueEstaPasando/lib/python3.8/site-packages/tensorflow/python/keras/engine/training.py:788 run_step  **\n        outputs = model.train_step(data)\n    /home/juancarlosbt/.pyenv/versions/3.8.6/envs/QueEstaPasando/lib/python3.8/site-packages/tensorflow/python/keras/engine/training.py:754 train_step\n        y_pred = self(x, training=True)\n    /home/juancarlosbt/.pyenv/versions/3.8.6/envs/QueEstaPasando/lib/python3.8/site-packages/tensorflow/python/keras/engine/base_layer.py:1012 __call__\n        outputs = call_fn(inputs, *args, **kwargs)\n    /home/juancarlosbt/.pyenv/versions/3.8.6/envs/QueEstaPasando/lib/python3.8/site-packages/tensorflow/python/keras/engine/sequential.py:389 call\n        outputs = layer(inputs, **kwargs)\n    /home/juancarlosbt/.pyenv/versions/3.8.6/envs/QueEstaPasando/lib/python3.8/site-packages/tensorflow/python/keras/layers/recurrent.py:660 __call__\n        return super(RNN, self).__call__(inputs, **kwargs)\n    /home/juancarlosbt/.pyenv/versions/3.8.6/envs/QueEstaPasando/lib/python3.8/site-packages/tensorflow/python/keras/engine/base_layer.py:1012 __call__\n        outputs = call_fn(inputs, *args, **kwargs)\n    /home/juancarlosbt/.pyenv/versions/3.8.6/envs/QueEstaPasando/lib/python3.8/site-packages/tensorflow/python/keras/layers/recurrent_v2.py:1157 call\n        inputs, initial_state, _ = self._process_inputs(inputs, initial_state, None)\n    /home/juancarlosbt/.pyenv/versions/3.8.6/envs/QueEstaPasando/lib/python3.8/site-packages/tensorflow/python/keras/layers/recurrent.py:859 _process_inputs\n        initial_state = self.get_initial_state(inputs)\n    /home/juancarlosbt/.pyenv/versions/3.8.6/envs/QueEstaPasando/lib/python3.8/site-packages/tensorflow/python/keras/layers/recurrent.py:642 get_initial_state\n        init_state = get_initial_state_fn(\n    /home/juancarlosbt/.pyenv/versions/3.8.6/envs/QueEstaPasando/lib/python3.8/site-packages/tensorflow/python/keras/layers/recurrent.py:2506 get_initial_state\n        return list(_generate_zero_filled_state_for_cell(\n    /home/juancarlosbt/.pyenv/versions/3.8.6/envs/QueEstaPasando/lib/python3.8/site-packages/tensorflow/python/keras/layers/recurrent.py:2987 _generate_zero_filled_state_for_cell\n        return _generate_zero_filled_state(batch_size, cell.state_size, dtype)\n    /home/juancarlosbt/.pyenv/versions/3.8.6/envs/QueEstaPasando/lib/python3.8/site-packages/tensorflow/python/keras/layers/recurrent.py:3003 _generate_zero_filled_state\n        return nest.map_structure(create_zeros, state_size)\n    /home/juancarlosbt/.pyenv/versions/3.8.6/envs/QueEstaPasando/lib/python3.8/site-packages/tensorflow/python/util/nest.py:659 map_structure\n        structure[0], [func(*x) for x in entries],\n    /home/juancarlosbt/.pyenv/versions/3.8.6/envs/QueEstaPasando/lib/python3.8/site-packages/tensorflow/python/util/nest.py:659 <listcomp>\n        structure[0], [func(*x) for x in entries],\n    /home/juancarlosbt/.pyenv/versions/3.8.6/envs/QueEstaPasando/lib/python3.8/site-packages/tensorflow/python/keras/layers/recurrent.py:3000 create_zeros\n        return array_ops.zeros(init_state_size, dtype=dtype)\n    /home/juancarlosbt/.pyenv/versions/3.8.6/envs/QueEstaPasando/lib/python3.8/site-packages/tensorflow/python/util/dispatch.py:201 wrapper\n        return target(*args, **kwargs)\n    /home/juancarlosbt/.pyenv/versions/3.8.6/envs/QueEstaPasando/lib/python3.8/site-packages/tensorflow/python/ops/array_ops.py:2819 wrapped\n        tensor = fun(*args, **kwargs)\n    /home/juancarlosbt/.pyenv/versions/3.8.6/envs/QueEstaPasando/lib/python3.8/site-packages/tensorflow/python/ops/array_ops.py:2868 zeros\n        output = _constant_if_small(zero, shape, dtype, name)\n    /home/juancarlosbt/.pyenv/versions/3.8.6/envs/QueEstaPasando/lib/python3.8/site-packages/tensorflow/python/ops/array_ops.py:2804 _constant_if_small\n        if np.prod(shape) < 1000:\n    <__array_function__ internals>:5 prod\n        \n    /home/juancarlosbt/.pyenv/versions/3.8.6/envs/QueEstaPasando/lib/python3.8/site-packages/numpy/core/fromnumeric.py:3030 prod\n        Returns\n    /home/juancarlosbt/.pyenv/versions/3.8.6/envs/QueEstaPasando/lib/python3.8/site-packages/numpy/core/fromnumeric.py:87 _wrapreduction\n        return ufunc.reduce(obj, axis, dtype, out, **passkwargs)\n    /home/juancarlosbt/.pyenv/versions/3.8.6/envs/QueEstaPasando/lib/python3.8/site-packages/tensorflow/python/framework/ops.py:852 __array__\n        raise NotImplementedError(\n\n    NotImplementedError: Cannot convert a symbolic Tensor (sequential_6/lstm_6/strided_slice:0) to a numpy array. This error may indicate that you're trying to pass a Tensor to a NumPy call, which is not supported\n"
     ]
    }
   ],
   "source": [
    "from tensorflow.keras.callbacks import EarlyStopping\n",
    "\n",
    "es = EarlyStopping(patience=5, restore_best_weights=True)\n",
    "\n",
    "model_dl.fit(X_train_pad, y_train, \n",
    "          batch_size = 32,\n",
    "          epochs=100,\n",
    "          validation_split=0.3,\n",
    "          callbacks=[es]\n",
    "         )"
   ]
  },
  {
   "cell_type": "code",
   "execution_count": null,
   "metadata": {},
   "outputs": [],
   "source": [
    "res = model.evaluate(X_test_pad, y_test, verbose=0)\n",
    "\n",
    "print(f'The accuracy evaluated on the test set is of {res[1]*100:.3f}%')"
   ]
  },
  {
   "cell_type": "code",
   "execution_count": 84,
   "metadata": {},
   "outputs": [
    {
     "data": {
      "text/plain": [
       "array([[[ 0.        ,  0.        ,  0.        , ...,  0.        ,\n",
       "          0.        ,  0.        ],\n",
       "        [ 0.        ,  0.        ,  0.        , ...,  0.        ,\n",
       "          0.        ,  0.        ],\n",
       "        [ 0.        ,  0.        ,  0.        , ...,  0.        ,\n",
       "          0.        ,  0.        ],\n",
       "        [ 0.        ,  0.        ,  0.        , ...,  0.        ,\n",
       "          0.        ,  0.        ],\n",
       "        [ 0.        ,  0.        ,  0.        , ...,  0.        ,\n",
       "          0.        ,  0.        ],\n",
       "        [ 0.        ,  0.        ,  0.        , ...,  0.        ,\n",
       "          0.        ,  0.        ]],\n",
       "\n",
       "       [[ 0.        ,  0.        ,  0.        , ...,  0.        ,\n",
       "          0.        ,  0.        ],\n",
       "        [ 0.        ,  0.        ,  0.        , ...,  0.        ,\n",
       "          0.        ,  0.        ],\n",
       "        [ 0.        ,  0.        ,  0.        , ...,  0.        ,\n",
       "          0.        ,  0.        ],\n",
       "        [ 0.        ,  0.        ,  0.        , ...,  0.        ,\n",
       "          0.        ,  0.        ],\n",
       "        [ 0.        ,  0.        ,  0.        , ...,  0.        ,\n",
       "          0.        ,  0.        ],\n",
       "        [ 0.        ,  0.        ,  0.        , ...,  0.        ,\n",
       "          0.        ,  0.        ]],\n",
       "\n",
       "       [[ 0.        ,  0.        ,  0.        , ...,  0.        ,\n",
       "          0.        ,  0.        ],\n",
       "        [ 0.        ,  0.        ,  0.        , ...,  0.        ,\n",
       "          0.        ,  0.        ],\n",
       "        [ 0.        ,  0.        ,  0.        , ...,  0.        ,\n",
       "          0.        ,  0.        ],\n",
       "        [ 0.        ,  0.        ,  0.        , ...,  0.        ,\n",
       "          0.        ,  0.        ],\n",
       "        [ 0.        ,  0.        ,  0.        , ...,  0.        ,\n",
       "          0.        ,  0.        ],\n",
       "        [ 0.        ,  0.        ,  0.        , ...,  0.        ,\n",
       "          0.        ,  0.        ]],\n",
       "\n",
       "       ...,\n",
       "\n",
       "       [[ 0.        ,  0.        ,  0.        , ...,  0.        ,\n",
       "          0.        ,  0.        ],\n",
       "        [ 0.        ,  0.        ,  0.        , ...,  0.        ,\n",
       "          0.        ,  0.        ],\n",
       "        [ 0.        ,  0.        ,  0.        , ...,  0.        ,\n",
       "          0.        ,  0.        ],\n",
       "        [ 0.        ,  0.        ,  0.        , ...,  0.        ,\n",
       "          0.        ,  0.        ],\n",
       "        [ 0.        ,  0.        ,  0.        , ...,  0.        ,\n",
       "          0.        ,  0.        ],\n",
       "        [ 0.        ,  0.        ,  0.        , ...,  0.        ,\n",
       "          0.        ,  0.        ]],\n",
       "\n",
       "       [[ 0.        ,  0.        ,  0.        , ...,  0.        ,\n",
       "          0.        ,  0.        ],\n",
       "        [ 0.        ,  0.        ,  0.        , ...,  0.        ,\n",
       "          0.        ,  0.        ],\n",
       "        [ 0.        ,  0.        ,  0.        , ...,  0.        ,\n",
       "          0.        ,  0.        ],\n",
       "        [ 0.        ,  0.        ,  0.        , ...,  0.        ,\n",
       "          0.        ,  0.        ],\n",
       "        [ 0.        ,  0.        ,  0.        , ...,  0.        ,\n",
       "          0.        ,  0.        ],\n",
       "        [ 0.        ,  0.        ,  0.        , ...,  0.        ,\n",
       "          0.        ,  0.        ]],\n",
       "\n",
       "       [[ 0.2519721 , -0.51313543,  0.230591  , ...,  0.2862702 ,\n",
       "         -0.1888568 ,  0.42775387],\n",
       "        [ 0.        ,  0.        ,  0.        , ...,  0.        ,\n",
       "          0.        ,  0.        ],\n",
       "        [ 0.        ,  0.        ,  0.        , ...,  0.        ,\n",
       "          0.        ,  0.        ],\n",
       "        [ 0.        ,  0.        ,  0.        , ...,  0.        ,\n",
       "          0.        ,  0.        ],\n",
       "        [ 0.        ,  0.        ,  0.        , ...,  0.        ,\n",
       "          0.        ,  0.        ],\n",
       "        [ 0.        ,  0.        ,  0.        , ...,  0.        ,\n",
       "          0.        ,  0.        ]]], dtype=float32)"
      ]
     },
     "execution_count": 84,
     "metadata": {},
     "output_type": "execute_result"
    }
   ],
   "source": [
    "X_train_pad"
   ]
  },
  {
   "cell_type": "code",
   "execution_count": null,
   "metadata": {},
   "outputs": [],
   "source": []
  }
 ],
 "metadata": {
  "kernelspec": {
   "display_name": "Python 3",
   "language": "python",
   "name": "python3"
  },
  "language_info": {
   "codemirror_mode": {
    "name": "ipython",
    "version": 3
   },
   "file_extension": ".py",
   "mimetype": "text/x-python",
   "name": "python",
   "nbconvert_exporter": "python",
   "pygments_lexer": "ipython3",
   "version": "3.8.6"
  },
  "toc": {
   "base_numbering": 1,
   "nav_menu": {},
   "number_sections": false,
   "sideBar": true,
   "skip_h1_title": false,
   "title_cell": "Table of Contents",
   "title_sidebar": "Contents",
   "toc_cell": false,
   "toc_position": {},
   "toc_section_display": true,
   "toc_window_display": true
  }
 },
 "nbformat": 4,
 "nbformat_minor": 4
}
