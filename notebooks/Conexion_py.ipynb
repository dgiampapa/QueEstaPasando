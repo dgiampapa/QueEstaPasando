{
 "cells": [
  {
   "cell_type": "code",
   "execution_count": 1,
   "id": "d4eb4126",
   "metadata": {},
   "outputs": [],
   "source": [
    "%load_ext autoreload\n",
    "%autoreload 2"
   ]
  },
  {
   "cell_type": "code",
   "execution_count": 2,
   "id": "8023ddc2",
   "metadata": {},
   "outputs": [],
   "source": [
    "from QueEstaPasando import clean_data\n",
    "import pandas as pd\n",
    "from QueEstaPasando import trainer_ml\n",
    "from QueEstaPasando import trainer_dl"
   ]
  },
  {
   "cell_type": "code",
   "execution_count": 3,
   "id": "b86f05b1",
   "metadata": {},
   "outputs": [
    {
     "data": {
      "text/html": [
       "<div>\n",
       "<style scoped>\n",
       "    .dataframe tbody tr th:only-of-type {\n",
       "        vertical-align: middle;\n",
       "    }\n",
       "\n",
       "    .dataframe tbody tr th {\n",
       "        vertical-align: top;\n",
       "    }\n",
       "\n",
       "    .dataframe thead th {\n",
       "        text-align: right;\n",
       "    }\n",
       "</style>\n",
       "<table border=\"1\" class=\"dataframe\">\n",
       "  <thead>\n",
       "    <tr style=\"text-align: right;\">\n",
       "      <th></th>\n",
       "      <th>Unnamed: 0.1</th>\n",
       "      <th>text</th>\n",
       "      <th>created_at</th>\n",
       "      <th>author_id</th>\n",
       "      <th>id</th>\n",
       "      <th>neg</th>\n",
       "      <th>neu</th>\n",
       "      <th>pos</th>\n",
       "      <th>score</th>\n",
       "    </tr>\n",
       "  </thead>\n",
       "  <tbody>\n",
       "    <tr>\n",
       "      <th>0</th>\n",
       "      <td>0</td>\n",
       "      <td>@MercantilBanco Buenas tardes intento abrir mi mercantil en línea y dice datos y clave incorrecta...está fallando la plataforma?</td>\n",
       "      <td>2021-04-28T22:47:36.000Z</td>\n",
       "      <td>202148873</td>\n",
       "      <td>1387539021983850497</td>\n",
       "      <td>0.994753</td>\n",
       "      <td>0.004321</td>\n",
       "      <td>0.000926</td>\n",
       "      <td>neg</td>\n",
       "    </tr>\n",
       "    <tr>\n",
       "      <th>1</th>\n",
       "      <td>1</td>\n",
       "      <td>@MercantilBanco Buenas tardes! En esta oportunidad les escribo para saber si hay problemas con la plataforma para realizar transferencias a otras cuentas mercantil ya que al momento de realizar una transferencia me arroja el mensaje de que intente más tardes!</td>\n",
       "      <td>2021-04-28T22:46:07.000Z</td>\n",
       "      <td>1274553941917863936</td>\n",
       "      <td>1387538646832648197</td>\n",
       "      <td>0.666402</td>\n",
       "      <td>0.328037</td>\n",
       "      <td>0.005561</td>\n",
       "      <td>neg</td>\n",
       "    </tr>\n",
       "    <tr>\n",
       "      <th>2</th>\n",
       "      <td>2</td>\n",
       "      <td>@MercantilBanco Deseo es reponer  mi tarjeta de débito</td>\n",
       "      <td>2021-04-28T22:32:15.000Z</td>\n",
       "      <td>343710274</td>\n",
       "      <td>1387535156626526209</td>\n",
       "      <td>0.107078</td>\n",
       "      <td>0.886624</td>\n",
       "      <td>0.006298</td>\n",
       "      <td>neu</td>\n",
       "    </tr>\n",
       "    <tr>\n",
       "      <th>3</th>\n",
       "      <td>3</td>\n",
       "      <td>@jesusmdbtw2012 @MercantilBanco Si lo está, estoy en la misma situación</td>\n",
       "      <td>2021-04-28T22:06:42.000Z</td>\n",
       "      <td>1323258072534552577</td>\n",
       "      <td>1387528726712311812</td>\n",
       "      <td>0.003918</td>\n",
       "      <td>0.989461</td>\n",
       "      <td>0.006621</td>\n",
       "      <td>neu</td>\n",
       "    </tr>\n",
       "    <tr>\n",
       "      <th>4</th>\n",
       "      <td>4</td>\n",
       "      <td>El @MercantilBanco me quito 180.000 Bs por 4 mensajes de texto al 24024 solicitando clave temporal para un pago móvil, la cual nunca llego, son ladrones o no? https://t.co/bVVmvxfhjH</td>\n",
       "      <td>2021-04-28T21:48:28.000Z</td>\n",
       "      <td>1099360339207049218</td>\n",
       "      <td>1387524137904754689</td>\n",
       "      <td>0.996315</td>\n",
       "      <td>0.002650</td>\n",
       "      <td>0.001035</td>\n",
       "      <td>neg</td>\n",
       "    </tr>\n",
       "  </tbody>\n",
       "</table>\n",
       "</div>"
      ],
      "text/plain": [
       "   Unnamed: 0.1  \\\n",
       "0             0   \n",
       "1             1   \n",
       "2             2   \n",
       "3             3   \n",
       "4             4   \n",
       "\n",
       "                                                                                                                                                                                                                                                                  text  \\\n",
       "0                                                                                                                                     @MercantilBanco Buenas tardes intento abrir mi mercantil en línea y dice datos y clave incorrecta...está fallando la plataforma?   \n",
       "1  @MercantilBanco Buenas tardes! En esta oportunidad les escribo para saber si hay problemas con la plataforma para realizar transferencias a otras cuentas mercantil ya que al momento de realizar una transferencia me arroja el mensaje de que intente más tardes!   \n",
       "2                                                                                                                                                                                                               @MercantilBanco Deseo es reponer  mi tarjeta de débito   \n",
       "3                                                                                                                                                                                              @jesusmdbtw2012 @MercantilBanco Si lo está, estoy en la misma situación   \n",
       "4                                                                               El @MercantilBanco me quito 180.000 Bs por 4 mensajes de texto al 24024 solicitando clave temporal para un pago móvil, la cual nunca llego, son ladrones o no? https://t.co/bVVmvxfhjH   \n",
       "\n",
       "                 created_at            author_id                   id  \\\n",
       "0  2021-04-28T22:47:36.000Z            202148873  1387539021983850497   \n",
       "1  2021-04-28T22:46:07.000Z  1274553941917863936  1387538646832648197   \n",
       "2  2021-04-28T22:32:15.000Z            343710274  1387535156626526209   \n",
       "3  2021-04-28T22:06:42.000Z  1323258072534552577  1387528726712311812   \n",
       "4  2021-04-28T21:48:28.000Z  1099360339207049218  1387524137904754689   \n",
       "\n",
       "        neg       neu       pos score  \n",
       "0  0.994753  0.004321  0.000926   neg  \n",
       "1  0.666402  0.328037  0.005561   neg  \n",
       "2  0.107078  0.886624  0.006298   neu  \n",
       "3  0.003918  0.989461  0.006621   neu  \n",
       "4  0.996315  0.002650  0.001035   neg  "
      ]
     },
     "execution_count": 3,
     "metadata": {},
     "output_type": "execute_result"
    }
   ],
   "source": [
    "pd.set_option('max_colwidth', 800) \n",
    "data = pd.read_csv(\"../QueEstaPasando/data/total.csv\", index_col=0)\n",
    "data.head()"
   ]
  },
  {
   "cell_type": "code",
   "execution_count": null,
   "id": "b36b7e18",
   "metadata": {},
   "outputs": [],
   "source": []
  },
  {
   "cell_type": "code",
   "execution_count": 4,
   "id": "f6e76e67",
   "metadata": {},
   "outputs": [],
   "source": [
    "cl = clean_data.Clean_Data()"
   ]
  },
  {
   "cell_type": "code",
   "execution_count": 5,
   "id": "42603f3b",
   "metadata": {},
   "outputs": [],
   "source": [
    "df = cl.clean_data(data)"
   ]
  },
  {
   "cell_type": "code",
   "execution_count": 6,
   "id": "34af4333",
   "metadata": {},
   "outputs": [
    {
     "data": {
      "text/html": [
       "<div>\n",
       "<style scoped>\n",
       "    .dataframe tbody tr th:only-of-type {\n",
       "        vertical-align: middle;\n",
       "    }\n",
       "\n",
       "    .dataframe tbody tr th {\n",
       "        vertical-align: top;\n",
       "    }\n",
       "\n",
       "    .dataframe thead th {\n",
       "        text-align: right;\n",
       "    }\n",
       "</style>\n",
       "<table border=\"1\" class=\"dataframe\">\n",
       "  <thead>\n",
       "    <tr style=\"text-align: right;\">\n",
       "      <th></th>\n",
       "      <th>Unnamed: 0.1</th>\n",
       "      <th>text</th>\n",
       "      <th>created_at</th>\n",
       "      <th>author_id</th>\n",
       "      <th>id</th>\n",
       "      <th>neg</th>\n",
       "      <th>neu</th>\n",
       "      <th>pos</th>\n",
       "      <th>score</th>\n",
       "    </tr>\n",
       "  </thead>\n",
       "  <tbody>\n",
       "    <tr>\n",
       "      <th>0</th>\n",
       "      <td>0</td>\n",
       "      <td>buenas tardes intento abrir mercantil linea dice datos clave incorrecta fallando plataforma</td>\n",
       "      <td>2021-04-28</td>\n",
       "      <td>202148873</td>\n",
       "      <td>1387539021983850497</td>\n",
       "      <td>0.994753</td>\n",
       "      <td>0.004321</td>\n",
       "      <td>0.000926</td>\n",
       "      <td>neg</td>\n",
       "    </tr>\n",
       "    <tr>\n",
       "      <th>1</th>\n",
       "      <td>1</td>\n",
       "      <td>buenas tardes oportunidad escribo saber si problemas plataforma realizar transferencias cuentas mercantil momento realizar transferencia arroja mensaje intente ma tardes</td>\n",
       "      <td>2021-04-28</td>\n",
       "      <td>1274553941917863936</td>\n",
       "      <td>1387538646832648197</td>\n",
       "      <td>0.666402</td>\n",
       "      <td>0.328037</td>\n",
       "      <td>0.005561</td>\n",
       "      <td>neg</td>\n",
       "    </tr>\n",
       "    <tr>\n",
       "      <th>2</th>\n",
       "      <td>2</td>\n",
       "      <td>deseo reponer tarjeta debito</td>\n",
       "      <td>2021-04-28</td>\n",
       "      <td>343710274</td>\n",
       "      <td>1387535156626526209</td>\n",
       "      <td>0.107078</td>\n",
       "      <td>0.886624</td>\n",
       "      <td>0.006298</td>\n",
       "      <td>neu</td>\n",
       "    </tr>\n",
       "    <tr>\n",
       "      <th>3</th>\n",
       "      <td>3</td>\n",
       "      <td>si misma situacion</td>\n",
       "      <td>2021-04-28</td>\n",
       "      <td>1323258072534552577</td>\n",
       "      <td>1387528726712311812</td>\n",
       "      <td>0.003918</td>\n",
       "      <td>0.989461</td>\n",
       "      <td>0.006621</td>\n",
       "      <td>neu</td>\n",
       "    </tr>\n",
       "    <tr>\n",
       "      <th>4</th>\n",
       "      <td>4</td>\n",
       "      <td>quito b mensajes texto solicitando clave temporal pago movil nunca llego ladrones http t co bvvmvxfhjh</td>\n",
       "      <td>2021-04-28</td>\n",
       "      <td>1099360339207049218</td>\n",
       "      <td>1387524137904754689</td>\n",
       "      <td>0.996315</td>\n",
       "      <td>0.002650</td>\n",
       "      <td>0.001035</td>\n",
       "      <td>neg</td>\n",
       "    </tr>\n",
       "  </tbody>\n",
       "</table>\n",
       "</div>"
      ],
      "text/plain": [
       "   Unnamed: 0.1  \\\n",
       "0             0   \n",
       "1             1   \n",
       "2             2   \n",
       "3             3   \n",
       "4             4   \n",
       "\n",
       "                                                                                                                                                                        text  \\\n",
       "0                                                                                buenas tardes intento abrir mercantil linea dice datos clave incorrecta fallando plataforma   \n",
       "1  buenas tardes oportunidad escribo saber si problemas plataforma realizar transferencias cuentas mercantil momento realizar transferencia arroja mensaje intente ma tardes   \n",
       "2                                                                                                                                               deseo reponer tarjeta debito   \n",
       "3                                                                                                                                                         si misma situacion   \n",
       "4                                                                     quito b mensajes texto solicitando clave temporal pago movil nunca llego ladrones http t co bvvmvxfhjh   \n",
       "\n",
       "  created_at            author_id                   id       neg       neu  \\\n",
       "0 2021-04-28            202148873  1387539021983850497  0.994753  0.004321   \n",
       "1 2021-04-28  1274553941917863936  1387538646832648197  0.666402  0.328037   \n",
       "2 2021-04-28            343710274  1387535156626526209  0.107078  0.886624   \n",
       "3 2021-04-28  1323258072534552577  1387528726712311812  0.003918  0.989461   \n",
       "4 2021-04-28  1099360339207049218  1387524137904754689  0.996315  0.002650   \n",
       "\n",
       "        pos score  \n",
       "0  0.000926   neg  \n",
       "1  0.005561   neg  \n",
       "2  0.006298   neu  \n",
       "3  0.006621   neu  \n",
       "4  0.001035   neg  "
      ]
     },
     "execution_count": 6,
     "metadata": {},
     "output_type": "execute_result"
    }
   ],
   "source": [
    "df.head()"
   ]
  },
  {
   "cell_type": "code",
   "execution_count": null,
   "id": "d8b4f84c",
   "metadata": {},
   "outputs": [],
   "source": []
  },
  {
   "cell_type": "code",
   "execution_count": 7,
   "id": "e10a4bc4",
   "metadata": {},
   "outputs": [],
   "source": [
    "t_ml = trainer_ml.Trainer_ML()"
   ]
  },
  {
   "cell_type": "code",
   "execution_count": 8,
   "id": "ffc9f9f4",
   "metadata": {},
   "outputs": [
    {
     "name": "stdout",
     "output_type": "stream",
     "text": [
      "Fitting 5 folds for each of 200 candidates, totalling 1000 fits\n"
     ]
    },
    {
     "name": "stderr",
     "output_type": "stream",
     "text": [
      "/home/juancarlosbt/.pyenv/versions/3.8.6/envs/QueEstaPasando/lib/python3.8/site-packages/sklearn/model_selection/_search.py:918: UserWarning: One or more of the test scores are non-finite: [0.59588567        nan        nan 0.63072795        nan        nan\n",
      " 0.58427809 0.63162391 0.63579812 0.58278999        nan        nan\n",
      "        nan        nan        nan 0.62954679 0.6170388  0.64621833\n",
      "        nan        nan 0.61078392        nan 0.5402043         nan\n",
      "        nan 0.5431796  0.59500435        nan        nan        nan\n",
      "        nan        nan        nan        nan        nan        nan\n",
      "        nan 0.55240934 0.62656705 0.62239994 0.59470141 0.58248927\n",
      "        nan 0.52501685 0.59648801        nan 0.5637233         nan\n",
      " 0.63966938 0.57653733 0.63073504 0.58159863 0.6015493         nan\n",
      " 0.60304095 0.62983819        nan        nan 0.58129347        nan\n",
      "        nan        nan        nan 0.5958972         nan 0.64711163\n",
      " 0.59915726 0.52978009        nan 0.62894756        nan 0.58398047\n",
      "        nan        nan 0.6497902  0.58248971 0.59469209 0.66319016\n",
      " 0.57921901 0.5446637  0.60721161 0.56968499 0.62835187 0.54466991\n",
      " 0.60155507 0.58546901 0.57505101 0.58487421        nan 0.56074844\n",
      " 0.63281793        nan        nan        nan 0.59976182 0.54466991\n",
      "        nan        nan        nan        nan 0.58755323        nan\n",
      " 0.58546901        nan        nan        nan 0.61197617 0.54466991\n",
      "        nan        nan 0.54526648 0.55687274 0.59946775 0.59499104\n",
      "        nan        nan 0.56789751 0.63580078        nan 0.54466991\n",
      "        nan 0.59261231 0.56194158 0.54407423        nan        nan\n",
      "        nan        nan        nan 0.64145598 0.59499326        nan\n",
      " 0.6363938  0.57533399 0.6283532  0.63877697 0.56551478 0.63192419\n",
      "        nan 0.58278999        nan        nan 0.58725472 0.61287125\n",
      " 0.58308761        nan 0.63252165 0.59588612        nan        nan\n",
      "        nan 0.55419594 0.55002706        nan 0.55212148 0.63371212\n",
      "        nan        nan 0.62537657        nan 0.58724674        nan\n",
      "        nan 0.59738219 0.64859751        nan        nan        nan\n",
      " 0.64443217        nan 0.58517139        nan        nan 0.56194025\n",
      " 0.62894844        nan 0.59083546 0.54466991        nan        nan\n",
      " 0.58546901 0.55986046        nan        nan 0.64860017        nan\n",
      " 0.59379702 0.54317783 0.58665593 0.53127528 0.57504879        nan\n",
      " 0.6366892         nan        nan        nan 0.65068129 0.58308805\n",
      " 0.58814802 0.59649333]\n",
      "  warnings.warn(\n"
     ]
    }
   ],
   "source": [
    "model,X_test,y_test = t_ml.trainer()"
   ]
  },
  {
   "cell_type": "code",
   "execution_count": 9,
   "id": "2b5d73aa",
   "metadata": {},
   "outputs": [
    {
     "data": {
      "text/plain": [
       "704                                                                                                              hago desbloquear tarjeta debito llamo puedo comunicar habra opciones desbloqueo gracias\n",
       "22                                                                                                bod pago express bod b cta ref si desconoce operacion llama celular cuantas veces debo colocar reclamo\n",
       "387                                                                                                                                                                       bicentenario tambien paga hice\n",
       "166                                                                                                                                                                 buenas noches dejado mensaje directo\n",
       "379                                                                                                                                                                        estafadores alcurnia pedigree\n",
       "                                                                                                     ...                                                                                                \n",
       "560                                                                        buenos dia queremos solucion pasado años dan respuesta poder utilizar divisas obtenidas dicom exigimos den pertenece solucion\n",
       "603                                                                                                                                                                    podra hacer pagoexpress comercios\n",
       "312                                                                                                          hey mejor finca veras san juan morros via castrero sector callecitas ... http t co ndbpnjoh\n",
       "46                                                                                                        afectados divisas retenidas banco tambien queremos ser escuchados queremos escuchar soluciones\n",
       "715    buenas noches señores tarjeta debito bloqueada pagina web consigo desbloquearla intento telf sale usted superado nro intentos obtener clave digital puedo hacer necesito usar tarjeta mil gracias\n",
       "Name: text, Length: 1440, dtype: object"
      ]
     },
     "execution_count": 9,
     "metadata": {},
     "output_type": "execute_result"
    }
   ],
   "source": [
    "X_test"
   ]
  },
  {
   "cell_type": "code",
   "execution_count": 10,
   "id": "ecf997f8",
   "metadata": {},
   "outputs": [
    {
     "data": {
      "text/plain": [
       "0.6645833333333333"
      ]
     },
     "execution_count": 10,
     "metadata": {},
     "output_type": "execute_result"
    }
   ],
   "source": [
    "t_ml.score_model(model,X_test,y_test)"
   ]
  },
  {
   "cell_type": "code",
   "execution_count": 14,
   "id": "8aa27066",
   "metadata": {},
   "outputs": [
    {
     "data": {
      "text/plain": [
       "array(['neg', 'neg'], dtype='<U3')"
      ]
     },
     "execution_count": 14,
     "metadata": {},
     "output_type": "execute_result"
    }
   ],
   "source": [
    "t_ml.predict_model(df)"
   ]
  },
  {
   "cell_type": "code",
   "execution_count": 12,
   "id": "b389fd50",
   "metadata": {},
   "outputs": [],
   "source": [
    "df= pd.DataFrame()\n",
    "df['created_at'] =['2021-05-04']\n",
    "df['text'] = [\"@MercantilBanco Deseo es reponer mi tarjeta de débito\"]"
   ]
  },
  {
   "cell_type": "code",
   "execution_count": 13,
   "id": "6fcee92a",
   "metadata": {},
   "outputs": [
    {
     "data": {
      "text/html": [
       "<div>\n",
       "<style scoped>\n",
       "    .dataframe tbody tr th:only-of-type {\n",
       "        vertical-align: middle;\n",
       "    }\n",
       "\n",
       "    .dataframe tbody tr th {\n",
       "        vertical-align: top;\n",
       "    }\n",
       "\n",
       "    .dataframe thead th {\n",
       "        text-align: right;\n",
       "    }\n",
       "</style>\n",
       "<table border=\"1\" class=\"dataframe\">\n",
       "  <thead>\n",
       "    <tr style=\"text-align: right;\">\n",
       "      <th></th>\n",
       "      <th>created_at</th>\n",
       "      <th>text</th>\n",
       "    </tr>\n",
       "  </thead>\n",
       "  <tbody>\n",
       "    <tr>\n",
       "      <th>0</th>\n",
       "      <td>2021-05-04</td>\n",
       "      <td>@MercantilBanco Deseo es reponer mi tarjeta de débito</td>\n",
       "    </tr>\n",
       "  </tbody>\n",
       "</table>\n",
       "</div>"
      ],
      "text/plain": [
       "   created_at                                                   text\n",
       "0  2021-05-04  @MercantilBanco Deseo es reponer mi tarjeta de débito"
      ]
     },
     "execution_count": 13,
     "metadata": {},
     "output_type": "execute_result"
    }
   ],
   "source": [
    "df.head()"
   ]
  },
  {
   "cell_type": "code",
   "execution_count": 13,
   "id": "926be88a",
   "metadata": {},
   "outputs": [
    {
     "data": {
      "text/plain": [
       "(1, 2)"
      ]
     },
     "execution_count": 13,
     "metadata": {},
     "output_type": "execute_result"
    }
   ],
   "source": [
    "df.shape"
   ]
  },
  {
   "cell_type": "code",
   "execution_count": null,
   "id": "e298c9c0",
   "metadata": {},
   "outputs": [],
   "source": [
    "X_test"
   ]
  },
  {
   "cell_type": "code",
   "execution_count": null,
   "id": "a892ddd0",
   "metadata": {},
   "outputs": [],
   "source": [
    "t_ml.plot_learning_curves(model,X_test,y_test,cv=5)"
   ]
  },
  {
   "cell_type": "code",
   "execution_count": null,
   "id": "fe346129",
   "metadata": {},
   "outputs": [],
   "source": [
    "t_dl = trainer_dl.Trainer_DL()"
   ]
  },
  {
   "cell_type": "code",
   "execution_count": null,
   "id": "95061701",
   "metadata": {},
   "outputs": [],
   "source": []
  }
 ],
 "metadata": {
  "kernelspec": {
   "display_name": "Python 3",
   "language": "python",
   "name": "python3"
  },
  "language_info": {
   "codemirror_mode": {
    "name": "ipython",
    "version": 3
   },
   "file_extension": ".py",
   "mimetype": "text/x-python",
   "name": "python",
   "nbconvert_exporter": "python",
   "pygments_lexer": "ipython3",
   "version": "3.8.6"
  }
 },
 "nbformat": 4,
 "nbformat_minor": 5
}
