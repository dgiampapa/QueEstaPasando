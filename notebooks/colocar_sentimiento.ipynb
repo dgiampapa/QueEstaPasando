{
 "cells": [
  {
   "cell_type": "markdown",
   "id": "6bc598a5-0d30-4830-b97c-3be8d90020b4",
   "metadata": {},
   "source": [
    "!pip install pysentimiento\n",
    "https://pypi.org/project/pysentimiento/"
   ]
  },
  {
   "cell_type": "code",
   "execution_count": 70,
   "id": "4b09996a",
   "metadata": {},
   "outputs": [],
   "source": [
    "import pandas as pd\n",
    "from pysentimiento import SentimentAnalyzer"
   ]
  },
  {
   "cell_type": "code",
   "execution_count": 71,
   "id": "4284dd0c-2189-4142-b11c-8dd71f48c021",
   "metadata": {},
   "outputs": [],
   "source": [
    "#analyzer = SentimentAnalyzer()\n",
    "#analyzer.predict(\"Qué gran jugador es Messi\")\n",
    "## returns 'POS'\n",
    "#analyzer.predict(\"Esto es pésimo\")\n",
    "## returns 'NEG'\n",
    "#analyzer.predict(\"Qué es esto?\")\n",
    "## returns 'NEU'\n",
    "\n",
    "#analyzer.predict_probas(\"Dónde estamos?\")"
   ]
  },
  {
   "cell_type": "code",
   "execution_count": 130,
   "id": "c8e47292",
   "metadata": {},
   "outputs": [],
   "source": [
    "pd.set_option('max_colwidth', 800)\n",
    "\n",
    "bancos = ['Mercantil', 'Banesco', 'Venezuela', 'Provincial', 'BOD', 'Sudeban']\n",
    "ids = [67401711, 105219620, 149959442, 126086956, 221765424, 835785594]\n",
    "\n",
    "id = 835785594\n",
    "\n",
    "data_read = pd.read_csv(f'{id}.csv')"
   ]
  },
  {
   "cell_type": "code",
   "execution_count": 131,
   "id": "2c0c24ed",
   "metadata": {},
   "outputs": [
    {
     "data": {
      "text/html": [
       "<div>\n",
       "<style scoped>\n",
       "    .dataframe tbody tr th:only-of-type {\n",
       "        vertical-align: middle;\n",
       "    }\n",
       "\n",
       "    .dataframe tbody tr th {\n",
       "        vertical-align: top;\n",
       "    }\n",
       "\n",
       "    .dataframe thead th {\n",
       "        text-align: right;\n",
       "    }\n",
       "</style>\n",
       "<table border=\"1\" class=\"dataframe\">\n",
       "  <thead>\n",
       "    <tr style=\"text-align: right;\">\n",
       "      <th></th>\n",
       "      <th>Unnamed: 0</th>\n",
       "      <th>created_at</th>\n",
       "      <th>author_id</th>\n",
       "      <th>id</th>\n",
       "      <th>text</th>\n",
       "    </tr>\n",
       "  </thead>\n",
       "  <tbody>\n",
       "    <tr>\n",
       "      <th>0</th>\n",
       "      <td>0</td>\n",
       "      <td>2021-04-28T23:14:05.000Z</td>\n",
       "      <td>3312459507</td>\n",
       "      <td>1387545684165988356</td>\n",
       "      <td>@fatimacpb @BCV_ORG_VE #AFECTADOSDICOM El banco Venezuela no me permite movilizar las divisas compradas en dicom 2018 necesito mi dinero @BCV_ORG_VE @sudebaninforma @minecofinanzas @tsj_venezuela @tarekwiliamsaab @josejmoralesu78 @simonzerpad</td>\n",
       "    </tr>\n",
       "    <tr>\n",
       "      <th>1</th>\n",
       "      <td>1</td>\n",
       "      <td>2021-04-28T23:11:47.000Z</td>\n",
       "      <td>3312459507</td>\n",
       "      <td>1387545105754738690</td>\n",
       "      <td>@BcodeVenezuela Buenas noches el banco no me permite movilizar las divisas comprada en el dicom 2018 necesito mi dinero #AFECTADOSDICOM @BCV_ORG_VE @sudebaninforma @minecofinanzas @tsj_venezuela @tarekwiliamsaab @josejmoralesu78 @simonzerpad</td>\n",
       "    </tr>\n",
       "    <tr>\n",
       "      <th>2</th>\n",
       "      <td>2</td>\n",
       "      <td>2021-04-28T23:08:44.000Z</td>\n",
       "      <td>3312459507</td>\n",
       "      <td>1387544340029923336</td>\n",
       "      <td>@descifradocom Buenas noches cuando van a liberar las divisas compradas en el dicom en el 2018 #AFECTADOSDICOM @BCV_ORG_VE @sudebaninforma @minecofinanzas @tsj_venezuela @tarekwiliamsaab @josejmoralesu78 @simonzerpad</td>\n",
       "    </tr>\n",
       "    <tr>\n",
       "      <th>3</th>\n",
       "      <td>3</td>\n",
       "      <td>2021-04-28T23:07:55.000Z</td>\n",
       "      <td>625806696</td>\n",
       "      <td>1387544133150158849</td>\n",
       "      <td>@SudebanInforma Buenas tardes Sres de Sudeban! Denuncia!. Hago de su conocimiento qué en reiteradas visitas a las oficinas del Banco Provincial (Ofc Ppal y Altamira) no están permitiendo el Cambio dé Divisas (€) con la excusa de sólo cambiar a BsS la cantidad de 100€ al Mes.</td>\n",
       "    </tr>\n",
       "    <tr>\n",
       "      <th>4</th>\n",
       "      <td>4</td>\n",
       "      <td>2021-04-28T22:33:27.000Z</td>\n",
       "      <td>1387211500146864130</td>\n",
       "      <td>1387535460269006849</td>\n",
       "      <td>@BcodeVenezuela Sres. BDV desde 2018 tengo bloqueados mis dólares comprados con DICOM, den respuesta a ésto, hay demasiada necesidad con ésta pandemia, sean humanos con el pueblo! @BCV_ORG_VE @sudebaninforma @minecofinanzas @tsj_venezuela @josejmoralesu78 @simonzerpad</td>\n",
       "    </tr>\n",
       "  </tbody>\n",
       "</table>\n",
       "</div>"
      ],
      "text/plain": [
       "   Unnamed: 0                created_at            author_id  \\\n",
       "0           0  2021-04-28T23:14:05.000Z           3312459507   \n",
       "1           1  2021-04-28T23:11:47.000Z           3312459507   \n",
       "2           2  2021-04-28T23:08:44.000Z           3312459507   \n",
       "3           3  2021-04-28T23:07:55.000Z            625806696   \n",
       "4           4  2021-04-28T22:33:27.000Z  1387211500146864130   \n",
       "\n",
       "                    id  \\\n",
       "0  1387545684165988356   \n",
       "1  1387545105754738690   \n",
       "2  1387544340029923336   \n",
       "3  1387544133150158849   \n",
       "4  1387535460269006849   \n",
       "\n",
       "                                                                                                                                                                                                                                                                                  text  \n",
       "0                                   @fatimacpb @BCV_ORG_VE #AFECTADOSDICOM El banco Venezuela no me permite movilizar las divisas compradas en dicom 2018 necesito mi dinero @BCV_ORG_VE @sudebaninforma @minecofinanzas @tsj_venezuela @tarekwiliamsaab @josejmoralesu78 @simonzerpad  \n",
       "1                                    @BcodeVenezuela Buenas noches el banco no me permite movilizar las divisas comprada en el dicom 2018 necesito mi dinero #AFECTADOSDICOM @BCV_ORG_VE @sudebaninforma @minecofinanzas @tsj_venezuela @tarekwiliamsaab @josejmoralesu78 @simonzerpad  \n",
       "2                                                             @descifradocom Buenas noches cuando van a liberar las divisas compradas en el dicom en el 2018 #AFECTADOSDICOM @BCV_ORG_VE @sudebaninforma @minecofinanzas @tsj_venezuela @tarekwiliamsaab @josejmoralesu78 @simonzerpad  \n",
       "3  @SudebanInforma Buenas tardes Sres de Sudeban! Denuncia!. Hago de su conocimiento qué en reiteradas visitas a las oficinas del Banco Provincial (Ofc Ppal y Altamira) no están permitiendo el Cambio dé Divisas (€) con la excusa de sólo cambiar a BsS la cantidad de 100€ al Mes.  \n",
       "4         @BcodeVenezuela Sres. BDV desde 2018 tengo bloqueados mis dólares comprados con DICOM, den respuesta a ésto, hay demasiada necesidad con ésta pandemia, sean humanos con el pueblo! @BCV_ORG_VE @sudebaninforma @minecofinanzas @tsj_venezuela @josejmoralesu78 @simonzerpad  "
      ]
     },
     "execution_count": 131,
     "metadata": {},
     "output_type": "execute_result"
    }
   ],
   "source": [
    "data_read.head()"
   ]
  },
  {
   "cell_type": "code",
   "execution_count": 132,
   "id": "eea9958e",
   "metadata": {},
   "outputs": [
    {
     "name": "stdout",
     "output_type": "stream",
     "text": [
      "CPU times: user 8min 46s, sys: 3.95 s, total: 8min 50s\n",
      "Wall time: 4min 29s\n"
     ]
    }
   ],
   "source": [
    "%%time\n",
    "diccionario_analisis = {'neg':[], 'neu':[], 'pos' : []}\n",
    "\n",
    "for indice_fila, fila in data_read.iterrows():\n",
    "    analisis = analyzer.predict_probas(fila.text)\n",
    "    diccionario_analisis['neg'].append(analisis['NEG'])\n",
    "    diccionario_analisis['neu'].append(analisis['NEU'])\n",
    "    diccionario_analisis['pos'].append(analisis['POS'])"
   ]
  },
  {
   "cell_type": "code",
   "execution_count": 133,
   "id": "968f2116",
   "metadata": {},
   "outputs": [
    {
     "data": {
      "text/html": [
       "<div>\n",
       "<style scoped>\n",
       "    .dataframe tbody tr th:only-of-type {\n",
       "        vertical-align: middle;\n",
       "    }\n",
       "\n",
       "    .dataframe tbody tr th {\n",
       "        vertical-align: top;\n",
       "    }\n",
       "\n",
       "    .dataframe thead th {\n",
       "        text-align: right;\n",
       "    }\n",
       "</style>\n",
       "<table border=\"1\" class=\"dataframe\">\n",
       "  <thead>\n",
       "    <tr style=\"text-align: right;\">\n",
       "      <th></th>\n",
       "      <th>neg</th>\n",
       "      <th>neu</th>\n",
       "      <th>pos</th>\n",
       "    </tr>\n",
       "  </thead>\n",
       "  <tbody>\n",
       "    <tr>\n",
       "      <th>0</th>\n",
       "      <td>0.995441</td>\n",
       "      <td>0.003068</td>\n",
       "      <td>0.001491</td>\n",
       "    </tr>\n",
       "    <tr>\n",
       "      <th>1</th>\n",
       "      <td>0.995416</td>\n",
       "      <td>0.003266</td>\n",
       "      <td>0.001319</td>\n",
       "    </tr>\n",
       "    <tr>\n",
       "      <th>2</th>\n",
       "      <td>0.095244</td>\n",
       "      <td>0.888765</td>\n",
       "      <td>0.015991</td>\n",
       "    </tr>\n",
       "    <tr>\n",
       "      <th>3</th>\n",
       "      <td>0.992581</td>\n",
       "      <td>0.005516</td>\n",
       "      <td>0.001903</td>\n",
       "    </tr>\n",
       "    <tr>\n",
       "      <th>4</th>\n",
       "      <td>0.990154</td>\n",
       "      <td>0.007231</td>\n",
       "      <td>0.002615</td>\n",
       "    </tr>\n",
       "  </tbody>\n",
       "</table>\n",
       "</div>"
      ],
      "text/plain": [
       "        neg       neu       pos\n",
       "0  0.995441  0.003068  0.001491\n",
       "1  0.995416  0.003266  0.001319\n",
       "2  0.095244  0.888765  0.015991\n",
       "3  0.992581  0.005516  0.001903\n",
       "4  0.990154  0.007231  0.002615"
      ]
     },
     "execution_count": 133,
     "metadata": {},
     "output_type": "execute_result"
    }
   ],
   "source": [
    "pd.DataFrame(diccionario_analisis).head()"
   ]
  },
  {
   "cell_type": "code",
   "execution_count": 134,
   "id": "642f6c06",
   "metadata": {},
   "outputs": [],
   "source": [
    "resultados = data_read.copy()\n",
    "resultados = resultados[0:len(diccionario_analisis['neg'])]\n",
    "\n",
    "for i in diccionario_analisis.keys():\n",
    "    resultados[i] = diccionario_analisis[i]"
   ]
  },
  {
   "cell_type": "code",
   "execution_count": 135,
   "id": "46f52a85",
   "metadata": {},
   "outputs": [
    {
     "data": {
      "text/plain": [
       "(800, 8)"
      ]
     },
     "execution_count": 135,
     "metadata": {},
     "output_type": "execute_result"
    }
   ],
   "source": [
    "resultados.shape"
   ]
  },
  {
   "cell_type": "code",
   "execution_count": 136,
   "id": "2f3dd3bc",
   "metadata": {},
   "outputs": [
    {
     "data": {
      "text/html": [
       "<div>\n",
       "<style scoped>\n",
       "    .dataframe tbody tr th:only-of-type {\n",
       "        vertical-align: middle;\n",
       "    }\n",
       "\n",
       "    .dataframe tbody tr th {\n",
       "        vertical-align: top;\n",
       "    }\n",
       "\n",
       "    .dataframe thead th {\n",
       "        text-align: right;\n",
       "    }\n",
       "</style>\n",
       "<table border=\"1\" class=\"dataframe\">\n",
       "  <thead>\n",
       "    <tr style=\"text-align: right;\">\n",
       "      <th></th>\n",
       "      <th>Unnamed: 0</th>\n",
       "      <th>created_at</th>\n",
       "      <th>author_id</th>\n",
       "      <th>id</th>\n",
       "      <th>text</th>\n",
       "      <th>neg</th>\n",
       "      <th>neu</th>\n",
       "      <th>pos</th>\n",
       "    </tr>\n",
       "  </thead>\n",
       "  <tbody>\n",
       "    <tr>\n",
       "      <th>0</th>\n",
       "      <td>0</td>\n",
       "      <td>2021-04-28T23:14:05.000Z</td>\n",
       "      <td>3312459507</td>\n",
       "      <td>1387545684165988356</td>\n",
       "      <td>@fatimacpb @BCV_ORG_VE #AFECTADOSDICOM El banco Venezuela no me permite movilizar las divisas compradas en dicom 2018 necesito mi dinero @BCV_ORG_VE @sudebaninforma @minecofinanzas @tsj_venezuela @tarekwiliamsaab @josejmoralesu78 @simonzerpad</td>\n",
       "      <td>0.995441</td>\n",
       "      <td>0.003068</td>\n",
       "      <td>0.001491</td>\n",
       "    </tr>\n",
       "    <tr>\n",
       "      <th>1</th>\n",
       "      <td>1</td>\n",
       "      <td>2021-04-28T23:11:47.000Z</td>\n",
       "      <td>3312459507</td>\n",
       "      <td>1387545105754738690</td>\n",
       "      <td>@BcodeVenezuela Buenas noches el banco no me permite movilizar las divisas comprada en el dicom 2018 necesito mi dinero #AFECTADOSDICOM @BCV_ORG_VE @sudebaninforma @minecofinanzas @tsj_venezuela @tarekwiliamsaab @josejmoralesu78 @simonzerpad</td>\n",
       "      <td>0.995416</td>\n",
       "      <td>0.003266</td>\n",
       "      <td>0.001319</td>\n",
       "    </tr>\n",
       "    <tr>\n",
       "      <th>2</th>\n",
       "      <td>2</td>\n",
       "      <td>2021-04-28T23:08:44.000Z</td>\n",
       "      <td>3312459507</td>\n",
       "      <td>1387544340029923336</td>\n",
       "      <td>@descifradocom Buenas noches cuando van a liberar las divisas compradas en el dicom en el 2018 #AFECTADOSDICOM @BCV_ORG_VE @sudebaninforma @minecofinanzas @tsj_venezuela @tarekwiliamsaab @josejmoralesu78 @simonzerpad</td>\n",
       "      <td>0.095244</td>\n",
       "      <td>0.888765</td>\n",
       "      <td>0.015991</td>\n",
       "    </tr>\n",
       "    <tr>\n",
       "      <th>3</th>\n",
       "      <td>3</td>\n",
       "      <td>2021-04-28T23:07:55.000Z</td>\n",
       "      <td>625806696</td>\n",
       "      <td>1387544133150158849</td>\n",
       "      <td>@SudebanInforma Buenas tardes Sres de Sudeban! Denuncia!. Hago de su conocimiento qué en reiteradas visitas a las oficinas del Banco Provincial (Ofc Ppal y Altamira) no están permitiendo el Cambio dé Divisas (€) con la excusa de sólo cambiar a BsS la cantidad de 100€ al Mes.</td>\n",
       "      <td>0.992581</td>\n",
       "      <td>0.005516</td>\n",
       "      <td>0.001903</td>\n",
       "    </tr>\n",
       "    <tr>\n",
       "      <th>4</th>\n",
       "      <td>4</td>\n",
       "      <td>2021-04-28T22:33:27.000Z</td>\n",
       "      <td>1387211500146864130</td>\n",
       "      <td>1387535460269006849</td>\n",
       "      <td>@BcodeVenezuela Sres. BDV desde 2018 tengo bloqueados mis dólares comprados con DICOM, den respuesta a ésto, hay demasiada necesidad con ésta pandemia, sean humanos con el pueblo! @BCV_ORG_VE @sudebaninforma @minecofinanzas @tsj_venezuela @josejmoralesu78 @simonzerpad</td>\n",
       "      <td>0.990154</td>\n",
       "      <td>0.007231</td>\n",
       "      <td>0.002615</td>\n",
       "    </tr>\n",
       "  </tbody>\n",
       "</table>\n",
       "</div>"
      ],
      "text/plain": [
       "   Unnamed: 0                created_at            author_id  \\\n",
       "0           0  2021-04-28T23:14:05.000Z           3312459507   \n",
       "1           1  2021-04-28T23:11:47.000Z           3312459507   \n",
       "2           2  2021-04-28T23:08:44.000Z           3312459507   \n",
       "3           3  2021-04-28T23:07:55.000Z            625806696   \n",
       "4           4  2021-04-28T22:33:27.000Z  1387211500146864130   \n",
       "\n",
       "                    id  \\\n",
       "0  1387545684165988356   \n",
       "1  1387545105754738690   \n",
       "2  1387544340029923336   \n",
       "3  1387544133150158849   \n",
       "4  1387535460269006849   \n",
       "\n",
       "                                                                                                                                                                                                                                                                                  text  \\\n",
       "0                                   @fatimacpb @BCV_ORG_VE #AFECTADOSDICOM El banco Venezuela no me permite movilizar las divisas compradas en dicom 2018 necesito mi dinero @BCV_ORG_VE @sudebaninforma @minecofinanzas @tsj_venezuela @tarekwiliamsaab @josejmoralesu78 @simonzerpad   \n",
       "1                                    @BcodeVenezuela Buenas noches el banco no me permite movilizar las divisas comprada en el dicom 2018 necesito mi dinero #AFECTADOSDICOM @BCV_ORG_VE @sudebaninforma @minecofinanzas @tsj_venezuela @tarekwiliamsaab @josejmoralesu78 @simonzerpad   \n",
       "2                                                             @descifradocom Buenas noches cuando van a liberar las divisas compradas en el dicom en el 2018 #AFECTADOSDICOM @BCV_ORG_VE @sudebaninforma @minecofinanzas @tsj_venezuela @tarekwiliamsaab @josejmoralesu78 @simonzerpad   \n",
       "3  @SudebanInforma Buenas tardes Sres de Sudeban! Denuncia!. Hago de su conocimiento qué en reiteradas visitas a las oficinas del Banco Provincial (Ofc Ppal y Altamira) no están permitiendo el Cambio dé Divisas (€) con la excusa de sólo cambiar a BsS la cantidad de 100€ al Mes.   \n",
       "4         @BcodeVenezuela Sres. BDV desde 2018 tengo bloqueados mis dólares comprados con DICOM, den respuesta a ésto, hay demasiada necesidad con ésta pandemia, sean humanos con el pueblo! @BCV_ORG_VE @sudebaninforma @minecofinanzas @tsj_venezuela @josejmoralesu78 @simonzerpad   \n",
       "\n",
       "        neg       neu       pos  \n",
       "0  0.995441  0.003068  0.001491  \n",
       "1  0.995416  0.003266  0.001319  \n",
       "2  0.095244  0.888765  0.015991  \n",
       "3  0.992581  0.005516  0.001903  \n",
       "4  0.990154  0.007231  0.002615  "
      ]
     },
     "execution_count": 136,
     "metadata": {},
     "output_type": "execute_result"
    }
   ],
   "source": [
    "resultados.head()"
   ]
  },
  {
   "cell_type": "code",
   "execution_count": 137,
   "id": "a43b733c",
   "metadata": {},
   "outputs": [
    {
     "data": {
      "text/plain": [
       "<AxesSubplot:>"
      ]
     },
     "execution_count": 137,
     "metadata": {},
     "output_type": "execute_result"
    },
    {
     "data": {
      "image/png": "[encoded data removed]",
      "text/plain": [
       "<Figure size 432x288 with 1 Axes>"
      ]
     },
     "metadata": {
      "needs_background": "light"
     },
     "output_type": "display_data"
    }
   ],
   "source": [
    "resultados[['neg','neu','pos']].plot(kind='box') #la amplia mayoría son neutros"
   ]
  },
  {
   "cell_type": "code",
   "execution_count": 145,
   "id": "d0b9f212",
   "metadata": {
    "scrolled": true
   },
   "outputs": [
    {
     "name": "stdout",
     "output_type": "stream",
     "text": [
      "CPU times: user 28.3 s, sys: 360 ms, total: 28.6 s\n",
      "Wall time: 28.2 s\n"
     ]
    },
    {
     "data": {
      "text/plain": [
       "<AxesSubplot:xlabel='pos'>"
      ]
     },
     "execution_count": 145,
     "metadata": {},
     "output_type": "execute_result"
    },
    {
     "data": {
      "image/png": "[encoded data removed]",
      "text/plain": [
       "<Figure size 720x576 with 3 Axes>"
      ]
     },
     "metadata": {
      "needs_background": "light"
     },
     "output_type": "display_data"
    }
   ],
   "source": [
    "%%time\n",
    "import warnings\n",
    "warnings.filterwarnings('ignore')\n",
    "\n",
    "import seaborn as sns\n",
    "import matplotlib.pyplot as plt\n",
    "fig, ax = plt.subplots(nrows = 3, ncols = 1, figsize = (10,8))\n",
    "\n",
    "sns.swarmplot(resultados.neg , ax = ax[0], color = 'red', alpha = 0.6)\n",
    "sns.swarmplot(resultados.neu , ax = ax[1], color = 'grey', alpha = 0.6)\n",
    "sns.swarmplot(resultados.pos , ax = ax[2], color = 'green', alpha = 0.6)"
   ]
  },
  {
   "cell_type": "code",
   "execution_count": 139,
   "id": "9ebd3e77",
   "metadata": {},
   "outputs": [],
   "source": [
    "tags = ['neg' , 'neu', 'pos']"
   ]
  },
  {
   "cell_type": "code",
   "execution_count": 140,
   "id": "76c40262",
   "metadata": {},
   "outputs": [
    {
     "data": {
      "text/html": [
       "<div>\n",
       "<style scoped>\n",
       "    .dataframe tbody tr th:only-of-type {\n",
       "        vertical-align: middle;\n",
       "    }\n",
       "\n",
       "    .dataframe tbody tr th {\n",
       "        vertical-align: top;\n",
       "    }\n",
       "\n",
       "    .dataframe thead th {\n",
       "        text-align: right;\n",
       "    }\n",
       "</style>\n",
       "<table border=\"1\" class=\"dataframe\">\n",
       "  <thead>\n",
       "    <tr style=\"text-align: right;\">\n",
       "      <th></th>\n",
       "      <th>neg</th>\n",
       "      <th>neu</th>\n",
       "      <th>pos</th>\n",
       "    </tr>\n",
       "  </thead>\n",
       "  <tbody>\n",
       "    <tr>\n",
       "      <th>0</th>\n",
       "      <td>0.995441</td>\n",
       "      <td>0.003068</td>\n",
       "      <td>0.001491</td>\n",
       "    </tr>\n",
       "    <tr>\n",
       "      <th>1</th>\n",
       "      <td>0.995416</td>\n",
       "      <td>0.003266</td>\n",
       "      <td>0.001319</td>\n",
       "    </tr>\n",
       "    <tr>\n",
       "      <th>2</th>\n",
       "      <td>0.095244</td>\n",
       "      <td>0.888765</td>\n",
       "      <td>0.015991</td>\n",
       "    </tr>\n",
       "    <tr>\n",
       "      <th>3</th>\n",
       "      <td>0.992581</td>\n",
       "      <td>0.005516</td>\n",
       "      <td>0.001903</td>\n",
       "    </tr>\n",
       "    <tr>\n",
       "      <th>4</th>\n",
       "      <td>0.990154</td>\n",
       "      <td>0.007231</td>\n",
       "      <td>0.002615</td>\n",
       "    </tr>\n",
       "    <tr>\n",
       "      <th>...</th>\n",
       "      <td>...</td>\n",
       "      <td>...</td>\n",
       "      <td>...</td>\n",
       "    </tr>\n",
       "    <tr>\n",
       "      <th>795</th>\n",
       "      <td>0.026753</td>\n",
       "      <td>0.795695</td>\n",
       "      <td>0.177552</td>\n",
       "    </tr>\n",
       "    <tr>\n",
       "      <th>796</th>\n",
       "      <td>0.908691</td>\n",
       "      <td>0.079556</td>\n",
       "      <td>0.011753</td>\n",
       "    </tr>\n",
       "    <tr>\n",
       "      <th>797</th>\n",
       "      <td>0.075834</td>\n",
       "      <td>0.907265</td>\n",
       "      <td>0.016901</td>\n",
       "    </tr>\n",
       "    <tr>\n",
       "      <th>798</th>\n",
       "      <td>0.996677</td>\n",
       "      <td>0.001912</td>\n",
       "      <td>0.001411</td>\n",
       "    </tr>\n",
       "    <tr>\n",
       "      <th>799</th>\n",
       "      <td>0.996547</td>\n",
       "      <td>0.002109</td>\n",
       "      <td>0.001344</td>\n",
       "    </tr>\n",
       "  </tbody>\n",
       "</table>\n",
       "<p>800 rows × 3 columns</p>\n",
       "</div>"
      ],
      "text/plain": [
       "          neg       neu       pos\n",
       "0    0.995441  0.003068  0.001491\n",
       "1    0.995416  0.003266  0.001319\n",
       "2    0.095244  0.888765  0.015991\n",
       "3    0.992581  0.005516  0.001903\n",
       "4    0.990154  0.007231  0.002615\n",
       "..        ...       ...       ...\n",
       "795  0.026753  0.795695  0.177552\n",
       "796  0.908691  0.079556  0.011753\n",
       "797  0.075834  0.907265  0.016901\n",
       "798  0.996677  0.001912  0.001411\n",
       "799  0.996547  0.002109  0.001344\n",
       "\n",
       "[800 rows x 3 columns]"
      ]
     },
     "execution_count": 140,
     "metadata": {},
     "output_type": "execute_result"
    }
   ],
   "source": [
    "resultados[tags]"
   ]
  },
  {
   "cell_type": "code",
   "execution_count": 141,
   "id": "6f4fcd28",
   "metadata": {},
   "outputs": [],
   "source": [
    "resultados['score'] = resultados[tags].idxmax(axis=1)"
   ]
  },
  {
   "cell_type": "code",
   "execution_count": 142,
   "id": "21291c76",
   "metadata": {},
   "outputs": [
    {
     "data": {
      "text/html": [
       "<div>\n",
       "<style scoped>\n",
       "    .dataframe tbody tr th:only-of-type {\n",
       "        vertical-align: middle;\n",
       "    }\n",
       "\n",
       "    .dataframe tbody tr th {\n",
       "        vertical-align: top;\n",
       "    }\n",
       "\n",
       "    .dataframe thead th {\n",
       "        text-align: right;\n",
       "    }\n",
       "</style>\n",
       "<table border=\"1\" class=\"dataframe\">\n",
       "  <thead>\n",
       "    <tr style=\"text-align: right;\">\n",
       "      <th></th>\n",
       "      <th>Unnamed: 0</th>\n",
       "      <th>created_at</th>\n",
       "      <th>author_id</th>\n",
       "      <th>id</th>\n",
       "      <th>text</th>\n",
       "      <th>neg</th>\n",
       "      <th>neu</th>\n",
       "      <th>pos</th>\n",
       "      <th>score</th>\n",
       "    </tr>\n",
       "  </thead>\n",
       "  <tbody>\n",
       "    <tr>\n",
       "      <th>0</th>\n",
       "      <td>0</td>\n",
       "      <td>2021-04-28T23:14:05.000Z</td>\n",
       "      <td>3312459507</td>\n",
       "      <td>1387545684165988356</td>\n",
       "      <td>@fatimacpb @BCV_ORG_VE #AFECTADOSDICOM El banco Venezuela no me permite movilizar las divisas compradas en dicom 2018 necesito mi dinero @BCV_ORG_VE @sudebaninforma @minecofinanzas @tsj_venezuela @tarekwiliamsaab @josejmoralesu78 @simonzerpad</td>\n",
       "      <td>0.995441</td>\n",
       "      <td>0.003068</td>\n",
       "      <td>0.001491</td>\n",
       "      <td>neg</td>\n",
       "    </tr>\n",
       "    <tr>\n",
       "      <th>1</th>\n",
       "      <td>1</td>\n",
       "      <td>2021-04-28T23:11:47.000Z</td>\n",
       "      <td>3312459507</td>\n",
       "      <td>1387545105754738690</td>\n",
       "      <td>@BcodeVenezuela Buenas noches el banco no me permite movilizar las divisas comprada en el dicom 2018 necesito mi dinero #AFECTADOSDICOM @BCV_ORG_VE @sudebaninforma @minecofinanzas @tsj_venezuela @tarekwiliamsaab @josejmoralesu78 @simonzerpad</td>\n",
       "      <td>0.995416</td>\n",
       "      <td>0.003266</td>\n",
       "      <td>0.001319</td>\n",
       "      <td>neg</td>\n",
       "    </tr>\n",
       "    <tr>\n",
       "      <th>2</th>\n",
       "      <td>2</td>\n",
       "      <td>2021-04-28T23:08:44.000Z</td>\n",
       "      <td>3312459507</td>\n",
       "      <td>1387544340029923336</td>\n",
       "      <td>@descifradocom Buenas noches cuando van a liberar las divisas compradas en el dicom en el 2018 #AFECTADOSDICOM @BCV_ORG_VE @sudebaninforma @minecofinanzas @tsj_venezuela @tarekwiliamsaab @josejmoralesu78 @simonzerpad</td>\n",
       "      <td>0.095244</td>\n",
       "      <td>0.888765</td>\n",
       "      <td>0.015991</td>\n",
       "      <td>neu</td>\n",
       "    </tr>\n",
       "    <tr>\n",
       "      <th>3</th>\n",
       "      <td>3</td>\n",
       "      <td>2021-04-28T23:07:55.000Z</td>\n",
       "      <td>625806696</td>\n",
       "      <td>1387544133150158849</td>\n",
       "      <td>@SudebanInforma Buenas tardes Sres de Sudeban! Denuncia!. Hago de su conocimiento qué en reiteradas visitas a las oficinas del Banco Provincial (Ofc Ppal y Altamira) no están permitiendo el Cambio dé Divisas (€) con la excusa de sólo cambiar a BsS la cantidad de 100€ al Mes.</td>\n",
       "      <td>0.992581</td>\n",
       "      <td>0.005516</td>\n",
       "      <td>0.001903</td>\n",
       "      <td>neg</td>\n",
       "    </tr>\n",
       "    <tr>\n",
       "      <th>4</th>\n",
       "      <td>4</td>\n",
       "      <td>2021-04-28T22:33:27.000Z</td>\n",
       "      <td>1387211500146864130</td>\n",
       "      <td>1387535460269006849</td>\n",
       "      <td>@BcodeVenezuela Sres. BDV desde 2018 tengo bloqueados mis dólares comprados con DICOM, den respuesta a ésto, hay demasiada necesidad con ésta pandemia, sean humanos con el pueblo! @BCV_ORG_VE @sudebaninforma @minecofinanzas @tsj_venezuela @josejmoralesu78 @simonzerpad</td>\n",
       "      <td>0.990154</td>\n",
       "      <td>0.007231</td>\n",
       "      <td>0.002615</td>\n",
       "      <td>neg</td>\n",
       "    </tr>\n",
       "  </tbody>\n",
       "</table>\n",
       "</div>"
      ],
      "text/plain": [
       "   Unnamed: 0                created_at            author_id  \\\n",
       "0           0  2021-04-28T23:14:05.000Z           3312459507   \n",
       "1           1  2021-04-28T23:11:47.000Z           3312459507   \n",
       "2           2  2021-04-28T23:08:44.000Z           3312459507   \n",
       "3           3  2021-04-28T23:07:55.000Z            625806696   \n",
       "4           4  2021-04-28T22:33:27.000Z  1387211500146864130   \n",
       "\n",
       "                    id  \\\n",
       "0  1387545684165988356   \n",
       "1  1387545105754738690   \n",
       "2  1387544340029923336   \n",
       "3  1387544133150158849   \n",
       "4  1387535460269006849   \n",
       "\n",
       "                                                                                                                                                                                                                                                                                  text  \\\n",
       "0                                   @fatimacpb @BCV_ORG_VE #AFECTADOSDICOM El banco Venezuela no me permite movilizar las divisas compradas en dicom 2018 necesito mi dinero @BCV_ORG_VE @sudebaninforma @minecofinanzas @tsj_venezuela @tarekwiliamsaab @josejmoralesu78 @simonzerpad   \n",
       "1                                    @BcodeVenezuela Buenas noches el banco no me permite movilizar las divisas comprada en el dicom 2018 necesito mi dinero #AFECTADOSDICOM @BCV_ORG_VE @sudebaninforma @minecofinanzas @tsj_venezuela @tarekwiliamsaab @josejmoralesu78 @simonzerpad   \n",
       "2                                                             @descifradocom Buenas noches cuando van a liberar las divisas compradas en el dicom en el 2018 #AFECTADOSDICOM @BCV_ORG_VE @sudebaninforma @minecofinanzas @tsj_venezuela @tarekwiliamsaab @josejmoralesu78 @simonzerpad   \n",
       "3  @SudebanInforma Buenas tardes Sres de Sudeban! Denuncia!. Hago de su conocimiento qué en reiteradas visitas a las oficinas del Banco Provincial (Ofc Ppal y Altamira) no están permitiendo el Cambio dé Divisas (€) con la excusa de sólo cambiar a BsS la cantidad de 100€ al Mes.   \n",
       "4         @BcodeVenezuela Sres. BDV desde 2018 tengo bloqueados mis dólares comprados con DICOM, den respuesta a ésto, hay demasiada necesidad con ésta pandemia, sean humanos con el pueblo! @BCV_ORG_VE @sudebaninforma @minecofinanzas @tsj_venezuela @josejmoralesu78 @simonzerpad   \n",
       "\n",
       "        neg       neu       pos score  \n",
       "0  0.995441  0.003068  0.001491   neg  \n",
       "1  0.995416  0.003266  0.001319   neg  \n",
       "2  0.095244  0.888765  0.015991   neu  \n",
       "3  0.992581  0.005516  0.001903   neg  \n",
       "4  0.990154  0.007231  0.002615   neg  "
      ]
     },
     "execution_count": 142,
     "metadata": {},
     "output_type": "execute_result"
    }
   ],
   "source": [
    "resultados.head()"
   ]
  },
  {
   "cell_type": "code",
   "execution_count": 143,
   "id": "74241f91",
   "metadata": {},
   "outputs": [
    {
     "data": {
      "text/plain": [
       "neg    434\n",
       "neu    336\n",
       "pos     30\n",
       "dtype: int64"
      ]
     },
     "execution_count": 143,
     "metadata": {},
     "output_type": "execute_result"
    }
   ],
   "source": [
    "resultados[tags].idxmax(axis=1).value_counts()"
   ]
  },
  {
   "cell_type": "code",
   "execution_count": 144,
   "id": "a19eaccf",
   "metadata": {},
   "outputs": [],
   "source": [
    "resultados.to_csv(f'{id}_score.csv')"
   ]
  }
 ],
 "metadata": {
  "kernelspec": {
   "display_name": "Python 3",
   "language": "python",
   "name": "python3"
  },
  "language_info": {
   "codemirror_mode": {
    "name": "ipython",
    "version": 3
   },
   "file_extension": ".py",
   "mimetype": "text/x-python",
   "name": "python",
   "nbconvert_exporter": "python",
   "pygments_lexer": "ipython3",
   "version": "3.8.6"
  }
 },
 "nbformat": 4,
 "nbformat_minor": 5
}
