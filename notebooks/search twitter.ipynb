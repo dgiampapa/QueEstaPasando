{
 "cells": [
  {
   "cell_type": "code",
   "execution_count": 1,
   "id": "ce521069-6240-4bfa-ad84-7d49ea13374f",
   "metadata": {},
   "outputs": [],
   "source": [
    "%load_ext autoreload\n",
    "%autoreload 2"
   ]
  },
  {
   "cell_type": "code",
   "execution_count": 2,
   "id": "4b1d7fa8-f2fa-416b-b58d-47244192fd55",
   "metadata": {},
   "outputs": [],
   "source": [
    "import warnings\n",
    "warnings.filterwarnings('ignore')"
   ]
  },
  {
   "cell_type": "code",
   "execution_count": 3,
   "id": "be98aaaf-7cd7-441a-9ed5-3afdcf02a556",
   "metadata": {},
   "outputs": [],
   "source": [
    "from tweepy import OAuthHandler, API, Cursor\n",
    "import json\n"
   ]
  },
  {
   "cell_type": "code",
   "execution_count": 4,
   "id": "1ee5868b-73e7-4ad8-a37e-00f532602b70",
   "metadata": {},
   "outputs": [],
   "source": [
    "ckey = 'XTbo2ubWMoeHONk9ASKV5VJNs'\n",
    "csecret = 'UhZY8gagzVaHPlxdyhjMQPJ0ojf42IsZUgKHGQYpJICATIci84'\n",
    "atoken = '38060754-Lh738HRc6XRbJAO9FvuhFSZu5aqXo65SXHjzGYLRQ'\n",
    "asecret = 'TeLJEioRUbuDJl77jiUy35pnDeJiY9lUkMRdzQuBxUl8o'\n",
    "Bearer = 'AAAAAAAAAAAAAAAAAAAAAHbEOwEAAAAAOSRFS1w0Wmx%2BmnDLsTzP%2FeyEglc%3DWsmsldmU9ksMUtzwebxCHbK1GEvweui2yazIe4oMVxpY2jSM2E'"
   ]
  },
  {
   "cell_type": "code",
   "execution_count": 5,
   "id": "2642d8b3-083c-4408-9180-0b5f67478680",
   "metadata": {},
   "outputs": [],
   "source": [
    "auth = OAuthHandler(ckey, csecret)\n",
    "auth.set_access_token(atoken, asecret)"
   ]
  },
  {
   "cell_type": "code",
   "execution_count": 6,
   "id": "4b8ceb1c-99ad-408e-8157-f8ac0f8f4f37",
   "metadata": {},
   "outputs": [],
   "source": [
    "api = API(auth,\n",
    "        wait_on_rate_limit=True,\n",
    "        wait_on_rate_limit_notify=True)"
   ]
  },
  {
   "cell_type": "code",
   "execution_count": 32,
   "id": "df624e28-8f60-4828-825f-9184784360c8",
   "metadata": {},
   "outputs": [],
   "source": [
    " #for tweet in Cursor(api.search, q=\"@SudebanInforma\", tweet_mode=\"extended\").items(2):\n",
    " #    print (json.dumps(tweet._json, indent=4))"
   ]
  },
  {
   "cell_type": "markdown",
   "id": "9d5f482b-57ec-47dd-8e9d-a5b56ac9d53b",
   "metadata": {},
   "source": [
    "# API con request\n",
    "\n",
    "Request de prueba:\n",
    "curl \"https://api.twitter.com/2/users/2244994945/mentions?expansions=author_id&tweet.fields=conversation_id,lang&user.fields=created_at,entities&max_results=5\" -H \"Authorization: Bearer $BEARER_TOKEN\"\n",
    "\n",
    "Página: \n",
    "https://developer.twitter.com/en/docs/twitter-api/tweets/timelines/api-reference/get-users-id-mentions#tab1\n"
   ]
  },
  {
   "cell_type": "code",
   "execution_count": 7,
   "id": "4bf6d466-543a-4556-b9f8-6c3b21182ff8",
   "metadata": {},
   "outputs": [],
   "source": [
    "import requests\n",
    "from requests_oauthlib import OAuth1\n",
    "import pandas as pd\n",
    "\n",
    "#curl \"https://api.twitter.com/2/tweets/search/all?query=from%3Atwitterdev%20new%20-is%3Aretweet&max_results=10\" -H \"Authorization: Bearer $BEARER_TOKEN\"        \n",
    "\n",
    "def buscar_tweets_mentions(mentions_id, cantidad_tweet=800):\n",
    "\n",
    "    headers = {'Authorization': f'Bearer {Bearer}'} # Variable de autorizador\n",
    "    url = f'https://api.twitter.com/2/users/{mentions_id}/mentions' # url de invocacion\n",
    "    respuesta = '' # variable que guarda toda la respuesta\n",
    "    data = pd.DataFrame()\n",
    "    params = {\n",
    "        'tweet.fields': 'created_at,author_id',\n",
    "        'tweet.fields': 'public_metrics',\n",
    "        'max_results':100} \n",
    "    \n",
    "    auth = OAuth1(ckey, csecret,\n",
    "               atoken, asecret)\n",
    "    \n",
    "    for cantidad in range(int(cantidad_tweet/100)):\n",
    "        print (cantidad)\n",
    "        respuesta = requests.get(url, params=params, headers=headers).json()\n",
    "        data = data.append(respuesta['data'])\n",
    "        print ('antes del param')\n",
    "        params = {\n",
    "            'tweet.fields': 'created_at,author_id',\n",
    "            'tweet.fields': 'public_metrics',\n",
    "            'pagination_token': respuesta['meta']['next_token'],\n",
    "            'max_results':100} \n",
    "        print ('despues del param')\n",
    "    print ('fin del for')\n",
    "    return data"
   ]
  },
  {
   "cell_type": "code",
   "execution_count": 107,
   "id": "ea86aa25-b929-485d-8993-0ecafeb50df2",
   "metadata": {},
   "outputs": [],
   "source": [
    "def grabar_tweets(df, ruta_archivo):\n",
    "    df.to_csv(ruta_archivo)"
   ]
  },
  {
   "cell_type": "code",
   "execution_count": 147,
   "id": "9ca10b27-7133-4b4a-af81-1baf7a0d1610",
   "metadata": {},
   "outputs": [],
   "source": [
    "def leer_tweets(ruta_archivo):\n",
    "    return pd.read_csv(ruta_archivo, index_col=0)   "
   ]
  },
  {
   "cell_type": "code",
   "execution_count": 10,
   "id": "c8b1bd1f-8de2-4643-8c31-b62e04c8a3ab",
   "metadata": {},
   "outputs": [
    {
     "name": "stdout",
     "output_type": "stream",
     "text": [
      "0\n",
      "antes del param\n",
      "despues del param\n",
      "1\n",
      "antes del param\n",
      "despues del param\n",
      "2\n",
      "antes del param\n",
      "despues del param\n",
      "3\n",
      "antes del param\n",
      "despues del param\n",
      "4\n",
      "antes del param\n",
      "despues del param\n",
      "5\n",
      "antes del param\n",
      "despues del param\n",
      "6\n",
      "antes del param\n",
      "despues del param\n",
      "7\n",
      "antes del param\n",
      "despues del param\n",
      "fin del for\n"
     ]
    },
    {
     "data": {
      "text/html": [
       "<div>\n",
       "<style scoped>\n",
       "    .dataframe tbody tr th:only-of-type {\n",
       "        vertical-align: middle;\n",
       "    }\n",
       "\n",
       "    .dataframe tbody tr th {\n",
       "        vertical-align: top;\n",
       "    }\n",
       "\n",
       "    .dataframe thead th {\n",
       "        text-align: right;\n",
       "    }\n",
       "</style>\n",
       "<table border=\"1\" class=\"dataframe\">\n",
       "  <thead>\n",
       "    <tr style=\"text-align: right;\">\n",
       "      <th></th>\n",
       "      <th>id</th>\n",
       "      <th>public_metrics</th>\n",
       "      <th>text</th>\n",
       "    </tr>\n",
       "  </thead>\n",
       "  <tbody>\n",
       "    <tr>\n",
       "      <th>0</th>\n",
       "      <td>1387539021983850497</td>\n",
       "      <td>{'retweet_count': 0, 'reply_count': 0, 'like_c...</td>\n",
       "      <td>@MercantilBanco Buenas tardes intento abrir mi...</td>\n",
       "    </tr>\n",
       "    <tr>\n",
       "      <th>1</th>\n",
       "      <td>1387538646832648197</td>\n",
       "      <td>{'retweet_count': 0, 'reply_count': 0, 'like_c...</td>\n",
       "      <td>@MercantilBanco Buenas tardes! En esta oportun...</td>\n",
       "    </tr>\n",
       "    <tr>\n",
       "      <th>2</th>\n",
       "      <td>1387535156626526209</td>\n",
       "      <td>{'retweet_count': 0, 'reply_count': 0, 'like_c...</td>\n",
       "      <td>@MercantilBanco Deseo es reponer  mi tarjeta d...</td>\n",
       "    </tr>\n",
       "    <tr>\n",
       "      <th>3</th>\n",
       "      <td>1387528726712311812</td>\n",
       "      <td>{'retweet_count': 0, 'reply_count': 0, 'like_c...</td>\n",
       "      <td>@jesusmdbtw2012 @MercantilBanco Si lo está, es...</td>\n",
       "    </tr>\n",
       "    <tr>\n",
       "      <th>4</th>\n",
       "      <td>1387524137904754689</td>\n",
       "      <td>{'retweet_count': 1, 'reply_count': 0, 'like_c...</td>\n",
       "      <td>El @MercantilBanco me quito 180.000 Bs por 4 m...</td>\n",
       "    </tr>\n",
       "  </tbody>\n",
       "</table>\n",
       "</div>"
      ],
      "text/plain": [
       "                    id                                     public_metrics  \\\n",
       "0  1387539021983850497  {'retweet_count': 0, 'reply_count': 0, 'like_c...   \n",
       "1  1387538646832648197  {'retweet_count': 0, 'reply_count': 0, 'like_c...   \n",
       "2  1387535156626526209  {'retweet_count': 0, 'reply_count': 0, 'like_c...   \n",
       "3  1387528726712311812  {'retweet_count': 0, 'reply_count': 0, 'like_c...   \n",
       "4  1387524137904754689  {'retweet_count': 1, 'reply_count': 0, 'like_c...   \n",
       "\n",
       "                                                text  \n",
       "0  @MercantilBanco Buenas tardes intento abrir mi...  \n",
       "1  @MercantilBanco Buenas tardes! En esta oportun...  \n",
       "2  @MercantilBanco Deseo es reponer  mi tarjeta d...  \n",
       "3  @jesusmdbtw2012 @MercantilBanco Si lo está, es...  \n",
       "4  El @MercantilBanco me quito 180.000 Bs por 4 m...  "
      ]
     },
     "execution_count": 10,
     "metadata": {},
     "output_type": "execute_result"
    }
   ],
   "source": [
    "id = 67401711\n",
    "respuesta_funcion = buscar_tweets_mentions(id)\n",
    "respuesta_funcion.head()"
   ]
  },
  {
   "cell_type": "code",
   "execution_count": 108,
   "id": "7eebaf75-0018-4bd8-911d-9b9dfd6b9de2",
   "metadata": {},
   "outputs": [],
   "source": [
    "ruta = f'../raw_data/{id}.csv'\n",
    "grabar_tweets(respuesta_funcion, ruta)"
   ]
  },
  {
   "cell_type": "code",
   "execution_count": 148,
   "id": "266bcd80-75c8-4fb2-9c9f-1e07f4b839cb",
   "metadata": {},
   "outputs": [
    {
     "data": {
      "text/html": [
       "<div>\n",
       "<style scoped>\n",
       "    .dataframe tbody tr th:only-of-type {\n",
       "        vertical-align: middle;\n",
       "    }\n",
       "\n",
       "    .dataframe tbody tr th {\n",
       "        vertical-align: top;\n",
       "    }\n",
       "\n",
       "    .dataframe thead th {\n",
       "        text-align: right;\n",
       "    }\n",
       "</style>\n",
       "<table border=\"1\" class=\"dataframe\">\n",
       "  <thead>\n",
       "    <tr style=\"text-align: right;\">\n",
       "      <th></th>\n",
       "      <th>author_id</th>\n",
       "      <th>created_at</th>\n",
       "      <th>id</th>\n",
       "      <th>text</th>\n",
       "    </tr>\n",
       "  </thead>\n",
       "  <tbody>\n",
       "    <tr>\n",
       "      <th>0</th>\n",
       "      <td>601856885</td>\n",
       "      <td>2021-04-27 18:01:08+00:00</td>\n",
       "      <td>1387104539648667649</td>\n",
       "      <td>@MercantilBanco buenas tardes, que debo hacer ...</td>\n",
       "    </tr>\n",
       "    <tr>\n",
       "      <th>1</th>\n",
       "      <td>49336014</td>\n",
       "      <td>2021-04-27 18:00:24+00:00</td>\n",
       "      <td>1387104354910539778</td>\n",
       "      <td>@MercantilBanco requiero hacer un pago electró...</td>\n",
       "    </tr>\n",
       "    <tr>\n",
       "      <th>2</th>\n",
       "      <td>1387101068853714950</td>\n",
       "      <td>2021-04-27 17:52:39+00:00</td>\n",
       "      <td>1387102405041524742</td>\n",
       "      <td>@MercantilBanco estoy afiliado a t pago no pue...</td>\n",
       "    </tr>\n",
       "    <tr>\n",
       "      <th>3</th>\n",
       "      <td>32323041</td>\n",
       "      <td>2021-04-27 17:34:08+00:00</td>\n",
       "      <td>1387097747665391617</td>\n",
       "      <td>@MercantilBanco buenas tardes. Estoy tratando ...</td>\n",
       "    </tr>\n",
       "    <tr>\n",
       "      <th>4</th>\n",
       "      <td>76481335</td>\n",
       "      <td>2021-04-27 17:10:12+00:00</td>\n",
       "      <td>1387091723269115904</td>\n",
       "      <td>@libilis1 @MercantilBanco Ni a mi</td>\n",
       "    </tr>\n",
       "    <tr>\n",
       "      <th>5</th>\n",
       "      <td>150414418</td>\n",
       "      <td>2021-04-27 16:58:04+00:00</td>\n",
       "      <td>1387088671808045057</td>\n",
       "      <td>@MercantilBanco Saludos, a mí me arroja Error ...</td>\n",
       "    </tr>\n",
       "    <tr>\n",
       "      <th>6</th>\n",
       "      <td>150414418</td>\n",
       "      <td>2021-04-27 16:26:25+00:00</td>\n",
       "      <td>1387080705008672777</td>\n",
       "      <td>@MercantilBanco Saludos, a mí me arroja Error ...</td>\n",
       "    </tr>\n",
       "    <tr>\n",
       "      <th>7</th>\n",
       "      <td>150414418</td>\n",
       "      <td>2021-04-27 16:25:36+00:00</td>\n",
       "      <td>1387080501035470854</td>\n",
       "      <td>@MercantilBanco Saludos, a mí me arroja Error ...</td>\n",
       "    </tr>\n",
       "    <tr>\n",
       "      <th>8</th>\n",
       "      <td>150414418</td>\n",
       "      <td>2021-04-27 16:23:47+00:00</td>\n",
       "      <td>1387080042023428096</td>\n",
       "      <td>@MercantilBanco Saludos, a mí me arroja Error ...</td>\n",
       "    </tr>\n",
       "    <tr>\n",
       "      <th>9</th>\n",
       "      <td>461336971</td>\n",
       "      <td>2021-04-27 16:10:47+00:00</td>\n",
       "      <td>1387076770449461252</td>\n",
       "      <td>@MercantilBanco Buenos días, señores @mercanti...</td>\n",
       "    </tr>\n",
       "    <tr>\n",
       "      <th>10</th>\n",
       "      <td>25820025</td>\n",
       "      <td>2021-04-27 15:52:00+00:00</td>\n",
       "      <td>1387072043074588675</td>\n",
       "      <td>@MercantilBanco Buenos días ¿cuando abriran la...</td>\n",
       "    </tr>\n",
       "    <tr>\n",
       "      <th>11</th>\n",
       "      <td>63485645</td>\n",
       "      <td>2021-04-27 15:45:05+00:00</td>\n",
       "      <td>1387070302665027586</td>\n",
       "      <td>@MercantilBanco Mercantil no envía mensajitos ...</td>\n",
       "    </tr>\n",
       "    <tr>\n",
       "      <th>12</th>\n",
       "      <td>158874117</td>\n",
       "      <td>2021-04-27 15:09:23+00:00</td>\n",
       "      <td>1387061320248401925</td>\n",
       "      <td>@MercantilBanco buenos días para atención por ...</td>\n",
       "    </tr>\n",
       "    <tr>\n",
       "      <th>13</th>\n",
       "      <td>1369662806</td>\n",
       "      <td>2021-04-27 14:24:42+00:00</td>\n",
       "      <td>1387050074329391106</td>\n",
       "      <td>@MercantilBanco Buenos dias porque no puedo ha...</td>\n",
       "    </tr>\n",
       "    <tr>\n",
       "      <th>14</th>\n",
       "      <td>106449299</td>\n",
       "      <td>2021-04-27 13:15:10+00:00</td>\n",
       "      <td>1387032577551261700</td>\n",
       "      <td>@fjbastidas @MercantilBanco @MovistarVe Me ocu...</td>\n",
       "    </tr>\n",
       "    <tr>\n",
       "      <th>15</th>\n",
       "      <td>57176102</td>\n",
       "      <td>2021-04-27 12:54:11+00:00</td>\n",
       "      <td>1387027295936909314</td>\n",
       "      <td>@MercantilBanco realicé recarga de @AyudaMovis...</td>\n",
       "    </tr>\n",
       "    <tr>\n",
       "      <th>16</th>\n",
       "      <td>103671092</td>\n",
       "      <td>2021-04-27 12:48:33+00:00</td>\n",
       "      <td>1387025876693491717</td>\n",
       "      <td>@MercantilBanco buen día... necesito saber el ...</td>\n",
       "    </tr>\n",
       "    <tr>\n",
       "      <th>17</th>\n",
       "      <td>357015283</td>\n",
       "      <td>2021-04-27 11:24:47+00:00</td>\n",
       "      <td>1387004796994048001</td>\n",
       "      <td>@MercantilBanco Buenos días, por qué cuando me...</td>\n",
       "    </tr>\n",
       "    <tr>\n",
       "      <th>18</th>\n",
       "      <td>3810611476</td>\n",
       "      <td>2021-04-27 09:48:11+00:00</td>\n",
       "      <td>1386980485348352001</td>\n",
       "      <td>@MercantilBanco Ok y que hago para poder octen...</td>\n",
       "    </tr>\n",
       "    <tr>\n",
       "      <th>19</th>\n",
       "      <td>170325456</td>\n",
       "      <td>2021-04-27 07:26:38+00:00</td>\n",
       "      <td>1386944863573250049</td>\n",
       "      <td>@MercantilBanco Me parece excelente el haber i...</td>\n",
       "    </tr>\n",
       "  </tbody>\n",
       "</table>\n",
       "</div>"
      ],
      "text/plain": [
       "              author_id                created_at                   id  \\\n",
       "0             601856885 2021-04-27 18:01:08+00:00  1387104539648667649   \n",
       "1              49336014 2021-04-27 18:00:24+00:00  1387104354910539778   \n",
       "2   1387101068853714950 2021-04-27 17:52:39+00:00  1387102405041524742   \n",
       "3              32323041 2021-04-27 17:34:08+00:00  1387097747665391617   \n",
       "4              76481335 2021-04-27 17:10:12+00:00  1387091723269115904   \n",
       "5             150414418 2021-04-27 16:58:04+00:00  1387088671808045057   \n",
       "6             150414418 2021-04-27 16:26:25+00:00  1387080705008672777   \n",
       "7             150414418 2021-04-27 16:25:36+00:00  1387080501035470854   \n",
       "8             150414418 2021-04-27 16:23:47+00:00  1387080042023428096   \n",
       "9             461336971 2021-04-27 16:10:47+00:00  1387076770449461252   \n",
       "10             25820025 2021-04-27 15:52:00+00:00  1387072043074588675   \n",
       "11             63485645 2021-04-27 15:45:05+00:00  1387070302665027586   \n",
       "12            158874117 2021-04-27 15:09:23+00:00  1387061320248401925   \n",
       "13           1369662806 2021-04-27 14:24:42+00:00  1387050074329391106   \n",
       "14            106449299 2021-04-27 13:15:10+00:00  1387032577551261700   \n",
       "15             57176102 2021-04-27 12:54:11+00:00  1387027295936909314   \n",
       "16            103671092 2021-04-27 12:48:33+00:00  1387025876693491717   \n",
       "17            357015283 2021-04-27 11:24:47+00:00  1387004796994048001   \n",
       "18           3810611476 2021-04-27 09:48:11+00:00  1386980485348352001   \n",
       "19            170325456 2021-04-27 07:26:38+00:00  1386944863573250049   \n",
       "\n",
       "                                                 text  \n",
       "0   @MercantilBanco buenas tardes, que debo hacer ...  \n",
       "1   @MercantilBanco requiero hacer un pago electró...  \n",
       "2   @MercantilBanco estoy afiliado a t pago no pue...  \n",
       "3   @MercantilBanco buenas tardes. Estoy tratando ...  \n",
       "4                   @libilis1 @MercantilBanco Ni a mi  \n",
       "5   @MercantilBanco Saludos, a mí me arroja Error ...  \n",
       "6   @MercantilBanco Saludos, a mí me arroja Error ...  \n",
       "7   @MercantilBanco Saludos, a mí me arroja Error ...  \n",
       "8   @MercantilBanco Saludos, a mí me arroja Error ...  \n",
       "9   @MercantilBanco Buenos días, señores @mercanti...  \n",
       "10  @MercantilBanco Buenos días ¿cuando abriran la...  \n",
       "11  @MercantilBanco Mercantil no envía mensajitos ...  \n",
       "12  @MercantilBanco buenos días para atención por ...  \n",
       "13  @MercantilBanco Buenos dias porque no puedo ha...  \n",
       "14  @fjbastidas @MercantilBanco @MovistarVe Me ocu...  \n",
       "15  @MercantilBanco realicé recarga de @AyudaMovis...  \n",
       "16  @MercantilBanco buen día... necesito saber el ...  \n",
       "17  @MercantilBanco Buenos días, por qué cuando me...  \n",
       "18  @MercantilBanco Ok y que hago para poder octen...  \n",
       "19  @MercantilBanco Me parece excelente el haber i...  "
      ]
     },
     "execution_count": 148,
     "metadata": {},
     "output_type": "execute_result"
    }
   ],
   "source": [
    "import pandas as pd\n",
    "\n",
    "df_leidos = leer_tweets(f'../raw_data/{id}.csv')\n",
    "\n",
    "##Convertir el campo de fecha en type data\n",
    "df_leidos['created_at'] = pd.to_datetime(df_leidos['created_at'])\n",
    "\n",
    "#respuesta_funcion.shape\n",
    "df_leidos.head(20)"
   ]
  },
  {
   "cell_type": "markdown",
   "id": "76a5b24c-fc84-4cea-a712-ced4e897f71d",
   "metadata": {},
   "source": [
    "# Invocar la funcion desde py"
   ]
  },
  {
   "cell_type": "code",
   "execution_count": 15,
   "id": "b79820eb-ada6-459a-a04d-42a7a4245801",
   "metadata": {},
   "outputs": [],
   "source": [
    "from QueEstaPasando import api_twitter\n",
    "ruta = f'../raw_data/{id}.csv'\n",
    "bancos = ['Mercantil', 'Banesco', 'Venezuela', 'Provincial', 'BOD', 'Sudeban']\n",
    "ids = [67401711, 105219620, 149959442, 126086956, 221765424, 835785594]\n",
    "# ids = [67401711]\n",
    "for id in ids:\n",
    "    respuesta_api = api_twitter.buscar_tweets_mentions(id,800)\n",
    "    ruta = f'{id}.csv'\n",
    "    api_twitter.grabar_tweets(respuesta_api, ruta)"
   ]
  },
  {
   "cell_type": "code",
   "execution_count": 17,
   "id": "133a6e7b-fd44-4635-ac36-3bfa26fbbe77",
   "metadata": {},
   "outputs": [
    {
     "name": "stdout",
     "output_type": "stream",
     "text": [
      "67401711 (800, 5)\n",
      "105219620 (800, 5)\n",
      "149959442 (800, 5)\n",
      "126086956 (800, 5)\n",
      "221765424 (800, 5)\n",
      "835785594 (800, 5)\n"
     ]
    }
   ],
   "source": [
    "for id in ids:\n",
    "    df = pd.read_csv(f'{id}.csv')\n",
    "    print (f'{id} {df.shape}')"
   ]
  },
  {
   "cell_type": "code",
   "execution_count": 37,
   "id": "59c38cb7-d7fd-43dc-ab15-787ea9f02f0c",
   "metadata": {},
   "outputs": [
    {
     "data": {
      "text/html": [
       "<div>\n",
       "<style scoped>\n",
       "    .dataframe tbody tr th:only-of-type {\n",
       "        vertical-align: middle;\n",
       "    }\n",
       "\n",
       "    .dataframe tbody tr th {\n",
       "        vertical-align: top;\n",
       "    }\n",
       "\n",
       "    .dataframe thead th {\n",
       "        text-align: right;\n",
       "    }\n",
       "</style>\n",
       "<table border=\"1\" class=\"dataframe\">\n",
       "  <thead>\n",
       "    <tr style=\"text-align: right;\">\n",
       "      <th></th>\n",
       "      <th>author_id</th>\n",
       "      <th>created_at</th>\n",
       "      <th>id</th>\n",
       "      <th>text</th>\n",
       "    </tr>\n",
       "  </thead>\n",
       "  <tbody>\n",
       "    <tr>\n",
       "      <th>0</th>\n",
       "      <td>601856885</td>\n",
       "      <td>2021-04-27T18:01:08.000Z</td>\n",
       "      <td>1387104539648667649</td>\n",
       "      <td>@MercantilBanco buenas tardes, que debo hacer ...</td>\n",
       "    </tr>\n",
       "    <tr>\n",
       "      <th>1</th>\n",
       "      <td>49336014</td>\n",
       "      <td>2021-04-27T18:00:24.000Z</td>\n",
       "      <td>1387104354910539778</td>\n",
       "      <td>@MercantilBanco requiero hacer un pago electró...</td>\n",
       "    </tr>\n",
       "    <tr>\n",
       "      <th>2</th>\n",
       "      <td>1387101068853714950</td>\n",
       "      <td>2021-04-27T17:52:39.000Z</td>\n",
       "      <td>1387102405041524742</td>\n",
       "      <td>@MercantilBanco estoy afiliado a t pago no pue...</td>\n",
       "    </tr>\n",
       "    <tr>\n",
       "      <th>3</th>\n",
       "      <td>32323041</td>\n",
       "      <td>2021-04-27T17:34:08.000Z</td>\n",
       "      <td>1387097747665391617</td>\n",
       "      <td>@MercantilBanco buenas tardes. Estoy tratando ...</td>\n",
       "    </tr>\n",
       "    <tr>\n",
       "      <th>4</th>\n",
       "      <td>76481335</td>\n",
       "      <td>2021-04-27T17:10:12.000Z</td>\n",
       "      <td>1387091723269115904</td>\n",
       "      <td>@libilis1 @MercantilBanco Ni a mi</td>\n",
       "    </tr>\n",
       "  </tbody>\n",
       "</table>\n",
       "</div>"
      ],
      "text/plain": [
       "             author_id                created_at                   id  \\\n",
       "0            601856885  2021-04-27T18:01:08.000Z  1387104539648667649   \n",
       "1             49336014  2021-04-27T18:00:24.000Z  1387104354910539778   \n",
       "2  1387101068853714950  2021-04-27T17:52:39.000Z  1387102405041524742   \n",
       "3             32323041  2021-04-27T17:34:08.000Z  1387097747665391617   \n",
       "4             76481335  2021-04-27T17:10:12.000Z  1387091723269115904   \n",
       "\n",
       "                                                text  \n",
       "0  @MercantilBanco buenas tardes, que debo hacer ...  \n",
       "1  @MercantilBanco requiero hacer un pago electró...  \n",
       "2  @MercantilBanco estoy afiliado a t pago no pue...  \n",
       "3  @MercantilBanco buenas tardes. Estoy tratando ...  \n",
       "4                  @libilis1 @MercantilBanco Ni a mi  "
      ]
     },
     "execution_count": 37,
     "metadata": {},
     "output_type": "execute_result"
    }
   ],
   "source": [
    "from QueEstaPasando import api_twitter\n",
    "id = 67401711\n",
    "ruta = f'../raw_data/{id}.csv'\n",
    "data_read = api_twitter.leer_tweets(ruta)\n",
    "\n",
    "#data_read = pd.read_csv('../raw_data/67401711.csv', index_col=0)\n",
    "data_read.shape\n",
    "data_read.head()"
   ]
  },
  {
   "cell_type": "code",
   "execution_count": 38,
   "id": "5df8b232-52a4-44b7-9d02-7ab3b3f5d7fe",
   "metadata": {},
   "outputs": [
    {
     "name": "stdout",
     "output_type": "stream",
     "text": [
      "<class 'pandas.core.frame.DataFrame'>\n",
      "Int64Index: 800 entries, 0 to 99\n",
      "Data columns (total 4 columns):\n",
      " #   Column      Non-Null Count  Dtype              \n",
      "---  ------      --------------  -----              \n",
      " 0   author_id   800 non-null    int64              \n",
      " 1   created_at  800 non-null    datetime64[ns, UTC]\n",
      " 2   id          800 non-null    int64              \n",
      " 3   text        800 non-null    object             \n",
      "dtypes: datetime64[ns, UTC](1), int64(2), object(1)\n",
      "memory usage: 31.2+ KB\n"
     ]
    }
   ],
   "source": [
    "import pandas as pd\n",
    "data_read['created_at'] = pd.to_datetime(data_read['created_at'])\n",
    "data_read.info()"
   ]
  },
  {
   "cell_type": "markdown",
   "id": "2a81b4f6-f313-40dd-9473-025c1f924aa5",
   "metadata": {},
   "source": [
    "# Colocar la puntuacion\n",
    "{'neg': 0.077, 'neu': 0.885, 'pos': 0.038, 'compound': -0.4515}"
   ]
  },
  {
   "cell_type": "code",
   "execution_count": 52,
   "id": "e7c7fc3a-7738-4f92-b2fe-5118e5e02e78",
   "metadata": {},
   "outputs": [
    {
     "name": "stdout",
     "output_type": "stream",
     "text": [
      "van 49 registros\n"
     ]
    },
    {
     "ename": "HTTPError",
     "evalue": "HTTP Error 429: Too Many Requests",
     "output_type": "error",
     "traceback": [
      "\u001b[0;31m---------------------------------------------------------------------------\u001b[0m",
      "\u001b[0;31mHTTPError\u001b[0m                                 Traceback (most recent call last)",
      "\u001b[0;32m<ipython-input-52-9d735795c004>\u001b[0m in \u001b[0;36m<module>\u001b[0;34m\u001b[0m\n\u001b[1;32m     18\u001b[0m         \u001b[0minduce_suma\u001b[0m \u001b[0;34m=\u001b[0m \u001b[0;36m0\u001b[0m\u001b[0;34m\u001b[0m\u001b[0;34m\u001b[0m\u001b[0m\n\u001b[1;32m     19\u001b[0m \u001b[0;34m\u001b[0m\u001b[0m\n\u001b[0;32m---> 20\u001b[0;31m     \u001b[0manalisis\u001b[0m \u001b[0;34m=\u001b[0m \u001b[0manalyzer\u001b[0m\u001b[0;34m.\u001b[0m\u001b[0mpolarity_scores\u001b[0m\u001b[0;34m(\u001b[0m\u001b[0mfila\u001b[0m\u001b[0;34m.\u001b[0m\u001b[0mtext\u001b[0m\u001b[0;34m)\u001b[0m\u001b[0;34m\u001b[0m\u001b[0;34m\u001b[0m\u001b[0m\n\u001b[0m\u001b[1;32m     21\u001b[0m \u001b[0;34m\u001b[0m\u001b[0m\n\u001b[1;32m     22\u001b[0m     \u001b[0;31m## Evaluacion de los casos negativos\u001b[0m\u001b[0;34m\u001b[0m\u001b[0;34m\u001b[0m\u001b[0;34m\u001b[0m\u001b[0m\n",
      "\u001b[0;32m~/.pyenv/versions/3.8.6/envs/QueEstaPasando/lib/python3.8/site-packages/vaderSentiment/vaderSentiment.py\u001b[0m in \u001b[0;36mpolarity_scores\u001b[0;34m(self, text)\u001b[0m\n\u001b[1;32m    238\u001b[0m         \u001b[0mvalence\u001b[0m\u001b[0;34m.\u001b[0m\u001b[0;34m\u001b[0m\u001b[0;34m\u001b[0m\u001b[0m\n\u001b[1;32m    239\u001b[0m         \"\"\"\n\u001b[0;32m--> 240\u001b[0;31m         \u001b[0mtext\u001b[0m \u001b[0;34m=\u001b[0m \u001b[0mTranslator\u001b[0m\u001b[0;34m.\u001b[0m\u001b[0mtranslate\u001b[0m\u001b[0;34m(\u001b[0m\u001b[0mtext\u001b[0m\u001b[0;34m,\u001b[0m \u001b[0;34m'en'\u001b[0m\u001b[0;34m)\u001b[0m\u001b[0;34m\u001b[0m\u001b[0;34m\u001b[0m\u001b[0m\n\u001b[0m\u001b[1;32m    241\u001b[0m \u001b[0;34m\u001b[0m\u001b[0m\n\u001b[1;32m    242\u001b[0m         \u001b[0;31m# convert emojis to their textual descriptions\u001b[0m\u001b[0;34m\u001b[0m\u001b[0;34m\u001b[0m\u001b[0;34m\u001b[0m\u001b[0m\n",
      "\u001b[0;32m~/.pyenv/versions/3.8.6/envs/QueEstaPasando/lib/python3.8/site-packages/translatte/translatte.py\u001b[0m in \u001b[0;36mtranslate\u001b[0;34m(input_text, target_lang, source_lang)\u001b[0m\n\u001b[1;32m     26\u001b[0m     \u001b[0;32mdef\u001b[0m \u001b[0mtranslate\u001b[0m\u001b[0;34m(\u001b[0m\u001b[0minput_text\u001b[0m\u001b[0;34m,\u001b[0m \u001b[0mtarget_lang\u001b[0m\u001b[0;34m,\u001b[0m \u001b[0msource_lang\u001b[0m\u001b[0;34m=\u001b[0m\u001b[0;34m'auto'\u001b[0m\u001b[0;34m)\u001b[0m\u001b[0;34m:\u001b[0m\u001b[0;34m\u001b[0m\u001b[0;34m\u001b[0m\u001b[0m\n\u001b[1;32m     27\u001b[0m         \u001b[0murl\u001b[0m \u001b[0;34m=\u001b[0m \u001b[0;34mf\"https://translate.googleapis.com/translate_a/single?client=gtx&sl={source_lang}&tl={target_lang}&dt=t&q={quote(input_text)}\"\u001b[0m\u001b[0;34m\u001b[0m\u001b[0;34m\u001b[0m\u001b[0m\n\u001b[0;32m---> 28\u001b[0;31m         \u001b[0mresponse\u001b[0m \u001b[0;34m=\u001b[0m \u001b[0mTranslator\u001b[0m\u001b[0;34m.\u001b[0m\u001b[0mget_response_from_request\u001b[0m\u001b[0;34m(\u001b[0m\u001b[0mRequest\u001b[0m\u001b[0;34m(\u001b[0m\u001b[0murl\u001b[0m\u001b[0;34m=\u001b[0m\u001b[0murl\u001b[0m\u001b[0;34m)\u001b[0m\u001b[0;34m)\u001b[0m\u001b[0;34m\u001b[0m\u001b[0;34m\u001b[0m\u001b[0m\n\u001b[0m\u001b[1;32m     29\u001b[0m         \u001b[0;32mreturn\u001b[0m \u001b[0mTranslator\u001b[0m\u001b[0;34m.\u001b[0m\u001b[0mget_translation_from_response\u001b[0m\u001b[0;34m(\u001b[0m\u001b[0mresponse\u001b[0m\u001b[0;34m)\u001b[0m\u001b[0;34m\u001b[0m\u001b[0;34m\u001b[0m\u001b[0m\n",
      "\u001b[0;32m~/.pyenv/versions/3.8.6/envs/QueEstaPasando/lib/python3.8/site-packages/translatte/translatte.py\u001b[0m in \u001b[0;36mget_response_from_request\u001b[0;34m(request)\u001b[0m\n\u001b[1;32m     11\u001b[0m     \u001b[0;34m@\u001b[0m\u001b[0mstaticmethod\u001b[0m\u001b[0;34m\u001b[0m\u001b[0;34m\u001b[0m\u001b[0m\n\u001b[1;32m     12\u001b[0m     \u001b[0;32mdef\u001b[0m \u001b[0mget_response_from_request\u001b[0m\u001b[0;34m(\u001b[0m\u001b[0mrequest\u001b[0m\u001b[0;34m)\u001b[0m\u001b[0;34m:\u001b[0m\u001b[0;34m\u001b[0m\u001b[0;34m\u001b[0m\u001b[0m\n\u001b[0;32m---> 13\u001b[0;31m         \u001b[0mresponse\u001b[0m \u001b[0;34m=\u001b[0m \u001b[0murlopen\u001b[0m\u001b[0;34m(\u001b[0m\u001b[0mrequest\u001b[0m\u001b[0;34m)\u001b[0m\u001b[0;34m\u001b[0m\u001b[0;34m\u001b[0m\u001b[0m\n\u001b[0m\u001b[1;32m     14\u001b[0m         \u001b[0;32mreturn\u001b[0m \u001b[0mresponse\u001b[0m\u001b[0;34m.\u001b[0m\u001b[0mread\u001b[0m\u001b[0;34m(\u001b[0m\u001b[0;34m)\u001b[0m\u001b[0;34m\u001b[0m\u001b[0;34m\u001b[0m\u001b[0m\n\u001b[1;32m     15\u001b[0m \u001b[0;34m\u001b[0m\u001b[0m\n",
      "\u001b[0;32m~/.pyenv/versions/3.8.6/lib/python3.8/urllib/request.py\u001b[0m in \u001b[0;36murlopen\u001b[0;34m(url, data, timeout, cafile, capath, cadefault, context)\u001b[0m\n\u001b[1;32m    220\u001b[0m     \u001b[0;32melse\u001b[0m\u001b[0;34m:\u001b[0m\u001b[0;34m\u001b[0m\u001b[0;34m\u001b[0m\u001b[0m\n\u001b[1;32m    221\u001b[0m         \u001b[0mopener\u001b[0m \u001b[0;34m=\u001b[0m \u001b[0m_opener\u001b[0m\u001b[0;34m\u001b[0m\u001b[0;34m\u001b[0m\u001b[0m\n\u001b[0;32m--> 222\u001b[0;31m     \u001b[0;32mreturn\u001b[0m \u001b[0mopener\u001b[0m\u001b[0;34m.\u001b[0m\u001b[0mopen\u001b[0m\u001b[0;34m(\u001b[0m\u001b[0murl\u001b[0m\u001b[0;34m,\u001b[0m \u001b[0mdata\u001b[0m\u001b[0;34m,\u001b[0m \u001b[0mtimeout\u001b[0m\u001b[0;34m)\u001b[0m\u001b[0;34m\u001b[0m\u001b[0;34m\u001b[0m\u001b[0m\n\u001b[0m\u001b[1;32m    223\u001b[0m \u001b[0;34m\u001b[0m\u001b[0m\n\u001b[1;32m    224\u001b[0m \u001b[0;32mdef\u001b[0m \u001b[0minstall_opener\u001b[0m\u001b[0;34m(\u001b[0m\u001b[0mopener\u001b[0m\u001b[0;34m)\u001b[0m\u001b[0;34m:\u001b[0m\u001b[0;34m\u001b[0m\u001b[0;34m\u001b[0m\u001b[0m\n",
      "\u001b[0;32m~/.pyenv/versions/3.8.6/lib/python3.8/urllib/request.py\u001b[0m in \u001b[0;36mopen\u001b[0;34m(self, fullurl, data, timeout)\u001b[0m\n\u001b[1;32m    529\u001b[0m         \u001b[0;32mfor\u001b[0m \u001b[0mprocessor\u001b[0m \u001b[0;32min\u001b[0m \u001b[0mself\u001b[0m\u001b[0;34m.\u001b[0m\u001b[0mprocess_response\u001b[0m\u001b[0;34m.\u001b[0m\u001b[0mget\u001b[0m\u001b[0;34m(\u001b[0m\u001b[0mprotocol\u001b[0m\u001b[0;34m,\u001b[0m \u001b[0;34m[\u001b[0m\u001b[0;34m]\u001b[0m\u001b[0;34m)\u001b[0m\u001b[0;34m:\u001b[0m\u001b[0;34m\u001b[0m\u001b[0;34m\u001b[0m\u001b[0m\n\u001b[1;32m    530\u001b[0m             \u001b[0mmeth\u001b[0m \u001b[0;34m=\u001b[0m \u001b[0mgetattr\u001b[0m\u001b[0;34m(\u001b[0m\u001b[0mprocessor\u001b[0m\u001b[0;34m,\u001b[0m \u001b[0mmeth_name\u001b[0m\u001b[0;34m)\u001b[0m\u001b[0;34m\u001b[0m\u001b[0;34m\u001b[0m\u001b[0m\n\u001b[0;32m--> 531\u001b[0;31m             \u001b[0mresponse\u001b[0m \u001b[0;34m=\u001b[0m \u001b[0mmeth\u001b[0m\u001b[0;34m(\u001b[0m\u001b[0mreq\u001b[0m\u001b[0;34m,\u001b[0m \u001b[0mresponse\u001b[0m\u001b[0;34m)\u001b[0m\u001b[0;34m\u001b[0m\u001b[0;34m\u001b[0m\u001b[0m\n\u001b[0m\u001b[1;32m    532\u001b[0m \u001b[0;34m\u001b[0m\u001b[0m\n\u001b[1;32m    533\u001b[0m         \u001b[0;32mreturn\u001b[0m \u001b[0mresponse\u001b[0m\u001b[0;34m\u001b[0m\u001b[0;34m\u001b[0m\u001b[0m\n",
      "\u001b[0;32m~/.pyenv/versions/3.8.6/lib/python3.8/urllib/request.py\u001b[0m in \u001b[0;36mhttp_response\u001b[0;34m(self, request, response)\u001b[0m\n\u001b[1;32m    638\u001b[0m         \u001b[0;31m# request was successfully received, understood, and accepted.\u001b[0m\u001b[0;34m\u001b[0m\u001b[0;34m\u001b[0m\u001b[0;34m\u001b[0m\u001b[0m\n\u001b[1;32m    639\u001b[0m         \u001b[0;32mif\u001b[0m \u001b[0;32mnot\u001b[0m \u001b[0;34m(\u001b[0m\u001b[0;36m200\u001b[0m \u001b[0;34m<=\u001b[0m \u001b[0mcode\u001b[0m \u001b[0;34m<\u001b[0m \u001b[0;36m300\u001b[0m\u001b[0;34m)\u001b[0m\u001b[0;34m:\u001b[0m\u001b[0;34m\u001b[0m\u001b[0;34m\u001b[0m\u001b[0m\n\u001b[0;32m--> 640\u001b[0;31m             response = self.parent.error(\n\u001b[0m\u001b[1;32m    641\u001b[0m                 'http', request, response, code, msg, hdrs)\n\u001b[1;32m    642\u001b[0m \u001b[0;34m\u001b[0m\u001b[0m\n",
      "\u001b[0;32m~/.pyenv/versions/3.8.6/lib/python3.8/urllib/request.py\u001b[0m in \u001b[0;36merror\u001b[0;34m(self, proto, *args)\u001b[0m\n\u001b[1;32m    567\u001b[0m         \u001b[0;32mif\u001b[0m \u001b[0mhttp_err\u001b[0m\u001b[0;34m:\u001b[0m\u001b[0;34m\u001b[0m\u001b[0;34m\u001b[0m\u001b[0m\n\u001b[1;32m    568\u001b[0m             \u001b[0margs\u001b[0m \u001b[0;34m=\u001b[0m \u001b[0;34m(\u001b[0m\u001b[0mdict\u001b[0m\u001b[0;34m,\u001b[0m \u001b[0;34m'default'\u001b[0m\u001b[0;34m,\u001b[0m \u001b[0;34m'http_error_default'\u001b[0m\u001b[0;34m)\u001b[0m \u001b[0;34m+\u001b[0m \u001b[0morig_args\u001b[0m\u001b[0;34m\u001b[0m\u001b[0;34m\u001b[0m\u001b[0m\n\u001b[0;32m--> 569\u001b[0;31m             \u001b[0;32mreturn\u001b[0m \u001b[0mself\u001b[0m\u001b[0;34m.\u001b[0m\u001b[0m_call_chain\u001b[0m\u001b[0;34m(\u001b[0m\u001b[0;34m*\u001b[0m\u001b[0margs\u001b[0m\u001b[0;34m)\u001b[0m\u001b[0;34m\u001b[0m\u001b[0;34m\u001b[0m\u001b[0m\n\u001b[0m\u001b[1;32m    570\u001b[0m \u001b[0;34m\u001b[0m\u001b[0m\n\u001b[1;32m    571\u001b[0m \u001b[0;31m# XXX probably also want an abstract factory that knows when it makes\u001b[0m\u001b[0;34m\u001b[0m\u001b[0;34m\u001b[0m\u001b[0;34m\u001b[0m\u001b[0m\n",
      "\u001b[0;32m~/.pyenv/versions/3.8.6/lib/python3.8/urllib/request.py\u001b[0m in \u001b[0;36m_call_chain\u001b[0;34m(self, chain, kind, meth_name, *args)\u001b[0m\n\u001b[1;32m    500\u001b[0m         \u001b[0;32mfor\u001b[0m \u001b[0mhandler\u001b[0m \u001b[0;32min\u001b[0m \u001b[0mhandlers\u001b[0m\u001b[0;34m:\u001b[0m\u001b[0;34m\u001b[0m\u001b[0;34m\u001b[0m\u001b[0m\n\u001b[1;32m    501\u001b[0m             \u001b[0mfunc\u001b[0m \u001b[0;34m=\u001b[0m \u001b[0mgetattr\u001b[0m\u001b[0;34m(\u001b[0m\u001b[0mhandler\u001b[0m\u001b[0;34m,\u001b[0m \u001b[0mmeth_name\u001b[0m\u001b[0;34m)\u001b[0m\u001b[0;34m\u001b[0m\u001b[0;34m\u001b[0m\u001b[0m\n\u001b[0;32m--> 502\u001b[0;31m             \u001b[0mresult\u001b[0m \u001b[0;34m=\u001b[0m \u001b[0mfunc\u001b[0m\u001b[0;34m(\u001b[0m\u001b[0;34m*\u001b[0m\u001b[0margs\u001b[0m\u001b[0;34m)\u001b[0m\u001b[0;34m\u001b[0m\u001b[0;34m\u001b[0m\u001b[0m\n\u001b[0m\u001b[1;32m    503\u001b[0m             \u001b[0;32mif\u001b[0m \u001b[0mresult\u001b[0m \u001b[0;32mis\u001b[0m \u001b[0;32mnot\u001b[0m \u001b[0;32mNone\u001b[0m\u001b[0;34m:\u001b[0m\u001b[0;34m\u001b[0m\u001b[0;34m\u001b[0m\u001b[0m\n\u001b[1;32m    504\u001b[0m                 \u001b[0;32mreturn\u001b[0m \u001b[0mresult\u001b[0m\u001b[0;34m\u001b[0m\u001b[0;34m\u001b[0m\u001b[0m\n",
      "\u001b[0;32m~/.pyenv/versions/3.8.6/lib/python3.8/urllib/request.py\u001b[0m in \u001b[0;36mhttp_error_default\u001b[0;34m(self, req, fp, code, msg, hdrs)\u001b[0m\n\u001b[1;32m    647\u001b[0m \u001b[0;32mclass\u001b[0m \u001b[0mHTTPDefaultErrorHandler\u001b[0m\u001b[0;34m(\u001b[0m\u001b[0mBaseHandler\u001b[0m\u001b[0;34m)\u001b[0m\u001b[0;34m:\u001b[0m\u001b[0;34m\u001b[0m\u001b[0;34m\u001b[0m\u001b[0m\n\u001b[1;32m    648\u001b[0m     \u001b[0;32mdef\u001b[0m \u001b[0mhttp_error_default\u001b[0m\u001b[0;34m(\u001b[0m\u001b[0mself\u001b[0m\u001b[0;34m,\u001b[0m \u001b[0mreq\u001b[0m\u001b[0;34m,\u001b[0m \u001b[0mfp\u001b[0m\u001b[0;34m,\u001b[0m \u001b[0mcode\u001b[0m\u001b[0;34m,\u001b[0m \u001b[0mmsg\u001b[0m\u001b[0;34m,\u001b[0m \u001b[0mhdrs\u001b[0m\u001b[0;34m)\u001b[0m\u001b[0;34m:\u001b[0m\u001b[0;34m\u001b[0m\u001b[0;34m\u001b[0m\u001b[0m\n\u001b[0;32m--> 649\u001b[0;31m         \u001b[0;32mraise\u001b[0m \u001b[0mHTTPError\u001b[0m\u001b[0;34m(\u001b[0m\u001b[0mreq\u001b[0m\u001b[0;34m.\u001b[0m\u001b[0mfull_url\u001b[0m\u001b[0;34m,\u001b[0m \u001b[0mcode\u001b[0m\u001b[0;34m,\u001b[0m \u001b[0mmsg\u001b[0m\u001b[0;34m,\u001b[0m \u001b[0mhdrs\u001b[0m\u001b[0;34m,\u001b[0m \u001b[0mfp\u001b[0m\u001b[0;34m)\u001b[0m\u001b[0;34m\u001b[0m\u001b[0;34m\u001b[0m\u001b[0m\n\u001b[0m\u001b[1;32m    650\u001b[0m \u001b[0;34m\u001b[0m\u001b[0m\n\u001b[1;32m    651\u001b[0m \u001b[0;32mclass\u001b[0m \u001b[0mHTTPRedirectHandler\u001b[0m\u001b[0;34m(\u001b[0m\u001b[0mBaseHandler\u001b[0m\u001b[0;34m)\u001b[0m\u001b[0;34m:\u001b[0m\u001b[0;34m\u001b[0m\u001b[0;34m\u001b[0m\u001b[0m\n",
      "\u001b[0;31mHTTPError\u001b[0m: HTTP Error 429: Too Many Requests"
     ]
    }
   ],
   "source": [
    "from vaderSentiment.vaderSentiment import SentimentIntensityAnalyzer\n",
    "\n",
    "analyzer = SentimentIntensityAnalyzer()\n",
    "\n",
    "data_neg = data_read.copy()\n",
    "data_neg['score'] = \"\"\n",
    "data_compound = data_read.copy()\n",
    "data_compound['score'] = \"\"\n",
    "\n",
    "indice_suma = 0\n",
    "\n",
    "for indice_fila, fila in data_read.iterrows():\n",
    "    \n",
    "    indice_suma += 1\n",
    "    if indice_suma == 50:\n",
    "        print (f'van {indice_fila} registros')\n",
    "        time.sleep(5) # sleeps for 5 seconds\n",
    "        indice_suma = 0\n",
    "    \n",
    "    analisis = analyzer.polarity_scores(fila.text)\n",
    "    \n",
    "    ## Evaluacion de los casos negativos\n",
    "    # Negativo mayor a 0\n",
    "    if analisis['neg'] > 0:\n",
    "        data_neg['score'][indice_fila] = 'Negativo'\n",
    "    else:\n",
    "        data_neg['score'][indice_fila] = 'Positivo'\n",
    "\n",
    "    ## Evaluacion de los casos de ponderacion\n",
    "    # ponderacion mayor a 0\n",
    "    if analisis['compound'] > 0:\n",
    "        data_compound['score'][indice_fila] = 'Positivo'\n",
    "    else:\n",
    "        data_compound['score'][indice_fila] = 'Negativo'\n",
    "        \n",
    "data_neg.to_csv('../raw_data/negativo.csv')\n",
    "data_compound.to_csv('../raw_data/compound.csv')"
   ]
  },
  {
   "cell_type": "code",
   "execution_count": 53,
   "id": "697fd073-5d19-4d30-b352-55f30715342e",
   "metadata": {},
   "outputs": [],
   "source": [
    "data_neg.to_csv('../raw_data/negativo.csv')\n",
    "data_compound.to_csv('../raw_data/compound.csv')"
   ]
  },
  {
   "cell_type": "code",
   "execution_count": 60,
   "id": "2dd3e411-6903-4a06-a9fd-38e5a6865ad5",
   "metadata": {},
   "outputs": [
    {
     "data": {
      "text/plain": [
       "Positivo    496\n",
       "Negativo    160\n",
       "            144\n",
       "Name: score, dtype: int64"
      ]
     },
     "execution_count": 60,
     "metadata": {},
     "output_type": "execute_result"
    }
   ],
   "source": [
    "data_neg['score'].value_counts()"
   ]
  },
  {
   "cell_type": "code",
   "execution_count": 61,
   "id": "44eb9757-cad1-48b0-9b29-74ade892679c",
   "metadata": {},
   "outputs": [
    {
     "data": {
      "text/plain": [
       "Positivo    376\n",
       "Negativo    280\n",
       "            144\n",
       "Name: score, dtype: int64"
      ]
     },
     "execution_count": 61,
     "metadata": {},
     "output_type": "execute_result"
    }
   ],
   "source": [
    "data_compound['score'].value_counts()"
   ]
  },
  {
   "cell_type": "code",
   "execution_count": 70,
   "id": "7bc77e76-79ff-4a0d-a84a-b5598ce9222d",
   "metadata": {},
   "outputs": [],
   "source": [
    "cond = data_neg['score']==\"\"\n",
    "data_faltante = data_neg[cond]\n",
    "data_faltante.to_csv('../raw_data/faltantes.csv')"
   ]
  },
  {
   "cell_type": "code",
   "execution_count": 73,
   "id": "89f398b9-3210-45eb-bdc8-af1fc6b92191",
   "metadata": {},
   "outputs": [
    {
     "data": {
      "text/plain": [
       "(144, 6)"
      ]
     },
     "execution_count": 73,
     "metadata": {},
     "output_type": "execute_result"
    }
   ],
   "source": [
    "data_f = pd.read_csv('../raw_data/faltantes.csv')\n",
    "data_f.shape"
   ]
  }
 ],
 "metadata": {
  "kernelspec": {
   "display_name": "Python 3",
   "language": "python",
   "name": "python3"
  },
  "language_info": {
   "codemirror_mode": {
    "name": "ipython",
    "version": 3
   },
   "file_extension": ".py",
   "mimetype": "text/x-python",
   "name": "python",
   "nbconvert_exporter": "python",
   "pygments_lexer": "ipython3",
   "version": "3.8.6"
  }
 },
 "nbformat": 4,
 "nbformat_minor": 5
}
