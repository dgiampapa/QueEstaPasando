{
 "cells": [
  {
   "cell_type": "code",
   "execution_count": 2,
   "id": "ce521069-6240-4bfa-ad84-7d49ea13374f",
   "metadata": {},
   "outputs": [
    {
     "name": "stdout",
     "output_type": "stream",
     "text": [
      "The autoreload extension is already loaded. To reload it, use:\n",
      "  %reload_ext autoreload\n"
     ]
    }
   ],
   "source": [
    "%load_ext autoreload\n",
    "%autoreload 2"
   ]
  },
  {
   "cell_type": "code",
   "execution_count": 3,
   "id": "be98aaaf-7cd7-441a-9ed5-3afdcf02a556",
   "metadata": {},
   "outputs": [],
   "source": [
    "from tweepy import OAuthHandler, API, Cursor\n",
    "import json\n"
   ]
  },
  {
   "cell_type": "code",
   "execution_count": 21,
   "id": "1ee5868b-73e7-4ad8-a37e-00f532602b70",
   "metadata": {},
   "outputs": [],
   "source": [
    "ckey = 'XTbo2ubWMoeHONk9ASKV5VJNs'\n",
    "csecret = 'UhZY8gagzVaHPlxdyhjMQPJ0ojf42IsZUgKHGQYpJICATIci84'\n",
    "atoken = '38060754-Lh738HRc6XRbJAO9FvuhFSZu5aqXo65SXHjzGYLRQ'\n",
    "asecret = 'TeLJEioRUbuDJl77jiUy35pnDeJiY9lUkMRdzQuBxUl8o'\n",
    "Bearer = 'AAAAAAAAAAAAAAAAAAAAAHbEOwEAAAAAOSRFS1w0Wmx%2BmnDLsTzP%2FeyEglc%3DWsmsldmU9ksMUtzwebxCHbK1GEvweui2yazIe4oMVxpY2jSM2E'"
   ]
  },
  {
   "cell_type": "code",
   "execution_count": 22,
   "id": "2642d8b3-083c-4408-9180-0b5f67478680",
   "metadata": {},
   "outputs": [],
   "source": [
    "auth = OAuthHandler(ckey, csecret)\n",
    "auth.set_access_token(atoken, asecret)"
   ]
  },
  {
   "cell_type": "code",
   "execution_count": 23,
   "id": "4b8ceb1c-99ad-408e-8157-f8ac0f8f4f37",
   "metadata": {},
   "outputs": [],
   "source": [
    "api = API(auth,\n",
    "        wait_on_rate_limit=True,\n",
    "        wait_on_rate_limit_notify=True)"
   ]
  },
  {
   "cell_type": "code",
   "execution_count": 32,
   "id": "df624e28-8f60-4828-825f-9184784360c8",
   "metadata": {},
   "outputs": [],
   "source": [
    " #for tweet in Cursor(api.search, q=\"@SudebanInforma\", tweet_mode=\"extended\").items(2):\n",
    " #    print (json.dumps(tweet._json, indent=4))"
   ]
  },
  {
   "cell_type": "markdown",
   "id": "9d5f482b-57ec-47dd-8e9d-a5b56ac9d53b",
   "metadata": {},
   "source": [
    "# API con request\n",
    "\n",
    "Request de prueba:\n",
    "curl \"https://api.twitter.com/2/users/2244994945/mentions?expansions=author_id&tweet.fields=conversation_id,lang&user.fields=created_at,entities&max_results=5\" -H \"Authorization: Bearer $BEARER_TOKEN\"\n",
    "\n",
    "Página: \n",
    "https://developer.twitter.com/en/docs/twitter-api/tweets/timelines/api-reference/get-users-id-mentions#tab1\n"
   ]
  },
  {
   "cell_type": "code",
   "execution_count": 35,
   "id": "4bf6d466-543a-4556-b9f8-6c3b21182ff8",
   "metadata": {},
   "outputs": [],
   "source": [
    "import requests\n",
    "import pandas as pd\n",
    "\n",
    "def buscar_tweets(mentions_id, cantidad_tweet=400):\n",
    "\n",
    "    headers = {'Authorization': f'Bearer {Bearer}'} # Variable de autorizador\n",
    "    url = f'https://api.twitter.com/2/users/{mentions_id}/mentions' # url de invocacion\n",
    "    respuesta = '' # variable que guarda toda la respuesta\n",
    "    data = pd.DataFrame()\n",
    "    params = {\n",
    "        'tweet.fields': 'created_at,author_id',\n",
    "        'max_results':100} \n",
    "    \n",
    "    for cantidad in range(int(cantidad_tweet/100)):\n",
    "            respuesta = requests.get(url, params=params, headers=headers).json()\n",
    "            data = data.append(respuesta['data'])\n",
    "            params = {\n",
    "                'tweet.fields': 'created_at,author_id',\n",
    "                'pagination_token': respuesta['meta']['next_token'],\n",
    "                'max_results':100} \n",
    "    return data"
   ]
  },
  {
   "cell_type": "code",
   "execution_count": 107,
   "id": "ea86aa25-b929-485d-8993-0ecafeb50df2",
   "metadata": {},
   "outputs": [],
   "source": [
    "def grabar_tweets(df, ruta_archivo):\n",
    "    df.to_csv(ruta_archivo)"
   ]
  },
  {
   "cell_type": "code",
   "execution_count": 104,
   "id": "c8b1bd1f-8de2-4643-8c31-b62e04c8a3ab",
   "metadata": {},
   "outputs": [],
   "source": [
    "id = 67401711\n",
    "respuesta_funcion = buscar_tweets(id)"
   ]
  },
  {
   "cell_type": "code",
   "execution_count": 108,
   "id": "7eebaf75-0018-4bd8-911d-9b9dfd6b9de2",
   "metadata": {},
   "outputs": [],
   "source": [
    "ruta = f'../raw_data/{id}.csv'\n",
    "grabar_tweets(respuesta_funcion, ruta)"
   ]
  },
  {
   "cell_type": "code",
   "execution_count": 106,
   "id": "266bcd80-75c8-4fb2-9c9f-1e07f4b839cb",
   "metadata": {},
   "outputs": [
    {
     "data": {
      "text/plain": [
       "(400, 4)"
      ]
     },
     "execution_count": 106,
     "metadata": {},
     "output_type": "execute_result"
    }
   ],
   "source": [
    "respuesta_funcion.shape\n",
    "respuesta_funcion.head(20)"
   ]
  },
  {
   "cell_type": "code",
   "execution_count": 63,
   "id": "b79820eb-ada6-459a-a04d-42a7a4245801",
   "metadata": {},
   "outputs": [],
   "source": [
    "from QueEstaPasando import api_twitter\n",
    "bancos = ['Mercantil', 'Banesco', 'Venezuela', 'Provincial', 'BOD', 'Sudeban']\n",
    "ids = [67401711, 105219620, 149959442, 126086956, 221765424, 835785594]\n",
    "# ids = [67401711]\n",
    "for id in ids:\n",
    "    respuesta_api = api_twitter.buscar_tweets(id)\n",
    "    ruta = f'../raw_data/{id}.csv'\n",
    "    api_twitter.grabar_tweets(respuesta_api, ruta)"
   ]
  },
  {
   "cell_type": "code",
   "execution_count": 64,
   "id": "59c38cb7-d7fd-43dc-ab15-787ea9f02f0c",
   "metadata": {},
   "outputs": [
    {
     "data": {
      "text/html": [
       "<div>\n",
       "<style scoped>\n",
       "    .dataframe tbody tr th:only-of-type {\n",
       "        vertical-align: middle;\n",
       "    }\n",
       "\n",
       "    .dataframe tbody tr th {\n",
       "        vertical-align: top;\n",
       "    }\n",
       "\n",
       "    .dataframe thead th {\n",
       "        text-align: right;\n",
       "    }\n",
       "</style>\n",
       "<table border=\"1\" class=\"dataframe\">\n",
       "  <thead>\n",
       "    <tr style=\"text-align: right;\">\n",
       "      <th></th>\n",
       "      <th>author_id</th>\n",
       "      <th>created_at</th>\n",
       "      <th>text</th>\n",
       "      <th>id</th>\n",
       "    </tr>\n",
       "  </thead>\n",
       "  <tbody>\n",
       "    <tr>\n",
       "      <th>0</th>\n",
       "      <td>25820025</td>\n",
       "      <td>2021-04-27T15:52:00.000Z</td>\n",
       "      <td>@MercantilBanco Buenos días ¿cuando abriran la...</td>\n",
       "      <td>1387072043074588675</td>\n",
       "    </tr>\n",
       "    <tr>\n",
       "      <th>1</th>\n",
       "      <td>63485645</td>\n",
       "      <td>2021-04-27T15:45:05.000Z</td>\n",
       "      <td>@MercantilBanco Mercantil no envía mensajitos ...</td>\n",
       "      <td>1387070302665027586</td>\n",
       "    </tr>\n",
       "    <tr>\n",
       "      <th>2</th>\n",
       "      <td>158874117</td>\n",
       "      <td>2021-04-27T15:09:23.000Z</td>\n",
       "      <td>@MercantilBanco buenos días para atención por ...</td>\n",
       "      <td>1387061320248401925</td>\n",
       "    </tr>\n",
       "    <tr>\n",
       "      <th>3</th>\n",
       "      <td>1369662806</td>\n",
       "      <td>2021-04-27T14:24:42.000Z</td>\n",
       "      <td>@MercantilBanco Buenos dias porque no puedo ha...</td>\n",
       "      <td>1387050074329391106</td>\n",
       "    </tr>\n",
       "    <tr>\n",
       "      <th>4</th>\n",
       "      <td>106449299</td>\n",
       "      <td>2021-04-27T13:15:10.000Z</td>\n",
       "      <td>@fjbastidas @MercantilBanco @MovistarVe Me ocu...</td>\n",
       "      <td>1387032577551261700</td>\n",
       "    </tr>\n",
       "  </tbody>\n",
       "</table>\n",
       "</div>"
      ],
      "text/plain": [
       "    author_id                created_at  \\\n",
       "0    25820025  2021-04-27T15:52:00.000Z   \n",
       "1    63485645  2021-04-27T15:45:05.000Z   \n",
       "2   158874117  2021-04-27T15:09:23.000Z   \n",
       "3  1369662806  2021-04-27T14:24:42.000Z   \n",
       "4   106449299  2021-04-27T13:15:10.000Z   \n",
       "\n",
       "                                                text                   id  \n",
       "0  @MercantilBanco Buenos días ¿cuando abriran la...  1387072043074588675  \n",
       "1  @MercantilBanco Mercantil no envía mensajitos ...  1387070302665027586  \n",
       "2  @MercantilBanco buenos días para atención por ...  1387061320248401925  \n",
       "3  @MercantilBanco Buenos dias porque no puedo ha...  1387050074329391106  \n",
       "4  @fjbastidas @MercantilBanco @MovistarVe Me ocu...  1387032577551261700  "
      ]
     },
     "execution_count": 64,
     "metadata": {},
     "output_type": "execute_result"
    }
   ],
   "source": [
    "data_read = pd.read_csv('../raw_data/67401711.csv', index_col=0)\n",
    "data_read.head()"
   ]
  }
 ],
 "metadata": {
  "kernelspec": {
   "display_name": "Python 3",
   "language": "python",
   "name": "python3"
  },
  "language_info": {
   "codemirror_mode": {
    "name": "ipython",
    "version": 3
   },
   "file_extension": ".py",
   "mimetype": "text/x-python",
   "name": "python",
   "nbconvert_exporter": "python",
   "pygments_lexer": "ipython3",
   "version": "3.8.6"
  }
 },
 "nbformat": 4,
 "nbformat_minor": 5
}
