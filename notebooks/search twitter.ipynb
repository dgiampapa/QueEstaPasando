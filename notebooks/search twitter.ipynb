{
 "cells": [
  {
   "cell_type": "code",
   "execution_count": 2,
   "id": "ce521069-6240-4bfa-ad84-7d49ea13374f",
   "metadata": {},
   "outputs": [
    {
     "name": "stdout",
     "output_type": "stream",
     "text": [
      "The autoreload extension is already loaded. To reload it, use:\n",
      "  %reload_ext autoreload\n"
     ]
    }
   ],
   "source": [
    "%load_ext autoreload\n",
    "%autoreload 2"
   ]
  },
  {
   "cell_type": "code",
   "execution_count": 3,
   "id": "be98aaaf-7cd7-441a-9ed5-3afdcf02a556",
   "metadata": {},
   "outputs": [],
   "source": [
    "from tweepy import OAuthHandler, API, Cursor\n",
    "import json\n"
   ]
  },
  {
   "cell_type": "code",
   "execution_count": 134,
   "id": "1ee5868b-73e7-4ad8-a37e-00f532602b70",
   "metadata": {},
   "outputs": [],
   "source": [
    "ckey = 'XTbo2ubWMoeHONk9ASKV5VJNs'\n",
    "csecret = 'UhZY8gagzVaHPlxdyhjMQPJ0ojf42IsZUgKHGQYpJICATIci84'\n",
    "atoken = '38060754-Lh738HRc6XRbJAO9FvuhFSZu5aqXo65SXHjzGYLRQ'\n",
    "asecret = 'TeLJEioRUbuDJl77jiUy35pnDeJiY9lUkMRdzQuBxUl8o'\n",
    "Bearer = 'AAAAAAAAAAAAAAAAAAAAAHbEOwEAAAAAOSRFS1w0Wmx%2BmnDLsTzP%2FeyEglc%3DWsmsldmU9ksMUtzwebxCHbK1GEvweui2yazIe4oMVxpY2jSM2E'\n",
    "# Bearer = 'AAAAAAAAAAAAAAAAAAAAAHgcCAAAAAAAuXvdZncP5u3ZUYEuy5joUGKjubY%3DWZlXjNkNQbdPa8y2rAaPkVwHOnZa8tXpZbaXB7cLbly28rfbvX'"
   ]
  },
  {
   "cell_type": "code",
   "execution_count": 22,
   "id": "2642d8b3-083c-4408-9180-0b5f67478680",
   "metadata": {},
   "outputs": [],
   "source": [
    "auth = OAuthHandler(ckey, csecret)\n",
    "auth.set_access_token(atoken, asecret)"
   ]
  },
  {
   "cell_type": "code",
   "execution_count": 23,
   "id": "4b8ceb1c-99ad-408e-8157-f8ac0f8f4f37",
   "metadata": {},
   "outputs": [],
   "source": [
    "api = API(auth,\n",
    "        wait_on_rate_limit=True,\n",
    "        wait_on_rate_limit_notify=True)"
   ]
  },
  {
   "cell_type": "code",
   "execution_count": 32,
   "id": "df624e28-8f60-4828-825f-9184784360c8",
   "metadata": {},
   "outputs": [],
   "source": [
    " #for tweet in Cursor(api.search, q=\"@SudebanInforma\", tweet_mode=\"extended\").items(2):\n",
    " #    print (json.dumps(tweet._json, indent=4))"
   ]
  },
  {
   "cell_type": "markdown",
   "id": "9d5f482b-57ec-47dd-8e9d-a5b56ac9d53b",
   "metadata": {},
   "source": [
    "# API con request\n",
    "\n",
    "Request de prueba:\n",
    "curl \"https://api.twitter.com/2/users/2244994945/mentions?expansions=author_id&tweet.fields=conversation_id,lang&user.fields=created_at,entities&max_results=5\" -H \"Authorization: Bearer $BEARER_TOKEN\"\n",
    "\n",
    "Página: \n",
    "https://developer.twitter.com/en/docs/twitter-api/tweets/timelines/api-reference/get-users-id-mentions#tab1\n"
   ]
  },
  {
   "cell_type": "code",
   "execution_count": 135,
   "id": "4bf6d466-543a-4556-b9f8-6c3b21182ff8",
   "metadata": {},
   "outputs": [],
   "source": [
    "import requests\n",
    "import pandas as pd\n",
    "\n",
    "#curl \"https://api.twitter.com/2/tweets/search/all?query=from%3Atwitterdev%20new%20-is%3Aretweet&max_results=10\" -H \"Authorization: Bearer $BEARER_TOKEN\"        \n",
    "\n",
    "def buscar_tweets_mentions(mentions_id, cantidad_tweet=400):\n",
    "\n",
    "    headers = {'Authorization': f'Bearer {Bearer}'} # Variable de autorizador\n",
    "    url = f'https://api.twitter.com/2/users/{mentions_id}/mentions' # url de invocacion\n",
    "    respuesta = '' # variable que guarda toda la respuesta\n",
    "    data = pd.DataFrame()\n",
    "    params = {\n",
    "        'tweet.fields': 'created_at,author_id',\n",
    "        'max_results':10} \n",
    "    \n",
    "    for cantidad in range(int(cantidad_tweet/10)):\n",
    "            respuesta = requests.get(url, params=params, headers=headers).json()\n",
    "            data = data.append(respuesta['data'])\n",
    "            params = {\n",
    "                'tweet.fields': 'created_at,author_id',\n",
    "                'pagination_token': respuesta['meta']['next_token'],\n",
    "                'max_results':10} \n",
    "    \n",
    "    return data"
   ]
  },
  {
   "cell_type": "code",
   "execution_count": 107,
   "id": "ea86aa25-b929-485d-8993-0ecafeb50df2",
   "metadata": {},
   "outputs": [],
   "source": [
    "def grabar_tweets(df, ruta_archivo):\n",
    "    df.to_csv(ruta_archivo)"
   ]
  },
  {
   "cell_type": "code",
   "execution_count": 136,
   "id": "c8b1bd1f-8de2-4643-8c31-b62e04c8a3ab",
   "metadata": {},
   "outputs": [],
   "source": [
    "id = 67401711\n",
    "respuesta_funcion = buscar_tweets_mentions(id,20)"
   ]
  },
  {
   "cell_type": "code",
   "execution_count": 108,
   "id": "7eebaf75-0018-4bd8-911d-9b9dfd6b9de2",
   "metadata": {},
   "outputs": [],
   "source": [
    "ruta = f'../raw_data/{id}.csv'\n",
    "grabar_tweets(respuesta_funcion, ruta)"
   ]
  },
  {
   "cell_type": "code",
   "execution_count": 138,
   "id": "266bcd80-75c8-4fb2-9c9f-1e07f4b839cb",
   "metadata": {},
   "outputs": [
    {
     "name": "stdout",
     "output_type": "stream",
     "text": [
      "<class 'pandas.core.frame.DataFrame'>\n",
      "Int64Index: 800 entries, 0 to 99\n",
      "Data columns (total 4 columns):\n",
      " #   Column      Non-Null Count  Dtype              \n",
      "---  ------      --------------  -----              \n",
      " 0   author_id   800 non-null    int64              \n",
      " 1   created_at  800 non-null    datetime64[ns, UTC]\n",
      " 2   id          800 non-null    int64              \n",
      " 3   text        800 non-null    object             \n",
      "dtypes: datetime64[ns, UTC](1), int64(2), object(1)\n",
      "memory usage: 31.2+ KB\n"
     ]
    }
   ],
   "source": [
    "import pandas as pd\n",
    "data_read['created_at'] = pd.to_datetime(data_read['created_at'])\n",
    "\n",
    "#respuesta_funcion.shape\n",
    "respuesta_funcion.head(20)\n",
    "data_read.info()"
   ]
  },
  {
   "cell_type": "markdown",
   "id": "76a5b24c-fc84-4cea-a712-ced4e897f71d",
   "metadata": {},
   "source": [
    "# Invocar la funcion desde py"
   ]
  },
  {
   "cell_type": "code",
   "execution_count": 128,
   "id": "b79820eb-ada6-459a-a04d-42a7a4245801",
   "metadata": {},
   "outputs": [],
   "source": [
    "from QueEstaPasando import api_twitter\n",
    "bancos = ['Mercantil', 'Banesco', 'Venezuela', 'Provincial', 'BOD', 'Sudeban']\n",
    "# ids = [67401711, 105219620, 149959442, 126086956, 221765424, 835785594]\n",
    "ids = [67401711]\n",
    "for id in ids:\n",
    "    respuesta_api = api_twitter.buscar_tweets_mentions(id,800)\n",
    "    ruta = f'../raw_data/{id}.csv'\n",
    "    api_twitter.grabar_tweets(respuesta_api, ruta)"
   ]
  },
  {
   "cell_type": "code",
   "execution_count": 129,
   "id": "59c38cb7-d7fd-43dc-ab15-787ea9f02f0c",
   "metadata": {},
   "outputs": [
    {
     "data": {
      "text/html": [
       "<div>\n",
       "<style scoped>\n",
       "    .dataframe tbody tr th:only-of-type {\n",
       "        vertical-align: middle;\n",
       "    }\n",
       "\n",
       "    .dataframe tbody tr th {\n",
       "        vertical-align: top;\n",
       "    }\n",
       "\n",
       "    .dataframe thead th {\n",
       "        text-align: right;\n",
       "    }\n",
       "</style>\n",
       "<table border=\"1\" class=\"dataframe\">\n",
       "  <thead>\n",
       "    <tr style=\"text-align: right;\">\n",
       "      <th></th>\n",
       "      <th>author_id</th>\n",
       "      <th>created_at</th>\n",
       "      <th>id</th>\n",
       "      <th>text</th>\n",
       "    </tr>\n",
       "  </thead>\n",
       "  <tbody>\n",
       "    <tr>\n",
       "      <th>0</th>\n",
       "      <td>601856885</td>\n",
       "      <td>2021-04-27T18:01:08.000Z</td>\n",
       "      <td>1387104539648667649</td>\n",
       "      <td>@MercantilBanco buenas tardes, que debo hacer ...</td>\n",
       "    </tr>\n",
       "    <tr>\n",
       "      <th>1</th>\n",
       "      <td>49336014</td>\n",
       "      <td>2021-04-27T18:00:24.000Z</td>\n",
       "      <td>1387104354910539778</td>\n",
       "      <td>@MercantilBanco requiero hacer un pago electró...</td>\n",
       "    </tr>\n",
       "    <tr>\n",
       "      <th>2</th>\n",
       "      <td>1387101068853714950</td>\n",
       "      <td>2021-04-27T17:52:39.000Z</td>\n",
       "      <td>1387102405041524742</td>\n",
       "      <td>@MercantilBanco estoy afiliado a t pago no pue...</td>\n",
       "    </tr>\n",
       "    <tr>\n",
       "      <th>3</th>\n",
       "      <td>32323041</td>\n",
       "      <td>2021-04-27T17:34:08.000Z</td>\n",
       "      <td>1387097747665391617</td>\n",
       "      <td>@MercantilBanco buenas tardes. Estoy tratando ...</td>\n",
       "    </tr>\n",
       "    <tr>\n",
       "      <th>4</th>\n",
       "      <td>76481335</td>\n",
       "      <td>2021-04-27T17:10:12.000Z</td>\n",
       "      <td>1387091723269115904</td>\n",
       "      <td>@libilis1 @MercantilBanco Ni a mi</td>\n",
       "    </tr>\n",
       "  </tbody>\n",
       "</table>\n",
       "</div>"
      ],
      "text/plain": [
       "             author_id                created_at                   id  \\\n",
       "0            601856885  2021-04-27T18:01:08.000Z  1387104539648667649   \n",
       "1             49336014  2021-04-27T18:00:24.000Z  1387104354910539778   \n",
       "2  1387101068853714950  2021-04-27T17:52:39.000Z  1387102405041524742   \n",
       "3             32323041  2021-04-27T17:34:08.000Z  1387097747665391617   \n",
       "4             76481335  2021-04-27T17:10:12.000Z  1387091723269115904   \n",
       "\n",
       "                                                text  \n",
       "0  @MercantilBanco buenas tardes, que debo hacer ...  \n",
       "1  @MercantilBanco requiero hacer un pago electró...  \n",
       "2  @MercantilBanco estoy afiliado a t pago no pue...  \n",
       "3  @MercantilBanco buenas tardes. Estoy tratando ...  \n",
       "4                  @libilis1 @MercantilBanco Ni a mi  "
      ]
     },
     "execution_count": 129,
     "metadata": {},
     "output_type": "execute_result"
    }
   ],
   "source": [
    "data_read = pd.read_csv('../raw_data/67401711.csv', index_col=0)\n",
    "data_read.shape\n",
    "data_read.head()"
   ]
  },
  {
   "cell_type": "code",
   "execution_count": 125,
   "id": "5df8b232-52a4-44b7-9d02-7ab3b3f5d7fe",
   "metadata": {},
   "outputs": [
    {
     "name": "stdout",
     "output_type": "stream",
     "text": [
      "<class 'pandas.core.frame.DataFrame'>\n",
      "Int64Index: 800 entries, 0 to 99\n",
      "Data columns (total 4 columns):\n",
      " #   Column      Non-Null Count  Dtype              \n",
      "---  ------      --------------  -----              \n",
      " 0   created_at  800 non-null    datetime64[ns, UTC]\n",
      " 1   text        800 non-null    object             \n",
      " 2   id          800 non-null    int64              \n",
      " 3   author_id   800 non-null    int64              \n",
      "dtypes: datetime64[ns, UTC](1), int64(2), object(1)\n",
      "memory usage: 31.2+ KB\n"
     ]
    }
   ],
   "source": [
    "import pandas as pd\n",
    "data_read['created_at'] = pd.to_datetime(data_read['created_at'])\n",
    "data_read.info()"
   ]
  }
 ],
 "metadata": {
  "kernelspec": {
   "display_name": "Python 3",
   "language": "python",
   "name": "python3"
  },
  "language_info": {
   "codemirror_mode": {
    "name": "ipython",
    "version": 3
   },
   "file_extension": ".py",
   "mimetype": "text/x-python",
   "name": "python",
   "nbconvert_exporter": "python",
   "pygments_lexer": "ipython3",
   "version": "3.8.6"
  }
 },
 "nbformat": 4,
 "nbformat_minor": 5
}
