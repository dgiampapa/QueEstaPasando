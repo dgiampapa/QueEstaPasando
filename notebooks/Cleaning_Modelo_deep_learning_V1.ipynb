{
 "cells": [
  {
   "cell_type": "markdown",
   "metadata": {},
   "source": [
    "# Data Cleaning"
   ]
  },
  {
   "cell_type": "code",
   "execution_count": 1,
   "metadata": {},
   "outputs": [],
   "source": [
    "#!pip install unidecode"
   ]
  },
  {
   "cell_type": "code",
   "execution_count": 66,
   "metadata": {},
   "outputs": [],
   "source": [
    "import pandas as pd\n",
    "import string\n",
    "import numpy as np\n",
    "from nltk.tokenize import word_tokenize\n",
    "from datetime import datetime\n",
    "from sklearn.model_selection import train_test_split\n",
    "from nltk.corpus import stopwords\n",
    "import unidecode\n",
    "from sklearn.model_selection import learning_curve\n",
    "import matplotlib.pyplot as plt\n",
    "import seaborn as sns"
   ]
  },
  {
   "cell_type": "markdown",
   "metadata": {},
   "source": [
    "## instalacion NLTK"
   ]
  },
  {
   "cell_type": "code",
   "execution_count": 3,
   "metadata": {},
   "outputs": [],
   "source": [
    "#!pip install nltk"
   ]
  },
  {
   "cell_type": "markdown",
   "metadata": {},
   "source": [
    "## instalacion datetime"
   ]
  },
  {
   "cell_type": "code",
   "execution_count": 4,
   "metadata": {
    "scrolled": true
   },
   "outputs": [],
   "source": [
    "#!pip install datetime"
   ]
  },
  {
   "cell_type": "code",
   "execution_count": 5,
   "metadata": {},
   "outputs": [
    {
     "data": {
      "text/html": [
       "<div>\n",
       "<style scoped>\n",
       "    .dataframe tbody tr th:only-of-type {\n",
       "        vertical-align: middle;\n",
       "    }\n",
       "\n",
       "    .dataframe tbody tr th {\n",
       "        vertical-align: top;\n",
       "    }\n",
       "\n",
       "    .dataframe thead th {\n",
       "        text-align: right;\n",
       "    }\n",
       "</style>\n",
       "<table border=\"1\" class=\"dataframe\">\n",
       "  <thead>\n",
       "    <tr style=\"text-align: right;\">\n",
       "      <th></th>\n",
       "      <th>Unnamed: 0.1</th>\n",
       "      <th>text</th>\n",
       "      <th>created_at</th>\n",
       "      <th>author_id</th>\n",
       "      <th>id</th>\n",
       "      <th>neg</th>\n",
       "      <th>neu</th>\n",
       "      <th>pos</th>\n",
       "      <th>score</th>\n",
       "    </tr>\n",
       "  </thead>\n",
       "  <tbody>\n",
       "    <tr>\n",
       "      <th>0</th>\n",
       "      <td>0</td>\n",
       "      <td>@MercantilBanco Buenas tardes intento abrir mi mercantil en línea y dice datos y clave incorrecta...está fallando la plataforma?</td>\n",
       "      <td>2021-04-28T22:47:36.000Z</td>\n",
       "      <td>202148873</td>\n",
       "      <td>1387539021983850497</td>\n",
       "      <td>0.994753</td>\n",
       "      <td>0.004321</td>\n",
       "      <td>0.000926</td>\n",
       "      <td>neg</td>\n",
       "    </tr>\n",
       "    <tr>\n",
       "      <th>1</th>\n",
       "      <td>1</td>\n",
       "      <td>@MercantilBanco Buenas tardes! En esta oportunidad les escribo para saber si hay problemas con la plataforma para realizar transferencias a otras cuentas mercantil ya que al momento de realizar una transferencia me arroja el mensaje de que intente más tardes!</td>\n",
       "      <td>2021-04-28T22:46:07.000Z</td>\n",
       "      <td>1274553941917863936</td>\n",
       "      <td>1387538646832648197</td>\n",
       "      <td>0.666402</td>\n",
       "      <td>0.328037</td>\n",
       "      <td>0.005561</td>\n",
       "      <td>neg</td>\n",
       "    </tr>\n",
       "    <tr>\n",
       "      <th>2</th>\n",
       "      <td>2</td>\n",
       "      <td>@MercantilBanco Deseo es reponer  mi tarjeta de débito</td>\n",
       "      <td>2021-04-28T22:32:15.000Z</td>\n",
       "      <td>343710274</td>\n",
       "      <td>1387535156626526209</td>\n",
       "      <td>0.107078</td>\n",
       "      <td>0.886624</td>\n",
       "      <td>0.006298</td>\n",
       "      <td>neu</td>\n",
       "    </tr>\n",
       "    <tr>\n",
       "      <th>3</th>\n",
       "      <td>3</td>\n",
       "      <td>@jesusmdbtw2012 @MercantilBanco Si lo está, estoy en la misma situación</td>\n",
       "      <td>2021-04-28T22:06:42.000Z</td>\n",
       "      <td>1323258072534552577</td>\n",
       "      <td>1387528726712311812</td>\n",
       "      <td>0.003918</td>\n",
       "      <td>0.989461</td>\n",
       "      <td>0.006621</td>\n",
       "      <td>neu</td>\n",
       "    </tr>\n",
       "    <tr>\n",
       "      <th>4</th>\n",
       "      <td>4</td>\n",
       "      <td>El @MercantilBanco me quito 180.000 Bs por 4 mensajes de texto al 24024 solicitando clave temporal para un pago móvil, la cual nunca llego, son ladrones o no? https://t.co/bVVmvxfhjH</td>\n",
       "      <td>2021-04-28T21:48:28.000Z</td>\n",
       "      <td>1099360339207049218</td>\n",
       "      <td>1387524137904754689</td>\n",
       "      <td>0.996315</td>\n",
       "      <td>0.002650</td>\n",
       "      <td>0.001035</td>\n",
       "      <td>neg</td>\n",
       "    </tr>\n",
       "  </tbody>\n",
       "</table>\n",
       "</div>"
      ],
      "text/plain": [
       "   Unnamed: 0.1  \\\n",
       "0             0   \n",
       "1             1   \n",
       "2             2   \n",
       "3             3   \n",
       "4             4   \n",
       "\n",
       "                                                                                                                                                                                                                                                                  text  \\\n",
       "0                                                                                                                                     @MercantilBanco Buenas tardes intento abrir mi mercantil en línea y dice datos y clave incorrecta...está fallando la plataforma?   \n",
       "1  @MercantilBanco Buenas tardes! En esta oportunidad les escribo para saber si hay problemas con la plataforma para realizar transferencias a otras cuentas mercantil ya que al momento de realizar una transferencia me arroja el mensaje de que intente más tardes!   \n",
       "2                                                                                                                                                                                                               @MercantilBanco Deseo es reponer  mi tarjeta de débito   \n",
       "3                                                                                                                                                                                              @jesusmdbtw2012 @MercantilBanco Si lo está, estoy en la misma situación   \n",
       "4                                                                               El @MercantilBanco me quito 180.000 Bs por 4 mensajes de texto al 24024 solicitando clave temporal para un pago móvil, la cual nunca llego, son ladrones o no? https://t.co/bVVmvxfhjH   \n",
       "\n",
       "                 created_at            author_id                   id  \\\n",
       "0  2021-04-28T22:47:36.000Z            202148873  1387539021983850497   \n",
       "1  2021-04-28T22:46:07.000Z  1274553941917863936  1387538646832648197   \n",
       "2  2021-04-28T22:32:15.000Z            343710274  1387535156626526209   \n",
       "3  2021-04-28T22:06:42.000Z  1323258072534552577  1387528726712311812   \n",
       "4  2021-04-28T21:48:28.000Z  1099360339207049218  1387524137904754689   \n",
       "\n",
       "        neg       neu       pos score  \n",
       "0  0.994753  0.004321  0.000926   neg  \n",
       "1  0.666402  0.328037  0.005561   neg  \n",
       "2  0.107078  0.886624  0.006298   neu  \n",
       "3  0.003918  0.989461  0.006621   neu  \n",
       "4  0.996315  0.002650  0.001035   neg  "
      ]
     },
     "execution_count": 5,
     "metadata": {},
     "output_type": "execute_result"
    }
   ],
   "source": [
    "pd.set_option('max_colwidth', 800) \n",
    "data = pd.read_csv(\"../QueEstaPasando/data/total.csv\", index_col=0)\n",
    "data.head()"
   ]
  },
  {
   "cell_type": "code",
   "execution_count": 6,
   "metadata": {},
   "outputs": [
    {
     "data": {
      "text/plain": [
       "(4800, 9)"
      ]
     },
     "execution_count": 6,
     "metadata": {},
     "output_type": "execute_result"
    }
   ],
   "source": [
    "data.shape"
   ]
  },
  {
   "cell_type": "code",
   "execution_count": 7,
   "metadata": {},
   "outputs": [],
   "source": [
    "df_cleaning = data"
   ]
  },
  {
   "cell_type": "code",
   "execution_count": 8,
   "metadata": {},
   "outputs": [
    {
     "data": {
      "text/plain": [
       "Unnamed: 0.1      int64\n",
       "text             object\n",
       "created_at       object\n",
       "author_id         int64\n",
       "id                int64\n",
       "neg             float64\n",
       "neu             float64\n",
       "pos             float64\n",
       "score            object\n",
       "dtype: object"
      ]
     },
     "execution_count": 8,
     "metadata": {},
     "output_type": "execute_result"
    }
   ],
   "source": [
    "df_cleaning.dtypes"
   ]
  },
  {
   "cell_type": "markdown",
   "metadata": {},
   "source": [
    "## Remover duplicados  mover 1"
   ]
  },
  {
   "cell_type": "code",
   "execution_count": 9,
   "metadata": {},
   "outputs": [],
   "source": [
    "df_cleaning.drop_duplicates(inplace=True)"
   ]
  },
  {
   "cell_type": "code",
   "execution_count": 10,
   "metadata": {},
   "outputs": [
    {
     "data": {
      "text/plain": [
       "(4798, 9)"
      ]
     },
     "execution_count": 10,
     "metadata": {},
     "output_type": "execute_result"
    }
   ],
   "source": [
    "df_cleaning.shape"
   ]
  },
  {
   "cell_type": "markdown",
   "metadata": {},
   "source": [
    "## Revisar y Eliminar Null"
   ]
  },
  {
   "cell_type": "code",
   "execution_count": 11,
   "metadata": {
    "scrolled": true
   },
   "outputs": [
    {
     "data": {
      "text/plain": [
       "Unnamed: 0.1    0\n",
       "text            0\n",
       "created_at      0\n",
       "author_id       0\n",
       "id              0\n",
       "neg             0\n",
       "neu             0\n",
       "pos             0\n",
       "score           0\n",
       "dtype: int64"
      ]
     },
     "execution_count": 11,
     "metadata": {},
     "output_type": "execute_result"
    }
   ],
   "source": [
    "df_cleaning.isna().sum()"
   ]
  },
  {
   "cell_type": "code",
   "execution_count": 12,
   "metadata": {},
   "outputs": [],
   "source": [
    "df_cleaning.dropna(axis=0, inplace=True)"
   ]
  },
  {
   "cell_type": "code",
   "execution_count": 13,
   "metadata": {},
   "outputs": [
    {
     "data": {
      "text/plain": [
       "Unnamed: 0.1    0\n",
       "text            0\n",
       "created_at      0\n",
       "author_id       0\n",
       "id              0\n",
       "neg             0\n",
       "neu             0\n",
       "pos             0\n",
       "score           0\n",
       "dtype: int64"
      ]
     },
     "execution_count": 13,
     "metadata": {},
     "output_type": "execute_result"
    }
   ],
   "source": [
    "df_cleaning.isna().sum()"
   ]
  },
  {
   "cell_type": "markdown",
   "metadata": {},
   "source": [
    "## Eliminar menciones"
   ]
  },
  {
   "cell_type": "code",
   "execution_count": 14,
   "metadata": {},
   "outputs": [],
   "source": [
    "def remove_link(text):\n",
    "    text = \" \".join(filter(lambda x:x[0:4]!='http', text.split()))\n",
    "    return text"
   ]
  },
  {
   "cell_type": "code",
   "execution_count": 15,
   "metadata": {},
   "outputs": [],
   "source": [
    "# df_cleaning['text'] = df_cleaning['text'].apply(remove_link)\n",
    "# df_cleaning.head()"
   ]
  },
  {
   "cell_type": "code",
   "execution_count": 16,
   "metadata": {},
   "outputs": [],
   "source": [
    "def remove_mencion(text):\n",
    "    text = \" \".join(filter(lambda x:x[0]!='@', text.split()))\n",
    "    return text"
   ]
  },
  {
   "cell_type": "code",
   "execution_count": 17,
   "metadata": {},
   "outputs": [
    {
     "data": {
      "text/html": [
       "<div>\n",
       "<style scoped>\n",
       "    .dataframe tbody tr th:only-of-type {\n",
       "        vertical-align: middle;\n",
       "    }\n",
       "\n",
       "    .dataframe tbody tr th {\n",
       "        vertical-align: top;\n",
       "    }\n",
       "\n",
       "    .dataframe thead th {\n",
       "        text-align: right;\n",
       "    }\n",
       "</style>\n",
       "<table border=\"1\" class=\"dataframe\">\n",
       "  <thead>\n",
       "    <tr style=\"text-align: right;\">\n",
       "      <th></th>\n",
       "      <th>Unnamed: 0.1</th>\n",
       "      <th>text</th>\n",
       "      <th>created_at</th>\n",
       "      <th>author_id</th>\n",
       "      <th>id</th>\n",
       "      <th>neg</th>\n",
       "      <th>neu</th>\n",
       "      <th>pos</th>\n",
       "      <th>score</th>\n",
       "    </tr>\n",
       "  </thead>\n",
       "  <tbody>\n",
       "    <tr>\n",
       "      <th>0</th>\n",
       "      <td>0</td>\n",
       "      <td>Buenas tardes intento abrir mi mercantil en línea y dice datos y clave incorrecta...está fallando la plataforma?</td>\n",
       "      <td>2021-04-28T22:47:36.000Z</td>\n",
       "      <td>202148873</td>\n",
       "      <td>1387539021983850497</td>\n",
       "      <td>0.994753</td>\n",
       "      <td>0.004321</td>\n",
       "      <td>0.000926</td>\n",
       "      <td>neg</td>\n",
       "    </tr>\n",
       "    <tr>\n",
       "      <th>1</th>\n",
       "      <td>1</td>\n",
       "      <td>Buenas tardes! En esta oportunidad les escribo para saber si hay problemas con la plataforma para realizar transferencias a otras cuentas mercantil ya que al momento de realizar una transferencia me arroja el mensaje de que intente más tardes!</td>\n",
       "      <td>2021-04-28T22:46:07.000Z</td>\n",
       "      <td>1274553941917863936</td>\n",
       "      <td>1387538646832648197</td>\n",
       "      <td>0.666402</td>\n",
       "      <td>0.328037</td>\n",
       "      <td>0.005561</td>\n",
       "      <td>neg</td>\n",
       "    </tr>\n",
       "    <tr>\n",
       "      <th>2</th>\n",
       "      <td>2</td>\n",
       "      <td>Deseo es reponer mi tarjeta de débito</td>\n",
       "      <td>2021-04-28T22:32:15.000Z</td>\n",
       "      <td>343710274</td>\n",
       "      <td>1387535156626526209</td>\n",
       "      <td>0.107078</td>\n",
       "      <td>0.886624</td>\n",
       "      <td>0.006298</td>\n",
       "      <td>neu</td>\n",
       "    </tr>\n",
       "    <tr>\n",
       "      <th>3</th>\n",
       "      <td>3</td>\n",
       "      <td>Si lo está, estoy en la misma situación</td>\n",
       "      <td>2021-04-28T22:06:42.000Z</td>\n",
       "      <td>1323258072534552577</td>\n",
       "      <td>1387528726712311812</td>\n",
       "      <td>0.003918</td>\n",
       "      <td>0.989461</td>\n",
       "      <td>0.006621</td>\n",
       "      <td>neu</td>\n",
       "    </tr>\n",
       "    <tr>\n",
       "      <th>4</th>\n",
       "      <td>4</td>\n",
       "      <td>El me quito 180.000 Bs por 4 mensajes de texto al 24024 solicitando clave temporal para un pago móvil, la cual nunca llego, son ladrones o no? https://t.co/bVVmvxfhjH</td>\n",
       "      <td>2021-04-28T21:48:28.000Z</td>\n",
       "      <td>1099360339207049218</td>\n",
       "      <td>1387524137904754689</td>\n",
       "      <td>0.996315</td>\n",
       "      <td>0.002650</td>\n",
       "      <td>0.001035</td>\n",
       "      <td>neg</td>\n",
       "    </tr>\n",
       "  </tbody>\n",
       "</table>\n",
       "</div>"
      ],
      "text/plain": [
       "   Unnamed: 0.1  \\\n",
       "0             0   \n",
       "1             1   \n",
       "2             2   \n",
       "3             3   \n",
       "4             4   \n",
       "\n",
       "                                                                                                                                                                                                                                                  text  \\\n",
       "0                                                                                                                                     Buenas tardes intento abrir mi mercantil en línea y dice datos y clave incorrecta...está fallando la plataforma?   \n",
       "1  Buenas tardes! En esta oportunidad les escribo para saber si hay problemas con la plataforma para realizar transferencias a otras cuentas mercantil ya que al momento de realizar una transferencia me arroja el mensaje de que intente más tardes!   \n",
       "2                                                                                                                                                                                                                Deseo es reponer mi tarjeta de débito   \n",
       "3                                                                                                                                                                                                              Si lo está, estoy en la misma situación   \n",
       "4                                                                               El me quito 180.000 Bs por 4 mensajes de texto al 24024 solicitando clave temporal para un pago móvil, la cual nunca llego, son ladrones o no? https://t.co/bVVmvxfhjH   \n",
       "\n",
       "                 created_at            author_id                   id  \\\n",
       "0  2021-04-28T22:47:36.000Z            202148873  1387539021983850497   \n",
       "1  2021-04-28T22:46:07.000Z  1274553941917863936  1387538646832648197   \n",
       "2  2021-04-28T22:32:15.000Z            343710274  1387535156626526209   \n",
       "3  2021-04-28T22:06:42.000Z  1323258072534552577  1387528726712311812   \n",
       "4  2021-04-28T21:48:28.000Z  1099360339207049218  1387524137904754689   \n",
       "\n",
       "        neg       neu       pos score  \n",
       "0  0.994753  0.004321  0.000926   neg  \n",
       "1  0.666402  0.328037  0.005561   neg  \n",
       "2  0.107078  0.886624  0.006298   neu  \n",
       "3  0.003918  0.989461  0.006621   neu  \n",
       "4  0.996315  0.002650  0.001035   neg  "
      ]
     },
     "execution_count": 17,
     "metadata": {},
     "output_type": "execute_result"
    }
   ],
   "source": [
    "df_cleaning['text'] = df_cleaning['text'].apply(remove_mencion)\n",
    "df_cleaning.head()"
   ]
  },
  {
   "cell_type": "markdown",
   "metadata": {},
   "source": [
    "## Formateo de campo fecha"
   ]
  },
  {
   "cell_type": "code",
   "execution_count": 18,
   "metadata": {
    "scrolled": true
   },
   "outputs": [
    {
     "data": {
      "text/html": [
       "<div>\n",
       "<style scoped>\n",
       "    .dataframe tbody tr th:only-of-type {\n",
       "        vertical-align: middle;\n",
       "    }\n",
       "\n",
       "    .dataframe tbody tr th {\n",
       "        vertical-align: top;\n",
       "    }\n",
       "\n",
       "    .dataframe thead th {\n",
       "        text-align: right;\n",
       "    }\n",
       "</style>\n",
       "<table border=\"1\" class=\"dataframe\">\n",
       "  <thead>\n",
       "    <tr style=\"text-align: right;\">\n",
       "      <th></th>\n",
       "      <th>Unnamed: 0.1</th>\n",
       "      <th>text</th>\n",
       "      <th>created_at</th>\n",
       "      <th>author_id</th>\n",
       "      <th>id</th>\n",
       "      <th>neg</th>\n",
       "      <th>neu</th>\n",
       "      <th>pos</th>\n",
       "      <th>score</th>\n",
       "    </tr>\n",
       "  </thead>\n",
       "  <tbody>\n",
       "    <tr>\n",
       "      <th>0</th>\n",
       "      <td>0</td>\n",
       "      <td>Buenas tardes intento abrir mi mercantil en línea y dice datos y clave incorrecta...está fallando la plataforma?</td>\n",
       "      <td>2021-04-28</td>\n",
       "      <td>202148873</td>\n",
       "      <td>1387539021983850497</td>\n",
       "      <td>0.994753</td>\n",
       "      <td>0.004321</td>\n",
       "      <td>0.000926</td>\n",
       "      <td>neg</td>\n",
       "    </tr>\n",
       "    <tr>\n",
       "      <th>1</th>\n",
       "      <td>1</td>\n",
       "      <td>Buenas tardes! En esta oportunidad les escribo para saber si hay problemas con la plataforma para realizar transferencias a otras cuentas mercantil ya que al momento de realizar una transferencia me arroja el mensaje de que intente más tardes!</td>\n",
       "      <td>2021-04-28</td>\n",
       "      <td>1274553941917863936</td>\n",
       "      <td>1387538646832648197</td>\n",
       "      <td>0.666402</td>\n",
       "      <td>0.328037</td>\n",
       "      <td>0.005561</td>\n",
       "      <td>neg</td>\n",
       "    </tr>\n",
       "    <tr>\n",
       "      <th>2</th>\n",
       "      <td>2</td>\n",
       "      <td>Deseo es reponer mi tarjeta de débito</td>\n",
       "      <td>2021-04-28</td>\n",
       "      <td>343710274</td>\n",
       "      <td>1387535156626526209</td>\n",
       "      <td>0.107078</td>\n",
       "      <td>0.886624</td>\n",
       "      <td>0.006298</td>\n",
       "      <td>neu</td>\n",
       "    </tr>\n",
       "    <tr>\n",
       "      <th>3</th>\n",
       "      <td>3</td>\n",
       "      <td>Si lo está, estoy en la misma situación</td>\n",
       "      <td>2021-04-28</td>\n",
       "      <td>1323258072534552577</td>\n",
       "      <td>1387528726712311812</td>\n",
       "      <td>0.003918</td>\n",
       "      <td>0.989461</td>\n",
       "      <td>0.006621</td>\n",
       "      <td>neu</td>\n",
       "    </tr>\n",
       "    <tr>\n",
       "      <th>4</th>\n",
       "      <td>4</td>\n",
       "      <td>El me quito 180.000 Bs por 4 mensajes de texto al 24024 solicitando clave temporal para un pago móvil, la cual nunca llego, son ladrones o no? https://t.co/bVVmvxfhjH</td>\n",
       "      <td>2021-04-28</td>\n",
       "      <td>1099360339207049218</td>\n",
       "      <td>1387524137904754689</td>\n",
       "      <td>0.996315</td>\n",
       "      <td>0.002650</td>\n",
       "      <td>0.001035</td>\n",
       "      <td>neg</td>\n",
       "    </tr>\n",
       "  </tbody>\n",
       "</table>\n",
       "</div>"
      ],
      "text/plain": [
       "   Unnamed: 0.1  \\\n",
       "0             0   \n",
       "1             1   \n",
       "2             2   \n",
       "3             3   \n",
       "4             4   \n",
       "\n",
       "                                                                                                                                                                                                                                                  text  \\\n",
       "0                                                                                                                                     Buenas tardes intento abrir mi mercantil en línea y dice datos y clave incorrecta...está fallando la plataforma?   \n",
       "1  Buenas tardes! En esta oportunidad les escribo para saber si hay problemas con la plataforma para realizar transferencias a otras cuentas mercantil ya que al momento de realizar una transferencia me arroja el mensaje de que intente más tardes!   \n",
       "2                                                                                                                                                                                                                Deseo es reponer mi tarjeta de débito   \n",
       "3                                                                                                                                                                                                              Si lo está, estoy en la misma situación   \n",
       "4                                                                               El me quito 180.000 Bs por 4 mensajes de texto al 24024 solicitando clave temporal para un pago móvil, la cual nunca llego, son ladrones o no? https://t.co/bVVmvxfhjH   \n",
       "\n",
       "  created_at            author_id                   id       neg       neu  \\\n",
       "0 2021-04-28            202148873  1387539021983850497  0.994753  0.004321   \n",
       "1 2021-04-28  1274553941917863936  1387538646832648197  0.666402  0.328037   \n",
       "2 2021-04-28            343710274  1387535156626526209  0.107078  0.886624   \n",
       "3 2021-04-28  1323258072534552577  1387528726712311812  0.003918  0.989461   \n",
       "4 2021-04-28  1099360339207049218  1387524137904754689  0.996315  0.002650   \n",
       "\n",
       "        pos score  \n",
       "0  0.000926   neg  \n",
       "1  0.005561   neg  \n",
       "2  0.006298   neu  \n",
       "3  0.006621   neu  \n",
       "4  0.001035   neg  "
      ]
     },
     "execution_count": 18,
     "metadata": {},
     "output_type": "execute_result"
    }
   ],
   "source": [
    "df_cleaning['created_at'] = pd.to_datetime(df_cleaning['created_at']) #lo hacemos un objeto tiempo\n",
    "df_cleaning['created_at'] = df_cleaning['created_at'].dt.strftime(\"%Y-%m-%d\") #tomo los elementos que quiero de ese objeto\n",
    "df_cleaning['created_at'] = pd.to_datetime(df_cleaning['created_at']) #vuelvo a hacerlo un objeto datetime\n",
    "\n",
    "df_cleaning.head()"
   ]
  },
  {
   "cell_type": "markdown",
   "metadata": {},
   "source": [
    "## Remplaza palabra 't pago' por 'tpago'"
   ]
  },
  {
   "cell_type": "code",
   "execution_count": 19,
   "metadata": {},
   "outputs": [
    {
     "data": {
      "text/html": [
       "<div>\n",
       "<style scoped>\n",
       "    .dataframe tbody tr th:only-of-type {\n",
       "        vertical-align: middle;\n",
       "    }\n",
       "\n",
       "    .dataframe tbody tr th {\n",
       "        vertical-align: top;\n",
       "    }\n",
       "\n",
       "    .dataframe thead th {\n",
       "        text-align: right;\n",
       "    }\n",
       "</style>\n",
       "<table border=\"1\" class=\"dataframe\">\n",
       "  <thead>\n",
       "    <tr style=\"text-align: right;\">\n",
       "      <th></th>\n",
       "      <th>Unnamed: 0.1</th>\n",
       "      <th>text</th>\n",
       "      <th>created_at</th>\n",
       "      <th>author_id</th>\n",
       "      <th>id</th>\n",
       "      <th>neg</th>\n",
       "      <th>neu</th>\n",
       "      <th>pos</th>\n",
       "      <th>score</th>\n",
       "    </tr>\n",
       "  </thead>\n",
       "  <tbody>\n",
       "    <tr>\n",
       "      <th>0</th>\n",
       "      <td>0</td>\n",
       "      <td>Buenas tardes intento abrir mi mercantil en línea y dice datos y clave incorrecta...está fallando la plataforma?</td>\n",
       "      <td>2021-04-28</td>\n",
       "      <td>202148873</td>\n",
       "      <td>1387539021983850497</td>\n",
       "      <td>0.994753</td>\n",
       "      <td>0.004321</td>\n",
       "      <td>0.000926</td>\n",
       "      <td>neg</td>\n",
       "    </tr>\n",
       "    <tr>\n",
       "      <th>1</th>\n",
       "      <td>1</td>\n",
       "      <td>Buenas tardes! En esta oportunidad les escribo para saber si hay problemas con la plataforma para realizar transferencias a otras cuentas mercantil ya que al momento de realizar una transferencia me arroja el mensaje de que intente más tardes!</td>\n",
       "      <td>2021-04-28</td>\n",
       "      <td>1274553941917863936</td>\n",
       "      <td>1387538646832648197</td>\n",
       "      <td>0.666402</td>\n",
       "      <td>0.328037</td>\n",
       "      <td>0.005561</td>\n",
       "      <td>neg</td>\n",
       "    </tr>\n",
       "    <tr>\n",
       "      <th>2</th>\n",
       "      <td>2</td>\n",
       "      <td>Deseo es reponer mi tarjeta de débito</td>\n",
       "      <td>2021-04-28</td>\n",
       "      <td>343710274</td>\n",
       "      <td>1387535156626526209</td>\n",
       "      <td>0.107078</td>\n",
       "      <td>0.886624</td>\n",
       "      <td>0.006298</td>\n",
       "      <td>neu</td>\n",
       "    </tr>\n",
       "    <tr>\n",
       "      <th>3</th>\n",
       "      <td>3</td>\n",
       "      <td>Si lo está, estoy en la misma situación</td>\n",
       "      <td>2021-04-28</td>\n",
       "      <td>1323258072534552577</td>\n",
       "      <td>1387528726712311812</td>\n",
       "      <td>0.003918</td>\n",
       "      <td>0.989461</td>\n",
       "      <td>0.006621</td>\n",
       "      <td>neu</td>\n",
       "    </tr>\n",
       "    <tr>\n",
       "      <th>4</th>\n",
       "      <td>4</td>\n",
       "      <td>El me quito 180.000 Bs por 4 mensajes de texto al 24024 solicitando clave temporal para un pago móvil, la cual nunca llego, son ladrones o no? https://t.co/bVVmvxfhjH</td>\n",
       "      <td>2021-04-28</td>\n",
       "      <td>1099360339207049218</td>\n",
       "      <td>1387524137904754689</td>\n",
       "      <td>0.996315</td>\n",
       "      <td>0.002650</td>\n",
       "      <td>0.001035</td>\n",
       "      <td>neg</td>\n",
       "    </tr>\n",
       "  </tbody>\n",
       "</table>\n",
       "</div>"
      ],
      "text/plain": [
       "   Unnamed: 0.1  \\\n",
       "0             0   \n",
       "1             1   \n",
       "2             2   \n",
       "3             3   \n",
       "4             4   \n",
       "\n",
       "                                                                                                                                                                                                                                                  text  \\\n",
       "0                                                                                                                                     Buenas tardes intento abrir mi mercantil en línea y dice datos y clave incorrecta...está fallando la plataforma?   \n",
       "1  Buenas tardes! En esta oportunidad les escribo para saber si hay problemas con la plataforma para realizar transferencias a otras cuentas mercantil ya que al momento de realizar una transferencia me arroja el mensaje de que intente más tardes!   \n",
       "2                                                                                                                                                                                                                Deseo es reponer mi tarjeta de débito   \n",
       "3                                                                                                                                                                                                              Si lo está, estoy en la misma situación   \n",
       "4                                                                               El me quito 180.000 Bs por 4 mensajes de texto al 24024 solicitando clave temporal para un pago móvil, la cual nunca llego, son ladrones o no? https://t.co/bVVmvxfhjH   \n",
       "\n",
       "  created_at            author_id                   id       neg       neu  \\\n",
       "0 2021-04-28            202148873  1387539021983850497  0.994753  0.004321   \n",
       "1 2021-04-28  1274553941917863936  1387538646832648197  0.666402  0.328037   \n",
       "2 2021-04-28            343710274  1387535156626526209  0.107078  0.886624   \n",
       "3 2021-04-28  1323258072534552577  1387528726712311812  0.003918  0.989461   \n",
       "4 2021-04-28  1099360339207049218  1387524137904754689  0.996315  0.002650   \n",
       "\n",
       "        pos score  \n",
       "0  0.000926   neg  \n",
       "1  0.005561   neg  \n",
       "2  0.006298   neu  \n",
       "3  0.006621   neu  \n",
       "4  0.001035   neg  "
      ]
     },
     "execution_count": 19,
     "metadata": {},
     "output_type": "execute_result"
    }
   ],
   "source": [
    "df_cleaning['text'] = df_cleaning['text'].str.replace('t pago', 'tpago')\n",
    "df_cleaning.head()"
   ]
  },
  {
   "cell_type": "markdown",
   "metadata": {},
   "source": [
    "## Elimina los caracteres iniciales (espacios al principio) y finales (espacios al final)"
   ]
  },
  {
   "cell_type": "code",
   "execution_count": 20,
   "metadata": {},
   "outputs": [
    {
     "data": {
      "text/html": [
       "<div>\n",
       "<style scoped>\n",
       "    .dataframe tbody tr th:only-of-type {\n",
       "        vertical-align: middle;\n",
       "    }\n",
       "\n",
       "    .dataframe tbody tr th {\n",
       "        vertical-align: top;\n",
       "    }\n",
       "\n",
       "    .dataframe thead th {\n",
       "        text-align: right;\n",
       "    }\n",
       "</style>\n",
       "<table border=\"1\" class=\"dataframe\">\n",
       "  <thead>\n",
       "    <tr style=\"text-align: right;\">\n",
       "      <th></th>\n",
       "      <th>Unnamed: 0.1</th>\n",
       "      <th>text</th>\n",
       "      <th>created_at</th>\n",
       "      <th>author_id</th>\n",
       "      <th>id</th>\n",
       "      <th>neg</th>\n",
       "      <th>neu</th>\n",
       "      <th>pos</th>\n",
       "      <th>score</th>\n",
       "    </tr>\n",
       "  </thead>\n",
       "  <tbody>\n",
       "    <tr>\n",
       "      <th>0</th>\n",
       "      <td>0</td>\n",
       "      <td>Buenas tardes intento abrir mi mercantil en línea y dice datos y clave incorrecta...está fallando la plataforma?</td>\n",
       "      <td>2021-04-28</td>\n",
       "      <td>202148873</td>\n",
       "      <td>1387539021983850497</td>\n",
       "      <td>0.994753</td>\n",
       "      <td>0.004321</td>\n",
       "      <td>0.000926</td>\n",
       "      <td>neg</td>\n",
       "    </tr>\n",
       "    <tr>\n",
       "      <th>1</th>\n",
       "      <td>1</td>\n",
       "      <td>Buenas tardes! En esta oportunidad les escribo para saber si hay problemas con la plataforma para realizar transferencias a otras cuentas mercantil ya que al momento de realizar una transferencia me arroja el mensaje de que intente más tardes!</td>\n",
       "      <td>2021-04-28</td>\n",
       "      <td>1274553941917863936</td>\n",
       "      <td>1387538646832648197</td>\n",
       "      <td>0.666402</td>\n",
       "      <td>0.328037</td>\n",
       "      <td>0.005561</td>\n",
       "      <td>neg</td>\n",
       "    </tr>\n",
       "    <tr>\n",
       "      <th>2</th>\n",
       "      <td>2</td>\n",
       "      <td>Deseo es reponer mi tarjeta de débito</td>\n",
       "      <td>2021-04-28</td>\n",
       "      <td>343710274</td>\n",
       "      <td>1387535156626526209</td>\n",
       "      <td>0.107078</td>\n",
       "      <td>0.886624</td>\n",
       "      <td>0.006298</td>\n",
       "      <td>neu</td>\n",
       "    </tr>\n",
       "    <tr>\n",
       "      <th>3</th>\n",
       "      <td>3</td>\n",
       "      <td>Si lo está, estoy en la misma situación</td>\n",
       "      <td>2021-04-28</td>\n",
       "      <td>1323258072534552577</td>\n",
       "      <td>1387528726712311812</td>\n",
       "      <td>0.003918</td>\n",
       "      <td>0.989461</td>\n",
       "      <td>0.006621</td>\n",
       "      <td>neu</td>\n",
       "    </tr>\n",
       "    <tr>\n",
       "      <th>4</th>\n",
       "      <td>4</td>\n",
       "      <td>El me quito 180.000 Bs por 4 mensajes de texto al 24024 solicitando clave temporal para un pago móvil, la cual nunca llego, son ladrones o no? https://t.co/bVVmvxfhjH</td>\n",
       "      <td>2021-04-28</td>\n",
       "      <td>1099360339207049218</td>\n",
       "      <td>1387524137904754689</td>\n",
       "      <td>0.996315</td>\n",
       "      <td>0.002650</td>\n",
       "      <td>0.001035</td>\n",
       "      <td>neg</td>\n",
       "    </tr>\n",
       "  </tbody>\n",
       "</table>\n",
       "</div>"
      ],
      "text/plain": [
       "   Unnamed: 0.1  \\\n",
       "0             0   \n",
       "1             1   \n",
       "2             2   \n",
       "3             3   \n",
       "4             4   \n",
       "\n",
       "                                                                                                                                                                                                                                                  text  \\\n",
       "0                                                                                                                                     Buenas tardes intento abrir mi mercantil en línea y dice datos y clave incorrecta...está fallando la plataforma?   \n",
       "1  Buenas tardes! En esta oportunidad les escribo para saber si hay problemas con la plataforma para realizar transferencias a otras cuentas mercantil ya que al momento de realizar una transferencia me arroja el mensaje de que intente más tardes!   \n",
       "2                                                                                                                                                                                                                Deseo es reponer mi tarjeta de débito   \n",
       "3                                                                                                                                                                                                              Si lo está, estoy en la misma situación   \n",
       "4                                                                               El me quito 180.000 Bs por 4 mensajes de texto al 24024 solicitando clave temporal para un pago móvil, la cual nunca llego, son ladrones o no? https://t.co/bVVmvxfhjH   \n",
       "\n",
       "  created_at            author_id                   id       neg       neu  \\\n",
       "0 2021-04-28            202148873  1387539021983850497  0.994753  0.004321   \n",
       "1 2021-04-28  1274553941917863936  1387538646832648197  0.666402  0.328037   \n",
       "2 2021-04-28            343710274  1387535156626526209  0.107078  0.886624   \n",
       "3 2021-04-28  1323258072534552577  1387528726712311812  0.003918  0.989461   \n",
       "4 2021-04-28  1099360339207049218  1387524137904754689  0.996315  0.002650   \n",
       "\n",
       "        pos score  \n",
       "0  0.000926   neg  \n",
       "1  0.005561   neg  \n",
       "2  0.006298   neu  \n",
       "3  0.006621   neu  \n",
       "4  0.001035   neg  "
      ]
     },
     "execution_count": 20,
     "metadata": {},
     "output_type": "execute_result"
    }
   ],
   "source": [
    "df_cleaning['text'] = df_cleaning['text'].str.strip()\n",
    "df_cleaning.head()"
   ]
  },
  {
   "cell_type": "code",
   "execution_count": null,
   "metadata": {},
   "outputs": [],
   "source": []
  },
  {
   "cell_type": "markdown",
   "metadata": {},
   "source": [
    "## Se Eliminan los Caracteres Especiales\n",
    "\n",
    "👇 Remove punctuation and lower case the text."
   ]
  },
  {
   "cell_type": "code",
   "execution_count": 21,
   "metadata": {},
   "outputs": [
    {
     "data": {
      "text/plain": [
       "'!\"#$%&\\'()*+,-./:;<=>?@[\\\\]^_`{|}~'"
      ]
     },
     "execution_count": 21,
     "metadata": {},
     "output_type": "execute_result"
    }
   ],
   "source": [
    "string.punctuation"
   ]
  },
  {
   "cell_type": "code",
   "execution_count": 22,
   "metadata": {},
   "outputs": [],
   "source": [
    "mi_puntuacion = '!¡\"#$%&\\'()*+,-./:;<=>¿?@[\\\\]^_`{|}~'"
   ]
  },
  {
   "cell_type": "code",
   "execution_count": 23,
   "metadata": {},
   "outputs": [],
   "source": [
    "def remove_puntuation(text):\n",
    "    for punctuation in mi_puntuacion:\n",
    "        text = text.replace(punctuation, \" \")\n",
    "    return text"
   ]
  },
  {
   "cell_type": "code",
   "execution_count": 24,
   "metadata": {},
   "outputs": [
    {
     "data": {
      "text/html": [
       "<div>\n",
       "<style scoped>\n",
       "    .dataframe tbody tr th:only-of-type {\n",
       "        vertical-align: middle;\n",
       "    }\n",
       "\n",
       "    .dataframe tbody tr th {\n",
       "        vertical-align: top;\n",
       "    }\n",
       "\n",
       "    .dataframe thead th {\n",
       "        text-align: right;\n",
       "    }\n",
       "</style>\n",
       "<table border=\"1\" class=\"dataframe\">\n",
       "  <thead>\n",
       "    <tr style=\"text-align: right;\">\n",
       "      <th></th>\n",
       "      <th>Unnamed: 0.1</th>\n",
       "      <th>text</th>\n",
       "      <th>created_at</th>\n",
       "      <th>author_id</th>\n",
       "      <th>id</th>\n",
       "      <th>neg</th>\n",
       "      <th>neu</th>\n",
       "      <th>pos</th>\n",
       "      <th>score</th>\n",
       "    </tr>\n",
       "  </thead>\n",
       "  <tbody>\n",
       "    <tr>\n",
       "      <th>0</th>\n",
       "      <td>0</td>\n",
       "      <td>Buenas tardes intento abrir mi mercantil en línea y dice datos y clave incorrecta   está fallando la plataforma</td>\n",
       "      <td>2021-04-28</td>\n",
       "      <td>202148873</td>\n",
       "      <td>1387539021983850497</td>\n",
       "      <td>0.994753</td>\n",
       "      <td>0.004321</td>\n",
       "      <td>0.000926</td>\n",
       "      <td>neg</td>\n",
       "    </tr>\n",
       "    <tr>\n",
       "      <th>1</th>\n",
       "      <td>1</td>\n",
       "      <td>Buenas tardes  En esta oportunidad les escribo para saber si hay problemas con la plataforma para realizar transferencias a otras cuentas mercantil ya que al momento de realizar una transferencia me arroja el mensaje de que intente más tardes</td>\n",
       "      <td>2021-04-28</td>\n",
       "      <td>1274553941917863936</td>\n",
       "      <td>1387538646832648197</td>\n",
       "      <td>0.666402</td>\n",
       "      <td>0.328037</td>\n",
       "      <td>0.005561</td>\n",
       "      <td>neg</td>\n",
       "    </tr>\n",
       "    <tr>\n",
       "      <th>2</th>\n",
       "      <td>2</td>\n",
       "      <td>Deseo es reponer mi tarjeta de débito</td>\n",
       "      <td>2021-04-28</td>\n",
       "      <td>343710274</td>\n",
       "      <td>1387535156626526209</td>\n",
       "      <td>0.107078</td>\n",
       "      <td>0.886624</td>\n",
       "      <td>0.006298</td>\n",
       "      <td>neu</td>\n",
       "    </tr>\n",
       "    <tr>\n",
       "      <th>3</th>\n",
       "      <td>3</td>\n",
       "      <td>Si lo está  estoy en la misma situación</td>\n",
       "      <td>2021-04-28</td>\n",
       "      <td>1323258072534552577</td>\n",
       "      <td>1387528726712311812</td>\n",
       "      <td>0.003918</td>\n",
       "      <td>0.989461</td>\n",
       "      <td>0.006621</td>\n",
       "      <td>neu</td>\n",
       "    </tr>\n",
       "    <tr>\n",
       "      <th>4</th>\n",
       "      <td>4</td>\n",
       "      <td>El me quito 180 000 Bs por 4 mensajes de texto al 24024 solicitando clave temporal para un pago móvil  la cual nunca llego  son ladrones o no  https   t co bVVmvxfhjH</td>\n",
       "      <td>2021-04-28</td>\n",
       "      <td>1099360339207049218</td>\n",
       "      <td>1387524137904754689</td>\n",
       "      <td>0.996315</td>\n",
       "      <td>0.002650</td>\n",
       "      <td>0.001035</td>\n",
       "      <td>neg</td>\n",
       "    </tr>\n",
       "  </tbody>\n",
       "</table>\n",
       "</div>"
      ],
      "text/plain": [
       "   Unnamed: 0.1  \\\n",
       "0             0   \n",
       "1             1   \n",
       "2             2   \n",
       "3             3   \n",
       "4             4   \n",
       "\n",
       "                                                                                                                                                                                                                                                  text  \\\n",
       "0                                                                                                                                     Buenas tardes intento abrir mi mercantil en línea y dice datos y clave incorrecta   está fallando la plataforma    \n",
       "1  Buenas tardes  En esta oportunidad les escribo para saber si hay problemas con la plataforma para realizar transferencias a otras cuentas mercantil ya que al momento de realizar una transferencia me arroja el mensaje de que intente más tardes    \n",
       "2                                                                                                                                                                                                                Deseo es reponer mi tarjeta de débito   \n",
       "3                                                                                                                                                                                                              Si lo está  estoy en la misma situación   \n",
       "4                                                                               El me quito 180 000 Bs por 4 mensajes de texto al 24024 solicitando clave temporal para un pago móvil  la cual nunca llego  son ladrones o no  https   t co bVVmvxfhjH   \n",
       "\n",
       "  created_at            author_id                   id       neg       neu  \\\n",
       "0 2021-04-28            202148873  1387539021983850497  0.994753  0.004321   \n",
       "1 2021-04-28  1274553941917863936  1387538646832648197  0.666402  0.328037   \n",
       "2 2021-04-28            343710274  1387535156626526209  0.107078  0.886624   \n",
       "3 2021-04-28  1323258072534552577  1387528726712311812  0.003918  0.989461   \n",
       "4 2021-04-28  1099360339207049218  1387524137904754689  0.996315  0.002650   \n",
       "\n",
       "        pos score  \n",
       "0  0.000926   neg  \n",
       "1  0.005561   neg  \n",
       "2  0.006298   neu  \n",
       "3  0.006621   neu  \n",
       "4  0.001035   neg  "
      ]
     },
     "execution_count": 24,
     "metadata": {},
     "output_type": "execute_result"
    }
   ],
   "source": [
    "df_cleaning['text'] = df_cleaning['text'].apply(remove_puntuation)\n",
    "df_cleaning.head()"
   ]
  },
  {
   "cell_type": "markdown",
   "metadata": {},
   "source": [
    "## Covierte en minusculas todo"
   ]
  },
  {
   "cell_type": "code",
   "execution_count": 25,
   "metadata": {},
   "outputs": [],
   "source": [
    "def remove_lower(text1):\n",
    "    text1 = text1.lower()\n",
    "    return text1"
   ]
  },
  {
   "cell_type": "code",
   "execution_count": 26,
   "metadata": {},
   "outputs": [
    {
     "data": {
      "text/html": [
       "<div>\n",
       "<style scoped>\n",
       "    .dataframe tbody tr th:only-of-type {\n",
       "        vertical-align: middle;\n",
       "    }\n",
       "\n",
       "    .dataframe tbody tr th {\n",
       "        vertical-align: top;\n",
       "    }\n",
       "\n",
       "    .dataframe thead th {\n",
       "        text-align: right;\n",
       "    }\n",
       "</style>\n",
       "<table border=\"1\" class=\"dataframe\">\n",
       "  <thead>\n",
       "    <tr style=\"text-align: right;\">\n",
       "      <th></th>\n",
       "      <th>Unnamed: 0.1</th>\n",
       "      <th>text</th>\n",
       "      <th>created_at</th>\n",
       "      <th>author_id</th>\n",
       "      <th>id</th>\n",
       "      <th>neg</th>\n",
       "      <th>neu</th>\n",
       "      <th>pos</th>\n",
       "      <th>score</th>\n",
       "    </tr>\n",
       "  </thead>\n",
       "  <tbody>\n",
       "    <tr>\n",
       "      <th>0</th>\n",
       "      <td>0</td>\n",
       "      <td>buenas tardes intento abrir mi mercantil en línea y dice datos y clave incorrecta   está fallando la plataforma</td>\n",
       "      <td>2021-04-28</td>\n",
       "      <td>202148873</td>\n",
       "      <td>1387539021983850497</td>\n",
       "      <td>0.994753</td>\n",
       "      <td>0.004321</td>\n",
       "      <td>0.000926</td>\n",
       "      <td>neg</td>\n",
       "    </tr>\n",
       "    <tr>\n",
       "      <th>1</th>\n",
       "      <td>1</td>\n",
       "      <td>buenas tardes  en esta oportunidad les escribo para saber si hay problemas con la plataforma para realizar transferencias a otras cuentas mercantil ya que al momento de realizar una transferencia me arroja el mensaje de que intente más tardes</td>\n",
       "      <td>2021-04-28</td>\n",
       "      <td>1274553941917863936</td>\n",
       "      <td>1387538646832648197</td>\n",
       "      <td>0.666402</td>\n",
       "      <td>0.328037</td>\n",
       "      <td>0.005561</td>\n",
       "      <td>neg</td>\n",
       "    </tr>\n",
       "    <tr>\n",
       "      <th>2</th>\n",
       "      <td>2</td>\n",
       "      <td>deseo es reponer mi tarjeta de débito</td>\n",
       "      <td>2021-04-28</td>\n",
       "      <td>343710274</td>\n",
       "      <td>1387535156626526209</td>\n",
       "      <td>0.107078</td>\n",
       "      <td>0.886624</td>\n",
       "      <td>0.006298</td>\n",
       "      <td>neu</td>\n",
       "    </tr>\n",
       "    <tr>\n",
       "      <th>3</th>\n",
       "      <td>3</td>\n",
       "      <td>si lo está  estoy en la misma situación</td>\n",
       "      <td>2021-04-28</td>\n",
       "      <td>1323258072534552577</td>\n",
       "      <td>1387528726712311812</td>\n",
       "      <td>0.003918</td>\n",
       "      <td>0.989461</td>\n",
       "      <td>0.006621</td>\n",
       "      <td>neu</td>\n",
       "    </tr>\n",
       "    <tr>\n",
       "      <th>4</th>\n",
       "      <td>4</td>\n",
       "      <td>el me quito 180 000 bs por 4 mensajes de texto al 24024 solicitando clave temporal para un pago móvil  la cual nunca llego  son ladrones o no  https   t co bvvmvxfhjh</td>\n",
       "      <td>2021-04-28</td>\n",
       "      <td>1099360339207049218</td>\n",
       "      <td>1387524137904754689</td>\n",
       "      <td>0.996315</td>\n",
       "      <td>0.002650</td>\n",
       "      <td>0.001035</td>\n",
       "      <td>neg</td>\n",
       "    </tr>\n",
       "  </tbody>\n",
       "</table>\n",
       "</div>"
      ],
      "text/plain": [
       "   Unnamed: 0.1  \\\n",
       "0             0   \n",
       "1             1   \n",
       "2             2   \n",
       "3             3   \n",
       "4             4   \n",
       "\n",
       "                                                                                                                                                                                                                                                  text  \\\n",
       "0                                                                                                                                     buenas tardes intento abrir mi mercantil en línea y dice datos y clave incorrecta   está fallando la plataforma    \n",
       "1  buenas tardes  en esta oportunidad les escribo para saber si hay problemas con la plataforma para realizar transferencias a otras cuentas mercantil ya que al momento de realizar una transferencia me arroja el mensaje de que intente más tardes    \n",
       "2                                                                                                                                                                                                                deseo es reponer mi tarjeta de débito   \n",
       "3                                                                                                                                                                                                              si lo está  estoy en la misma situación   \n",
       "4                                                                               el me quito 180 000 bs por 4 mensajes de texto al 24024 solicitando clave temporal para un pago móvil  la cual nunca llego  son ladrones o no  https   t co bvvmvxfhjh   \n",
       "\n",
       "  created_at            author_id                   id       neg       neu  \\\n",
       "0 2021-04-28            202148873  1387539021983850497  0.994753  0.004321   \n",
       "1 2021-04-28  1274553941917863936  1387538646832648197  0.666402  0.328037   \n",
       "2 2021-04-28            343710274  1387535156626526209  0.107078  0.886624   \n",
       "3 2021-04-28  1323258072534552577  1387528726712311812  0.003918  0.989461   \n",
       "4 2021-04-28  1099360339207049218  1387524137904754689  0.996315  0.002650   \n",
       "\n",
       "        pos score  \n",
       "0  0.000926   neg  \n",
       "1  0.005561   neg  \n",
       "2  0.006298   neu  \n",
       "3  0.006621   neu  \n",
       "4  0.001035   neg  "
      ]
     },
     "execution_count": 26,
     "metadata": {},
     "output_type": "execute_result"
    }
   ],
   "source": [
    "df_cleaning['text'] = df_cleaning['text'].apply(remove_lower)\n",
    "df_cleaning.head()"
   ]
  },
  {
   "cell_type": "markdown",
   "metadata": {},
   "source": [
    "## Elimina Acentos"
   ]
  },
  {
   "cell_type": "code",
   "execution_count": 27,
   "metadata": {},
   "outputs": [],
   "source": [
    "from unicodedata import normalize\n",
    "def cambia_acentuadas(text):\n",
    "    trans_tab = dict.fromkeys(map(ord, u'\\u0301\\u0308'), None)\n",
    "    text = normalize('NFKC', normalize('NFKD', text).translate(trans_tab))\n",
    "    return text"
   ]
  },
  {
   "cell_type": "code",
   "execution_count": 28,
   "metadata": {},
   "outputs": [
    {
     "data": {
      "text/html": [
       "<div>\n",
       "<style scoped>\n",
       "    .dataframe tbody tr th:only-of-type {\n",
       "        vertical-align: middle;\n",
       "    }\n",
       "\n",
       "    .dataframe tbody tr th {\n",
       "        vertical-align: top;\n",
       "    }\n",
       "\n",
       "    .dataframe thead th {\n",
       "        text-align: right;\n",
       "    }\n",
       "</style>\n",
       "<table border=\"1\" class=\"dataframe\">\n",
       "  <thead>\n",
       "    <tr style=\"text-align: right;\">\n",
       "      <th></th>\n",
       "      <th>Unnamed: 0.1</th>\n",
       "      <th>text</th>\n",
       "      <th>created_at</th>\n",
       "      <th>author_id</th>\n",
       "      <th>id</th>\n",
       "      <th>neg</th>\n",
       "      <th>neu</th>\n",
       "      <th>pos</th>\n",
       "      <th>score</th>\n",
       "    </tr>\n",
       "  </thead>\n",
       "  <tbody>\n",
       "    <tr>\n",
       "      <th>0</th>\n",
       "      <td>0</td>\n",
       "      <td>buenas tardes intento abrir mi mercantil en linea y dice datos y clave incorrecta   esta fallando la plataforma</td>\n",
       "      <td>2021-04-28</td>\n",
       "      <td>202148873</td>\n",
       "      <td>1387539021983850497</td>\n",
       "      <td>0.994753</td>\n",
       "      <td>0.004321</td>\n",
       "      <td>0.000926</td>\n",
       "      <td>neg</td>\n",
       "    </tr>\n",
       "    <tr>\n",
       "      <th>1</th>\n",
       "      <td>1</td>\n",
       "      <td>buenas tardes  en esta oportunidad les escribo para saber si hay problemas con la plataforma para realizar transferencias a otras cuentas mercantil ya que al momento de realizar una transferencia me arroja el mensaje de que intente mas tardes</td>\n",
       "      <td>2021-04-28</td>\n",
       "      <td>1274553941917863936</td>\n",
       "      <td>1387538646832648197</td>\n",
       "      <td>0.666402</td>\n",
       "      <td>0.328037</td>\n",
       "      <td>0.005561</td>\n",
       "      <td>neg</td>\n",
       "    </tr>\n",
       "    <tr>\n",
       "      <th>2</th>\n",
       "      <td>2</td>\n",
       "      <td>deseo es reponer mi tarjeta de debito</td>\n",
       "      <td>2021-04-28</td>\n",
       "      <td>343710274</td>\n",
       "      <td>1387535156626526209</td>\n",
       "      <td>0.107078</td>\n",
       "      <td>0.886624</td>\n",
       "      <td>0.006298</td>\n",
       "      <td>neu</td>\n",
       "    </tr>\n",
       "    <tr>\n",
       "      <th>3</th>\n",
       "      <td>3</td>\n",
       "      <td>si lo esta  estoy en la misma situacion</td>\n",
       "      <td>2021-04-28</td>\n",
       "      <td>1323258072534552577</td>\n",
       "      <td>1387528726712311812</td>\n",
       "      <td>0.003918</td>\n",
       "      <td>0.989461</td>\n",
       "      <td>0.006621</td>\n",
       "      <td>neu</td>\n",
       "    </tr>\n",
       "    <tr>\n",
       "      <th>4</th>\n",
       "      <td>4</td>\n",
       "      <td>el me quito 180 000 bs por 4 mensajes de texto al 24024 solicitando clave temporal para un pago movil  la cual nunca llego  son ladrones o no  https   t co bvvmvxfhjh</td>\n",
       "      <td>2021-04-28</td>\n",
       "      <td>1099360339207049218</td>\n",
       "      <td>1387524137904754689</td>\n",
       "      <td>0.996315</td>\n",
       "      <td>0.002650</td>\n",
       "      <td>0.001035</td>\n",
       "      <td>neg</td>\n",
       "    </tr>\n",
       "  </tbody>\n",
       "</table>\n",
       "</div>"
      ],
      "text/plain": [
       "   Unnamed: 0.1  \\\n",
       "0             0   \n",
       "1             1   \n",
       "2             2   \n",
       "3             3   \n",
       "4             4   \n",
       "\n",
       "                                                                                                                                                                                                                                                  text  \\\n",
       "0                                                                                                                                     buenas tardes intento abrir mi mercantil en linea y dice datos y clave incorrecta   esta fallando la plataforma    \n",
       "1  buenas tardes  en esta oportunidad les escribo para saber si hay problemas con la plataforma para realizar transferencias a otras cuentas mercantil ya que al momento de realizar una transferencia me arroja el mensaje de que intente mas tardes    \n",
       "2                                                                                                                                                                                                                deseo es reponer mi tarjeta de debito   \n",
       "3                                                                                                                                                                                                              si lo esta  estoy en la misma situacion   \n",
       "4                                                                               el me quito 180 000 bs por 4 mensajes de texto al 24024 solicitando clave temporal para un pago movil  la cual nunca llego  son ladrones o no  https   t co bvvmvxfhjh   \n",
       "\n",
       "  created_at            author_id                   id       neg       neu  \\\n",
       "0 2021-04-28            202148873  1387539021983850497  0.994753  0.004321   \n",
       "1 2021-04-28  1274553941917863936  1387538646832648197  0.666402  0.328037   \n",
       "2 2021-04-28            343710274  1387535156626526209  0.107078  0.886624   \n",
       "3 2021-04-28  1323258072534552577  1387528726712311812  0.003918  0.989461   \n",
       "4 2021-04-28  1099360339207049218  1387524137904754689  0.996315  0.002650   \n",
       "\n",
       "        pos score  \n",
       "0  0.000926   neg  \n",
       "1  0.005561   neg  \n",
       "2  0.006298   neu  \n",
       "3  0.006621   neu  \n",
       "4  0.001035   neg  "
      ]
     },
     "execution_count": 28,
     "metadata": {},
     "output_type": "execute_result"
    }
   ],
   "source": [
    "df_cleaning['text'] = df_cleaning['text'].apply(cambia_acentuadas)\n",
    "df_cleaning.head()"
   ]
  },
  {
   "cell_type": "markdown",
   "metadata": {},
   "source": [
    "## Remueve Numeros"
   ]
  },
  {
   "cell_type": "code",
   "execution_count": 29,
   "metadata": {},
   "outputs": [],
   "source": [
    "def remove_numbers(text1):\n",
    "    text1 = ''.join(word for word in text1 if not word.isdigit())\n",
    "    return text1"
   ]
  },
  {
   "cell_type": "code",
   "execution_count": 30,
   "metadata": {},
   "outputs": [
    {
     "data": {
      "text/html": [
       "<div>\n",
       "<style scoped>\n",
       "    .dataframe tbody tr th:only-of-type {\n",
       "        vertical-align: middle;\n",
       "    }\n",
       "\n",
       "    .dataframe tbody tr th {\n",
       "        vertical-align: top;\n",
       "    }\n",
       "\n",
       "    .dataframe thead th {\n",
       "        text-align: right;\n",
       "    }\n",
       "</style>\n",
       "<table border=\"1\" class=\"dataframe\">\n",
       "  <thead>\n",
       "    <tr style=\"text-align: right;\">\n",
       "      <th></th>\n",
       "      <th>Unnamed: 0.1</th>\n",
       "      <th>text</th>\n",
       "      <th>created_at</th>\n",
       "      <th>author_id</th>\n",
       "      <th>id</th>\n",
       "      <th>neg</th>\n",
       "      <th>neu</th>\n",
       "      <th>pos</th>\n",
       "      <th>score</th>\n",
       "    </tr>\n",
       "  </thead>\n",
       "  <tbody>\n",
       "    <tr>\n",
       "      <th>0</th>\n",
       "      <td>0</td>\n",
       "      <td>buenas tardes intento abrir mi mercantil en linea y dice datos y clave incorrecta   esta fallando la plataforma</td>\n",
       "      <td>2021-04-28</td>\n",
       "      <td>202148873</td>\n",
       "      <td>1387539021983850497</td>\n",
       "      <td>0.994753</td>\n",
       "      <td>0.004321</td>\n",
       "      <td>0.000926</td>\n",
       "      <td>neg</td>\n",
       "    </tr>\n",
       "    <tr>\n",
       "      <th>1</th>\n",
       "      <td>1</td>\n",
       "      <td>buenas tardes  en esta oportunidad les escribo para saber si hay problemas con la plataforma para realizar transferencias a otras cuentas mercantil ya que al momento de realizar una transferencia me arroja el mensaje de que intente mas tardes</td>\n",
       "      <td>2021-04-28</td>\n",
       "      <td>1274553941917863936</td>\n",
       "      <td>1387538646832648197</td>\n",
       "      <td>0.666402</td>\n",
       "      <td>0.328037</td>\n",
       "      <td>0.005561</td>\n",
       "      <td>neg</td>\n",
       "    </tr>\n",
       "    <tr>\n",
       "      <th>2</th>\n",
       "      <td>2</td>\n",
       "      <td>deseo es reponer mi tarjeta de debito</td>\n",
       "      <td>2021-04-28</td>\n",
       "      <td>343710274</td>\n",
       "      <td>1387535156626526209</td>\n",
       "      <td>0.107078</td>\n",
       "      <td>0.886624</td>\n",
       "      <td>0.006298</td>\n",
       "      <td>neu</td>\n",
       "    </tr>\n",
       "    <tr>\n",
       "      <th>3</th>\n",
       "      <td>3</td>\n",
       "      <td>si lo esta  estoy en la misma situacion</td>\n",
       "      <td>2021-04-28</td>\n",
       "      <td>1323258072534552577</td>\n",
       "      <td>1387528726712311812</td>\n",
       "      <td>0.003918</td>\n",
       "      <td>0.989461</td>\n",
       "      <td>0.006621</td>\n",
       "      <td>neu</td>\n",
       "    </tr>\n",
       "    <tr>\n",
       "      <th>4</th>\n",
       "      <td>4</td>\n",
       "      <td>el me quito   bs por  mensajes de texto al  solicitando clave temporal para un pago movil  la cual nunca llego  son ladrones o no  https   t co bvvmvxfhjh</td>\n",
       "      <td>2021-04-28</td>\n",
       "      <td>1099360339207049218</td>\n",
       "      <td>1387524137904754689</td>\n",
       "      <td>0.996315</td>\n",
       "      <td>0.002650</td>\n",
       "      <td>0.001035</td>\n",
       "      <td>neg</td>\n",
       "    </tr>\n",
       "  </tbody>\n",
       "</table>\n",
       "</div>"
      ],
      "text/plain": [
       "   Unnamed: 0.1  \\\n",
       "0             0   \n",
       "1             1   \n",
       "2             2   \n",
       "3             3   \n",
       "4             4   \n",
       "\n",
       "                                                                                                                                                                                                                                                  text  \\\n",
       "0                                                                                                                                     buenas tardes intento abrir mi mercantil en linea y dice datos y clave incorrecta   esta fallando la plataforma    \n",
       "1  buenas tardes  en esta oportunidad les escribo para saber si hay problemas con la plataforma para realizar transferencias a otras cuentas mercantil ya que al momento de realizar una transferencia me arroja el mensaje de que intente mas tardes    \n",
       "2                                                                                                                                                                                                                deseo es reponer mi tarjeta de debito   \n",
       "3                                                                                                                                                                                                              si lo esta  estoy en la misma situacion   \n",
       "4                                                                                           el me quito   bs por  mensajes de texto al  solicitando clave temporal para un pago movil  la cual nunca llego  son ladrones o no  https   t co bvvmvxfhjh   \n",
       "\n",
       "  created_at            author_id                   id       neg       neu  \\\n",
       "0 2021-04-28            202148873  1387539021983850497  0.994753  0.004321   \n",
       "1 2021-04-28  1274553941917863936  1387538646832648197  0.666402  0.328037   \n",
       "2 2021-04-28            343710274  1387535156626526209  0.107078  0.886624   \n",
       "3 2021-04-28  1323258072534552577  1387528726712311812  0.003918  0.989461   \n",
       "4 2021-04-28  1099360339207049218  1387524137904754689  0.996315  0.002650   \n",
       "\n",
       "        pos score  \n",
       "0  0.000926   neg  \n",
       "1  0.005561   neg  \n",
       "2  0.006298   neu  \n",
       "3  0.006621   neu  \n",
       "4  0.001035   neg  "
      ]
     },
     "execution_count": 30,
     "metadata": {},
     "output_type": "execute_result"
    }
   ],
   "source": [
    "df_cleaning['text'] = df_cleaning['text'].apply(remove_numbers)\n",
    "df_cleaning.head()"
   ]
  },
  {
   "cell_type": "markdown",
   "metadata": {},
   "source": [
    "## Separar palabras"
   ]
  },
  {
   "cell_type": "code",
   "execution_count": 31,
   "metadata": {},
   "outputs": [],
   "source": [
    "def remove_StopWords(text):\n",
    "    spanish_stopwords = set(stopwords.words('spanish'))\n",
    "    #stop_words = set(stopwords.words('spanish'))\n",
    "    word_tokens = word_tokenize(text) \n",
    "    text = [w for w in word_tokens if not w in spanish_stopwords]\n",
    "    return text"
   ]
  },
  {
   "cell_type": "code",
   "execution_count": 32,
   "metadata": {},
   "outputs": [
    {
     "data": {
      "text/html": [
       "<div>\n",
       "<style scoped>\n",
       "    .dataframe tbody tr th:only-of-type {\n",
       "        vertical-align: middle;\n",
       "    }\n",
       "\n",
       "    .dataframe tbody tr th {\n",
       "        vertical-align: top;\n",
       "    }\n",
       "\n",
       "    .dataframe thead th {\n",
       "        text-align: right;\n",
       "    }\n",
       "</style>\n",
       "<table border=\"1\" class=\"dataframe\">\n",
       "  <thead>\n",
       "    <tr style=\"text-align: right;\">\n",
       "      <th></th>\n",
       "      <th>Unnamed: 0.1</th>\n",
       "      <th>text</th>\n",
       "      <th>created_at</th>\n",
       "      <th>author_id</th>\n",
       "      <th>id</th>\n",
       "      <th>neg</th>\n",
       "      <th>neu</th>\n",
       "      <th>pos</th>\n",
       "      <th>score</th>\n",
       "    </tr>\n",
       "  </thead>\n",
       "  <tbody>\n",
       "    <tr>\n",
       "      <th>0</th>\n",
       "      <td>0</td>\n",
       "      <td>[buenas, tardes, intento, abrir, mercantil, linea, dice, datos, clave, incorrecta, fallando, plataforma]</td>\n",
       "      <td>2021-04-28</td>\n",
       "      <td>202148873</td>\n",
       "      <td>1387539021983850497</td>\n",
       "      <td>0.994753</td>\n",
       "      <td>0.004321</td>\n",
       "      <td>0.000926</td>\n",
       "      <td>neg</td>\n",
       "    </tr>\n",
       "    <tr>\n",
       "      <th>1</th>\n",
       "      <td>1</td>\n",
       "      <td>[buenas, tardes, oportunidad, escribo, saber, si, problemas, plataforma, realizar, transferencias, cuentas, mercantil, momento, realizar, transferencia, arroja, mensaje, intente, mas, tardes]</td>\n",
       "      <td>2021-04-28</td>\n",
       "      <td>1274553941917863936</td>\n",
       "      <td>1387538646832648197</td>\n",
       "      <td>0.666402</td>\n",
       "      <td>0.328037</td>\n",
       "      <td>0.005561</td>\n",
       "      <td>neg</td>\n",
       "    </tr>\n",
       "    <tr>\n",
       "      <th>2</th>\n",
       "      <td>2</td>\n",
       "      <td>[deseo, reponer, tarjeta, debito]</td>\n",
       "      <td>2021-04-28</td>\n",
       "      <td>343710274</td>\n",
       "      <td>1387535156626526209</td>\n",
       "      <td>0.107078</td>\n",
       "      <td>0.886624</td>\n",
       "      <td>0.006298</td>\n",
       "      <td>neu</td>\n",
       "    </tr>\n",
       "    <tr>\n",
       "      <th>3</th>\n",
       "      <td>3</td>\n",
       "      <td>[si, misma, situacion]</td>\n",
       "      <td>2021-04-28</td>\n",
       "      <td>1323258072534552577</td>\n",
       "      <td>1387528726712311812</td>\n",
       "      <td>0.003918</td>\n",
       "      <td>0.989461</td>\n",
       "      <td>0.006621</td>\n",
       "      <td>neu</td>\n",
       "    </tr>\n",
       "    <tr>\n",
       "      <th>4</th>\n",
       "      <td>4</td>\n",
       "      <td>[quito, bs, mensajes, texto, solicitando, clave, temporal, pago, movil, nunca, llego, ladrones, https, t, co, bvvmvxfhjh]</td>\n",
       "      <td>2021-04-28</td>\n",
       "      <td>1099360339207049218</td>\n",
       "      <td>1387524137904754689</td>\n",
       "      <td>0.996315</td>\n",
       "      <td>0.002650</td>\n",
       "      <td>0.001035</td>\n",
       "      <td>neg</td>\n",
       "    </tr>\n",
       "  </tbody>\n",
       "</table>\n",
       "</div>"
      ],
      "text/plain": [
       "   Unnamed: 0.1  \\\n",
       "0             0   \n",
       "1             1   \n",
       "2             2   \n",
       "3             3   \n",
       "4             4   \n",
       "\n",
       "                                                                                                                                                                                              text  \\\n",
       "0                                                                                         [buenas, tardes, intento, abrir, mercantil, linea, dice, datos, clave, incorrecta, fallando, plataforma]   \n",
       "1  [buenas, tardes, oportunidad, escribo, saber, si, problemas, plataforma, realizar, transferencias, cuentas, mercantil, momento, realizar, transferencia, arroja, mensaje, intente, mas, tardes]   \n",
       "2                                                                                                                                                                [deseo, reponer, tarjeta, debito]   \n",
       "3                                                                                                                                                                           [si, misma, situacion]   \n",
       "4                                                                        [quito, bs, mensajes, texto, solicitando, clave, temporal, pago, movil, nunca, llego, ladrones, https, t, co, bvvmvxfhjh]   \n",
       "\n",
       "  created_at            author_id                   id       neg       neu  \\\n",
       "0 2021-04-28            202148873  1387539021983850497  0.994753  0.004321   \n",
       "1 2021-04-28  1274553941917863936  1387538646832648197  0.666402  0.328037   \n",
       "2 2021-04-28            343710274  1387535156626526209  0.107078  0.886624   \n",
       "3 2021-04-28  1323258072534552577  1387528726712311812  0.003918  0.989461   \n",
       "4 2021-04-28  1099360339207049218  1387524137904754689  0.996315  0.002650   \n",
       "\n",
       "        pos score  \n",
       "0  0.000926   neg  \n",
       "1  0.005561   neg  \n",
       "2  0.006298   neu  \n",
       "3  0.006621   neu  \n",
       "4  0.001035   neg  "
      ]
     },
     "execution_count": 32,
     "metadata": {},
     "output_type": "execute_result"
    }
   ],
   "source": [
    "df_cleaning['text'] = df_cleaning['text'].apply(remove_StopWords)\n",
    "df_cleaning.head()"
   ]
  },
  {
   "cell_type": "markdown",
   "metadata": {},
   "source": [
    "## Lemmatizer"
   ]
  },
  {
   "cell_type": "code",
   "execution_count": 33,
   "metadata": {},
   "outputs": [],
   "source": [
    "from nltk.stem import WordNetLemmatizer\n",
    "def remove_Lemmatize(text):\n",
    "    lemmatizer = WordNetLemmatizer()\n",
    "    lemmatized = [lemmatizer.lemmatize(word) for word in text]\n",
    "    str_lemmatizer = \" \".join(lemmatized)\n",
    "    return str_lemmatizer"
   ]
  },
  {
   "cell_type": "code",
   "execution_count": 34,
   "metadata": {},
   "outputs": [
    {
     "data": {
      "text/html": [
       "<div>\n",
       "<style scoped>\n",
       "    .dataframe tbody tr th:only-of-type {\n",
       "        vertical-align: middle;\n",
       "    }\n",
       "\n",
       "    .dataframe tbody tr th {\n",
       "        vertical-align: top;\n",
       "    }\n",
       "\n",
       "    .dataframe thead th {\n",
       "        text-align: right;\n",
       "    }\n",
       "</style>\n",
       "<table border=\"1\" class=\"dataframe\">\n",
       "  <thead>\n",
       "    <tr style=\"text-align: right;\">\n",
       "      <th></th>\n",
       "      <th>Unnamed: 0.1</th>\n",
       "      <th>text</th>\n",
       "      <th>created_at</th>\n",
       "      <th>author_id</th>\n",
       "      <th>id</th>\n",
       "      <th>neg</th>\n",
       "      <th>neu</th>\n",
       "      <th>pos</th>\n",
       "      <th>score</th>\n",
       "    </tr>\n",
       "  </thead>\n",
       "  <tbody>\n",
       "    <tr>\n",
       "      <th>0</th>\n",
       "      <td>0</td>\n",
       "      <td>buenas tardes intento abrir mercantil linea dice datos clave incorrecta fallando plataforma</td>\n",
       "      <td>2021-04-28</td>\n",
       "      <td>202148873</td>\n",
       "      <td>1387539021983850497</td>\n",
       "      <td>0.994753</td>\n",
       "      <td>0.004321</td>\n",
       "      <td>0.000926</td>\n",
       "      <td>neg</td>\n",
       "    </tr>\n",
       "    <tr>\n",
       "      <th>1</th>\n",
       "      <td>1</td>\n",
       "      <td>buenas tardes oportunidad escribo saber si problemas plataforma realizar transferencias cuentas mercantil momento realizar transferencia arroja mensaje intente ma tardes</td>\n",
       "      <td>2021-04-28</td>\n",
       "      <td>1274553941917863936</td>\n",
       "      <td>1387538646832648197</td>\n",
       "      <td>0.666402</td>\n",
       "      <td>0.328037</td>\n",
       "      <td>0.005561</td>\n",
       "      <td>neg</td>\n",
       "    </tr>\n",
       "    <tr>\n",
       "      <th>2</th>\n",
       "      <td>2</td>\n",
       "      <td>deseo reponer tarjeta debito</td>\n",
       "      <td>2021-04-28</td>\n",
       "      <td>343710274</td>\n",
       "      <td>1387535156626526209</td>\n",
       "      <td>0.107078</td>\n",
       "      <td>0.886624</td>\n",
       "      <td>0.006298</td>\n",
       "      <td>neu</td>\n",
       "    </tr>\n",
       "    <tr>\n",
       "      <th>3</th>\n",
       "      <td>3</td>\n",
       "      <td>si misma situacion</td>\n",
       "      <td>2021-04-28</td>\n",
       "      <td>1323258072534552577</td>\n",
       "      <td>1387528726712311812</td>\n",
       "      <td>0.003918</td>\n",
       "      <td>0.989461</td>\n",
       "      <td>0.006621</td>\n",
       "      <td>neu</td>\n",
       "    </tr>\n",
       "    <tr>\n",
       "      <th>4</th>\n",
       "      <td>4</td>\n",
       "      <td>quito b mensajes texto solicitando clave temporal pago movil nunca llego ladrones http t co bvvmvxfhjh</td>\n",
       "      <td>2021-04-28</td>\n",
       "      <td>1099360339207049218</td>\n",
       "      <td>1387524137904754689</td>\n",
       "      <td>0.996315</td>\n",
       "      <td>0.002650</td>\n",
       "      <td>0.001035</td>\n",
       "      <td>neg</td>\n",
       "    </tr>\n",
       "  </tbody>\n",
       "</table>\n",
       "</div>"
      ],
      "text/plain": [
       "   Unnamed: 0.1  \\\n",
       "0             0   \n",
       "1             1   \n",
       "2             2   \n",
       "3             3   \n",
       "4             4   \n",
       "\n",
       "                                                                                                                                                                        text  \\\n",
       "0                                                                                buenas tardes intento abrir mercantil linea dice datos clave incorrecta fallando plataforma   \n",
       "1  buenas tardes oportunidad escribo saber si problemas plataforma realizar transferencias cuentas mercantil momento realizar transferencia arroja mensaje intente ma tardes   \n",
       "2                                                                                                                                               deseo reponer tarjeta debito   \n",
       "3                                                                                                                                                         si misma situacion   \n",
       "4                                                                     quito b mensajes texto solicitando clave temporal pago movil nunca llego ladrones http t co bvvmvxfhjh   \n",
       "\n",
       "  created_at            author_id                   id       neg       neu  \\\n",
       "0 2021-04-28            202148873  1387539021983850497  0.994753  0.004321   \n",
       "1 2021-04-28  1274553941917863936  1387538646832648197  0.666402  0.328037   \n",
       "2 2021-04-28            343710274  1387535156626526209  0.107078  0.886624   \n",
       "3 2021-04-28  1323258072534552577  1387528726712311812  0.003918  0.989461   \n",
       "4 2021-04-28  1099360339207049218  1387524137904754689  0.996315  0.002650   \n",
       "\n",
       "        pos score  \n",
       "0  0.000926   neg  \n",
       "1  0.005561   neg  \n",
       "2  0.006298   neu  \n",
       "3  0.006621   neu  \n",
       "4  0.001035   neg  "
      ]
     },
     "execution_count": 34,
     "metadata": {},
     "output_type": "execute_result"
    }
   ],
   "source": [
    "df_cleaning['text'] = df_cleaning['text'].apply(remove_Lemmatize)\n",
    "df_cleaning.head()"
   ]
  },
  {
   "cell_type": "code",
   "execution_count": 35,
   "metadata": {},
   "outputs": [
    {
     "data": {
      "text/plain": [
       "(4798, 9)"
      ]
     },
     "execution_count": 35,
     "metadata": {},
     "output_type": "execute_result"
    }
   ],
   "source": [
    "df_cleaning.shape"
   ]
  },
  {
   "cell_type": "markdown",
   "metadata": {},
   "source": [
    "## Definir Train y test"
   ]
  },
  {
   "cell_type": "code",
   "execution_count": 36,
   "metadata": {},
   "outputs": [],
   "source": [
    "X = df_cleaning['text']\n",
    "y = df_cleaning['score']"
   ]
  },
  {
   "cell_type": "code",
   "execution_count": 37,
   "metadata": {},
   "outputs": [],
   "source": [
    "X_train, X_test, y_train, y_test = train_test_split(X, y, test_size=0.3)"
   ]
  },
  {
   "cell_type": "code",
   "execution_count": 38,
   "metadata": {},
   "outputs": [
    {
     "data": {
      "text/plain": [
       "692                                                                            quisiera saber monto renta poder saber monto recargar\n",
       "358           descargado dinero rapido inconveniente genus nunca clave digital pesar tener correo numero telefono activo hagoooo s s\n",
       "345    buenos dia queremos solucion pasado años dan respuesta poder utilizar divisas obtenidas dicom exigimos den pertenece solucion\n",
       "339    buenos dia queremos solucion pasado años dan respuesta poder utilizar divisas obtenidas dicom exigimos den pertenece solucion\n",
       "760                                       hola par correos revisar atencion cliente encuentro espera den solucion van me esperando 🙂\n",
       "                                                                   ...                                                              \n",
       "483                   numero cuenta numero cedula ci hoy salio cobro millon trecientos ochenta mil nota cargo dom http t co qiieavba\n",
       "543         afectadosdicom dado respuesta oportuna divisas adquiridas legalmente ahora congeladas sistema bancario exigimos solucion\n",
       "641    buenos dia queremos solucion pasado años dan respuesta poder utilizar divisas obtenidas dicom exigimos den pertenece solucion\n",
       "11                                                   realice reclamo app banesco movil ma semana problema va ser http t co wyqwqjefq\n",
       "113                                            favor solucion afectados dicom retenidos fondos posibilidad moverlos violando derecho\n",
       "Name: text, Length: 3358, dtype: object"
      ]
     },
     "execution_count": 38,
     "metadata": {},
     "output_type": "execute_result"
    }
   ],
   "source": [
    "X_train"
   ]
  },
  {
   "cell_type": "markdown",
   "metadata": {},
   "source": [
    "## Modelo Deep learning"
   ]
  },
  {
   "cell_type": "code",
   "execution_count": 39,
   "metadata": {},
   "outputs": [
    {
     "name": "stdout",
     "output_type": "stream",
     "text": [
      "Requirement already satisfied: python-Levenshtein in /home/juancarlosbt/.pyenv/versions/3.8.6/envs/QueEstaPasando/lib/python3.8/site-packages (0.12.2)\n",
      "Requirement already satisfied: setuptools in /home/juancarlosbt/.pyenv/versions/3.8.6/envs/QueEstaPasando/lib/python3.8/site-packages (from python-Levenshtein) (49.2.1)\n",
      "\u001b[33mWARNING: You are using pip version 21.1; however, version 21.1.1 is available.\n",
      "You should consider upgrading via the '/home/juancarlosbt/.pyenv/versions/3.8.6/envs/QueEstaPasando/bin/python -m pip install --upgrade pip' command.\u001b[0m\n"
     ]
    }
   ],
   "source": [
    "#!pip install python-Levenshtein"
   ]
  },
  {
   "cell_type": "code",
   "execution_count": 40,
   "metadata": {},
   "outputs": [],
   "source": [
    "from gensim.models import Word2Vec\n",
    "import numpy as np\n",
    "from tensorflow.keras.preprocessing.sequence import pad_sequences\n",
    "\n",
    "\n",
    "# –– Step #1\n",
    "def convert_sentences(X):\n",
    "    return [sentence.split(' ') for sentence in X]\n",
    "\n",
    "X_train_words = convert_sentences(X_train)\n",
    "X_test_words = convert_sentences(X_test)\n",
    "\n",
    "\n",
    "# –– Step #2\n",
    "#word2vec = Word2Vec(sentences=X_train, min_count=10, window=10)\n",
    "word2vec = Word2Vec(sentences=X_train_words, min_count=10, window=10)\n",
    "\n",
    "# –– Step #3\n",
    "def embed_sentence(word2vec, sentence):\n",
    "    embedded_sentence = []\n",
    "    for word in sentence:\n",
    "        if word in word2vec.wv:\n",
    "            embedded_sentence.append(word2vec.wv[word])\n",
    "        \n",
    "    return np.array(embedded_sentence)\n",
    "\n",
    "def embedding(word2vec, sentences):\n",
    "    embed = []\n",
    "    \n",
    "    for sentence in sentences:\n",
    "        embedded_sentence = embed_sentence(word2vec, sentence)\n",
    "        embed.append(embedded_sentence)\n",
    "        \n",
    "    return embed\n",
    "\n",
    "X_train_embed = embedding(word2vec, X_train_words)\n",
    "X_test_embed = embedding(word2vec, X_test_words)\n",
    "\n",
    "\n",
    "# –– Step #4\n",
    "X_train_pad = pad_sequences(X_train_embed, dtype='float32', padding='post')\n",
    "X_test_pad = pad_sequences(X_test_embed, dtype='float32', padding='post')"
   ]
  },
  {
   "cell_type": "code",
   "execution_count": 41,
   "metadata": {},
   "outputs": [],
   "source": [
    "y_train = y_train.map(lambda x : 2 if x == 'pos' else 1 if x == 'neu' else 0)"
   ]
  },
  {
   "cell_type": "code",
   "execution_count": 42,
   "metadata": {},
   "outputs": [],
   "source": [
    "y_test = y_test.map(lambda x : 2 if x == 'pos' else 1 if x == 'neu' else 0)"
   ]
  },
  {
   "cell_type": "code",
   "execution_count": 43,
   "metadata": {},
   "outputs": [],
   "source": [
    "from tensorflow.keras.utils import to_categorical\n",
    "\n",
    "y_train = to_categorical(y_train, num_classes=3) #Convierte en categorical el train\n",
    "y_test = to_categorical(y_test, num_classes=3) #Convierte en categorical el test"
   ]
  },
  {
   "cell_type": "code",
   "execution_count": 44,
   "metadata": {},
   "outputs": [],
   "source": [
    "from tensorflow.keras import Sequential\n",
    "from tensorflow.keras import layers\n",
    "\n",
    "def init_model():\n",
    "    model_dl = Sequential()\n",
    "    model_dl.add(layers.Masking())\n",
    "    model_dl.add(layers.LSTM(20, activation='tanh'))\n",
    "    model_dl.add(layers.Dense(15, activation='relu'))\n",
    "    model_dl.add(layers.Dense(3, activation='softmax'))\n",
    "\n",
    "    model_dl.compile(loss='categorical_crossentropy',\n",
    "                  optimizer='rmsprop',\n",
    "                  metrics=['accuracy'])\n",
    "    \n",
    "    return model_dl\n",
    "\n",
    "model_dl = init_model()"
   ]
  },
  {
   "cell_type": "code",
   "execution_count": 45,
   "metadata": {},
   "outputs": [
    {
     "name": "stdout",
     "output_type": "stream",
     "text": [
      "Epoch 1/1000\n",
      "147/147 [==============================] - 9s 29ms/step - loss: 0.8782 - accuracy: 0.5485 - val_loss: 0.7811 - val_accuracy: 0.6518\n",
      "Epoch 2/1000\n",
      "147/147 [==============================] - 3s 19ms/step - loss: 0.8162 - accuracy: 0.6035 - val_loss: 0.7665 - val_accuracy: 0.6627\n",
      "Epoch 3/1000\n",
      "147/147 [==============================] - 3s 18ms/step - loss: 0.8117 - accuracy: 0.5972 - val_loss: 0.7648 - val_accuracy: 0.6498\n",
      "Epoch 4/1000\n",
      "147/147 [==============================] - 3s 18ms/step - loss: 0.7871 - accuracy: 0.6247 - val_loss: 0.7706 - val_accuracy: 0.6369\n",
      "Epoch 5/1000\n",
      "147/147 [==============================] - 3s 19ms/step - loss: 0.7864 - accuracy: 0.6183 - val_loss: 0.7577 - val_accuracy: 0.6458\n",
      "Epoch 6/1000\n",
      "147/147 [==============================] - 3s 18ms/step - loss: 0.7945 - accuracy: 0.6035 - val_loss: 0.7556 - val_accuracy: 0.6607\n",
      "Epoch 7/1000\n",
      "147/147 [==============================] - 3s 18ms/step - loss: 0.7833 - accuracy: 0.6155 - val_loss: 0.7523 - val_accuracy: 0.6468\n",
      "Epoch 8/1000\n",
      "147/147 [==============================] - 3s 19ms/step - loss: 0.7756 - accuracy: 0.6189 - val_loss: 0.7538 - val_accuracy: 0.6508\n",
      "Epoch 9/1000\n",
      "147/147 [==============================] - 3s 19ms/step - loss: 0.7816 - accuracy: 0.6213 - val_loss: 0.7493 - val_accuracy: 0.6617\n",
      "Epoch 10/1000\n",
      "147/147 [==============================] - 3s 18ms/step - loss: 0.7578 - accuracy: 0.6347 - val_loss: 0.7823 - val_accuracy: 0.6329\n",
      "Epoch 11/1000\n",
      "147/147 [==============================] - 3s 18ms/step - loss: 0.7512 - accuracy: 0.6337 - val_loss: 0.7533 - val_accuracy: 0.6587\n",
      "Epoch 12/1000\n",
      "147/147 [==============================] - 3s 19ms/step - loss: 0.7586 - accuracy: 0.6341 - val_loss: 0.7555 - val_accuracy: 0.6597\n",
      "Epoch 13/1000\n",
      "147/147 [==============================] - 3s 21ms/step - loss: 0.7663 - accuracy: 0.6184 - val_loss: 0.7424 - val_accuracy: 0.6617\n",
      "Epoch 14/1000\n",
      "147/147 [==============================] - 3s 20ms/step - loss: 0.7735 - accuracy: 0.6297 - val_loss: 0.7564 - val_accuracy: 0.6448\n",
      "Epoch 15/1000\n",
      "147/147 [==============================] - 3s 21ms/step - loss: 0.7583 - accuracy: 0.6306 - val_loss: 0.7464 - val_accuracy: 0.6587\n",
      "Epoch 16/1000\n",
      "147/147 [==============================] - 3s 21ms/step - loss: 0.7716 - accuracy: 0.6266 - val_loss: 0.7427 - val_accuracy: 0.6607\n",
      "Epoch 17/1000\n",
      "147/147 [==============================] - 3s 20ms/step - loss: 0.7556 - accuracy: 0.6226 - val_loss: 0.7490 - val_accuracy: 0.6548\n",
      "Epoch 18/1000\n",
      "147/147 [==============================] - 3s 20ms/step - loss: 0.7686 - accuracy: 0.6138 - val_loss: 0.7402 - val_accuracy: 0.6577\n",
      "Epoch 19/1000\n",
      "147/147 [==============================] - 3s 21ms/step - loss: 0.7460 - accuracy: 0.6231 - val_loss: 0.7418 - val_accuracy: 0.6647\n",
      "Epoch 20/1000\n",
      "147/147 [==============================] - 3s 20ms/step - loss: 0.7587 - accuracy: 0.6356 - val_loss: 0.7589 - val_accuracy: 0.6488\n",
      "Epoch 21/1000\n",
      "147/147 [==============================] - 3s 19ms/step - loss: 0.7505 - accuracy: 0.6298 - val_loss: 0.7450 - val_accuracy: 0.6647\n",
      "Epoch 22/1000\n",
      "147/147 [==============================] - 3s 19ms/step - loss: 0.7468 - accuracy: 0.6430 - val_loss: 0.7390 - val_accuracy: 0.6687\n",
      "Epoch 23/1000\n",
      "147/147 [==============================] - 3s 19ms/step - loss: 0.7382 - accuracy: 0.6303 - val_loss: 0.7457 - val_accuracy: 0.6558\n",
      "Epoch 24/1000\n",
      "147/147 [==============================] - 3s 19ms/step - loss: 0.7455 - accuracy: 0.6261 - val_loss: 0.7502 - val_accuracy: 0.6528\n",
      "Epoch 25/1000\n",
      "147/147 [==============================] - 3s 19ms/step - loss: 0.7469 - accuracy: 0.6383 - val_loss: 0.7335 - val_accuracy: 0.6647\n",
      "Epoch 26/1000\n",
      "147/147 [==============================] - 3s 19ms/step - loss: 0.7392 - accuracy: 0.6411 - val_loss: 0.8459 - val_accuracy: 0.6329\n",
      "Epoch 27/1000\n",
      "147/147 [==============================] - 3s 19ms/step - loss: 0.7377 - accuracy: 0.6370 - val_loss: 0.7495 - val_accuracy: 0.6478\n",
      "Epoch 28/1000\n",
      "147/147 [==============================] - 3s 19ms/step - loss: 0.7339 - accuracy: 0.6347 - val_loss: 0.7684 - val_accuracy: 0.6548\n",
      "Epoch 29/1000\n",
      "147/147 [==============================] - 3s 22ms/step - loss: 0.7637 - accuracy: 0.6217 - val_loss: 0.7379 - val_accuracy: 0.6687\n",
      "Epoch 30/1000\n",
      "147/147 [==============================] - 3s 22ms/step - loss: 0.7433 - accuracy: 0.6311 - val_loss: 0.7375 - val_accuracy: 0.6726\n",
      "Epoch 31/1000\n",
      "147/147 [==============================] - 3s 19ms/step - loss: 0.7633 - accuracy: 0.6160 - val_loss: 0.7437 - val_accuracy: 0.6637\n",
      "Epoch 32/1000\n",
      "147/147 [==============================] - 3s 19ms/step - loss: 0.7558 - accuracy: 0.6089 - val_loss: 0.7399 - val_accuracy: 0.6617\n",
      "Epoch 33/1000\n",
      "147/147 [==============================] - 3s 19ms/step - loss: 0.7168 - accuracy: 0.6472 - val_loss: 0.7390 - val_accuracy: 0.6637\n",
      "Epoch 34/1000\n",
      "147/147 [==============================] - 3s 19ms/step - loss: 0.7307 - accuracy: 0.6445 - val_loss: 0.7367 - val_accuracy: 0.6716\n",
      "Epoch 35/1000\n",
      "147/147 [==============================] - 3s 19ms/step - loss: 0.7560 - accuracy: 0.6246 - val_loss: 0.7359 - val_accuracy: 0.6726\n",
      "Epoch 36/1000\n",
      "147/147 [==============================] - 3s 20ms/step - loss: 0.7199 - accuracy: 0.6551 - val_loss: 0.7289 - val_accuracy: 0.6657\n",
      "Epoch 37/1000\n",
      "147/147 [==============================] - 3s 21ms/step - loss: 0.7447 - accuracy: 0.6273 - val_loss: 0.7345 - val_accuracy: 0.6687\n",
      "Epoch 38/1000\n",
      "147/147 [==============================] - 3s 20ms/step - loss: 0.7254 - accuracy: 0.6391 - val_loss: 0.7339 - val_accuracy: 0.6607\n",
      "Epoch 39/1000\n",
      "147/147 [==============================] - 3s 19ms/step - loss: 0.7198 - accuracy: 0.6502 - val_loss: 0.7464 - val_accuracy: 0.6627\n",
      "Epoch 40/1000\n",
      "147/147 [==============================] - 3s 19ms/step - loss: 0.6872 - accuracy: 0.6551 - val_loss: 0.7357 - val_accuracy: 0.6776\n",
      "Epoch 41/1000\n",
      "147/147 [==============================] - 3s 19ms/step - loss: 0.7235 - accuracy: 0.6464 - val_loss: 0.7389 - val_accuracy: 0.6786\n",
      "Epoch 42/1000\n",
      "147/147 [==============================] - 3s 19ms/step - loss: 0.7231 - accuracy: 0.6479 - val_loss: 0.7458 - val_accuracy: 0.6706\n",
      "Epoch 43/1000\n",
      "147/147 [==============================] - 3s 19ms/step - loss: 0.7036 - accuracy: 0.6503 - val_loss: 0.7271 - val_accuracy: 0.6746\n",
      "Epoch 44/1000\n",
      "147/147 [==============================] - 3s 19ms/step - loss: 0.7056 - accuracy: 0.6544 - val_loss: 0.7337 - val_accuracy: 0.6726\n",
      "Epoch 45/1000\n",
      "147/147 [==============================] - 3s 19ms/step - loss: 0.7112 - accuracy: 0.6439 - val_loss: 0.7379 - val_accuracy: 0.6796\n",
      "Epoch 46/1000\n",
      "147/147 [==============================] - 3s 19ms/step - loss: 0.7145 - accuracy: 0.6479 - val_loss: 0.7404 - val_accuracy: 0.6815\n",
      "Epoch 47/1000\n",
      "147/147 [==============================] - 3s 19ms/step - loss: 0.6956 - accuracy: 0.6492 - val_loss: 0.7364 - val_accuracy: 0.6716\n",
      "Epoch 48/1000\n",
      "147/147 [==============================] - 3s 19ms/step - loss: 0.7024 - accuracy: 0.6547 - val_loss: 0.7303 - val_accuracy: 0.6806\n",
      "Epoch 49/1000\n",
      "147/147 [==============================] - 3s 20ms/step - loss: 0.7130 - accuracy: 0.6572 - val_loss: 0.7333 - val_accuracy: 0.6796\n",
      "Epoch 50/1000\n",
      "147/147 [==============================] - 3s 21ms/step - loss: 0.6907 - accuracy: 0.6541 - val_loss: 0.7349 - val_accuracy: 0.6766\n",
      "Epoch 51/1000\n",
      "147/147 [==============================] - 3s 22ms/step - loss: 0.7202 - accuracy: 0.6519 - val_loss: 0.7254 - val_accuracy: 0.6786\n",
      "Epoch 52/1000\n",
      "147/147 [==============================] - 3s 19ms/step - loss: 0.7034 - accuracy: 0.6429 - val_loss: 0.7303 - val_accuracy: 0.6825\n",
      "Epoch 53/1000\n",
      "147/147 [==============================] - 3s 19ms/step - loss: 0.6987 - accuracy: 0.6525 - val_loss: 0.7399 - val_accuracy: 0.6845\n",
      "Epoch 54/1000\n",
      "147/147 [==============================] - 3s 18ms/step - loss: 0.7134 - accuracy: 0.6540 - val_loss: 0.7442 - val_accuracy: 0.6607\n",
      "Epoch 55/1000\n",
      "147/147 [==============================] - 3s 20ms/step - loss: 0.6817 - accuracy: 0.6673 - val_loss: 0.7327 - val_accuracy: 0.6825\n",
      "Epoch 56/1000\n",
      "147/147 [==============================] - 3s 21ms/step - loss: 0.6757 - accuracy: 0.6657 - val_loss: 0.7395 - val_accuracy: 0.6766\n",
      "Epoch 57/1000\n"
     ]
    },
    {
     "name": "stdout",
     "output_type": "stream",
     "text": [
      "147/147 [==============================] - 3s 20ms/step - loss: 0.6943 - accuracy: 0.6506 - val_loss: 0.7367 - val_accuracy: 0.6835\n",
      "Epoch 58/1000\n",
      "147/147 [==============================] - 3s 19ms/step - loss: 0.7119 - accuracy: 0.6477 - val_loss: 0.7247 - val_accuracy: 0.6835\n",
      "Epoch 59/1000\n",
      "147/147 [==============================] - 3s 21ms/step - loss: 0.7132 - accuracy: 0.6406 - val_loss: 0.7286 - val_accuracy: 0.6815\n",
      "Epoch 60/1000\n",
      "147/147 [==============================] - 3s 21ms/step - loss: 0.7122 - accuracy: 0.6564 - val_loss: 0.7423 - val_accuracy: 0.6766\n",
      "Epoch 61/1000\n",
      "147/147 [==============================] - 3s 21ms/step - loss: 0.6750 - accuracy: 0.6778 - val_loss: 0.7378 - val_accuracy: 0.6577\n",
      "Epoch 62/1000\n",
      "147/147 [==============================] - 3s 21ms/step - loss: 0.6892 - accuracy: 0.6651 - val_loss: 0.7482 - val_accuracy: 0.6786\n",
      "Epoch 63/1000\n",
      "147/147 [==============================] - 3s 23ms/step - loss: 0.7091 - accuracy: 0.6513 - val_loss: 0.7195 - val_accuracy: 0.6835\n",
      "Epoch 64/1000\n",
      "147/147 [==============================] - 3s 20ms/step - loss: 0.6905 - accuracy: 0.6651 - val_loss: 0.7338 - val_accuracy: 0.6796\n",
      "Epoch 65/1000\n",
      "147/147 [==============================] - 3s 19ms/step - loss: 0.6899 - accuracy: 0.6494 - val_loss: 0.7378 - val_accuracy: 0.6726\n",
      "Epoch 66/1000\n",
      "147/147 [==============================] - 3s 19ms/step - loss: 0.6807 - accuracy: 0.6724 - val_loss: 0.7458 - val_accuracy: 0.6647\n",
      "Epoch 67/1000\n",
      "147/147 [==============================] - 3s 19ms/step - loss: 0.6847 - accuracy: 0.6615 - val_loss: 0.7361 - val_accuracy: 0.6885\n",
      "Epoch 68/1000\n",
      "147/147 [==============================] - 3s 19ms/step - loss: 0.6907 - accuracy: 0.6558 - val_loss: 0.7372 - val_accuracy: 0.6885\n",
      "Epoch 69/1000\n",
      "147/147 [==============================] - 3s 19ms/step - loss: 0.6879 - accuracy: 0.6533 - val_loss: 0.7317 - val_accuracy: 0.6895\n",
      "Epoch 70/1000\n",
      "147/147 [==============================] - 3s 19ms/step - loss: 0.6866 - accuracy: 0.6757 - val_loss: 0.7634 - val_accuracy: 0.6171\n",
      "Epoch 71/1000\n",
      "147/147 [==============================] - 3s 21ms/step - loss: 0.6596 - accuracy: 0.6808 - val_loss: 0.7318 - val_accuracy: 0.6776\n",
      "Epoch 72/1000\n",
      "147/147 [==============================] - 3s 20ms/step - loss: 0.6697 - accuracy: 0.6729 - val_loss: 0.7308 - val_accuracy: 0.6825\n",
      "Epoch 73/1000\n",
      "147/147 [==============================] - 3s 21ms/step - loss: 0.6844 - accuracy: 0.6624 - val_loss: 0.7289 - val_accuracy: 0.6885\n",
      "Epoch 74/1000\n",
      "147/147 [==============================] - 3s 21ms/step - loss: 0.6686 - accuracy: 0.6643 - val_loss: 0.7438 - val_accuracy: 0.6706\n",
      "Epoch 75/1000\n",
      "147/147 [==============================] - 3s 24ms/step - loss: 0.6813 - accuracy: 0.6694 - val_loss: 0.7494 - val_accuracy: 0.6786\n",
      "Epoch 76/1000\n",
      "147/147 [==============================] - 4s 29ms/step - loss: 0.6727 - accuracy: 0.6682 - val_loss: 0.7286 - val_accuracy: 0.6885\n",
      "Epoch 77/1000\n",
      "147/147 [==============================] - 3s 20ms/step - loss: 0.6754 - accuracy: 0.6712 - val_loss: 0.7347 - val_accuracy: 0.6845\n",
      "Epoch 78/1000\n",
      "147/147 [==============================] - 3s 18ms/step - loss: 0.6892 - accuracy: 0.6656 - val_loss: 0.7408 - val_accuracy: 0.6865\n",
      "Epoch 79/1000\n",
      "147/147 [==============================] - 3s 18ms/step - loss: 0.6579 - accuracy: 0.6795 - val_loss: 0.7416 - val_accuracy: 0.6905\n",
      "Epoch 80/1000\n",
      "147/147 [==============================] - 3s 18ms/step - loss: 0.6588 - accuracy: 0.6779 - val_loss: 0.7382 - val_accuracy: 0.6766\n",
      "Epoch 81/1000\n",
      "147/147 [==============================] - 3s 18ms/step - loss: 0.6587 - accuracy: 0.6778 - val_loss: 0.7493 - val_accuracy: 0.6786\n",
      "Epoch 82/1000\n",
      "147/147 [==============================] - 3s 17ms/step - loss: 0.6817 - accuracy: 0.6651 - val_loss: 0.7487 - val_accuracy: 0.6875\n",
      "Epoch 83/1000\n",
      "147/147 [==============================] - 3s 19ms/step - loss: 0.6685 - accuracy: 0.6747 - val_loss: 0.7338 - val_accuracy: 0.6865\n"
     ]
    },
    {
     "data": {
      "text/plain": [
       "<tensorflow.python.keras.callbacks.History at 0x7f294c1430a0>"
      ]
     },
     "execution_count": 45,
     "metadata": {},
     "output_type": "execute_result"
    }
   ],
   "source": [
    "from tensorflow.keras.callbacks import EarlyStopping\n",
    "\n",
    "es = EarlyStopping(patience=20, restore_best_weights=True)\n",
    "\n",
    "model_dl.fit(X_train_pad, y_train, \n",
    "          batch_size = 16,\n",
    "          epochs=1000,\n",
    "          validation_split=0.3,\n",
    "          callbacks=[es]\n",
    "         )"
   ]
  },
  {
   "cell_type": "code",
   "execution_count": 46,
   "metadata": {},
   "outputs": [
    {
     "name": "stdout",
     "output_type": "stream",
     "text": [
      "Model: \"sequential\"\n",
      "_________________________________________________________________\n",
      "Layer (type)                 Output Shape              Param #   \n",
      "=================================================================\n",
      "masking (Masking)            (None, 27, 100)           0         \n",
      "_________________________________________________________________\n",
      "lstm (LSTM)                  (None, 20)                9680      \n",
      "_________________________________________________________________\n",
      "dense (Dense)                (None, 15)                315       \n",
      "_________________________________________________________________\n",
      "dense_1 (Dense)              (None, 3)                 48        \n",
      "=================================================================\n",
      "Total params: 10,043\n",
      "Trainable params: 10,043\n",
      "Non-trainable params: 0\n",
      "_________________________________________________________________\n"
     ]
    }
   ],
   "source": [
    "model_dl.summary()"
   ]
  },
  {
   "cell_type": "code",
   "execution_count": 47,
   "metadata": {},
   "outputs": [
    {
     "name": "stdout",
     "output_type": "stream",
     "text": [
      "The accuracy evaluated on the test set is of 65.417%\n"
     ]
    }
   ],
   "source": [
    "res = model_dl.evaluate(X_test_pad, y_test, verbose=0)\n",
    "print(f'The accuracy evaluated on the test set is of {res[1]*100:.3f}%')"
   ]
  },
  {
   "cell_type": "code",
   "execution_count": 48,
   "metadata": {},
   "outputs": [],
   "source": [
    "df_model = pd.DataFrame(model_dl.predict(X_test_pad))\n",
    "df_model.columns = ['neg','neu','pos']"
   ]
  },
  {
   "cell_type": "code",
   "execution_count": 49,
   "metadata": {},
   "outputs": [
    {
     "data": {
      "text/html": [
       "<div>\n",
       "<style scoped>\n",
       "    .dataframe tbody tr th:only-of-type {\n",
       "        vertical-align: middle;\n",
       "    }\n",
       "\n",
       "    .dataframe tbody tr th {\n",
       "        vertical-align: top;\n",
       "    }\n",
       "\n",
       "    .dataframe thead th {\n",
       "        text-align: right;\n",
       "    }\n",
       "</style>\n",
       "<table border=\"1\" class=\"dataframe\">\n",
       "  <thead>\n",
       "    <tr style=\"text-align: right;\">\n",
       "      <th></th>\n",
       "      <th>neg</th>\n",
       "      <th>neu</th>\n",
       "      <th>pos</th>\n",
       "    </tr>\n",
       "  </thead>\n",
       "  <tbody>\n",
       "    <tr>\n",
       "      <th>0</th>\n",
       "      <td>0.002097</td>\n",
       "      <td>0.997866</td>\n",
       "      <td>0.000037</td>\n",
       "    </tr>\n",
       "    <tr>\n",
       "      <th>1</th>\n",
       "      <td>0.192895</td>\n",
       "      <td>0.709070</td>\n",
       "      <td>0.098035</td>\n",
       "    </tr>\n",
       "    <tr>\n",
       "      <th>2</th>\n",
       "      <td>0.240470</td>\n",
       "      <td>0.607202</td>\n",
       "      <td>0.152328</td>\n",
       "    </tr>\n",
       "    <tr>\n",
       "      <th>3</th>\n",
       "      <td>0.555512</td>\n",
       "      <td>0.403009</td>\n",
       "      <td>0.041479</td>\n",
       "    </tr>\n",
       "    <tr>\n",
       "      <th>4</th>\n",
       "      <td>0.607351</td>\n",
       "      <td>0.361475</td>\n",
       "      <td>0.031174</td>\n",
       "    </tr>\n",
       "  </tbody>\n",
       "</table>\n",
       "</div>"
      ],
      "text/plain": [
       "        neg       neu       pos\n",
       "0  0.002097  0.997866  0.000037\n",
       "1  0.192895  0.709070  0.098035\n",
       "2  0.240470  0.607202  0.152328\n",
       "3  0.555512  0.403009  0.041479\n",
       "4  0.607351  0.361475  0.031174"
      ]
     },
     "execution_count": 49,
     "metadata": {},
     "output_type": "execute_result"
    }
   ],
   "source": [
    "df_model.head()"
   ]
  },
  {
   "cell_type": "markdown",
   "metadata": {},
   "source": [
    "## learning_curve"
   ]
  },
  {
   "cell_type": "markdown",
   "metadata": {},
   "source": []
  },
  {
   "cell_type": "code",
   "execution_count": 50,
   "metadata": {},
   "outputs": [],
   "source": [
    "def init_model_2():\n",
    "    model_dl2 = Sequential()\n",
    "    model_dl2.add(layers.Masking())\n",
    "    model_dl2.add(layers.LSTM(20, activation='tanh'))\n",
    "    model_dl2.add(layers.Dense(15, activation='relu'))\n",
    "    model_dl2.add(layers.Dense(3, activation='softmax'))\n",
    "\n",
    "    model_dl2.compile(loss='categorical_crossentropy',\n",
    "                  optimizer='adam',\n",
    "                  metrics=['accuracy'])\n",
    "    \n",
    "    return model_dl2\n",
    "\n",
    "model_dl2 = init_model_2()"
   ]
  },
  {
   "cell_type": "code",
   "execution_count": 51,
   "metadata": {},
   "outputs": [
    {
     "name": "stdout",
     "output_type": "stream",
     "text": [
      "Epoch 1/1000\n",
      "147/147 [==============================] - 8s 25ms/step - loss: 0.9394 - accuracy: 0.5072 - val_loss: 0.7971 - val_accuracy: 0.6369\n",
      "Epoch 2/1000\n",
      "147/147 [==============================] - 3s 19ms/step - loss: 0.8041 - accuracy: 0.6088 - val_loss: 0.7734 - val_accuracy: 0.6538\n",
      "Epoch 3/1000\n",
      "147/147 [==============================] - 3s 19ms/step - loss: 0.8041 - accuracy: 0.6099 - val_loss: 0.7677 - val_accuracy: 0.6478\n",
      "Epoch 4/1000\n",
      "147/147 [==============================] - 3s 19ms/step - loss: 0.8071 - accuracy: 0.6141 - val_loss: 0.7684 - val_accuracy: 0.6458\n",
      "Epoch 5/1000\n",
      "147/147 [==============================] - 3s 19ms/step - loss: 0.7802 - accuracy: 0.6180 - val_loss: 0.7650 - val_accuracy: 0.6558\n",
      "Epoch 6/1000\n",
      "147/147 [==============================] - 3s 19ms/step - loss: 0.7685 - accuracy: 0.6305 - val_loss: 0.8010 - val_accuracy: 0.5962\n",
      "Epoch 7/1000\n",
      "147/147 [==============================] - 3s 23ms/step - loss: 0.7939 - accuracy: 0.6218 - val_loss: 0.7629 - val_accuracy: 0.6577\n",
      "Epoch 8/1000\n",
      "147/147 [==============================] - 4s 24ms/step - loss: 0.7854 - accuracy: 0.6318 - val_loss: 0.7517 - val_accuracy: 0.6508\n",
      "Epoch 9/1000\n",
      "147/147 [==============================] - 4s 26ms/step - loss: 0.7786 - accuracy: 0.6168 - val_loss: 0.7681 - val_accuracy: 0.6240\n",
      "Epoch 10/1000\n",
      "147/147 [==============================] - 4s 24ms/step - loss: 0.7821 - accuracy: 0.6154 - val_loss: 0.7845 - val_accuracy: 0.5883\n",
      "Epoch 11/1000\n",
      "147/147 [==============================] - 3s 20ms/step - loss: 0.7896 - accuracy: 0.6074 - val_loss: 0.7441 - val_accuracy: 0.6597\n",
      "Epoch 12/1000\n",
      "147/147 [==============================] - 3s 19ms/step - loss: 0.7611 - accuracy: 0.6463 - val_loss: 0.7446 - val_accuracy: 0.6577\n",
      "Epoch 13/1000\n",
      "147/147 [==============================] - 3s 22ms/step - loss: 0.7730 - accuracy: 0.6294 - val_loss: 0.7415 - val_accuracy: 0.6597\n",
      "Epoch 14/1000\n",
      "147/147 [==============================] - 3s 24ms/step - loss: 0.7667 - accuracy: 0.6222 - val_loss: 0.7461 - val_accuracy: 0.6567\n",
      "Epoch 15/1000\n",
      "147/147 [==============================] - 3s 22ms/step - loss: 0.7664 - accuracy: 0.6245 - val_loss: 0.7561 - val_accuracy: 0.6419\n",
      "Epoch 16/1000\n",
      "147/147 [==============================] - 3s 20ms/step - loss: 0.7442 - accuracy: 0.6438 - val_loss: 0.7496 - val_accuracy: 0.6468\n",
      "Epoch 17/1000\n",
      "147/147 [==============================] - 3s 19ms/step - loss: 0.7485 - accuracy: 0.6358 - val_loss: 0.7375 - val_accuracy: 0.6647\n",
      "Epoch 18/1000\n",
      "147/147 [==============================] - 3s 18ms/step - loss: 0.7472 - accuracy: 0.6309 - val_loss: 0.7397 - val_accuracy: 0.6667\n",
      "Epoch 19/1000\n",
      "147/147 [==============================] - 3s 19ms/step - loss: 0.7511 - accuracy: 0.6347 - val_loss: 0.7532 - val_accuracy: 0.6319\n",
      "Epoch 20/1000\n",
      "147/147 [==============================] - 3s 18ms/step - loss: 0.7420 - accuracy: 0.6404 - val_loss: 0.7366 - val_accuracy: 0.6597\n",
      "Epoch 21/1000\n",
      "147/147 [==============================] - 3s 18ms/step - loss: 0.7463 - accuracy: 0.6437 - val_loss: 0.7386 - val_accuracy: 0.6567\n",
      "Epoch 22/1000\n",
      "147/147 [==============================] - 3s 18ms/step - loss: 0.7408 - accuracy: 0.6291 - val_loss: 0.7545 - val_accuracy: 0.6528\n",
      "Epoch 23/1000\n",
      "147/147 [==============================] - 3s 18ms/step - loss: 0.7212 - accuracy: 0.6524 - val_loss: 0.7384 - val_accuracy: 0.6419\n",
      "Epoch 24/1000\n",
      "147/147 [==============================] - 3s 18ms/step - loss: 0.7583 - accuracy: 0.6218 - val_loss: 0.7346 - val_accuracy: 0.6627\n",
      "Epoch 25/1000\n",
      "147/147 [==============================] - 3s 18ms/step - loss: 0.7505 - accuracy: 0.6195 - val_loss: 0.7309 - val_accuracy: 0.6647\n",
      "Epoch 26/1000\n",
      "147/147 [==============================] - 3s 18ms/step - loss: 0.7312 - accuracy: 0.6587 - val_loss: 0.7329 - val_accuracy: 0.6706\n",
      "Epoch 27/1000\n",
      "147/147 [==============================] - 3s 19ms/step - loss: 0.7517 - accuracy: 0.6199 - val_loss: 0.7386 - val_accuracy: 0.6607\n",
      "Epoch 28/1000\n",
      "147/147 [==============================] - 3s 18ms/step - loss: 0.7119 - accuracy: 0.6390 - val_loss: 0.7337 - val_accuracy: 0.6677\n",
      "Epoch 29/1000\n",
      "147/147 [==============================] - 3s 18ms/step - loss: 0.7505 - accuracy: 0.6287 - val_loss: 0.7221 - val_accuracy: 0.6667\n",
      "Epoch 30/1000\n",
      "147/147 [==============================] - 3s 18ms/step - loss: 0.7114 - accuracy: 0.6638 - val_loss: 0.7278 - val_accuracy: 0.6815\n",
      "Epoch 31/1000\n",
      "147/147 [==============================] - 3s 18ms/step - loss: 0.7134 - accuracy: 0.6461 - val_loss: 0.7320 - val_accuracy: 0.6706\n",
      "Epoch 32/1000\n",
      "147/147 [==============================] - 3s 18ms/step - loss: 0.7217 - accuracy: 0.6592 - val_loss: 0.7237 - val_accuracy: 0.6796\n",
      "Epoch 33/1000\n",
      "147/147 [==============================] - 3s 18ms/step - loss: 0.7220 - accuracy: 0.6423 - val_loss: 0.7268 - val_accuracy: 0.6687\n",
      "Epoch 34/1000\n",
      "147/147 [==============================] - 3s 18ms/step - loss: 0.7085 - accuracy: 0.6656 - val_loss: 0.7306 - val_accuracy: 0.6637\n",
      "Epoch 35/1000\n",
      "147/147 [==============================] - 3s 18ms/step - loss: 0.7163 - accuracy: 0.6412 - val_loss: 0.7225 - val_accuracy: 0.6607\n",
      "Epoch 36/1000\n",
      "147/147 [==============================] - 3s 18ms/step - loss: 0.6966 - accuracy: 0.6705 - val_loss: 0.7277 - val_accuracy: 0.6726\n",
      "Epoch 37/1000\n",
      "147/147 [==============================] - 3s 18ms/step - loss: 0.7190 - accuracy: 0.6510 - val_loss: 0.7425 - val_accuracy: 0.6706\n",
      "Epoch 38/1000\n",
      "147/147 [==============================] - 3s 18ms/step - loss: 0.7085 - accuracy: 0.6538 - val_loss: 0.7257 - val_accuracy: 0.6706\n",
      "Epoch 39/1000\n",
      "147/147 [==============================] - 3s 18ms/step - loss: 0.7117 - accuracy: 0.6521 - val_loss: 0.7298 - val_accuracy: 0.6637\n",
      "Epoch 40/1000\n",
      "147/147 [==============================] - 3s 19ms/step - loss: 0.7064 - accuracy: 0.6602 - val_loss: 0.7279 - val_accuracy: 0.6627\n",
      "Epoch 41/1000\n",
      "147/147 [==============================] - 3s 18ms/step - loss: 0.7198 - accuracy: 0.6531 - val_loss: 0.7279 - val_accuracy: 0.6796\n",
      "Epoch 42/1000\n",
      "147/147 [==============================] - 3s 19ms/step - loss: 0.7083 - accuracy: 0.6465 - val_loss: 0.7472 - val_accuracy: 0.6726\n",
      "Epoch 43/1000\n",
      "147/147 [==============================] - 3s 18ms/step - loss: 0.7133 - accuracy: 0.6433 - val_loss: 0.7353 - val_accuracy: 0.6726\n",
      "Epoch 44/1000\n",
      "147/147 [==============================] - 3s 18ms/step - loss: 0.6832 - accuracy: 0.6784 - val_loss: 0.7661 - val_accuracy: 0.6190\n",
      "Epoch 45/1000\n",
      "147/147 [==============================] - 3s 19ms/step - loss: 0.7156 - accuracy: 0.6625 - val_loss: 0.7255 - val_accuracy: 0.6796\n",
      "Epoch 46/1000\n",
      "147/147 [==============================] - 3s 18ms/step - loss: 0.6980 - accuracy: 0.6531 - val_loss: 0.7334 - val_accuracy: 0.6835\n",
      "Epoch 47/1000\n",
      "147/147 [==============================] - 3s 18ms/step - loss: 0.7078 - accuracy: 0.6613 - val_loss: 0.7290 - val_accuracy: 0.6548\n",
      "Epoch 48/1000\n",
      "147/147 [==============================] - 3s 18ms/step - loss: 0.7105 - accuracy: 0.6598 - val_loss: 0.7285 - val_accuracy: 0.6825\n",
      "Epoch 49/1000\n",
      "147/147 [==============================] - 3s 18ms/step - loss: 0.6916 - accuracy: 0.6513 - val_loss: 0.7361 - val_accuracy: 0.6627\n"
     ]
    }
   ],
   "source": [
    "\n",
    "# Fit the model on the train data\n",
    "history = model_dl2.fit(X_train_pad, y_train, \n",
    "          batch_size = 16,\n",
    "          epochs=1000,\n",
    "          validation_split=0.3,\n",
    "          callbacks=[es]\n",
    "         )"
   ]
  },
  {
   "cell_type": "code",
   "execution_count": 52,
   "metadata": {},
   "outputs": [
    {
     "name": "stdout",
     "output_type": "stream",
     "text": [
      "The accuracy evaluated on the test set is of 65.000%\n"
     ]
    }
   ],
   "source": [
    "res = model_dl2.evaluate(X_test_pad, y_test, verbose=0)\n",
    "print(f'The accuracy evaluated on the test set is of {res[1]*100:.3f}%')"
   ]
  },
  {
   "cell_type": "code",
   "execution_count": 53,
   "metadata": {},
   "outputs": [
    {
     "data": {
      "image/png": "[encoded data removed]",
      "text/plain": [
       "<Figure size 720x576 with 1 Axes>"
      ]
     },
     "metadata": {
      "needs_background": "light"
     },
     "output_type": "display_data"
    },
    {
     "data": {
      "image/png": "[encoded data removed]",
      "text/plain": [
       "<Figure size 720x576 with 1 Axes>"
      ]
     },
     "metadata": {
      "needs_background": "light"
     },
     "output_type": "display_data"
    }
   ],
   "source": [
    "def plot_loss_accuracy(history):\n",
    "    plt.subplots(figsize=(10,8))\n",
    "    plt.plot(history.history['loss'])\n",
    "    plt.plot(history.history['val_loss'])\n",
    "    plt.title('Model loss')\n",
    "    plt.ylabel('Loss')\n",
    "    plt.xlabel('Epoch')\n",
    "    plt.legend(['Train', 'Test'], loc='best')\n",
    "    plt.show()\n",
    "    \n",
    "    plt.subplots(figsize=(10,8))\n",
    "    plt.plot(history.history['accuracy'])\n",
    "    plt.plot(history.history['val_accuracy'])\n",
    "    plt.title('Model Accuracy')\n",
    "    plt.ylabel('Accuracy')\n",
    "    plt.xlabel('Epoch')\n",
    "    plt.legend(['Train', 'Test'], loc='best')\n",
    "    plt.show()\n",
    "\n",
    "plot_loss_accuracy(history)"
   ]
  },
  {
   "cell_type": "code",
   "execution_count": 54,
   "metadata": {},
   "outputs": [
    {
     "name": "stdout",
     "output_type": "stream",
     "text": [
      "The accuracy evaluated on the test set is of 65.000%\n"
     ]
    }
   ],
   "source": [
    "res1 = model_dl2.evaluate(X_test_pad, y_test, verbose=0)\n",
    "print(f'The accuracy evaluated on the test set is of {res1[1]*100:.3f}%')"
   ]
  },
  {
   "cell_type": "code",
   "execution_count": 55,
   "metadata": {},
   "outputs": [],
   "source": [
    "df_hist = pd.DataFrame(model_dl2.predict(X_test_pad))\n",
    "df_hist.columns = ['neg','neu','pos']"
   ]
  },
  {
   "cell_type": "code",
   "execution_count": 56,
   "metadata": {},
   "outputs": [
    {
     "data": {
      "text/html": [
       "<div>\n",
       "<style scoped>\n",
       "    .dataframe tbody tr th:only-of-type {\n",
       "        vertical-align: middle;\n",
       "    }\n",
       "\n",
       "    .dataframe tbody tr th {\n",
       "        vertical-align: top;\n",
       "    }\n",
       "\n",
       "    .dataframe thead th {\n",
       "        text-align: right;\n",
       "    }\n",
       "</style>\n",
       "<table border=\"1\" class=\"dataframe\">\n",
       "  <thead>\n",
       "    <tr style=\"text-align: right;\">\n",
       "      <th></th>\n",
       "      <th>neg</th>\n",
       "      <th>neu</th>\n",
       "      <th>pos</th>\n",
       "    </tr>\n",
       "  </thead>\n",
       "  <tbody>\n",
       "    <tr>\n",
       "      <th>0</th>\n",
       "      <td>0.027020</td>\n",
       "      <td>0.972164</td>\n",
       "      <td>0.000815</td>\n",
       "    </tr>\n",
       "    <tr>\n",
       "      <th>1</th>\n",
       "      <td>0.168047</td>\n",
       "      <td>0.694042</td>\n",
       "      <td>0.137911</td>\n",
       "    </tr>\n",
       "    <tr>\n",
       "      <th>2</th>\n",
       "      <td>0.250147</td>\n",
       "      <td>0.553759</td>\n",
       "      <td>0.196094</td>\n",
       "    </tr>\n",
       "    <tr>\n",
       "      <th>3</th>\n",
       "      <td>0.697132</td>\n",
       "      <td>0.274457</td>\n",
       "      <td>0.028411</td>\n",
       "    </tr>\n",
       "    <tr>\n",
       "      <th>4</th>\n",
       "      <td>0.627285</td>\n",
       "      <td>0.337043</td>\n",
       "      <td>0.035672</td>\n",
       "    </tr>\n",
       "    <tr>\n",
       "      <th>...</th>\n",
       "      <td>...</td>\n",
       "      <td>...</td>\n",
       "      <td>...</td>\n",
       "    </tr>\n",
       "    <tr>\n",
       "      <th>1435</th>\n",
       "      <td>0.503549</td>\n",
       "      <td>0.303045</td>\n",
       "      <td>0.193406</td>\n",
       "    </tr>\n",
       "    <tr>\n",
       "      <th>1436</th>\n",
       "      <td>0.675948</td>\n",
       "      <td>0.284823</td>\n",
       "      <td>0.039229</td>\n",
       "    </tr>\n",
       "    <tr>\n",
       "      <th>1437</th>\n",
       "      <td>0.920227</td>\n",
       "      <td>0.075858</td>\n",
       "      <td>0.003915</td>\n",
       "    </tr>\n",
       "    <tr>\n",
       "      <th>1438</th>\n",
       "      <td>0.558559</td>\n",
       "      <td>0.395866</td>\n",
       "      <td>0.045575</td>\n",
       "    </tr>\n",
       "    <tr>\n",
       "      <th>1439</th>\n",
       "      <td>0.714504</td>\n",
       "      <td>0.265759</td>\n",
       "      <td>0.019737</td>\n",
       "    </tr>\n",
       "  </tbody>\n",
       "</table>\n",
       "<p>1440 rows × 3 columns</p>\n",
       "</div>"
      ],
      "text/plain": [
       "           neg       neu       pos\n",
       "0     0.027020  0.972164  0.000815\n",
       "1     0.168047  0.694042  0.137911\n",
       "2     0.250147  0.553759  0.196094\n",
       "3     0.697132  0.274457  0.028411\n",
       "4     0.627285  0.337043  0.035672\n",
       "...        ...       ...       ...\n",
       "1435  0.503549  0.303045  0.193406\n",
       "1436  0.675948  0.284823  0.039229\n",
       "1437  0.920227  0.075858  0.003915\n",
       "1438  0.558559  0.395866  0.045575\n",
       "1439  0.714504  0.265759  0.019737\n",
       "\n",
       "[1440 rows x 3 columns]"
      ]
     },
     "execution_count": 56,
     "metadata": {},
     "output_type": "execute_result"
    }
   ],
   "source": [
    "df_hist"
   ]
  },
  {
   "cell_type": "code",
   "execution_count": 64,
   "metadata": {},
   "outputs": [
    {
     "data": {
      "text/plain": [
       "<AxesSubplot:>"
      ]
     },
     "execution_count": 64,
     "metadata": {},
     "output_type": "execute_result"
    },
    {
     "data": {
      "image/png": "[encoded data removed]",
      "text/plain": [
       "<Figure size 432x288 with 1 Axes>"
      ]
     },
     "metadata": {
      "needs_background": "light"
     },
     "output_type": "display_data"
    }
   ],
   "source": [
    "df_hist[['neg','neu','pos']].plot(kind='box')"
   ]
  },
  {
   "cell_type": "code",
   "execution_count": 68,
   "metadata": {},
   "outputs": [
    {
     "data": {
      "text/plain": [
       "<AxesSubplot:xlabel='pos'>"
      ]
     },
     "execution_count": 68,
     "metadata": {},
     "output_type": "execute_result"
    },
    {
     "data": {
      "image/png": "[encoded data removed]",
      "text/plain": [
       "<Figure size 720x576 with 3 Axes>"
      ]
     },
     "metadata": {
      "needs_background": "light"
     },
     "output_type": "display_data"
    }
   ],
   "source": [
    "import warnings\n",
    "warnings.filterwarnings('ignore')\n",
    "\n",
    "fig, ax = plt.subplots(nrows = 3, ncols = 1, figsize = (10,8))\n",
    "\n",
    "sns.swarmplot(df_hist.neg , ax = ax[0], color = 'red', alpha = 0.6)\n",
    "sns.swarmplot(df_hist.neu , ax = ax[1], color = 'grey', alpha = 0.6)\n",
    "sns.swarmplot(df_hist.pos , ax = ax[2], color = 'green', alpha = 0.6)\n"
   ]
  },
  {
   "cell_type": "code",
   "execution_count": null,
   "metadata": {},
   "outputs": [],
   "source": []
  }
 ],
 "metadata": {
  "kernelspec": {
   "display_name": "Python 3",
   "language": "python",
   "name": "python3"
  },
  "language_info": {
   "codemirror_mode": {
    "name": "ipython",
    "version": 3
   },
   "file_extension": ".py",
   "mimetype": "text/x-python",
   "name": "python",
   "nbconvert_exporter": "python",
   "pygments_lexer": "ipython3",
   "version": "3.8.6"
  },
  "toc": {
   "base_numbering": 1,
   "nav_menu": {},
   "number_sections": false,
   "sideBar": true,
   "skip_h1_title": false,
   "title_cell": "Table of Contents",
   "title_sidebar": "Contents",
   "toc_cell": false,
   "toc_position": {},
   "toc_section_display": true,
   "toc_window_display": true
  }
 },
 "nbformat": 4,
 "nbformat_minor": 4
}
