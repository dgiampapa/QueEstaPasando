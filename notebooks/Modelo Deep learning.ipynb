{
 "cells": [
  {
   "cell_type": "markdown",
   "metadata": {},
   "source": [
    "# Data Cleaning"
   ]
  },
  {
   "cell_type": "code",
   "execution_count": 1,
   "metadata": {},
   "outputs": [],
   "source": [
    "#!pip install unidecode"
   ]
  },
  {
   "cell_type": "code",
   "execution_count": 2,
   "metadata": {},
   "outputs": [],
   "source": [
    "import pandas as pd\n",
    "import string\n",
    "import numpy as np\n",
    "from nltk.tokenize import word_tokenize\n",
    "from datetime import datetime\n",
    "from sklearn.model_selection import train_test_split\n",
    "from nltk.corpus import stopwords\n",
    "import unidecode"
   ]
  },
  {
   "cell_type": "markdown",
   "metadata": {},
   "source": [
    "## instalacion NLTK"
   ]
  },
  {
   "cell_type": "code",
   "execution_count": 3,
   "metadata": {},
   "outputs": [],
   "source": [
    "#!pip install nltk"
   ]
  },
  {
   "cell_type": "markdown",
   "metadata": {},
   "source": [
    "## instalacion datetime"
   ]
  },
  {
   "cell_type": "code",
   "execution_count": 4,
   "metadata": {
    "scrolled": true
   },
   "outputs": [],
   "source": [
    "#!pip install datetime"
   ]
  },
  {
   "cell_type": "code",
   "execution_count": 5,
   "metadata": {},
   "outputs": [
    {
     "data": {
      "text/html": [
       "<div>\n",
       "<style scoped>\n",
       "    .dataframe tbody tr th:only-of-type {\n",
       "        vertical-align: middle;\n",
       "    }\n",
       "\n",
       "    .dataframe tbody tr th {\n",
       "        vertical-align: top;\n",
       "    }\n",
       "\n",
       "    .dataframe thead th {\n",
       "        text-align: right;\n",
       "    }\n",
       "</style>\n",
       "<table border=\"1\" class=\"dataframe\">\n",
       "  <thead>\n",
       "    <tr style=\"text-align: right;\">\n",
       "      <th></th>\n",
       "      <th>Unnamed: 0.1</th>\n",
       "      <th>text</th>\n",
       "      <th>created_at</th>\n",
       "      <th>author_id</th>\n",
       "      <th>id</th>\n",
       "      <th>neg</th>\n",
       "      <th>neu</th>\n",
       "      <th>pos</th>\n",
       "      <th>score</th>\n",
       "    </tr>\n",
       "  </thead>\n",
       "  <tbody>\n",
       "    <tr>\n",
       "      <th>0</th>\n",
       "      <td>0</td>\n",
       "      <td>@MercantilBanco Buenas tardes intento abrir mi mercantil en línea y dice datos y clave incorrecta...está fallando la plataforma?</td>\n",
       "      <td>2021-04-28T22:47:36.000Z</td>\n",
       "      <td>202148873</td>\n",
       "      <td>1387539021983850497</td>\n",
       "      <td>0.994753</td>\n",
       "      <td>0.004321</td>\n",
       "      <td>0.000926</td>\n",
       "      <td>neg</td>\n",
       "    </tr>\n",
       "    <tr>\n",
       "      <th>1</th>\n",
       "      <td>1</td>\n",
       "      <td>@MercantilBanco Buenas tardes! En esta oportunidad les escribo para saber si hay problemas con la plataforma para realizar transferencias a otras cuentas mercantil ya que al momento de realizar una transferencia me arroja el mensaje de que intente más tardes!</td>\n",
       "      <td>2021-04-28T22:46:07.000Z</td>\n",
       "      <td>1274553941917863936</td>\n",
       "      <td>1387538646832648197</td>\n",
       "      <td>0.666402</td>\n",
       "      <td>0.328037</td>\n",
       "      <td>0.005561</td>\n",
       "      <td>neg</td>\n",
       "    </tr>\n",
       "    <tr>\n",
       "      <th>2</th>\n",
       "      <td>2</td>\n",
       "      <td>@MercantilBanco Deseo es reponer  mi tarjeta de débito</td>\n",
       "      <td>2021-04-28T22:32:15.000Z</td>\n",
       "      <td>343710274</td>\n",
       "      <td>1387535156626526209</td>\n",
       "      <td>0.107078</td>\n",
       "      <td>0.886624</td>\n",
       "      <td>0.006298</td>\n",
       "      <td>neu</td>\n",
       "    </tr>\n",
       "    <tr>\n",
       "      <th>3</th>\n",
       "      <td>3</td>\n",
       "      <td>@jesusmdbtw2012 @MercantilBanco Si lo está, estoy en la misma situación</td>\n",
       "      <td>2021-04-28T22:06:42.000Z</td>\n",
       "      <td>1323258072534552577</td>\n",
       "      <td>1387528726712311812</td>\n",
       "      <td>0.003918</td>\n",
       "      <td>0.989461</td>\n",
       "      <td>0.006621</td>\n",
       "      <td>neu</td>\n",
       "    </tr>\n",
       "    <tr>\n",
       "      <th>4</th>\n",
       "      <td>4</td>\n",
       "      <td>El @MercantilBanco me quito 180.000 Bs por 4 mensajes de texto al 24024 solicitando clave temporal para un pago móvil, la cual nunca llego, son ladrones o no? https://t.co/bVVmvxfhjH</td>\n",
       "      <td>2021-04-28T21:48:28.000Z</td>\n",
       "      <td>1099360339207049218</td>\n",
       "      <td>1387524137904754689</td>\n",
       "      <td>0.996315</td>\n",
       "      <td>0.002650</td>\n",
       "      <td>0.001035</td>\n",
       "      <td>neg</td>\n",
       "    </tr>\n",
       "  </tbody>\n",
       "</table>\n",
       "</div>"
      ],
      "text/plain": [
       "   Unnamed: 0.1  \\\n",
       "0             0   \n",
       "1             1   \n",
       "2             2   \n",
       "3             3   \n",
       "4             4   \n",
       "\n",
       "                                                                                                                                                                                                                                                                  text  \\\n",
       "0                                                                                                                                     @MercantilBanco Buenas tardes intento abrir mi mercantil en línea y dice datos y clave incorrecta...está fallando la plataforma?   \n",
       "1  @MercantilBanco Buenas tardes! En esta oportunidad les escribo para saber si hay problemas con la plataforma para realizar transferencias a otras cuentas mercantil ya que al momento de realizar una transferencia me arroja el mensaje de que intente más tardes!   \n",
       "2                                                                                                                                                                                                               @MercantilBanco Deseo es reponer  mi tarjeta de débito   \n",
       "3                                                                                                                                                                                              @jesusmdbtw2012 @MercantilBanco Si lo está, estoy en la misma situación   \n",
       "4                                                                               El @MercantilBanco me quito 180.000 Bs por 4 mensajes de texto al 24024 solicitando clave temporal para un pago móvil, la cual nunca llego, son ladrones o no? https://t.co/bVVmvxfhjH   \n",
       "\n",
       "                 created_at            author_id                   id  \\\n",
       "0  2021-04-28T22:47:36.000Z            202148873  1387539021983850497   \n",
       "1  2021-04-28T22:46:07.000Z  1274553941917863936  1387538646832648197   \n",
       "2  2021-04-28T22:32:15.000Z            343710274  1387535156626526209   \n",
       "3  2021-04-28T22:06:42.000Z  1323258072534552577  1387528726712311812   \n",
       "4  2021-04-28T21:48:28.000Z  1099360339207049218  1387524137904754689   \n",
       "\n",
       "        neg       neu       pos score  \n",
       "0  0.994753  0.004321  0.000926   neg  \n",
       "1  0.666402  0.328037  0.005561   neg  \n",
       "2  0.107078  0.886624  0.006298   neu  \n",
       "3  0.003918  0.989461  0.006621   neu  \n",
       "4  0.996315  0.002650  0.001035   neg  "
      ]
     },
     "execution_count": 5,
     "metadata": {},
     "output_type": "execute_result"
    }
   ],
   "source": [
    "pd.set_option('max_colwidth', 800) \n",
    "data = pd.read_csv(\"../QueEstaPasando/data/total.csv\", index_col=0)\n",
    "data.head()"
   ]
  },
  {
   "cell_type": "code",
   "execution_count": 6,
   "metadata": {},
   "outputs": [
    {
     "data": {
      "text/plain": [
       "(4800, 9)"
      ]
     },
     "execution_count": 6,
     "metadata": {},
     "output_type": "execute_result"
    }
   ],
   "source": [
    "data.shape"
   ]
  },
  {
   "cell_type": "code",
   "execution_count": 7,
   "metadata": {},
   "outputs": [],
   "source": [
    "df = data"
   ]
  },
  {
   "cell_type": "code",
   "execution_count": 8,
   "metadata": {},
   "outputs": [
    {
     "data": {
      "text/plain": [
       "Unnamed: 0.1      int64\n",
       "text             object\n",
       "created_at       object\n",
       "author_id         int64\n",
       "id                int64\n",
       "neg             float64\n",
       "neu             float64\n",
       "pos             float64\n",
       "score            object\n",
       "dtype: object"
      ]
     },
     "execution_count": 8,
     "metadata": {},
     "output_type": "execute_result"
    }
   ],
   "source": [
    "df.dtypes"
   ]
  },
  {
   "cell_type": "markdown",
   "metadata": {},
   "source": [
    "## Remover duplicados  mover 1"
   ]
  },
  {
   "cell_type": "code",
   "execution_count": 9,
   "metadata": {},
   "outputs": [],
   "source": [
    "df.drop_duplicates(inplace=True)"
   ]
  },
  {
   "cell_type": "code",
   "execution_count": 10,
   "metadata": {},
   "outputs": [
    {
     "data": {
      "text/plain": [
       "(4798, 9)"
      ]
     },
     "execution_count": 10,
     "metadata": {},
     "output_type": "execute_result"
    }
   ],
   "source": [
    "df.shape"
   ]
  },
  {
   "cell_type": "markdown",
   "metadata": {},
   "source": [
    "## Revisar y Eliminar Null"
   ]
  },
  {
   "cell_type": "code",
   "execution_count": 11,
   "metadata": {},
   "outputs": [
    {
     "data": {
      "text/plain": [
       "Unnamed: 0.1    0\n",
       "text            0\n",
       "created_at      0\n",
       "author_id       0\n",
       "id              0\n",
       "neg             0\n",
       "neu             0\n",
       "pos             0\n",
       "score           0\n",
       "dtype: int64"
      ]
     },
     "execution_count": 11,
     "metadata": {},
     "output_type": "execute_result"
    }
   ],
   "source": [
    "df.isna().sum()"
   ]
  },
  {
   "cell_type": "code",
   "execution_count": 12,
   "metadata": {},
   "outputs": [],
   "source": [
    "df.dropna(axis=0, inplace=True)"
   ]
  },
  {
   "cell_type": "code",
   "execution_count": 13,
   "metadata": {},
   "outputs": [
    {
     "data": {
      "text/plain": [
       "Unnamed: 0.1    0\n",
       "text            0\n",
       "created_at      0\n",
       "author_id       0\n",
       "id              0\n",
       "neg             0\n",
       "neu             0\n",
       "pos             0\n",
       "score           0\n",
       "dtype: int64"
      ]
     },
     "execution_count": 13,
     "metadata": {},
     "output_type": "execute_result"
    }
   ],
   "source": [
    "df.isna().sum()"
   ]
  },
  {
   "cell_type": "markdown",
   "metadata": {},
   "source": [
    "## Modificacion de formato fecha"
   ]
  },
  {
   "cell_type": "code",
   "execution_count": 14,
   "metadata": {
    "scrolled": true
   },
   "outputs": [
    {
     "data": {
      "text/html": [
       "<div>\n",
       "<style scoped>\n",
       "    .dataframe tbody tr th:only-of-type {\n",
       "        vertical-align: middle;\n",
       "    }\n",
       "\n",
       "    .dataframe tbody tr th {\n",
       "        vertical-align: top;\n",
       "    }\n",
       "\n",
       "    .dataframe thead th {\n",
       "        text-align: right;\n",
       "    }\n",
       "</style>\n",
       "<table border=\"1\" class=\"dataframe\">\n",
       "  <thead>\n",
       "    <tr style=\"text-align: right;\">\n",
       "      <th></th>\n",
       "      <th>Unnamed: 0.1</th>\n",
       "      <th>text</th>\n",
       "      <th>created_at</th>\n",
       "      <th>author_id</th>\n",
       "      <th>id</th>\n",
       "      <th>neg</th>\n",
       "      <th>neu</th>\n",
       "      <th>pos</th>\n",
       "      <th>score</th>\n",
       "    </tr>\n",
       "  </thead>\n",
       "  <tbody>\n",
       "    <tr>\n",
       "      <th>0</th>\n",
       "      <td>0</td>\n",
       "      <td>@MercantilBanco Buenas tardes intento abrir mi mercantil en línea y dice datos y clave incorrecta...está fallando la plataforma?</td>\n",
       "      <td>2021-04-28</td>\n",
       "      <td>202148873</td>\n",
       "      <td>1387539021983850497</td>\n",
       "      <td>0.994753</td>\n",
       "      <td>0.004321</td>\n",
       "      <td>0.000926</td>\n",
       "      <td>neg</td>\n",
       "    </tr>\n",
       "    <tr>\n",
       "      <th>1</th>\n",
       "      <td>1</td>\n",
       "      <td>@MercantilBanco Buenas tardes! En esta oportunidad les escribo para saber si hay problemas con la plataforma para realizar transferencias a otras cuentas mercantil ya que al momento de realizar una transferencia me arroja el mensaje de que intente más tardes!</td>\n",
       "      <td>2021-04-28</td>\n",
       "      <td>1274553941917863936</td>\n",
       "      <td>1387538646832648197</td>\n",
       "      <td>0.666402</td>\n",
       "      <td>0.328037</td>\n",
       "      <td>0.005561</td>\n",
       "      <td>neg</td>\n",
       "    </tr>\n",
       "    <tr>\n",
       "      <th>2</th>\n",
       "      <td>2</td>\n",
       "      <td>@MercantilBanco Deseo es reponer  mi tarjeta de débito</td>\n",
       "      <td>2021-04-28</td>\n",
       "      <td>343710274</td>\n",
       "      <td>1387535156626526209</td>\n",
       "      <td>0.107078</td>\n",
       "      <td>0.886624</td>\n",
       "      <td>0.006298</td>\n",
       "      <td>neu</td>\n",
       "    </tr>\n",
       "    <tr>\n",
       "      <th>3</th>\n",
       "      <td>3</td>\n",
       "      <td>@jesusmdbtw2012 @MercantilBanco Si lo está, estoy en la misma situación</td>\n",
       "      <td>2021-04-28</td>\n",
       "      <td>1323258072534552577</td>\n",
       "      <td>1387528726712311812</td>\n",
       "      <td>0.003918</td>\n",
       "      <td>0.989461</td>\n",
       "      <td>0.006621</td>\n",
       "      <td>neu</td>\n",
       "    </tr>\n",
       "    <tr>\n",
       "      <th>4</th>\n",
       "      <td>4</td>\n",
       "      <td>El @MercantilBanco me quito 180.000 Bs por 4 mensajes de texto al 24024 solicitando clave temporal para un pago móvil, la cual nunca llego, son ladrones o no? https://t.co/bVVmvxfhjH</td>\n",
       "      <td>2021-04-28</td>\n",
       "      <td>1099360339207049218</td>\n",
       "      <td>1387524137904754689</td>\n",
       "      <td>0.996315</td>\n",
       "      <td>0.002650</td>\n",
       "      <td>0.001035</td>\n",
       "      <td>neg</td>\n",
       "    </tr>\n",
       "  </tbody>\n",
       "</table>\n",
       "</div>"
      ],
      "text/plain": [
       "   Unnamed: 0.1  \\\n",
       "0             0   \n",
       "1             1   \n",
       "2             2   \n",
       "3             3   \n",
       "4             4   \n",
       "\n",
       "                                                                                                                                                                                                                                                                  text  \\\n",
       "0                                                                                                                                     @MercantilBanco Buenas tardes intento abrir mi mercantil en línea y dice datos y clave incorrecta...está fallando la plataforma?   \n",
       "1  @MercantilBanco Buenas tardes! En esta oportunidad les escribo para saber si hay problemas con la plataforma para realizar transferencias a otras cuentas mercantil ya que al momento de realizar una transferencia me arroja el mensaje de que intente más tardes!   \n",
       "2                                                                                                                                                                                                               @MercantilBanco Deseo es reponer  mi tarjeta de débito   \n",
       "3                                                                                                                                                                                              @jesusmdbtw2012 @MercantilBanco Si lo está, estoy en la misma situación   \n",
       "4                                                                               El @MercantilBanco me quito 180.000 Bs por 4 mensajes de texto al 24024 solicitando clave temporal para un pago móvil, la cual nunca llego, son ladrones o no? https://t.co/bVVmvxfhjH   \n",
       "\n",
       "  created_at            author_id                   id       neg       neu  \\\n",
       "0 2021-04-28            202148873  1387539021983850497  0.994753  0.004321   \n",
       "1 2021-04-28  1274553941917863936  1387538646832648197  0.666402  0.328037   \n",
       "2 2021-04-28            343710274  1387535156626526209  0.107078  0.886624   \n",
       "3 2021-04-28  1323258072534552577  1387528726712311812  0.003918  0.989461   \n",
       "4 2021-04-28  1099360339207049218  1387524137904754689  0.996315  0.002650   \n",
       "\n",
       "        pos score  \n",
       "0  0.000926   neg  \n",
       "1  0.005561   neg  \n",
       "2  0.006298   neu  \n",
       "3  0.006621   neu  \n",
       "4  0.001035   neg  "
      ]
     },
     "execution_count": 14,
     "metadata": {},
     "output_type": "execute_result"
    }
   ],
   "source": [
    "df['created_at'] = pd.to_datetime(df['created_at']) #lo hacemos un objeto tiempo\n",
    "df['created_at'] = df['created_at'].dt.strftime(\"%Y-%m-%d\") #tomo los elementos que quiero de ese objeto\n",
    "df['created_at'] = pd.to_datetime(df['created_at']) #vuelvo a hacerlo un objeto datetime\n",
    "\n",
    "df.head()"
   ]
  },
  {
   "cell_type": "markdown",
   "metadata": {},
   "source": [
    "## Elimina los caracteres iniciales (espacios al principio) y finales (espacios al final)"
   ]
  },
  {
   "cell_type": "code",
   "execution_count": 15,
   "metadata": {},
   "outputs": [
    {
     "data": {
      "text/html": [
       "<div>\n",
       "<style scoped>\n",
       "    .dataframe tbody tr th:only-of-type {\n",
       "        vertical-align: middle;\n",
       "    }\n",
       "\n",
       "    .dataframe tbody tr th {\n",
       "        vertical-align: top;\n",
       "    }\n",
       "\n",
       "    .dataframe thead th {\n",
       "        text-align: right;\n",
       "    }\n",
       "</style>\n",
       "<table border=\"1\" class=\"dataframe\">\n",
       "  <thead>\n",
       "    <tr style=\"text-align: right;\">\n",
       "      <th></th>\n",
       "      <th>Unnamed: 0.1</th>\n",
       "      <th>text</th>\n",
       "      <th>created_at</th>\n",
       "      <th>author_id</th>\n",
       "      <th>id</th>\n",
       "      <th>neg</th>\n",
       "      <th>neu</th>\n",
       "      <th>pos</th>\n",
       "      <th>score</th>\n",
       "    </tr>\n",
       "  </thead>\n",
       "  <tbody>\n",
       "    <tr>\n",
       "      <th>0</th>\n",
       "      <td>0</td>\n",
       "      <td>@MercantilBanco Buenas tardes intento abrir mi mercantil en línea y dice datos y clave incorrecta...está fallando la plataforma?</td>\n",
       "      <td>2021-04-28</td>\n",
       "      <td>202148873</td>\n",
       "      <td>1387539021983850497</td>\n",
       "      <td>0.994753</td>\n",
       "      <td>0.004321</td>\n",
       "      <td>0.000926</td>\n",
       "      <td>neg</td>\n",
       "    </tr>\n",
       "    <tr>\n",
       "      <th>1</th>\n",
       "      <td>1</td>\n",
       "      <td>@MercantilBanco Buenas tardes! En esta oportunidad les escribo para saber si hay problemas con la plataforma para realizar transferencias a otras cuentas mercantil ya que al momento de realizar una transferencia me arroja el mensaje de que intente más tardes!</td>\n",
       "      <td>2021-04-28</td>\n",
       "      <td>1274553941917863936</td>\n",
       "      <td>1387538646832648197</td>\n",
       "      <td>0.666402</td>\n",
       "      <td>0.328037</td>\n",
       "      <td>0.005561</td>\n",
       "      <td>neg</td>\n",
       "    </tr>\n",
       "    <tr>\n",
       "      <th>2</th>\n",
       "      <td>2</td>\n",
       "      <td>@MercantilBanco Deseo es reponer  mi tarjeta de débito</td>\n",
       "      <td>2021-04-28</td>\n",
       "      <td>343710274</td>\n",
       "      <td>1387535156626526209</td>\n",
       "      <td>0.107078</td>\n",
       "      <td>0.886624</td>\n",
       "      <td>0.006298</td>\n",
       "      <td>neu</td>\n",
       "    </tr>\n",
       "    <tr>\n",
       "      <th>3</th>\n",
       "      <td>3</td>\n",
       "      <td>@jesusmdbtw2012 @MercantilBanco Si lo está, estoy en la misma situación</td>\n",
       "      <td>2021-04-28</td>\n",
       "      <td>1323258072534552577</td>\n",
       "      <td>1387528726712311812</td>\n",
       "      <td>0.003918</td>\n",
       "      <td>0.989461</td>\n",
       "      <td>0.006621</td>\n",
       "      <td>neu</td>\n",
       "    </tr>\n",
       "    <tr>\n",
       "      <th>4</th>\n",
       "      <td>4</td>\n",
       "      <td>El @MercantilBanco me quito 180.000 Bs por 4 mensajes de texto al 24024 solicitando clave temporal para un pago móvil, la cual nunca llego, son ladrones o no? https://t.co/bVVmvxfhjH</td>\n",
       "      <td>2021-04-28</td>\n",
       "      <td>1099360339207049218</td>\n",
       "      <td>1387524137904754689</td>\n",
       "      <td>0.996315</td>\n",
       "      <td>0.002650</td>\n",
       "      <td>0.001035</td>\n",
       "      <td>neg</td>\n",
       "    </tr>\n",
       "  </tbody>\n",
       "</table>\n",
       "</div>"
      ],
      "text/plain": [
       "   Unnamed: 0.1  \\\n",
       "0             0   \n",
       "1             1   \n",
       "2             2   \n",
       "3             3   \n",
       "4             4   \n",
       "\n",
       "                                                                                                                                                                                                                                                                  text  \\\n",
       "0                                                                                                                                     @MercantilBanco Buenas tardes intento abrir mi mercantil en línea y dice datos y clave incorrecta...está fallando la plataforma?   \n",
       "1  @MercantilBanco Buenas tardes! En esta oportunidad les escribo para saber si hay problemas con la plataforma para realizar transferencias a otras cuentas mercantil ya que al momento de realizar una transferencia me arroja el mensaje de que intente más tardes!   \n",
       "2                                                                                                                                                                                                               @MercantilBanco Deseo es reponer  mi tarjeta de débito   \n",
       "3                                                                                                                                                                                              @jesusmdbtw2012 @MercantilBanco Si lo está, estoy en la misma situación   \n",
       "4                                                                               El @MercantilBanco me quito 180.000 Bs por 4 mensajes de texto al 24024 solicitando clave temporal para un pago móvil, la cual nunca llego, son ladrones o no? https://t.co/bVVmvxfhjH   \n",
       "\n",
       "  created_at            author_id                   id       neg       neu  \\\n",
       "0 2021-04-28            202148873  1387539021983850497  0.994753  0.004321   \n",
       "1 2021-04-28  1274553941917863936  1387538646832648197  0.666402  0.328037   \n",
       "2 2021-04-28            343710274  1387535156626526209  0.107078  0.886624   \n",
       "3 2021-04-28  1323258072534552577  1387528726712311812  0.003918  0.989461   \n",
       "4 2021-04-28  1099360339207049218  1387524137904754689  0.996315  0.002650   \n",
       "\n",
       "        pos score  \n",
       "0  0.000926   neg  \n",
       "1  0.005561   neg  \n",
       "2  0.006298   neu  \n",
       "3  0.006621   neu  \n",
       "4  0.001035   neg  "
      ]
     },
     "execution_count": 15,
     "metadata": {},
     "output_type": "execute_result"
    }
   ],
   "source": [
    "df['text'] = df['text'].str.strip()\n",
    "df.head()"
   ]
  },
  {
   "cell_type": "markdown",
   "metadata": {},
   "source": [
    "## Replaza palabra 't pago' por 'tpago'"
   ]
  },
  {
   "cell_type": "code",
   "execution_count": 16,
   "metadata": {},
   "outputs": [
    {
     "data": {
      "text/html": [
       "<div>\n",
       "<style scoped>\n",
       "    .dataframe tbody tr th:only-of-type {\n",
       "        vertical-align: middle;\n",
       "    }\n",
       "\n",
       "    .dataframe tbody tr th {\n",
       "        vertical-align: top;\n",
       "    }\n",
       "\n",
       "    .dataframe thead th {\n",
       "        text-align: right;\n",
       "    }\n",
       "</style>\n",
       "<table border=\"1\" class=\"dataframe\">\n",
       "  <thead>\n",
       "    <tr style=\"text-align: right;\">\n",
       "      <th></th>\n",
       "      <th>Unnamed: 0.1</th>\n",
       "      <th>text</th>\n",
       "      <th>created_at</th>\n",
       "      <th>author_id</th>\n",
       "      <th>id</th>\n",
       "      <th>neg</th>\n",
       "      <th>neu</th>\n",
       "      <th>pos</th>\n",
       "      <th>score</th>\n",
       "    </tr>\n",
       "  </thead>\n",
       "  <tbody>\n",
       "    <tr>\n",
       "      <th>0</th>\n",
       "      <td>0</td>\n",
       "      <td>@MercantilBanco Buenas tardes intento abrir mi mercantil en línea y dice datos y clave incorrecta...está fallando la plataforma?</td>\n",
       "      <td>2021-04-28</td>\n",
       "      <td>202148873</td>\n",
       "      <td>1387539021983850497</td>\n",
       "      <td>0.994753</td>\n",
       "      <td>0.004321</td>\n",
       "      <td>0.000926</td>\n",
       "      <td>neg</td>\n",
       "    </tr>\n",
       "    <tr>\n",
       "      <th>1</th>\n",
       "      <td>1</td>\n",
       "      <td>@MercantilBanco Buenas tardes! En esta oportunidad les escribo para saber si hay problemas con la plataforma para realizar transferencias a otras cuentas mercantil ya que al momento de realizar una transferencia me arroja el mensaje de que intente más tardes!</td>\n",
       "      <td>2021-04-28</td>\n",
       "      <td>1274553941917863936</td>\n",
       "      <td>1387538646832648197</td>\n",
       "      <td>0.666402</td>\n",
       "      <td>0.328037</td>\n",
       "      <td>0.005561</td>\n",
       "      <td>neg</td>\n",
       "    </tr>\n",
       "    <tr>\n",
       "      <th>2</th>\n",
       "      <td>2</td>\n",
       "      <td>@MercantilBanco Deseo es reponer  mi tarjeta de débito</td>\n",
       "      <td>2021-04-28</td>\n",
       "      <td>343710274</td>\n",
       "      <td>1387535156626526209</td>\n",
       "      <td>0.107078</td>\n",
       "      <td>0.886624</td>\n",
       "      <td>0.006298</td>\n",
       "      <td>neu</td>\n",
       "    </tr>\n",
       "    <tr>\n",
       "      <th>3</th>\n",
       "      <td>3</td>\n",
       "      <td>@jesusmdbtw2012 @MercantilBanco Si lo está, estoy en la misma situación</td>\n",
       "      <td>2021-04-28</td>\n",
       "      <td>1323258072534552577</td>\n",
       "      <td>1387528726712311812</td>\n",
       "      <td>0.003918</td>\n",
       "      <td>0.989461</td>\n",
       "      <td>0.006621</td>\n",
       "      <td>neu</td>\n",
       "    </tr>\n",
       "    <tr>\n",
       "      <th>4</th>\n",
       "      <td>4</td>\n",
       "      <td>El @MercantilBanco me quito 180.000 Bs por 4 mensajes de texto al 24024 solicitando clave temporal para un pago móvil, la cual nunca llego, son ladrones o no? https://t.co/bVVmvxfhjH</td>\n",
       "      <td>2021-04-28</td>\n",
       "      <td>1099360339207049218</td>\n",
       "      <td>1387524137904754689</td>\n",
       "      <td>0.996315</td>\n",
       "      <td>0.002650</td>\n",
       "      <td>0.001035</td>\n",
       "      <td>neg</td>\n",
       "    </tr>\n",
       "    <tr>\n",
       "      <th>...</th>\n",
       "      <td>...</td>\n",
       "      <td>...</td>\n",
       "      <td>...</td>\n",
       "      <td>...</td>\n",
       "      <td>...</td>\n",
       "      <td>...</td>\n",
       "      <td>...</td>\n",
       "      <td>...</td>\n",
       "      <td>...</td>\n",
       "    </tr>\n",
       "    <tr>\n",
       "      <th>795</th>\n",
       "      <td>95</td>\n",
       "      <td>@EneidaLayaPsuv @bcodeltesoro @ViceVenezuela @Mippcivzla @VTVcanal8 @MinEcoFinanzas @SudebanInforma @MinCoNacional @sundde_ve @CalidadEsVida @almacaracas @CassVzla Incorpórate a la gran familia BT.\\n\\n#PrevenirPorLaVida \\n@EneidaLayaPsuv \\n@ejalvarezg</td>\n",
       "      <td>2021-04-21</td>\n",
       "      <td>806545841192337408</td>\n",
       "      <td>1384992142829965318</td>\n",
       "      <td>0.026753</td>\n",
       "      <td>0.795695</td>\n",
       "      <td>0.177552</td>\n",
       "      <td>neu</td>\n",
       "    </tr>\n",
       "    <tr>\n",
       "      <th>796</th>\n",
       "      <td>96</td>\n",
       "      <td>@SudebanInforma @BCV ES IMPACTANTE COMO LA MISMA TASA OFICIAL DEL $ EN VZLA VA EN UN ALZA INDETENIBLE EN GOBIERNOS DE LA IV REPÚBLICA EL PAIS NO SE HABRIA AGUANTADO ESTO A DÓNDE NOS LLEVAN A UNA BUENA PARTE DE LOS VZLNS????</td>\n",
       "      <td>2021-04-21</td>\n",
       "      <td>263183208</td>\n",
       "      <td>1384991053216948226</td>\n",
       "      <td>0.908691</td>\n",
       "      <td>0.079556</td>\n",
       "      <td>0.011753</td>\n",
       "      <td>neg</td>\n",
       "    </tr>\n",
       "    <tr>\n",
       "      <th>797</th>\n",
       "      <td>97</td>\n",
       "      <td>@ViceVenezuela @SudebanInforma @DrodriguezVen Si partimos del \"supuesto\" que Venezuela es un país productor de droga; entonces Colombia sería la empresa contratada con la misión de satisfacer las necesidades de logística en transporte, almacenamiento y distribución a nuestros clientes con unidades de última generación\\n¿O no? https://t.co/PBx47bJy0Y</td>\n",
       "      <td>2021-04-21</td>\n",
       "      <td>196245666</td>\n",
       "      <td>1384971265300213765</td>\n",
       "      <td>0.075834</td>\n",
       "      <td>0.907265</td>\n",
       "      <td>0.016901</td>\n",
       "      <td>neu</td>\n",
       "    </tr>\n",
       "    <tr>\n",
       "      <th>798</th>\n",
       "      <td>98</td>\n",
       "      <td>@DELSURBanco Cuando piensan aumentar los montos por cajeros automáticos eso no alcanza para absolutamente NADA @SudebanInforma</td>\n",
       "      <td>2021-04-21</td>\n",
       "      <td>137347639</td>\n",
       "      <td>1384960023026094081</td>\n",
       "      <td>0.996677</td>\n",
       "      <td>0.001912</td>\n",
       "      <td>0.001411</td>\n",
       "      <td>neg</td>\n",
       "    </tr>\n",
       "    <tr>\n",
       "      <th>799</th>\n",
       "      <td>99</td>\n",
       "      <td>@EneidaLayaPsuv @bcodeltesoro @ViceVenezuela @Mippcivzla @VTVcanal8 @MinEcoFinanzas @SudebanInforma @MinCoNacional @sundde_ve @CalidadEsVida @almacaracas @CassVzla Perdida de tiempo cuando el tipo se entera que debe pagar 1$ mensual cierra la cuenta 😂😂😂 @EneidaLayaPsuv ladrona adeca sucia</td>\n",
       "      <td>2021-04-21</td>\n",
       "      <td>168899169</td>\n",
       "      <td>1384940003940356097</td>\n",
       "      <td>0.996547</td>\n",
       "      <td>0.002109</td>\n",
       "      <td>0.001344</td>\n",
       "      <td>neg</td>\n",
       "    </tr>\n",
       "  </tbody>\n",
       "</table>\n",
       "<p>4798 rows × 9 columns</p>\n",
       "</div>"
      ],
      "text/plain": [
       "     Unnamed: 0.1  \\\n",
       "0               0   \n",
       "1               1   \n",
       "2               2   \n",
       "3               3   \n",
       "4               4   \n",
       "..            ...   \n",
       "795            95   \n",
       "796            96   \n",
       "797            97   \n",
       "798            98   \n",
       "799            99   \n",
       "\n",
       "                                                                                                                                                                                                                                                                                                                                                                text  \\\n",
       "0                                                                                                                                                                                                                                   @MercantilBanco Buenas tardes intento abrir mi mercantil en línea y dice datos y clave incorrecta...está fallando la plataforma?   \n",
       "1                                                                                                @MercantilBanco Buenas tardes! En esta oportunidad les escribo para saber si hay problemas con la plataforma para realizar transferencias a otras cuentas mercantil ya que al momento de realizar una transferencia me arroja el mensaje de que intente más tardes!   \n",
       "2                                                                                                                                                                                                                                                                                                             @MercantilBanco Deseo es reponer  mi tarjeta de débito   \n",
       "3                                                                                                                                                                                                                                                                                            @jesusmdbtw2012 @MercantilBanco Si lo está, estoy en la misma situación   \n",
       "4                                                                                                                                                                             El @MercantilBanco me quito 180.000 Bs por 4 mensajes de texto al 24024 solicitando clave temporal para un pago móvil, la cual nunca llego, son ladrones o no? https://t.co/bVVmvxfhjH   \n",
       "..                                                                                                                                                                                                                                                                                                                                                               ...   \n",
       "795                                                                                                      @EneidaLayaPsuv @bcodeltesoro @ViceVenezuela @Mippcivzla @VTVcanal8 @MinEcoFinanzas @SudebanInforma @MinCoNacional @sundde_ve @CalidadEsVida @almacaracas @CassVzla Incorpórate a la gran familia BT.\\n\\n#PrevenirPorLaVida \\n@EneidaLayaPsuv \\n@ejalvarezg   \n",
       "796                                                                                                                                  @SudebanInforma @BCV ES IMPACTANTE COMO LA MISMA TASA OFICIAL DEL $ EN VZLA VA EN UN ALZA INDETENIBLE EN GOBIERNOS DE LA IV REPÚBLICA EL PAIS NO SE HABRIA AGUANTADO ESTO A DÓNDE NOS LLEVAN A UNA BUENA PARTE DE LOS VZLNS????   \n",
       "797  @ViceVenezuela @SudebanInforma @DrodriguezVen Si partimos del \"supuesto\" que Venezuela es un país productor de droga; entonces Colombia sería la empresa contratada con la misión de satisfacer las necesidades de logística en transporte, almacenamiento y distribución a nuestros clientes con unidades de última generación\\n¿O no? https://t.co/PBx47bJy0Y   \n",
       "798                                                                                                                                                                                                                                   @DELSURBanco Cuando piensan aumentar los montos por cajeros automáticos eso no alcanza para absolutamente NADA @SudebanInforma   \n",
       "799                                                                @EneidaLayaPsuv @bcodeltesoro @ViceVenezuela @Mippcivzla @VTVcanal8 @MinEcoFinanzas @SudebanInforma @MinCoNacional @sundde_ve @CalidadEsVida @almacaracas @CassVzla Perdida de tiempo cuando el tipo se entera que debe pagar 1$ mensual cierra la cuenta 😂😂😂 @EneidaLayaPsuv ladrona adeca sucia   \n",
       "\n",
       "    created_at            author_id                   id       neg       neu  \\\n",
       "0   2021-04-28            202148873  1387539021983850497  0.994753  0.004321   \n",
       "1   2021-04-28  1274553941917863936  1387538646832648197  0.666402  0.328037   \n",
       "2   2021-04-28            343710274  1387535156626526209  0.107078  0.886624   \n",
       "3   2021-04-28  1323258072534552577  1387528726712311812  0.003918  0.989461   \n",
       "4   2021-04-28  1099360339207049218  1387524137904754689  0.996315  0.002650   \n",
       "..         ...                  ...                  ...       ...       ...   \n",
       "795 2021-04-21   806545841192337408  1384992142829965318  0.026753  0.795695   \n",
       "796 2021-04-21            263183208  1384991053216948226  0.908691  0.079556   \n",
       "797 2021-04-21            196245666  1384971265300213765  0.075834  0.907265   \n",
       "798 2021-04-21            137347639  1384960023026094081  0.996677  0.001912   \n",
       "799 2021-04-21            168899169  1384940003940356097  0.996547  0.002109   \n",
       "\n",
       "          pos score  \n",
       "0    0.000926   neg  \n",
       "1    0.005561   neg  \n",
       "2    0.006298   neu  \n",
       "3    0.006621   neu  \n",
       "4    0.001035   neg  \n",
       "..        ...   ...  \n",
       "795  0.177552   neu  \n",
       "796  0.011753   neg  \n",
       "797  0.016901   neu  \n",
       "798  0.001411   neg  \n",
       "799  0.001344   neg  \n",
       "\n",
       "[4798 rows x 9 columns]"
      ]
     },
     "execution_count": 16,
     "metadata": {},
     "output_type": "execute_result"
    }
   ],
   "source": [
    "df['text'] = df['text'].str.replace('t pago', 'tpago')\n",
    "df"
   ]
  },
  {
   "cell_type": "markdown",
   "metadata": {},
   "source": [
    "## Funcion de Limpieza o Cleaning"
   ]
  },
  {
   "cell_type": "code",
   "execution_count": null,
   "metadata": {},
   "outputs": [],
   "source": []
  },
  {
   "cell_type": "code",
   "execution_count": null,
   "metadata": {},
   "outputs": [],
   "source": []
  },
  {
   "cell_type": "code",
   "execution_count": null,
   "metadata": {},
   "outputs": [],
   "source": [
    "from nltk.stem import WordNetLemmatizer\n",
    "def remove_Lemmatize(text):\n",
    "    lemmatizer = WordNetLemmatizer()\n",
    "    lemmatized = [lemmatizer.lemmatize(word) for word in text]\n",
    "    str_lemmatizer = \" \".join(lemmatized)\n",
    "    return str_lemmatizer"
   ]
  },
  {
   "cell_type": "markdown",
   "metadata": {},
   "source": [
    "## Definir Train y test"
   ]
  },
  {
   "cell_type": "code",
   "execution_count": 18,
   "metadata": {},
   "outputs": [],
   "source": [
    "X = df['text']\n",
    "y = df['score']"
   ]
  },
  {
   "cell_type": "code",
   "execution_count": 19,
   "metadata": {},
   "outputs": [],
   "source": [
    "X_train, X_test, y_train, y_test = train_test_split(X, y, test_size=0.3)"
   ]
  },
  {
   "cell_type": "code",
   "execution_count": 20,
   "metadata": {},
   "outputs": [
    {
     "data": {
      "text/plain": [
       "54     eneidalayapsuv vicevenezuela partidopsuv mippcivzla mincomnacional sundde ve almacaracas calidadesvida cassvzla conatel entreguen divisas retenidas dicom ano queremos solucion basta ignorar clientes bcobicentenario bcodevenezuela bcv org ve sudebaninforma minecofinanzas tsj venezuela tarekwiliamsaab simonzerpad afectadosdicom\n",
       "395                                                                                                                                                               bcodevenezuela afectadosdicom entreguen divisas retenidas dicom ano debemos esperar queremos solucion sudebaninforma bcv org ve bcodevenezuela tarekwiliamsaab tsj venezuela\n",
       "107                                                                                                                                                                asi avances tecnologicos bancos publicos lanzamiento aplicativo bdvdigital record aplicacion lanzada funciona parece avances tecnologicos banesco bbvaprovincial https t co\n",
       "632                                                                                                                                 cantv television satelital ahora puedes consultar saldo perfil usuario ingresando link https t co pagarencantvessencillo realiza pago traves mercantilbanco bcodevenezuela conoce pagar factura https t co\n",
       "694                                                                                                                                                                                                                                                bbvaprovincial movistarve imposible si acceso cuenta ustedes revisan correos atienden casos\n",
       "                                                                                                                                                                        ...                                                                                                                                                                   \n",
       "723                                                                                                                                                                                                                                                                                      buenas tardes banesco saber si respuesta caso gracias\n",
       "668                                                                                                                                                                                                                                        entiendo mercantilbanco limite recargar saldo digitel movistar mas alla limite alcanzado https t co\n",
       "401                                                                                                                                                                                                                                  banesco buenas tardes puede actualizar expediente manera digital finalidad solicitar nueva tarjeta debito\n",
       "258                                                                                                                                                                                                                                                                                  dranancydoc aaroneche eichnerb bodoficial bodestafaactiva\n",
       "719                                                                                                                                                                    bbvaprovincial cuan engorroso hacer reclamo pag mas facil simple correo anexando recaudos hrs tratando hacer reclamo pude sacaba sistema hecho proposito atn sudebaninf\n",
       "Name: text, Length: 3358, dtype: object"
      ]
     },
     "execution_count": 20,
     "metadata": {},
     "output_type": "execute_result"
    }
   ],
   "source": [
    "X_train"
   ]
  },
  {
   "cell_type": "code",
   "execution_count": 21,
   "metadata": {},
   "outputs": [
    {
     "data": {
      "text/plain": [
       "array(['neg', 'neu', 'pos'], dtype=object)"
      ]
     },
     "execution_count": 21,
     "metadata": {},
     "output_type": "execute_result"
    }
   ],
   "source": [
    "y_train.unique()"
   ]
  },
  {
   "cell_type": "markdown",
   "metadata": {},
   "source": [
    "## Modelo Deep learning"
   ]
  },
  {
   "cell_type": "code",
   "execution_count": 22,
   "metadata": {
    "scrolled": true
   },
   "outputs": [
    {
     "name": "stdout",
     "output_type": "stream",
     "text": [
      "Requirement already satisfied: python-Levenshtein in /home/juancarlosbt/.pyenv/versions/3.8.6/envs/QueEstaPasando/lib/python3.8/site-packages (0.12.2)\r\n",
      "Requirement already satisfied: setuptools in /home/juancarlosbt/.pyenv/versions/3.8.6/envs/QueEstaPasando/lib/python3.8/site-packages (from python-Levenshtein) (49.2.1)\r\n"
     ]
    }
   ],
   "source": [
    "#!pip install python-Levenshtein"
   ]
  },
  {
   "cell_type": "code",
   "execution_count": 23,
   "metadata": {},
   "outputs": [],
   "source": [
    "from gensim.models import Word2Vec\n",
    "import numpy as np\n",
    "from tensorflow.keras.preprocessing.sequence import pad_sequences\n",
    "\n",
    "\n",
    "# –– Step #1\n",
    "def convert_sentences(X):\n",
    "    return [sentence.split(' ') for sentence in X]\n",
    "\n",
    "X_train_words = convert_sentences(X_train)\n",
    "X_test_words = convert_sentences(X_test)\n",
    "\n",
    "\n",
    "# –– Step #2\n",
    "word2vec = Word2Vec(sentences=X_train, min_count=10, window=10)\n",
    "\n",
    "\n",
    "# –– Step #3\n",
    "def embed_sentence(word2vec, sentence):\n",
    "    embedded_sentence = []\n",
    "    for word in sentence:\n",
    "        if word in word2vec.wv:\n",
    "            embedded_sentence.append(word2vec.wv[word])\n",
    "        \n",
    "    return np.array(embedded_sentence)\n",
    "\n",
    "def embedding(word2vec, sentences):\n",
    "    embed = []\n",
    "    \n",
    "    for sentence in sentences:\n",
    "        embedded_sentence = embed_sentence(word2vec, sentence)\n",
    "        embed.append(embedded_sentence)\n",
    "        \n",
    "    return embed\n",
    "\n",
    "X_train_embed = embedding(word2vec, X_train_words)\n",
    "X_test_embed = embedding(word2vec, X_test_words)\n",
    "\n",
    "\n",
    "# –– Step #4\n",
    "X_train_pad = pad_sequences(X_train_embed, dtype='float32', padding='post')\n",
    "X_test_pad = pad_sequences(X_test_embed, dtype='float32', padding='post')"
   ]
  },
  {
   "cell_type": "code",
   "execution_count": 24,
   "metadata": {},
   "outputs": [
    {
     "data": {
      "text/plain": [
       "54     neg\n",
       "395    neu\n",
       "107    neu\n",
       "632    neu\n",
       "694    neg\n",
       "      ... \n",
       "723    neu\n",
       "668    neg\n",
       "401    neu\n",
       "258    neu\n",
       "719    neg\n",
       "Name: score, Length: 3358, dtype: object"
      ]
     },
     "execution_count": 24,
     "metadata": {},
     "output_type": "execute_result"
    }
   ],
   "source": [
    "y_train"
   ]
  },
  {
   "cell_type": "code",
   "execution_count": 25,
   "metadata": {},
   "outputs": [],
   "source": [
    "y_train = y_train.map(lambda x : 2 if x == 'pos' else 1 if x == 'neu' else 0)"
   ]
  },
  {
   "cell_type": "code",
   "execution_count": 26,
   "metadata": {},
   "outputs": [],
   "source": [
    "y_test = y_test.map(lambda x : 2 if x == 'pos' else 1 if x == 'neu' else 0)"
   ]
  },
  {
   "cell_type": "code",
   "execution_count": 27,
   "metadata": {},
   "outputs": [],
   "source": [
    "from tensorflow.keras.utils import to_categorical\n",
    "\n",
    "y_train = to_categorical(y_train, num_classes=3) #para el train\n",
    "y_test = to_categorical(y_test, num_classes=3) #para el test"
   ]
  },
  {
   "cell_type": "code",
   "execution_count": 28,
   "metadata": {},
   "outputs": [
    {
     "data": {
      "text/plain": [
       "array([[1., 0., 0.],\n",
       "       [0., 1., 0.],\n",
       "       [0., 1., 0.],\n",
       "       ...,\n",
       "       [0., 1., 0.],\n",
       "       [0., 1., 0.],\n",
       "       [1., 0., 0.]], dtype=float32)"
      ]
     },
     "execution_count": 28,
     "metadata": {},
     "output_type": "execute_result"
    }
   ],
   "source": [
    "y_train"
   ]
  },
  {
   "cell_type": "code",
   "execution_count": null,
   "metadata": {},
   "outputs": [],
   "source": []
  },
  {
   "cell_type": "code",
   "execution_count": 29,
   "metadata": {},
   "outputs": [],
   "source": [
    "from tensorflow.keras import Sequential\n",
    "from tensorflow.keras import layers\n",
    "\n",
    "def init_model():\n",
    "    model_dl = Sequential()\n",
    "    model_dl.add(layers.Masking())\n",
    "    model_dl.add(layers.LSTM(20, activation='tanh'))\n",
    "    model_dl.add(layers.Dense(15, activation='relu'))\n",
    "    model_dl.add(layers.Dense(3, activation='softmax'))\n",
    "\n",
    "    model_dl.compile(loss='categorical_crossentropy',\n",
    "                  optimizer='rmsprop',\n",
    "                  metrics=['accuracy'])\n",
    "    \n",
    "    return model_dl\n",
    "\n",
    "model_dl = init_model()"
   ]
  },
  {
   "cell_type": "code",
   "execution_count": 30,
   "metadata": {},
   "outputs": [
    {
     "name": "stdout",
     "output_type": "stream",
     "text": [
      "Epoch 1/1000\n",
      "147/147 [==============================] - 8s 20ms/step - loss: 1.0532 - accuracy: 0.5412 - val_loss: 0.9667 - val_accuracy: 0.5337\n",
      "Epoch 2/1000\n",
      "147/147 [==============================] - 1s 7ms/step - loss: 0.9463 - accuracy: 0.5546 - val_loss: 0.8946 - val_accuracy: 0.5327\n",
      "Epoch 3/1000\n",
      "147/147 [==============================] - 1s 7ms/step - loss: 0.8785 - accuracy: 0.5612 - val_loss: 0.8598 - val_accuracy: 0.5337\n",
      "Epoch 4/1000\n",
      "147/147 [==============================] - 1s 7ms/step - loss: 0.8574 - accuracy: 0.5627 - val_loss: 0.8507 - val_accuracy: 0.5317\n",
      "Epoch 5/1000\n",
      "147/147 [==============================] - 1s 7ms/step - loss: 0.8592 - accuracy: 0.5480 - val_loss: 0.8453 - val_accuracy: 0.5327\n",
      "Epoch 6/1000\n",
      "147/147 [==============================] - 1s 7ms/step - loss: 0.8614 - accuracy: 0.5663 - val_loss: 0.8416 - val_accuracy: 0.5317\n",
      "Epoch 7/1000\n",
      "147/147 [==============================] - 1s 8ms/step - loss: 0.8382 - accuracy: 0.5661 - val_loss: 0.8412 - val_accuracy: 0.5317\n",
      "Epoch 8/1000\n",
      "147/147 [==============================] - 1s 9ms/step - loss: 0.8446 - accuracy: 0.5587 - val_loss: 0.8416 - val_accuracy: 0.5317\n",
      "Epoch 9/1000\n",
      "147/147 [==============================] - 1s 9ms/step - loss: 0.8347 - accuracy: 0.5683 - val_loss: 0.8415 - val_accuracy: 0.5317\n",
      "Epoch 10/1000\n",
      "147/147 [==============================] - 1s 8ms/step - loss: 0.8346 - accuracy: 0.5636 - val_loss: 0.8424 - val_accuracy: 0.5317\n",
      "Epoch 11/1000\n",
      "147/147 [==============================] - 1s 7ms/step - loss: 0.8586 - accuracy: 0.5545 - val_loss: 0.8410 - val_accuracy: 0.5317\n",
      "Epoch 12/1000\n",
      "147/147 [==============================] - 1s 7ms/step - loss: 0.8450 - accuracy: 0.5628 - val_loss: 0.8428 - val_accuracy: 0.5337\n",
      "Epoch 13/1000\n",
      "147/147 [==============================] - 1s 7ms/step - loss: 0.8315 - accuracy: 0.5777 - val_loss: 0.8409 - val_accuracy: 0.5337\n",
      "Epoch 14/1000\n",
      "147/147 [==============================] - 1s 7ms/step - loss: 0.8238 - accuracy: 0.5676 - val_loss: 0.8441 - val_accuracy: 0.5317\n",
      "Epoch 15/1000\n",
      "147/147 [==============================] - 1s 8ms/step - loss: 0.8451 - accuracy: 0.5744 - val_loss: 0.8441 - val_accuracy: 0.5327\n",
      "Epoch 16/1000\n",
      "147/147 [==============================] - 1s 7ms/step - loss: 0.8391 - accuracy: 0.5772 - val_loss: 0.8425 - val_accuracy: 0.5347\n",
      "Epoch 17/1000\n",
      "147/147 [==============================] - 1s 7ms/step - loss: 0.8540 - accuracy: 0.5625 - val_loss: 0.8439 - val_accuracy: 0.5337\n",
      "Epoch 18/1000\n",
      "147/147 [==============================] - 1s 7ms/step - loss: 0.8429 - accuracy: 0.5717 - val_loss: 0.8477 - val_accuracy: 0.5317\n",
      "Epoch 19/1000\n",
      "147/147 [==============================] - 1s 8ms/step - loss: 0.8553 - accuracy: 0.5644 - val_loss: 0.8463 - val_accuracy: 0.5337\n",
      "Epoch 20/1000\n",
      "147/147 [==============================] - 1s 7ms/step - loss: 0.8353 - accuracy: 0.5660 - val_loss: 0.8471 - val_accuracy: 0.5347\n",
      "Epoch 21/1000\n",
      "147/147 [==============================] - 1s 7ms/step - loss: 0.8441 - accuracy: 0.5641 - val_loss: 0.8480 - val_accuracy: 0.5347\n",
      "Epoch 22/1000\n",
      "147/147 [==============================] - 1s 7ms/step - loss: 0.8464 - accuracy: 0.5729 - val_loss: 0.8483 - val_accuracy: 0.5347\n",
      "Epoch 23/1000\n",
      "147/147 [==============================] - 1s 7ms/step - loss: 0.8545 - accuracy: 0.5481 - val_loss: 0.8508 - val_accuracy: 0.5317\n",
      "Epoch 24/1000\n",
      "147/147 [==============================] - 1s 7ms/step - loss: 0.8385 - accuracy: 0.5628 - val_loss: 0.8490 - val_accuracy: 0.5327\n",
      "Epoch 25/1000\n",
      "147/147 [==============================] - 1s 7ms/step - loss: 0.8243 - accuracy: 0.5773 - val_loss: 0.8483 - val_accuracy: 0.5327\n",
      "Epoch 26/1000\n",
      "147/147 [==============================] - 1s 8ms/step - loss: 0.8410 - accuracy: 0.5476 - val_loss: 0.8502 - val_accuracy: 0.5337\n",
      "Epoch 27/1000\n",
      "147/147 [==============================] - 1s 7ms/step - loss: 0.8195 - accuracy: 0.5833 - val_loss: 0.8495 - val_accuracy: 0.5337\n",
      "Epoch 28/1000\n",
      "147/147 [==============================] - 1s 8ms/step - loss: 0.8319 - accuracy: 0.5565 - val_loss: 0.8506 - val_accuracy: 0.5337\n",
      "Epoch 29/1000\n",
      "147/147 [==============================] - 1s 8ms/step - loss: 0.8368 - accuracy: 0.5731 - val_loss: 0.8522 - val_accuracy: 0.5327\n",
      "Epoch 30/1000\n",
      "147/147 [==============================] - 1s 7ms/step - loss: 0.8382 - accuracy: 0.5722 - val_loss: 0.8515 - val_accuracy: 0.5337\n",
      "Epoch 31/1000\n",
      "147/147 [==============================] - 1s 7ms/step - loss: 0.8247 - accuracy: 0.5697 - val_loss: 0.8532 - val_accuracy: 0.5337\n",
      "Epoch 32/1000\n",
      "147/147 [==============================] - 1s 8ms/step - loss: 0.8348 - accuracy: 0.5499 - val_loss: 0.8566 - val_accuracy: 0.5327\n",
      "Epoch 33/1000\n",
      "147/147 [==============================] - 1s 8ms/step - loss: 0.8320 - accuracy: 0.5801 - val_loss: 0.8566 - val_accuracy: 0.5337\n"
     ]
    },
    {
     "data": {
      "text/plain": [
       "<tensorflow.python.keras.callbacks.History at 0x7f199c5203a0>"
      ]
     },
     "execution_count": 30,
     "metadata": {},
     "output_type": "execute_result"
    }
   ],
   "source": [
    "from tensorflow.keras.callbacks import EarlyStopping\n",
    "\n",
    "es = EarlyStopping(patience=20, restore_best_weights=True)\n",
    "\n",
    "model_dl.fit(X_train_pad, y_train, \n",
    "          batch_size = 16,\n",
    "          epochs=1000,\n",
    "          validation_split=0.3,\n",
    "          callbacks=[es]\n",
    "         )"
   ]
  },
  {
   "cell_type": "code",
   "execution_count": 31,
   "metadata": {},
   "outputs": [
    {
     "name": "stdout",
     "output_type": "stream",
     "text": [
      "Model: \"sequential\"\n",
      "_________________________________________________________________\n",
      "Layer (type)                 Output Shape              Param #   \n",
      "=================================================================\n",
      "masking (Masking)            (None, 6, 100)            0         \n",
      "_________________________________________________________________\n",
      "lstm (LSTM)                  (None, 20)                9680      \n",
      "_________________________________________________________________\n",
      "dense (Dense)                (None, 15)                315       \n",
      "_________________________________________________________________\n",
      "dense_1 (Dense)              (None, 3)                 48        \n",
      "=================================================================\n",
      "Total params: 10,043\n",
      "Trainable params: 10,043\n",
      "Non-trainable params: 0\n",
      "_________________________________________________________________\n"
     ]
    }
   ],
   "source": [
    "model_dl.summary()"
   ]
  },
  {
   "cell_type": "code",
   "execution_count": 32,
   "metadata": {},
   "outputs": [
    {
     "name": "stdout",
     "output_type": "stream",
     "text": [
      "The accuracy evaluated on the test set is of 58.333%\n"
     ]
    }
   ],
   "source": [
    "res = model_dl.evaluate(X_test_pad, y_test, verbose=0)\n",
    "\n",
    "print(f'The accuracy evaluated on the test set is of {res[1]*100:.3f}%')"
   ]
  },
  {
   "cell_type": "code",
   "execution_count": null,
   "metadata": {},
   "outputs": [],
   "source": []
  }
 ],
 "metadata": {
  "kernelspec": {
   "display_name": "Python 3",
   "language": "python",
   "name": "python3"
  },
  "language_info": {
   "codemirror_mode": {
    "name": "ipython",
    "version": 3
   },
   "file_extension": ".py",
   "mimetype": "text/x-python",
   "name": "python",
   "nbconvert_exporter": "python",
   "pygments_lexer": "ipython3",
   "version": "3.8.6"
  },
  "toc": {
   "base_numbering": 1,
   "nav_menu": {},
   "number_sections": false,
   "sideBar": true,
   "skip_h1_title": false,
   "title_cell": "Table of Contents",
   "title_sidebar": "Contents",
   "toc_cell": false,
   "toc_position": {},
   "toc_section_display": true,
   "toc_window_display": true
  }
 },
 "nbformat": 4,
 "nbformat_minor": 4
}
