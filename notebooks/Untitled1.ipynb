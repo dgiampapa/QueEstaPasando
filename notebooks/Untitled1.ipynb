{
 "cells": [
  {
   "cell_type": "code",
   "execution_count": 8,
   "id": "ab10879f-e6a0-4ffd-9c90-67baa623b60e",
   "metadata": {},
   "outputs": [
    {
     "name": "stdout",
     "output_type": "stream",
     "text": [
      "Requirement already satisfied: twittersentiment in /home/dgiampapa/.pyenv/versions/3.8.6/envs/QueEstaPasando/lib/python3.8/site-packages (0.0.3)\n",
      "Requirement already satisfied: torchtext==0.5.0 in /home/dgiampapa/.pyenv/versions/3.8.6/envs/QueEstaPasando/lib/python3.8/site-packages (from twittersentiment) (0.5.0)\n",
      "Requirement already satisfied: scikit-learn==0.23.0 in /home/dgiampapa/.pyenv/versions/3.8.6/envs/QueEstaPasando/lib/python3.8/site-packages (from twittersentiment) (0.23.0)\n",
      "Requirement already satisfied: torch==1.5.0 in /home/dgiampapa/.pyenv/versions/3.8.6/envs/QueEstaPasando/lib/python3.8/site-packages (from twittersentiment) (1.5.0)\n",
      "Requirement already satisfied: tensorflow==2.2.0 in /home/dgiampapa/.pyenv/versions/3.8.6/envs/QueEstaPasando/lib/python3.8/site-packages (from twittersentiment) (2.2.0)\n",
      "Requirement already satisfied: nltk==3.5 in /home/dgiampapa/.pyenv/versions/3.8.6/envs/QueEstaPasando/lib/python3.8/site-packages (from twittersentiment) (3.5)\n",
      "Requirement already satisfied: pandas==1.1.0 in /home/dgiampapa/.pyenv/versions/3.8.6/envs/QueEstaPasando/lib/python3.8/site-packages (from twittersentiment) (1.1.0)\n",
      "Requirement already satisfied: numpy==1.19.0 in /home/dgiampapa/.pyenv/versions/3.8.6/envs/QueEstaPasando/lib/python3.8/site-packages (from twittersentiment) (1.19.0)\n",
      "Requirement already satisfied: regex in /home/dgiampapa/.pyenv/versions/3.8.6/envs/QueEstaPasando/lib/python3.8/site-packages (from nltk==3.5->twittersentiment) (2021.4.4)\n",
      "Requirement already satisfied: tqdm in /home/dgiampapa/.pyenv/versions/3.8.6/envs/QueEstaPasando/lib/python3.8/site-packages (from nltk==3.5->twittersentiment) (4.60.0)\n",
      "Requirement already satisfied: joblib in /home/dgiampapa/.pyenv/versions/3.8.6/envs/QueEstaPasando/lib/python3.8/site-packages (from nltk==3.5->twittersentiment) (1.0.1)\n",
      "Requirement already satisfied: click in /home/dgiampapa/.pyenv/versions/3.8.6/envs/QueEstaPasando/lib/python3.8/site-packages (from nltk==3.5->twittersentiment) (7.1.2)\n",
      "Requirement already satisfied: pytz>=2017.2 in /home/dgiampapa/.pyenv/versions/3.8.6/envs/QueEstaPasando/lib/python3.8/site-packages (from pandas==1.1.0->twittersentiment) (2021.1)\n",
      "Requirement already satisfied: python-dateutil>=2.7.3 in /home/dgiampapa/.pyenv/versions/3.8.6/envs/QueEstaPasando/lib/python3.8/site-packages (from pandas==1.1.0->twittersentiment) (2.8.1)\n",
      "Requirement already satisfied: threadpoolctl>=2.0.0 in /home/dgiampapa/.pyenv/versions/3.8.6/envs/QueEstaPasando/lib/python3.8/site-packages (from scikit-learn==0.23.0->twittersentiment) (2.1.0)\n",
      "Requirement already satisfied: scipy>=0.19.1 in /home/dgiampapa/.pyenv/versions/3.8.6/envs/QueEstaPasando/lib/python3.8/site-packages (from scikit-learn==0.23.0->twittersentiment) (1.4.1)\n",
      "Requirement already satisfied: opt-einsum>=2.3.2 in /home/dgiampapa/.pyenv/versions/3.8.6/envs/QueEstaPasando/lib/python3.8/site-packages (from tensorflow==2.2.0->twittersentiment) (3.3.0)\n",
      "Requirement already satisfied: wrapt>=1.11.1 in /home/dgiampapa/.pyenv/versions/3.8.6/envs/QueEstaPasando/lib/python3.8/site-packages (from tensorflow==2.2.0->twittersentiment) (1.12.1)\n",
      "Requirement already satisfied: tensorflow-estimator<2.3.0,>=2.2.0 in /home/dgiampapa/.pyenv/versions/3.8.6/envs/QueEstaPasando/lib/python3.8/site-packages (from tensorflow==2.2.0->twittersentiment) (2.2.0)\n",
      "Requirement already satisfied: google-pasta>=0.1.8 in /home/dgiampapa/.pyenv/versions/3.8.6/envs/QueEstaPasando/lib/python3.8/site-packages (from tensorflow==2.2.0->twittersentiment) (0.2.0)\n",
      "Requirement already satisfied: astunparse==1.6.3 in /home/dgiampapa/.pyenv/versions/3.8.6/envs/QueEstaPasando/lib/python3.8/site-packages (from tensorflow==2.2.0->twittersentiment) (1.6.3)\n",
      "Requirement already satisfied: keras-preprocessing>=1.1.0 in /home/dgiampapa/.pyenv/versions/3.8.6/envs/QueEstaPasando/lib/python3.8/site-packages (from tensorflow==2.2.0->twittersentiment) (1.1.2)\n",
      "Requirement already satisfied: gast==0.3.3 in /home/dgiampapa/.pyenv/versions/3.8.6/envs/QueEstaPasando/lib/python3.8/site-packages (from tensorflow==2.2.0->twittersentiment) (0.3.3)\n",
      "Requirement already satisfied: protobuf>=3.8.0 in /home/dgiampapa/.pyenv/versions/3.8.6/envs/QueEstaPasando/lib/python3.8/site-packages (from tensorflow==2.2.0->twittersentiment) (3.15.8)\n",
      "Requirement already satisfied: h5py<2.11.0,>=2.10.0 in /home/dgiampapa/.pyenv/versions/3.8.6/envs/QueEstaPasando/lib/python3.8/site-packages (from tensorflow==2.2.0->twittersentiment) (2.10.0)\n",
      "Requirement already satisfied: tensorboard<2.3.0,>=2.2.0 in /home/dgiampapa/.pyenv/versions/3.8.6/envs/QueEstaPasando/lib/python3.8/site-packages (from tensorflow==2.2.0->twittersentiment) (2.2.2)\n",
      "Requirement already satisfied: six>=1.12.0 in /home/dgiampapa/.pyenv/versions/3.8.6/envs/QueEstaPasando/lib/python3.8/site-packages (from tensorflow==2.2.0->twittersentiment) (1.15.0)\n",
      "Requirement already satisfied: wheel>=0.26 in /home/dgiampapa/.pyenv/versions/3.8.6/envs/QueEstaPasando/lib/python3.8/site-packages (from tensorflow==2.2.0->twittersentiment) (0.36.2)\n",
      "Requirement already satisfied: absl-py>=0.7.0 in /home/dgiampapa/.pyenv/versions/3.8.6/envs/QueEstaPasando/lib/python3.8/site-packages (from tensorflow==2.2.0->twittersentiment) (0.12.0)\n",
      "Requirement already satisfied: termcolor>=1.1.0 in /home/dgiampapa/.pyenv/versions/3.8.6/envs/QueEstaPasando/lib/python3.8/site-packages (from tensorflow==2.2.0->twittersentiment) (1.1.0)\n",
      "Requirement already satisfied: grpcio>=1.8.6 in /home/dgiampapa/.pyenv/versions/3.8.6/envs/QueEstaPasando/lib/python3.8/site-packages (from tensorflow==2.2.0->twittersentiment) (1.32.0)\n",
      "Requirement already satisfied: future in /home/dgiampapa/.pyenv/versions/3.8.6/envs/QueEstaPasando/lib/python3.8/site-packages (from torch==1.5.0->twittersentiment) (0.18.2)\n",
      "Requirement already satisfied: sentencepiece in /home/dgiampapa/.pyenv/versions/3.8.6/envs/QueEstaPasando/lib/python3.8/site-packages (from torchtext==0.5.0->twittersentiment) (0.1.95)\n",
      "Requirement already satisfied: requests in /home/dgiampapa/.pyenv/versions/3.8.6/envs/QueEstaPasando/lib/python3.8/site-packages (from torchtext==0.5.0->twittersentiment) (2.25.1)\n",
      "Requirement already satisfied: setuptools>=41.0.0 in /home/dgiampapa/.pyenv/versions/3.8.6/envs/QueEstaPasando/lib/python3.8/site-packages (from tensorboard<2.3.0,>=2.2.0->tensorflow==2.2.0->twittersentiment) (49.2.1)\n",
      "Requirement already satisfied: werkzeug>=0.11.15 in /home/dgiampapa/.pyenv/versions/3.8.6/envs/QueEstaPasando/lib/python3.8/site-packages (from tensorboard<2.3.0,>=2.2.0->tensorflow==2.2.0->twittersentiment) (1.0.1)\n",
      "Requirement already satisfied: tensorboard-plugin-wit>=1.6.0 in /home/dgiampapa/.pyenv/versions/3.8.6/envs/QueEstaPasando/lib/python3.8/site-packages (from tensorboard<2.3.0,>=2.2.0->tensorflow==2.2.0->twittersentiment) (1.8.0)\n",
      "Requirement already satisfied: markdown>=2.6.8 in /home/dgiampapa/.pyenv/versions/3.8.6/envs/QueEstaPasando/lib/python3.8/site-packages (from tensorboard<2.3.0,>=2.2.0->tensorflow==2.2.0->twittersentiment) (3.3.4)\n",
      "Requirement already satisfied: google-auth<2,>=1.6.3 in /home/dgiampapa/.pyenv/versions/3.8.6/envs/QueEstaPasando/lib/python3.8/site-packages (from tensorboard<2.3.0,>=2.2.0->tensorflow==2.2.0->twittersentiment) (1.30.0)\n",
      "Requirement already satisfied: google-auth-oauthlib<0.5,>=0.4.1 in /home/dgiampapa/.pyenv/versions/3.8.6/envs/QueEstaPasando/lib/python3.8/site-packages (from tensorboard<2.3.0,>=2.2.0->tensorflow==2.2.0->twittersentiment) (0.4.4)\n",
      "Requirement already satisfied: pyasn1-modules>=0.2.1 in /home/dgiampapa/.pyenv/versions/3.8.6/envs/QueEstaPasando/lib/python3.8/site-packages (from google-auth<2,>=1.6.3->tensorboard<2.3.0,>=2.2.0->tensorflow==2.2.0->twittersentiment) (0.2.8)\n",
      "Requirement already satisfied: cachetools<5.0,>=2.0.0 in /home/dgiampapa/.pyenv/versions/3.8.6/envs/QueEstaPasando/lib/python3.8/site-packages (from google-auth<2,>=1.6.3->tensorboard<2.3.0,>=2.2.0->tensorflow==2.2.0->twittersentiment) (4.2.1)\n",
      "Requirement already satisfied: rsa<5,>=3.1.4 in /home/dgiampapa/.pyenv/versions/3.8.6/envs/QueEstaPasando/lib/python3.8/site-packages (from google-auth<2,>=1.6.3->tensorboard<2.3.0,>=2.2.0->tensorflow==2.2.0->twittersentiment) (4.7.2)\n",
      "Requirement already satisfied: requests-oauthlib>=0.7.0 in /home/dgiampapa/.pyenv/versions/3.8.6/envs/QueEstaPasando/lib/python3.8/site-packages (from google-auth-oauthlib<0.5,>=0.4.1->tensorboard<2.3.0,>=2.2.0->tensorflow==2.2.0->twittersentiment) (1.3.0)\n",
      "Requirement already satisfied: pyasn1<0.5.0,>=0.4.6 in /home/dgiampapa/.pyenv/versions/3.8.6/envs/QueEstaPasando/lib/python3.8/site-packages (from pyasn1-modules>=0.2.1->google-auth<2,>=1.6.3->tensorboard<2.3.0,>=2.2.0->tensorflow==2.2.0->twittersentiment) (0.4.8)\n",
      "Requirement already satisfied: urllib3<1.27,>=1.21.1 in /home/dgiampapa/.pyenv/versions/3.8.6/envs/QueEstaPasando/lib/python3.8/site-packages (from requests->torchtext==0.5.0->twittersentiment) (1.26.4)\n",
      "Requirement already satisfied: chardet<5,>=3.0.2 in /home/dgiampapa/.pyenv/versions/3.8.6/envs/QueEstaPasando/lib/python3.8/site-packages (from requests->torchtext==0.5.0->twittersentiment) (4.0.0)\n",
      "Requirement already satisfied: certifi>=2017.4.17 in /home/dgiampapa/.pyenv/versions/3.8.6/envs/QueEstaPasando/lib/python3.8/site-packages (from requests->torchtext==0.5.0->twittersentiment) (2020.12.5)\n",
      "Requirement already satisfied: idna<3,>=2.5 in /home/dgiampapa/.pyenv/versions/3.8.6/envs/QueEstaPasando/lib/python3.8/site-packages (from requests->torchtext==0.5.0->twittersentiment) (2.10)\n",
      "Requirement already satisfied: oauthlib>=3.0.0 in /home/dgiampapa/.pyenv/versions/3.8.6/envs/QueEstaPasando/lib/python3.8/site-packages (from requests-oauthlib>=0.7.0->google-auth-oauthlib<0.5,>=0.4.1->tensorboard<2.3.0,>=2.2.0->tensorflow==2.2.0->twittersentiment) (3.1.0)\n"
     ]
    }
   ],
   "source": [
    "!pip install twittersentiment\n",
    "\n",
    "#https://pypi.org/project/twittersentiment/"
   ]
  },
  {
   "cell_type": "code",
   "execution_count": 9,
   "id": "b9fcbb33-ccb9-4e16-93b5-5ddd2e888c0d",
   "metadata": {},
   "outputs": [],
   "source": [
    "import pandas as pd\n",
    "from twittersentiment.TwitterSentiment import Sentiment"
   ]
  },
  {
   "cell_type": "code",
   "execution_count": 11,
   "id": "e711744e-5fe6-4574-b01b-2724155db37a",
   "metadata": {},
   "outputs": [
    {
     "ename": "AttributeError",
     "evalue": "'Sentiment' object has no attribute 'model'",
     "output_type": "error",
     "traceback": [
      "\u001b[0;31m---------------------------------------------------------------------------\u001b[0m",
      "\u001b[0;31mAttributeError\u001b[0m                            Traceback (most recent call last)",
      "\u001b[0;32m<ipython-input-11-5e7c7f4da897>\u001b[0m in \u001b[0;36m<module>\u001b[0;34m\u001b[0m\n\u001b[1;32m      1\u001b[0m \u001b[0ma\u001b[0m \u001b[0;34m=\u001b[0m \u001b[0mSentiment\u001b[0m\u001b[0;34m(\u001b[0m\u001b[0;34m)\u001b[0m\u001b[0;34m\u001b[0m\u001b[0;34m\u001b[0m\u001b[0m\n\u001b[0;32m----> 2\u001b[0;31m \u001b[0ma\u001b[0m\u001b[0;34m.\u001b[0m\u001b[0mpredict\u001b[0m\u001b[0;34m(\u001b[0m\u001b[0;34m\"he is a good boy\"\u001b[0m\u001b[0;34m)\u001b[0m\u001b[0;34m\u001b[0m\u001b[0;34m\u001b[0m\u001b[0m\n\u001b[0m",
      "\u001b[0;32m~/.pyenv/versions/3.8.6/envs/QueEstaPasando/lib/python3.8/site-packages/twittersentiment/TwitterSentiment.py\u001b[0m in \u001b[0;36mpredict\u001b[0;34m(self, X)\u001b[0m\n\u001b[1;32m    166\u001b[0m             \u001b[0;32mwith\u001b[0m \u001b[0mtorch\u001b[0m\u001b[0;34m.\u001b[0m\u001b[0mno_grad\u001b[0m\u001b[0;34m(\u001b[0m\u001b[0;34m)\u001b[0m\u001b[0;34m:\u001b[0m\u001b[0;34m\u001b[0m\u001b[0;34m\u001b[0m\u001b[0m\n\u001b[1;32m    167\u001b[0m \u001b[0;34m\u001b[0m\u001b[0m\n\u001b[0;32m--> 168\u001b[0;31m                 \u001b[0mprediction\u001b[0m \u001b[0;34m=\u001b[0m \u001b[0mself\u001b[0m\u001b[0;34m.\u001b[0m\u001b[0mmodel\u001b[0m\u001b[0;34m(\u001b[0m\u001b[0mtweet\u001b[0m\u001b[0;34m)\u001b[0m\u001b[0;34m\u001b[0m\u001b[0;34m\u001b[0m\u001b[0m\n\u001b[0m\u001b[1;32m    169\u001b[0m \u001b[0;34m\u001b[0m\u001b[0m\n\u001b[1;32m    170\u001b[0m             \u001b[0mpredictions\u001b[0m\u001b[0;34m.\u001b[0m\u001b[0mappend\u001b[0m\u001b[0;34m(\u001b[0m\u001b[0mprediction\u001b[0m\u001b[0;34m)\u001b[0m\u001b[0;34m\u001b[0m\u001b[0;34m\u001b[0m\u001b[0m\n",
      "\u001b[0;31mAttributeError\u001b[0m: 'Sentiment' object has no attribute 'model'"
     ]
    }
   ],
   "source": [
    "a = Sentiment()\n",
    "a.predict(\"he is a good boy\")"
   ]
  }
 ],
 "metadata": {
  "kernelspec": {
   "display_name": "Python 3",
   "language": "python",
   "name": "python3"
  },
  "language_info": {
   "codemirror_mode": {
    "name": "ipython",
    "version": 3
   },
   "file_extension": ".py",
   "mimetype": "text/x-python",
   "name": "python",
   "nbconvert_exporter": "python",
   "pygments_lexer": "ipython3",
   "version": "3.8.6"
  }
 },
 "nbformat": 4,
 "nbformat_minor": 5
}
