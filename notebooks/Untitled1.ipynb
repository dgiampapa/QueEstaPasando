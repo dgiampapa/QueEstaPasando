{
 "cells": [
  {
   "cell_type": "code",
   "execution_count": 58,
   "id": "d4eb4126",
   "metadata": {},
   "outputs": [
    {
     "name": "stdout",
     "output_type": "stream",
     "text": [
      "The autoreload extension is already loaded. To reload it, use:\n",
      "  %reload_ext autoreload\n"
     ]
    }
   ],
   "source": [
    "%load_ext autoreload\n",
    "%autoreload 2"
   ]
  },
  {
   "cell_type": "code",
   "execution_count": 65,
   "id": "8023ddc2",
   "metadata": {},
   "outputs": [],
   "source": [
    "from QueEstaPasando import clean_data\n",
    "import pandas as pd\n",
    "from QueEstaPasando import trainer_ml"
   ]
  },
  {
   "cell_type": "code",
   "execution_count": 60,
   "id": "b86f05b1",
   "metadata": {},
   "outputs": [
    {
     "data": {
      "text/html": [
       "<div>\n",
       "<style scoped>\n",
       "    .dataframe tbody tr th:only-of-type {\n",
       "        vertical-align: middle;\n",
       "    }\n",
       "\n",
       "    .dataframe tbody tr th {\n",
       "        vertical-align: top;\n",
       "    }\n",
       "\n",
       "    .dataframe thead th {\n",
       "        text-align: right;\n",
       "    }\n",
       "</style>\n",
       "<table border=\"1\" class=\"dataframe\">\n",
       "  <thead>\n",
       "    <tr style=\"text-align: right;\">\n",
       "      <th></th>\n",
       "      <th>Unnamed: 0.1</th>\n",
       "      <th>text</th>\n",
       "      <th>created_at</th>\n",
       "      <th>author_id</th>\n",
       "      <th>id</th>\n",
       "      <th>neg</th>\n",
       "      <th>neu</th>\n",
       "      <th>pos</th>\n",
       "      <th>score</th>\n",
       "    </tr>\n",
       "  </thead>\n",
       "  <tbody>\n",
       "    <tr>\n",
       "      <th>0</th>\n",
       "      <td>0</td>\n",
       "      <td>@MercantilBanco Buenas tardes intento abrir mi mercantil en línea y dice datos y clave incorrecta...está fallando la plataforma?</td>\n",
       "      <td>2021-04-28T22:47:36.000Z</td>\n",
       "      <td>202148873</td>\n",
       "      <td>1387539021983850497</td>\n",
       "      <td>0.994753</td>\n",
       "      <td>0.004321</td>\n",
       "      <td>0.000926</td>\n",
       "      <td>neg</td>\n",
       "    </tr>\n",
       "    <tr>\n",
       "      <th>1</th>\n",
       "      <td>1</td>\n",
       "      <td>@MercantilBanco Buenas tardes! En esta oportunidad les escribo para saber si hay problemas con la plataforma para realizar transferencias a otras cuentas mercantil ya que al momento de realizar una transferencia me arroja el mensaje de que intente más tardes!</td>\n",
       "      <td>2021-04-28T22:46:07.000Z</td>\n",
       "      <td>1274553941917863936</td>\n",
       "      <td>1387538646832648197</td>\n",
       "      <td>0.666402</td>\n",
       "      <td>0.328037</td>\n",
       "      <td>0.005561</td>\n",
       "      <td>neg</td>\n",
       "    </tr>\n",
       "    <tr>\n",
       "      <th>2</th>\n",
       "      <td>2</td>\n",
       "      <td>@MercantilBanco Deseo es reponer  mi tarjeta de débito</td>\n",
       "      <td>2021-04-28T22:32:15.000Z</td>\n",
       "      <td>343710274</td>\n",
       "      <td>1387535156626526209</td>\n",
       "      <td>0.107078</td>\n",
       "      <td>0.886624</td>\n",
       "      <td>0.006298</td>\n",
       "      <td>neu</td>\n",
       "    </tr>\n",
       "    <tr>\n",
       "      <th>3</th>\n",
       "      <td>3</td>\n",
       "      <td>@jesusmdbtw2012 @MercantilBanco Si lo está, estoy en la misma situación</td>\n",
       "      <td>2021-04-28T22:06:42.000Z</td>\n",
       "      <td>1323258072534552577</td>\n",
       "      <td>1387528726712311812</td>\n",
       "      <td>0.003918</td>\n",
       "      <td>0.989461</td>\n",
       "      <td>0.006621</td>\n",
       "      <td>neu</td>\n",
       "    </tr>\n",
       "    <tr>\n",
       "      <th>4</th>\n",
       "      <td>4</td>\n",
       "      <td>El @MercantilBanco me quito 180.000 Bs por 4 mensajes de texto al 24024 solicitando clave temporal para un pago móvil, la cual nunca llego, son ladrones o no? https://t.co/bVVmvxfhjH</td>\n",
       "      <td>2021-04-28T21:48:28.000Z</td>\n",
       "      <td>1099360339207049218</td>\n",
       "      <td>1387524137904754689</td>\n",
       "      <td>0.996315</td>\n",
       "      <td>0.002650</td>\n",
       "      <td>0.001035</td>\n",
       "      <td>neg</td>\n",
       "    </tr>\n",
       "  </tbody>\n",
       "</table>\n",
       "</div>"
      ],
      "text/plain": [
       "   Unnamed: 0.1  \\\n",
       "0             0   \n",
       "1             1   \n",
       "2             2   \n",
       "3             3   \n",
       "4             4   \n",
       "\n",
       "                                                                                                                                                                                                                                                                  text  \\\n",
       "0                                                                                                                                     @MercantilBanco Buenas tardes intento abrir mi mercantil en línea y dice datos y clave incorrecta...está fallando la plataforma?   \n",
       "1  @MercantilBanco Buenas tardes! En esta oportunidad les escribo para saber si hay problemas con la plataforma para realizar transferencias a otras cuentas mercantil ya que al momento de realizar una transferencia me arroja el mensaje de que intente más tardes!   \n",
       "2                                                                                                                                                                                                               @MercantilBanco Deseo es reponer  mi tarjeta de débito   \n",
       "3                                                                                                                                                                                              @jesusmdbtw2012 @MercantilBanco Si lo está, estoy en la misma situación   \n",
       "4                                                                               El @MercantilBanco me quito 180.000 Bs por 4 mensajes de texto al 24024 solicitando clave temporal para un pago móvil, la cual nunca llego, son ladrones o no? https://t.co/bVVmvxfhjH   \n",
       "\n",
       "                 created_at            author_id                   id  \\\n",
       "0  2021-04-28T22:47:36.000Z            202148873  1387539021983850497   \n",
       "1  2021-04-28T22:46:07.000Z  1274553941917863936  1387538646832648197   \n",
       "2  2021-04-28T22:32:15.000Z            343710274  1387535156626526209   \n",
       "3  2021-04-28T22:06:42.000Z  1323258072534552577  1387528726712311812   \n",
       "4  2021-04-28T21:48:28.000Z  1099360339207049218  1387524137904754689   \n",
       "\n",
       "        neg       neu       pos score  \n",
       "0  0.994753  0.004321  0.000926   neg  \n",
       "1  0.666402  0.328037  0.005561   neg  \n",
       "2  0.107078  0.886624  0.006298   neu  \n",
       "3  0.003918  0.989461  0.006621   neu  \n",
       "4  0.996315  0.002650  0.001035   neg  "
      ]
     },
     "execution_count": 60,
     "metadata": {},
     "output_type": "execute_result"
    }
   ],
   "source": [
    "pd.set_option('max_colwidth', 800) \n",
    "data = pd.read_csv(\"../QueEstaPasando/data/total.csv\", index_col=0)\n",
    "data.head()"
   ]
  },
  {
   "cell_type": "code",
   "execution_count": null,
   "id": "b36b7e18",
   "metadata": {},
   "outputs": [],
   "source": []
  },
  {
   "cell_type": "code",
   "execution_count": 61,
   "id": "f6e76e67",
   "metadata": {},
   "outputs": [],
   "source": [
    "cl = clean_data.Clean_Data()"
   ]
  },
  {
   "cell_type": "code",
   "execution_count": 62,
   "id": "42603f3b",
   "metadata": {},
   "outputs": [],
   "source": [
    "df = cl.clean_data(data)"
   ]
  },
  {
   "cell_type": "code",
   "execution_count": 63,
   "id": "34af4333",
   "metadata": {},
   "outputs": [
    {
     "data": {
      "text/html": [
       "<div>\n",
       "<style scoped>\n",
       "    .dataframe tbody tr th:only-of-type {\n",
       "        vertical-align: middle;\n",
       "    }\n",
       "\n",
       "    .dataframe tbody tr th {\n",
       "        vertical-align: top;\n",
       "    }\n",
       "\n",
       "    .dataframe thead th {\n",
       "        text-align: right;\n",
       "    }\n",
       "</style>\n",
       "<table border=\"1\" class=\"dataframe\">\n",
       "  <thead>\n",
       "    <tr style=\"text-align: right;\">\n",
       "      <th></th>\n",
       "      <th>Unnamed: 0.1</th>\n",
       "      <th>text</th>\n",
       "      <th>created_at</th>\n",
       "      <th>author_id</th>\n",
       "      <th>id</th>\n",
       "      <th>neg</th>\n",
       "      <th>neu</th>\n",
       "      <th>pos</th>\n",
       "      <th>score</th>\n",
       "    </tr>\n",
       "  </thead>\n",
       "  <tbody>\n",
       "    <tr>\n",
       "      <th>0</th>\n",
       "      <td>0</td>\n",
       "      <td>buenas tardes intento abrir mercantil linea dice datos clave incorrecta fallando plataforma</td>\n",
       "      <td>2021-04-28</td>\n",
       "      <td>202148873</td>\n",
       "      <td>1387539021983850497</td>\n",
       "      <td>0.994753</td>\n",
       "      <td>0.004321</td>\n",
       "      <td>0.000926</td>\n",
       "      <td>neg</td>\n",
       "    </tr>\n",
       "    <tr>\n",
       "      <th>1</th>\n",
       "      <td>1</td>\n",
       "      <td>buenas tardes oportunidad escribo saber si problemas plataforma realizar transferencias cuentas mercantil momento realizar transferencia arroja mensaje intente ma tardes</td>\n",
       "      <td>2021-04-28</td>\n",
       "      <td>1274553941917863936</td>\n",
       "      <td>1387538646832648197</td>\n",
       "      <td>0.666402</td>\n",
       "      <td>0.328037</td>\n",
       "      <td>0.005561</td>\n",
       "      <td>neg</td>\n",
       "    </tr>\n",
       "    <tr>\n",
       "      <th>2</th>\n",
       "      <td>2</td>\n",
       "      <td>deseo reponer tarjeta debito</td>\n",
       "      <td>2021-04-28</td>\n",
       "      <td>343710274</td>\n",
       "      <td>1387535156626526209</td>\n",
       "      <td>0.107078</td>\n",
       "      <td>0.886624</td>\n",
       "      <td>0.006298</td>\n",
       "      <td>neu</td>\n",
       "    </tr>\n",
       "    <tr>\n",
       "      <th>3</th>\n",
       "      <td>3</td>\n",
       "      <td>si misma situacion</td>\n",
       "      <td>2021-04-28</td>\n",
       "      <td>1323258072534552577</td>\n",
       "      <td>1387528726712311812</td>\n",
       "      <td>0.003918</td>\n",
       "      <td>0.989461</td>\n",
       "      <td>0.006621</td>\n",
       "      <td>neu</td>\n",
       "    </tr>\n",
       "    <tr>\n",
       "      <th>4</th>\n",
       "      <td>4</td>\n",
       "      <td>quito b mensajes texto solicitando clave temporal pago movil nunca llego ladrones http t co bvvmvxfhjh</td>\n",
       "      <td>2021-04-28</td>\n",
       "      <td>1099360339207049218</td>\n",
       "      <td>1387524137904754689</td>\n",
       "      <td>0.996315</td>\n",
       "      <td>0.002650</td>\n",
       "      <td>0.001035</td>\n",
       "      <td>neg</td>\n",
       "    </tr>\n",
       "  </tbody>\n",
       "</table>\n",
       "</div>"
      ],
      "text/plain": [
       "   Unnamed: 0.1  \\\n",
       "0             0   \n",
       "1             1   \n",
       "2             2   \n",
       "3             3   \n",
       "4             4   \n",
       "\n",
       "                                                                                                                                                                        text  \\\n",
       "0                                                                                buenas tardes intento abrir mercantil linea dice datos clave incorrecta fallando plataforma   \n",
       "1  buenas tardes oportunidad escribo saber si problemas plataforma realizar transferencias cuentas mercantil momento realizar transferencia arroja mensaje intente ma tardes   \n",
       "2                                                                                                                                               deseo reponer tarjeta debito   \n",
       "3                                                                                                                                                         si misma situacion   \n",
       "4                                                                     quito b mensajes texto solicitando clave temporal pago movil nunca llego ladrones http t co bvvmvxfhjh   \n",
       "\n",
       "  created_at            author_id                   id       neg       neu  \\\n",
       "0 2021-04-28            202148873  1387539021983850497  0.994753  0.004321   \n",
       "1 2021-04-28  1274553941917863936  1387538646832648197  0.666402  0.328037   \n",
       "2 2021-04-28            343710274  1387535156626526209  0.107078  0.886624   \n",
       "3 2021-04-28  1323258072534552577  1387528726712311812  0.003918  0.989461   \n",
       "4 2021-04-28  1099360339207049218  1387524137904754689  0.996315  0.002650   \n",
       "\n",
       "        pos score  \n",
       "0  0.000926   neg  \n",
       "1  0.005561   neg  \n",
       "2  0.006298   neu  \n",
       "3  0.006621   neu  \n",
       "4  0.001035   neg  "
      ]
     },
     "execution_count": 63,
     "metadata": {},
     "output_type": "execute_result"
    }
   ],
   "source": [
    "df.head()"
   ]
  },
  {
   "cell_type": "code",
   "execution_count": null,
   "id": "d8b4f84c",
   "metadata": {},
   "outputs": [],
   "source": []
  },
  {
   "cell_type": "code",
   "execution_count": 77,
   "id": "e10a4bc4",
   "metadata": {},
   "outputs": [],
   "source": [
    "t_ml = trainer_ml.Trainer_ML()"
   ]
  },
  {
   "cell_type": "code",
   "execution_count": 78,
   "id": "ffc9f9f4",
   "metadata": {},
   "outputs": [
    {
     "name": "stdout",
     "output_type": "stream",
     "text": [
      "Fitting 5 folds for each of 200 candidates, totalling 1000 fits\n"
     ]
    },
    {
     "name": "stderr",
     "output_type": "stream",
     "text": [
      "/home/juancarlosbt/.pyenv/versions/3.8.6/envs/QueEstaPasando/lib/python3.8/site-packages/sklearn/model_selection/_search.py:918: UserWarning: One or more of the test scores are non-finite: [0.64294718        nan 0.64831054        nan 0.58070533        nan\n",
      "        nan        nan        nan 0.5512233         nan        nan\n",
      " 0.58219608 0.61941887 0.56492087        nan 0.5771339         nan\n",
      " 0.63103621        nan 0.63043876        nan        nan        nan\n",
      "        nan        nan 0.5771339  0.5643212  0.63877919 0.56432741\n",
      " 0.58189403 0.55091282        nan        nan 0.57951485 0.60125612\n",
      " 0.5866648  0.62924917 0.58308628 0.62030995 0.54675236 0.63372011\n",
      "        nan 0.58815024 0.57653467        nan 0.57772559 0.60988885\n",
      "        nan 0.63877963        nan 0.57921812        nan        nan\n",
      "        nan 0.59440423        nan        nan 0.59529753 0.54883569\n",
      " 0.6250825         nan 0.57415327        nan        nan        nan\n",
      "        nan        nan 0.5783257         nan 0.59946908        nan\n",
      "        nan        nan 0.62061467        nan        nan 0.61882452\n",
      "        nan 0.57237022 0.62805692        nan 0.57713035        nan\n",
      "        nan        nan        nan 0.61554716 0.59767937        nan\n",
      "        nan        nan        nan 0.54407379        nan 0.55985913\n",
      " 0.6283532         nan 0.60810313 0.53632948 0.63401373        nan\n",
      "        nan        nan 0.57951574 0.5783226  0.58666214 0.63997099\n",
      "        nan        nan        nan 0.66588248 0.54407379        nan\n",
      " 0.55181898        nan 0.62567375 0.54199179        nan 0.58934204\n",
      "        nan 0.54407379 0.60184825 0.63044363        nan 0.54616156\n",
      "        nan 0.58755589        nan 0.64026817 0.56104694 0.63252697\n",
      " 0.63252564 0.55211527 0.59976803        nan        nan 0.56163997\n",
      "        nan        nan        nan 0.61227557        nan        nan\n",
      "        nan 0.580704          nan        nan        nan 0.58070533\n",
      " 0.58397914 0.59559382 0.60006609 0.63073859        nan 0.62746035\n",
      " 0.58070533        nan 0.60721028 0.57206639        nan        nan\n",
      "        nan 0.62209921 0.57742974        nan        nan 0.59172433\n",
      "        nan        nan 0.63252519        nan        nan 0.5771339\n",
      "        nan        nan 0.58844963        nan        nan        nan\n",
      " 0.61376455 0.57981203 0.58070533        nan        nan        nan\n",
      "        nan 0.57624148 0.61852734 0.56432519 0.59618994 0.57415283\n",
      " 0.58636275        nan        nan        nan 0.63073904 0.6390768\n",
      " 0.58666081        nan]\n",
      "  warnings.warn(\n"
     ]
    }
   ],
   "source": [
    "model,X_test,y_test = t_ml.trainer()"
   ]
  },
  {
   "cell_type": "code",
   "execution_count": 76,
   "id": "2b5d73aa",
   "metadata": {},
   "outputs": [
    {
     "data": {
      "text/plain": [
       "Pipeline(steps=[('tfidf',\n",
       "                 TfidfVectorizer(lowercase=False, max_df=0.21485151670284885,\n",
       "                                 min_df=0.010147795507111052)),\n",
       "                ('model', MultinomialNB(alpha=1.310326433233555))])"
      ]
     },
     "execution_count": 76,
     "metadata": {},
     "output_type": "execute_result"
    }
   ],
   "source": []
  },
  {
   "cell_type": "code",
   "execution_count": 80,
   "id": "ecf997f8",
   "metadata": {},
   "outputs": [
    {
     "data": {
      "text/plain": [
       "0.6756944444444445"
      ]
     },
     "execution_count": 80,
     "metadata": {},
     "output_type": "execute_result"
    }
   ],
   "source": [
    "t_ml.score_model(model,X_test,y_test)"
   ]
  },
  {
   "cell_type": "code",
   "execution_count": null,
   "id": "8aa27066",
   "metadata": {},
   "outputs": [],
   "source": [
    "t_ml."
   ]
  },
  {
   "cell_type": "code",
   "execution_count": 87,
   "id": "a892ddd0",
   "metadata": {},
   "outputs": [
    {
     "ename": "NameError",
     "evalue": "name 'learning_curve' is not defined",
     "output_type": "error",
     "traceback": [
      "\u001b[0;31m---------------------------------------------------------------------------\u001b[0m",
      "\u001b[0;31mNameError\u001b[0m                                 Traceback (most recent call last)",
      "\u001b[0;32m<ipython-input-87-d49ee7a07481>\u001b[0m in \u001b[0;36m<module>\u001b[0;34m\u001b[0m\n\u001b[0;32m----> 1\u001b[0;31m \u001b[0mt_ml\u001b[0m\u001b[0;34m.\u001b[0m\u001b[0mplot_learning_curves\u001b[0m\u001b[0;34m(\u001b[0m\u001b[0mmodel\u001b[0m\u001b[0;34m,\u001b[0m\u001b[0mX_test\u001b[0m\u001b[0;34m,\u001b[0m\u001b[0my_test\u001b[0m\u001b[0;34m,\u001b[0m\u001b[0mcv\u001b[0m\u001b[0;34m=\u001b[0m\u001b[0;36m5\u001b[0m\u001b[0;34m)\u001b[0m\u001b[0;34m\u001b[0m\u001b[0;34m\u001b[0m\u001b[0m\n\u001b[0m",
      "\u001b[0;32m~/code/dgiampapa/QueEstaPasando/QueEstaPasando/trainer_ml.py\u001b[0m in \u001b[0;36mplot_learning_curves\u001b[0;34m(self, model, X_train, y_train, cv)\u001b[0m\n\u001b[1;32m     69\u001b[0m         \u001b[0mtrain_sizes\u001b[0m \u001b[0;34m=\u001b[0m \u001b[0;34m[\u001b[0m\u001b[0;36m25\u001b[0m\u001b[0;34m,\u001b[0m\u001b[0;36m50\u001b[0m\u001b[0;34m,\u001b[0m\u001b[0;36m75\u001b[0m\u001b[0;34m,\u001b[0m\u001b[0;36m100\u001b[0m\u001b[0;34m,\u001b[0m\u001b[0;36m250\u001b[0m\u001b[0;34m,\u001b[0m\u001b[0;36m500\u001b[0m\u001b[0;34m,\u001b[0m\u001b[0;36m750\u001b[0m\u001b[0;34m,\u001b[0m\u001b[0;36m1000\u001b[0m\u001b[0;34m,\u001b[0m\u001b[0;36m1150\u001b[0m\u001b[0;34m]\u001b[0m\u001b[0;34m\u001b[0m\u001b[0;34m\u001b[0m\u001b[0m\n\u001b[1;32m     70\u001b[0m         \u001b[0;31m# se crea la linea de regresion\u001b[0m\u001b[0;34m\u001b[0m\u001b[0;34m\u001b[0m\u001b[0;34m\u001b[0m\u001b[0m\n\u001b[0;32m---> 71\u001b[0;31m         \u001b[0mtrain_sizes\u001b[0m\u001b[0;34m,\u001b[0m \u001b[0mtrain_scores\u001b[0m\u001b[0;34m,\u001b[0m \u001b[0mtest_scores\u001b[0m \u001b[0;34m=\u001b[0m \u001b[0mlearning_curve\u001b[0m\u001b[0;34m(\u001b[0m\u001b[0mestimator\u001b[0m\u001b[0;34m=\u001b[0m\u001b[0mmodel\u001b[0m\u001b[0;34m,\u001b[0m \u001b[0mX\u001b[0m\u001b[0;34m=\u001b[0m\u001b[0mX_train\u001b[0m\u001b[0;34m,\u001b[0m \u001b[0my\u001b[0m\u001b[0;34m=\u001b[0m\u001b[0my_train\u001b[0m\u001b[0;34m,\u001b[0m \u001b[0mtrain_sizes\u001b[0m\u001b[0;34m=\u001b[0m\u001b[0mtrain_sizes\u001b[0m\u001b[0;34m,\u001b[0m \u001b[0mcv\u001b[0m\u001b[0;34m=\u001b[0m\u001b[0mcv\u001b[0m\u001b[0;34m)\u001b[0m\u001b[0;34m\u001b[0m\u001b[0;34m\u001b[0m\u001b[0m\n\u001b[0m\u001b[1;32m     72\u001b[0m         \u001b[0;31m# Se calcula la media de los score de cada una de los cv ejecutados\u001b[0m\u001b[0;34m\u001b[0m\u001b[0;34m\u001b[0m\u001b[0;34m\u001b[0m\u001b[0m\n\u001b[1;32m     73\u001b[0m         \u001b[0mtrain_scores_mean\u001b[0m \u001b[0;34m=\u001b[0m \u001b[0mnp\u001b[0m\u001b[0;34m.\u001b[0m\u001b[0mmean\u001b[0m\u001b[0;34m(\u001b[0m\u001b[0mtrain_scores\u001b[0m\u001b[0;34m,\u001b[0m \u001b[0maxis\u001b[0m\u001b[0;34m=\u001b[0m\u001b[0;36m1\u001b[0m\u001b[0;34m)\u001b[0m\u001b[0;34m\u001b[0m\u001b[0;34m\u001b[0m\u001b[0m\n",
      "\u001b[0;31mNameError\u001b[0m: name 'learning_curve' is not defined"
     ]
    }
   ],
   "source": [
    "t_ml.plot_learning_curves(model,X_test,y_test,cv=5)"
   ]
  },
  {
   "cell_type": "code",
   "execution_count": null,
   "id": "fe346129",
   "metadata": {},
   "outputs": [],
   "source": []
  },
  {
   "cell_type": "code",
   "execution_count": null,
   "id": "95061701",
   "metadata": {},
   "outputs": [],
   "source": []
  }
 ],
 "metadata": {
  "kernelspec": {
   "display_name": "Python 3",
   "language": "python",
   "name": "python3"
  },
  "language_info": {
   "codemirror_mode": {
    "name": "ipython",
    "version": 3
   },
   "file_extension": ".py",
   "mimetype": "text/x-python",
   "name": "python",
   "nbconvert_exporter": "python",
   "pygments_lexer": "ipython3",
   "version": "3.8.6"
  }
 },
 "nbformat": 4,
 "nbformat_minor": 5
}
