{
 "cells": [
  {
   "cell_type": "code",
   "execution_count": 20,
   "id": "6107bffb-50f7-4081-aa86-58061b223a76",
   "metadata": {},
   "outputs": [
    {
     "data": {
      "text/plain": [
       "'estamos en abiertos todos los dias'"
      ]
     },
     "execution_count": 20,
     "metadata": {},
     "output_type": "execute_result"
    }
   ],
   "source": [
    "text = \" estamos en @mercantilbanco abiertos todos los dias\" \n",
    "\" \".join(filter(lambda x:x[0]!='@', text.split()))"
   ]
  },
  {
   "cell_type": "code",
   "execution_count": 21,
   "id": "2525880b-5b1c-4b89-bd5f-6d80ceb42f81",
   "metadata": {},
   "outputs": [
    {
     "data": {
      "text/plain": [
       "['estamos', 'en', '@mercantilbanco', 'abiertos', 'todos', 'los', 'dias']"
      ]
     },
     "execution_count": 21,
     "metadata": {},
     "output_type": "execute_result"
    }
   ],
   "source": [
    "text.split()"
   ]
  }
 ],
 "metadata": {
  "kernelspec": {
   "display_name": "Python 3",
   "language": "python",
   "name": "python3"
  },
  "language_info": {
   "codemirror_mode": {
    "name": "ipython",
    "version": 3
   },
   "file_extension": ".py",
   "mimetype": "text/x-python",
   "name": "python",
   "nbconvert_exporter": "python",
   "pygments_lexer": "ipython3",
   "version": "3.8.6"
  }
 },
 "nbformat": 4,
 "nbformat_minor": 5
}
